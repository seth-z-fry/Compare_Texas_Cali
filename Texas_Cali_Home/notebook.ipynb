{
 "cells": [
  {
   "cell_type": "markdown",
   "metadata": {
    "cell_id": "41be7499b59f4eec889faa1559fdae1a",
    "deepnote_cell_type": "text-cell-h1",
    "is_collapsed": false,
    "tags": []
   },
   "source": [
    "# Real Estate Market In the Past 5 Years"
   ]
  },
  {
   "cell_type": "markdown",
   "metadata": {
    "cell_id": "6b39afe3903a405b8b5d14f3e5fb345f",
    "deepnote_cell_type": "text-cell-p",
    "is_collapsed": false,
    "tags": []
   },
   "source": [
    "Data Description - our dataset consists of three files each with real estate data for the past five years broken down by state, zip and county. We chose Jupyter Notebook and imported Matplot as the most common Python library for visualizing data. We further focused on such visualization tools as bar charts and line graphs as the most useful tools to visualize historical data."
   ]
  },
  {
   "cell_type": "markdown",
   "metadata": {},
   "source": []
  },
  {
   "cell_type": "code",
   "execution_count": null,
   "metadata": {
    "cell_id": "db69f0a1-a94f-48da-978b-816df0a03fb2",
    "deepnote_cell_height": 152.96875,
    "deepnote_cell_type": "code",
    "deepnote_to_be_reexecuted": true,
    "execution_millis": 836,
    "execution_start": 1649719221235,
    "source_hash": "de0fa99",
    "tags": []
   },
   "outputs": [],
   "source": [
    "# Import Packages\n",
    "\n",
    "import pandas as pd\n",
    "import numpy as np\n",
    "import matplotlib.pyplot as plt"
   ]
  },
  {
   "cell_type": "code",
   "execution_count": null,
   "metadata": {
    "cell_id": "f7d2c9f93d05490b9d004cfb9b99d10f",
    "deepnote_cell_height": 245.296875,
    "deepnote_cell_type": "code",
    "deepnote_to_be_reexecuted": true,
    "execution_millis": 3935,
    "execution_start": 1649719222071,
    "source_hash": "fba55c7a",
    "tags": []
   },
   "outputs": [
    {
     "name": "stderr",
     "output_type": "stream",
     "text": [
      "/shared-libs/python3.7/py-core/lib/python3.7/site-packages/IPython/core/interactiveshell.py:3229: DtypeWarning: Columns (0,1,3) have mixed types.Specify dtype option on import or set low_memory=False.\n",
      "  interactivity=interactivity, compiler=compiler, result=result)\n",
      "/shared-libs/python3.7/py-core/lib/python3.7/site-packages/IPython/core/interactiveshell.py:3229: DtypeWarning: Columns (0,1) have mixed types.Specify dtype option on import or set low_memory=False.\n",
      "  interactivity=interactivity, compiler=compiler, result=result)\n"
     ]
    }
   ],
   "source": [
    "# Read CSV and replace all missing values with 'na'\n",
    "\n",
    "core_metrics_by_state = pd.read_csv(\"RDC_Inventory_Core_Metrics_State_History.csv\",na_values='na')\n",
    "core_metrics_by_zip = pd.read_csv(\"RDC_Inventory_Core_Metrics_Zip_History.csv\",na_values='na')\n",
    "core_metrics_by_county = pd.read_csv(\"RDC_Inventory_Hotness_Metrics_County_History.csv\",na_values='na')"
   ]
  },
  {
   "cell_type": "code",
   "execution_count": null,
   "metadata": {
    "cell_id": "6f3cb2bd59f7466a9c04ee20334437c0",
    "deepnote_cell_height": 790.9375,
    "deepnote_cell_type": "code",
    "deepnote_to_be_reexecuted": true,
    "execution_millis": 129,
    "execution_start": 1649719225888,
    "source_hash": "bb7517bb",
    "tags": []
   },
   "outputs": [
    {
     "name": "stdout",
     "output_type": "stream",
     "text": [
      "(3112, 39)\n",
      "Index(['month_date_yyyymm', 'state', 'state_id', 'median_listing_price',\n",
      "       'median_listing_price_mm', 'median_listing_price_yy',\n",
      "       'active_listing_count', 'active_listing_count_mm',\n",
      "       'active_listing_count_yy', 'median_days_on_market',\n",
      "       'median_days_on_market_mm', 'median_days_on_market_yy',\n",
      "       'new_listing_count', 'new_listing_count_mm', 'new_listing_count_yy',\n",
      "       'price_increased_count', 'price_increased_count_mm',\n",
      "       'price_increased_count_yy', 'price_reduced_count',\n",
      "       'price_reduced_count_mm', 'price_reduced_count_yy',\n",
      "       'pending_listing_count', 'pending_listing_count_mm',\n",
      "       'pending_listing_count_yy', 'median_listing_price_per_square_foot',\n",
      "       'median_listing_price_per_square_foot_mm',\n",
      "       'median_listing_price_per_square_foot_yy', 'median_square_feet',\n",
      "       'median_square_feet_mm', 'median_square_feet_yy',\n",
      "       'average_listing_price', 'average_listing_price_mm',\n",
      "       'average_listing_price_yy', 'total_listing_count',\n",
      "       'total_listing_count_mm', 'total_listing_count_yy', 'pending_ratio',\n",
      "       'pending_ratio_mm', 'pending_ratio_yy'],\n",
      "      dtype='object')\n",
      "month_date_yyyymm                            0\n",
      "state                                        0\n",
      "state_id                                     0\n",
      "median_listing_price                         0\n",
      "median_listing_price_mm                    613\n",
      "median_listing_price_yy                    613\n",
      "active_listing_count                         0\n",
      "active_listing_count_mm                    613\n",
      "active_listing_count_yy                    613\n",
      "median_days_on_market                        0\n",
      "median_days_on_market_mm                   613\n",
      "median_days_on_market_yy                   613\n",
      "new_listing_count                            0\n",
      "new_listing_count_mm                       613\n",
      "new_listing_count_yy                       613\n",
      "price_increased_count                        0\n",
      "price_increased_count_mm                   614\n",
      "price_increased_count_yy                   614\n",
      "price_reduced_count                          0\n",
      "price_reduced_count_mm                     613\n",
      "price_reduced_count_yy                     613\n",
      "pending_listing_count                        0\n",
      "pending_listing_count_mm                   637\n",
      "pending_listing_count_yy                   642\n",
      "median_listing_price_per_square_foot         0\n",
      "median_listing_price_per_square_foot_mm    627\n",
      "median_listing_price_per_square_foot_yy    627\n",
      "median_square_feet                           0\n",
      "median_square_feet_mm                      627\n",
      "median_square_feet_yy                      627\n",
      "average_listing_price                        0\n",
      "average_listing_price_mm                   613\n",
      "average_listing_price_yy                   613\n",
      "total_listing_count                          0\n",
      "total_listing_count_mm                     613\n",
      "total_listing_count_yy                     613\n",
      "pending_ratio                                0\n",
      "pending_ratio_mm                           613\n",
      "pending_ratio_yy                           613\n",
      "dtype: int64\n"
     ]
    }
   ],
   "source": [
    "\n",
    "# Core Metrics By State\n",
    "\n",
    "print(core_metrics_by_state.shape)\n",
    "print(core_metrics_by_state.columns)\n",
    "print(core_metrics_by_state.isnull().sum())"
   ]
  },
  {
   "cell_type": "code",
   "execution_count": null,
   "metadata": {
    "cell_id": "d938efda5f8e461b8965363a48a5e221",
    "deepnote_cell_height": 790.9375,
    "deepnote_cell_type": "code",
    "deepnote_to_be_reexecuted": true,
    "execution_millis": 211,
    "execution_start": 1649719225900,
    "source_hash": "9a607cba",
    "tags": []
   },
   "outputs": [
    {
     "name": "stdout",
     "output_type": "stream",
     "text": [
      "(913084, 40)\n",
      "Index(['month_date_yyyymm', 'postal_code', 'zip_name', 'flag',\n",
      "       'median_listing_price', 'median_listing_price_mm',\n",
      "       'median_listing_price_yy', 'active_listing_count',\n",
      "       'active_listing_count_mm', 'active_listing_count_yy',\n",
      "       'median_days_on_market', 'median_days_on_market_mm',\n",
      "       'median_days_on_market_yy', 'new_listing_count', 'new_listing_count_mm',\n",
      "       'new_listing_count_yy', 'price_increased_count',\n",
      "       'price_increased_count_mm', 'price_increased_count_yy',\n",
      "       'price_reduced_count', 'price_reduced_count_mm',\n",
      "       'price_reduced_count_yy', 'pending_listing_count',\n",
      "       'pending_listing_count_mm', 'pending_listing_count_yy',\n",
      "       'median_listing_price_per_square_foot',\n",
      "       'median_listing_price_per_square_foot_mm',\n",
      "       'median_listing_price_per_square_foot_yy', 'median_square_feet',\n",
      "       'median_square_feet_mm', 'median_square_feet_yy',\n",
      "       'average_listing_price', 'average_listing_price_mm',\n",
      "       'average_listing_price_yy', 'total_listing_count',\n",
      "       'total_listing_count_mm', 'total_listing_count_yy', 'pending_ratio',\n",
      "       'pending_ratio_mm', 'pending_ratio_yy'],\n",
      "      dtype='object')\n",
      "month_date_yyyymm                               0\n",
      "postal_code                                     0\n",
      "zip_name                                        1\n",
      "flag                                       802421\n",
      "median_listing_price                            1\n",
      "median_listing_price_mm                    198183\n",
      "median_listing_price_yy                    257579\n",
      "active_listing_count                            1\n",
      "active_listing_count_mm                    198184\n",
      "active_listing_count_yy                    256862\n",
      "median_days_on_market                           1\n",
      "median_days_on_market_mm                   198183\n",
      "median_days_on_market_yy                   262938\n",
      "new_listing_count                               1\n",
      "new_listing_count_mm                       273008\n",
      "new_listing_count_yy                       277643\n",
      "price_increased_count                           1\n",
      "price_increased_count_mm                   822947\n",
      "price_increased_count_yy                   825303\n",
      "price_reduced_count                             1\n",
      "price_reduced_count_mm                     349262\n",
      "price_reduced_count_yy                     333351\n",
      "pending_listing_count                           1\n",
      "pending_listing_count_mm                   297121\n",
      "pending_listing_count_yy                   319525\n",
      "median_listing_price_per_square_foot            1\n",
      "median_listing_price_per_square_foot_mm    238003\n",
      "median_listing_price_per_square_foot_yy    243197\n",
      "median_square_feet                              1\n",
      "median_square_feet_mm                      238003\n",
      "median_square_feet_yy                      243197\n",
      "average_listing_price                           1\n",
      "average_listing_price_mm                   198183\n",
      "average_listing_price_yy                   198328\n",
      "total_listing_count                             1\n",
      "total_listing_count_mm                     198183\n",
      "total_listing_count_yy                     198328\n",
      "pending_ratio                                   1\n",
      "pending_ratio_mm                           198184\n",
      "pending_ratio_yy                           198337\n",
      "dtype: int64\n"
     ]
    }
   ],
   "source": [
    "# Core Metrics By Zip Code\n",
    "\n",
    "print(core_metrics_by_zip.shape)\n",
    "print(core_metrics_by_zip.columns)\n",
    "print(core_metrics_by_zip.isnull().sum())\n"
   ]
  },
  {
   "cell_type": "code",
   "execution_count": null,
   "metadata": {
    "cell_id": "436e27cf1a3f4f89ab181fa8ec2782e0",
    "deepnote_cell_height": 790.9375,
    "deepnote_cell_type": "code",
    "deepnote_to_be_reexecuted": true,
    "execution_millis": 74,
    "execution_start": 1649719226113,
    "source_hash": "fb671f5c",
    "tags": []
   },
   "outputs": [
    {
     "name": "stdout",
     "output_type": "stream",
     "text": [
      "(75745, 26)\n",
      "Index(['month_date_yyyymm', 'county_fips', 'county_name', 'cbsa_code',\n",
      "       'cbsa_title', 'nielsen_hh_rank', 'hotness_rank', 'hotness_rank_mm',\n",
      "       'hotness_rank_yy', 'hotness_score', 'supply_score', 'demand_score',\n",
      "       'median_days_on_market', 'median_days_on_market_mm',\n",
      "       'median_dom_mm_day', 'median_days_on_market_yy', 'median_dom_yy_day',\n",
      "       'median_dom_vs_us', 'ldp_unique_viewers_per_property_mm',\n",
      "       'ldp_unique_viewers_per_property_yy',\n",
      "       'ldp_unique_viewers_per_property_vs_us', 'median_listing_price',\n",
      "       'median_listing_price_mm', 'median_listing_price_yy',\n",
      "       'median_listing_price_vs_us', 'quality_flag'],\n",
      "      dtype='object')\n",
      "month_date_yyyymm                            0\n",
      "county_fips                                  0\n",
      "county_name                                  1\n",
      "cbsa_code                                 9121\n",
      "cbsa_title                                9121\n",
      "nielsen_hh_rank                           9121\n",
      "hotness_rank                                 1\n",
      "hotness_rank_mm                          18937\n",
      "hotness_rank_yy                          18937\n",
      "hotness_score                                1\n",
      "supply_score                                 1\n",
      "demand_score                                 1\n",
      "median_days_on_market                        1\n",
      "median_days_on_market_mm                 18937\n",
      "median_dom_mm_day                        18937\n",
      "median_days_on_market_yy                 18937\n",
      "median_dom_yy_day                        18937\n",
      "median_dom_vs_us                             1\n",
      "ldp_unique_viewers_per_property_mm       18937\n",
      "ldp_unique_viewers_per_property_yy       18937\n",
      "ldp_unique_viewers_per_property_vs_us        1\n",
      "median_listing_price                         1\n",
      "median_listing_price_mm                  18937\n",
      "median_listing_price_yy                  18937\n",
      "median_listing_price_vs_us                   1\n",
      "quality_flag                             18937\n",
      "dtype: int64\n"
     ]
    }
   ],
   "source": [
    "\n",
    "# Core Metrics By County\n",
    "\n",
    "print(core_metrics_by_county.shape)\n",
    "print(core_metrics_by_county.columns)\n",
    "print(core_metrics_by_county.isnull().sum())"
   ]
  },
  {
   "cell_type": "code",
   "execution_count": null,
   "metadata": {
    "cell_id": "84ce1ba54468479784496cdc329c7796",
    "deepnote_cell_height": 394.890625,
    "deepnote_cell_type": "code",
    "deepnote_to_be_reexecuted": true,
    "execution_millis": 129,
    "execution_start": 1649719226186,
    "source_hash": "7fc3627e",
    "tags": []
   },
   "outputs": [
    {
     "data": {
      "application/vnd.deepnote.dataframe.v3+json": {
       "column_count": 39,
       "columns": [
        {
         "dtype": "int64",
         "name": "month_date_yyyymm",
         "stats": {
          "histogram": [
           {
            "bin_end": 202106.6,
            "bin_start": 202106.5,
            "count": 0
           },
           {
            "bin_end": 202106.7,
            "bin_start": 202106.6,
            "count": 0
           },
           {
            "bin_end": 202106.8,
            "bin_start": 202106.7,
            "count": 0
           },
           {
            "bin_end": 202106.9,
            "bin_start": 202106.8,
            "count": 0
           },
           {
            "bin_end": 202107,
            "bin_start": 202106.9,
            "count": 0
           },
           {
            "bin_end": 202107.1,
            "bin_start": 202107,
            "count": 5
           },
           {
            "bin_end": 202107.2,
            "bin_start": 202107.1,
            "count": 0
           },
           {
            "bin_end": 202107.3,
            "bin_start": 202107.2,
            "count": 0
           },
           {
            "bin_end": 202107.4,
            "bin_start": 202107.3,
            "count": 0
           },
           {
            "bin_end": 202107.5,
            "bin_start": 202107.4,
            "count": 0
           }
          ],
          "max": "202107",
          "min": "202107",
          "nan_count": 0,
          "unique_count": 1
         }
        },
        {
         "dtype": "object",
         "name": "state",
         "stats": {
          "categories": [
           {
            "count": 1,
            "name": "illinois"
           },
           {
            "count": 1,
            "name": "virginia"
           },
           {
            "count": 3,
            "name": "3 others"
           }
          ],
          "nan_count": 0,
          "unique_count": 5
         }
        },
        {
         "dtype": "object",
         "name": "state_id",
         "stats": {
          "categories": [
           {
            "count": 1,
            "name": "il"
           },
           {
            "count": 1,
            "name": "va"
           },
           {
            "count": 3,
            "name": "3 others"
           }
          ],
          "nan_count": 0,
          "unique_count": 5
         }
        },
        {
         "dtype": "float64",
         "name": "median_listing_price",
         "stats": {
          "histogram": [
           {
            "bin_end": 268410,
            "bin_start": 239900,
            "count": 1
           },
           {
            "bin_end": 296920,
            "bin_start": 268410,
            "count": 1
           },
           {
            "bin_end": 325430,
            "bin_start": 296920,
            "count": 0
           },
           {
            "bin_end": 353940,
            "bin_start": 325430,
            "count": 1
           },
           {
            "bin_end": 382450,
            "bin_start": 353940,
            "count": 1
           },
           {
            "bin_end": 410960,
            "bin_start": 382450,
            "count": 0
           },
           {
            "bin_end": 439470,
            "bin_start": 410960,
            "count": 0
           },
           {
            "bin_end": 467980,
            "bin_start": 439470,
            "count": 0
           },
           {
            "bin_end": 496490,
            "bin_start": 467980,
            "count": 0
           },
           {
            "bin_end": 525000,
            "bin_start": 496490,
            "count": 1
           }
          ],
          "max": "525000.0",
          "min": "239900.0",
          "nan_count": 0,
          "unique_count": 5
         }
        },
        {
         "dtype": "float64",
         "name": "median_listing_price_mm",
         "stats": {
          "histogram": [
           {
            "bin_end": -0.01871,
            "bin_start": -0.021,
            "count": 1
           },
           {
            "bin_end": -0.01642,
            "bin_start": -0.01871,
            "count": 0
           },
           {
            "bin_end": -0.014130000000000002,
            "bin_start": -0.01642,
            "count": 0
           },
           {
            "bin_end": -0.011840000000000002,
            "bin_start": -0.014130000000000002,
            "count": 0
           },
           {
            "bin_end": -0.009550000000000001,
            "bin_start": -0.011840000000000002,
            "count": 0
           },
           {
            "bin_end": -0.0072600000000000026,
            "bin_start": -0.009550000000000001,
            "count": 0
           },
           {
            "bin_end": -0.004970000000000002,
            "bin_start": -0.0072600000000000026,
            "count": 0
           },
           {
            "bin_end": -0.002680000000000002,
            "bin_start": -0.004970000000000002,
            "count": 0
           },
           {
            "bin_end": -0.00039000000000000146,
            "bin_start": -0.002680000000000002,
            "count": 2
           },
           {
            "bin_end": 0.0019,
            "bin_start": -0.00039000000000000146,
            "count": 2
           }
          ],
          "max": "0.0019",
          "min": "-0.021",
          "nan_count": 0,
          "unique_count": 5
         }
        },
        {
         "dtype": "float64",
         "name": "median_listing_price_yy",
         "stats": {
          "histogram": [
           {
            "bin_end": 0.023739999999999997,
            "bin_start": 0.009,
            "count": 1
           },
           {
            "bin_end": 0.03848,
            "bin_start": 0.023739999999999997,
            "count": 0
           },
           {
            "bin_end": 0.053219999999999996,
            "bin_start": 0.03848,
            "count": 2
           },
           {
            "bin_end": 0.06795999999999999,
            "bin_start": 0.053219999999999996,
            "count": 0
           },
           {
            "bin_end": 0.0827,
            "bin_start": 0.06795999999999999,
            "count": 0
           },
           {
            "bin_end": 0.09743999999999998,
            "bin_start": 0.0827,
            "count": 1
           },
           {
            "bin_end": 0.11217999999999999,
            "bin_start": 0.09743999999999998,
            "count": 0
           },
           {
            "bin_end": 0.12692,
            "bin_start": 0.11217999999999999,
            "count": 0
           },
           {
            "bin_end": 0.14166,
            "bin_start": 0.12692,
            "count": 0
           },
           {
            "bin_end": 0.1564,
            "bin_start": 0.14166,
            "count": 1
           }
          ],
          "max": "0.1564",
          "min": "0.009",
          "nan_count": 0,
          "unique_count": 5
         }
        },
        {
         "dtype": "int64",
         "name": "active_listing_count",
         "stats": {
          "histogram": [
           {
            "bin_end": 4744.4,
            "bin_start": 1692,
            "count": 1
           },
           {
            "bin_end": 7796.8,
            "bin_start": 4744.4,
            "count": 1
           },
           {
            "bin_end": 10849.2,
            "bin_start": 7796.8,
            "count": 1
           },
           {
            "bin_end": 13901.6,
            "bin_start": 10849.2,
            "count": 0
           },
           {
            "bin_end": 16954,
            "bin_start": 13901.6,
            "count": 1
           },
           {
            "bin_end": 20006.4,
            "bin_start": 16954,
            "count": 0
           },
           {
            "bin_end": 23058.8,
            "bin_start": 20006.4,
            "count": 0
           },
           {
            "bin_end": 26111.2,
            "bin_start": 23058.8,
            "count": 0
           },
           {
            "bin_end": 29163.600000000002,
            "bin_start": 26111.2,
            "count": 0
           },
           {
            "bin_end": 32216,
            "bin_start": 29163.600000000002,
            "count": 1
           }
          ],
          "max": "32216",
          "min": "1692",
          "nan_count": 0,
          "unique_count": 5
         }
        },
        {
         "dtype": "float64",
         "name": "active_listing_count_mm",
         "stats": {
          "histogram": [
           {
            "bin_end": 0.08084,
            "bin_start": 0.0702,
            "count": 1
           },
           {
            "bin_end": 0.09148,
            "bin_start": 0.08084,
            "count": 0
           },
           {
            "bin_end": 0.10212,
            "bin_start": 0.09148,
            "count": 1
           },
           {
            "bin_end": 0.11276,
            "bin_start": 0.10212,
            "count": 0
           },
           {
            "bin_end": 0.1234,
            "bin_start": 0.11276,
            "count": 1
           },
           {
            "bin_end": 0.13404,
            "bin_start": 0.1234,
            "count": 0
           },
           {
            "bin_end": 0.14468,
            "bin_start": 0.13404,
            "count": 1
           },
           {
            "bin_end": 0.15532,
            "bin_start": 0.14468,
            "count": 0
           },
           {
            "bin_end": 0.16596,
            "bin_start": 0.15532,
            "count": 0
           },
           {
            "bin_end": 0.1766,
            "bin_start": 0.16596,
            "count": 1
           }
          ],
          "max": "0.1766",
          "min": "0.0702",
          "nan_count": 0,
          "unique_count": 5
         }
        },
        {
         "dtype": "float64",
         "name": "active_listing_count_yy",
         "stats": {
          "histogram": [
           {
            "bin_end": -0.43211,
            "bin_start": -0.454,
            "count": 1
           },
           {
            "bin_end": -0.41022000000000003,
            "bin_start": -0.43211,
            "count": 0
           },
           {
            "bin_end": -0.38833,
            "bin_start": -0.41022000000000003,
            "count": 0
           },
           {
            "bin_end": -0.36644,
            "bin_start": -0.38833,
            "count": 0
           },
           {
            "bin_end": -0.34455,
            "bin_start": -0.36644,
            "count": 0
           },
           {
            "bin_end": -0.32266,
            "bin_start": -0.34455,
            "count": 0
           },
           {
            "bin_end": -0.30077,
            "bin_start": -0.32266,
            "count": 0
           },
           {
            "bin_end": -0.27888,
            "bin_start": -0.30077,
            "count": 1
           },
           {
            "bin_end": -0.25699000000000005,
            "bin_start": -0.27888,
            "count": 0
           },
           {
            "bin_end": -0.2351,
            "bin_start": -0.25699000000000005,
            "count": 3
           }
          ],
          "max": "-0.2351",
          "min": "-0.454",
          "nan_count": 0,
          "unique_count": 5
         }
        },
        {
         "dtype": "float64",
         "name": "median_days_on_market",
         "stats": {
          "histogram": [
           {
            "bin_end": 33.4,
            "bin_start": 32,
            "count": 3
           },
           {
            "bin_end": 34.8,
            "bin_start": 33.4,
            "count": 0
           },
           {
            "bin_end": 36.2,
            "bin_start": 34.8,
            "count": 0
           },
           {
            "bin_end": 37.6,
            "bin_start": 36.2,
            "count": 0
           },
           {
            "bin_end": 39,
            "bin_start": 37.6,
            "count": 0
           },
           {
            "bin_end": 40.4,
            "bin_start": 39,
            "count": 0
           },
           {
            "bin_end": 41.8,
            "bin_start": 40.4,
            "count": 0
           },
           {
            "bin_end": 43.2,
            "bin_start": 41.8,
            "count": 1
           },
           {
            "bin_end": 44.6,
            "bin_start": 43.2,
            "count": 0
           },
           {
            "bin_end": 46,
            "bin_start": 44.6,
            "count": 1
           }
          ],
          "max": "46.0",
          "min": "32.0",
          "nan_count": 0,
          "unique_count": 4
         }
        },
        {
         "dtype": "float64",
         "name": "median_days_on_market_mm",
         "stats": {
          "histogram": [
           {
            "bin_end": -0.0140029328,
            "bin_start": -0.022727273,
            "count": 1
           },
           {
            "bin_end": -0.0052785926,
            "bin_start": -0.0140029328,
            "count": 0
           },
           {
            "bin_end": 0.0034457476,
            "bin_start": -0.0052785926,
            "count": 0
           },
           {
            "bin_end": 0.0121700878,
            "bin_start": 0.0034457476,
            "count": 1
           },
           {
            "bin_end": 0.020894428,
            "bin_start": 0.0121700878,
            "count": 0
           },
           {
            "bin_end": 0.0296187682,
            "bin_start": 0.020894428,
            "count": 0
           },
           {
            "bin_end": 0.0383431084,
            "bin_start": 0.0296187682,
            "count": 1
           },
           {
            "bin_end": 0.0470674486,
            "bin_start": 0.0383431084,
            "count": 0
           },
           {
            "bin_end": 0.0557917888,
            "bin_start": 0.0470674486,
            "count": 1
           },
           {
            "bin_end": 0.064516129,
            "bin_start": 0.0557917888,
            "count": 1
           }
          ],
          "max": "0.064516129",
          "min": "-0.022727273",
          "nan_count": 0,
          "unique_count": 5
         }
        },
        {
         "dtype": "float64",
         "name": "median_days_on_market_yy",
         "stats": {
          "histogram": [
           {
            "bin_end": -0.5027684118,
            "bin_start": -0.530612245,
            "count": 1
           },
           {
            "bin_end": -0.47492457860000004,
            "bin_start": -0.5027684118,
            "count": 0
           },
           {
            "bin_end": -0.44708074540000003,
            "bin_start": -0.47492457860000004,
            "count": 0
           },
           {
            "bin_end": -0.41923691220000003,
            "bin_start": -0.44708074540000003,
            "count": 1
           },
           {
            "bin_end": -0.39139307900000003,
            "bin_start": -0.41923691220000003,
            "count": 0
           },
           {
            "bin_end": -0.36354924580000003,
            "bin_start": -0.39139307900000003,
            "count": 1
           },
           {
            "bin_end": -0.33570541260000003,
            "bin_start": -0.36354924580000003,
            "count": 1
           },
           {
            "bin_end": -0.30786157940000003,
            "bin_start": -0.33570541260000003,
            "count": 0
           },
           {
            "bin_end": -0.28001774620000003,
            "bin_start": -0.30786157940000003,
            "count": 0
           },
           {
            "bin_end": -0.252173913,
            "bin_start": -0.28001774620000003,
            "count": 1
           }
          ],
          "max": "-0.252173913",
          "min": "-0.530612245",
          "nan_count": 0,
          "unique_count": 5
         }
        },
        {
         "dtype": "int64",
         "name": "new_listing_count",
         "stats": {
          "histogram": [
           {
            "bin_end": 2962.4,
            "bin_start": 992,
            "count": 1
           },
           {
            "bin_end": 4932.8,
            "bin_start": 2962.4,
            "count": 0
           },
           {
            "bin_end": 6903.200000000001,
            "bin_start": 4932.8,
            "count": 0
           },
           {
            "bin_end": 8873.6,
            "bin_start": 6903.200000000001,
            "count": 2
           },
           {
            "bin_end": 10844,
            "bin_start": 8873.6,
            "count": 0
           },
           {
            "bin_end": 12814.400000000001,
            "bin_start": 10844,
            "count": 0
           },
           {
            "bin_end": 14784.800000000001,
            "bin_start": 12814.400000000001,
            "count": 1
           },
           {
            "bin_end": 16755.2,
            "bin_start": 14784.800000000001,
            "count": 0
           },
           {
            "bin_end": 18725.600000000002,
            "bin_start": 16755.2,
            "count": 0
           },
           {
            "bin_end": 20696,
            "bin_start": 18725.600000000002,
            "count": 1
           }
          ],
          "max": "20696",
          "min": "992",
          "nan_count": 0,
          "unique_count": 5
         }
        },
        {
         "dtype": "float64",
         "name": "new_listing_count_mm",
         "stats": {
          "histogram": [
           {
            "bin_end": -0.01575,
            "bin_start": -0.0207,
            "count": 1
           },
           {
            "bin_end": -0.010799999999999999,
            "bin_start": -0.01575,
            "count": 0
           },
           {
            "bin_end": -0.0058499999999999976,
            "bin_start": -0.010799999999999999,
            "count": 0
           },
           {
            "bin_end": -0.000899999999999998,
            "bin_start": -0.0058499999999999976,
            "count": 0
           },
           {
            "bin_end": 0.0040500000000000015,
            "bin_start": -0.000899999999999998,
            "count": 1
           },
           {
            "bin_end": 0.009000000000000005,
            "bin_start": 0.0040500000000000015,
            "count": 1
           },
           {
            "bin_end": 0.01395,
            "bin_start": 0.009000000000000005,
            "count": 0
           },
           {
            "bin_end": 0.018900000000000004,
            "bin_start": 0.01395,
            "count": 0
           },
           {
            "bin_end": 0.023850000000000007,
            "bin_start": 0.018900000000000004,
            "count": 1
           },
           {
            "bin_end": 0.0288,
            "bin_start": 0.023850000000000007,
            "count": 1
           }
          ],
          "max": "0.0288",
          "min": "-0.0207",
          "nan_count": 0,
          "unique_count": 5
         }
        },
        {
         "dtype": "float64",
         "name": "new_listing_count_yy",
         "stats": {
          "histogram": [
           {
            "bin_end": -0.01463,
            "bin_start": -0.0388,
            "count": 1
           },
           {
            "bin_end": 0.00954,
            "bin_start": -0.01463,
            "count": 1
           },
           {
            "bin_end": 0.033710000000000004,
            "bin_start": 0.00954,
            "count": 0
           },
           {
            "bin_end": 0.05788,
            "bin_start": 0.033710000000000004,
            "count": 0
           },
           {
            "bin_end": 0.08205,
            "bin_start": 0.05788,
            "count": 0
           },
           {
            "bin_end": 0.10622000000000001,
            "bin_start": 0.08205,
            "count": 0
           },
           {
            "bin_end": 0.13039,
            "bin_start": 0.10622000000000001,
            "count": 0
           },
           {
            "bin_end": 0.15456,
            "bin_start": 0.13039,
            "count": 1
           },
           {
            "bin_end": 0.17873,
            "bin_start": 0.15456,
            "count": 1
           },
           {
            "bin_end": 0.2029,
            "bin_start": 0.17873,
            "count": 1
           }
          ],
          "max": "0.2029",
          "min": "-0.0388",
          "nan_count": 0,
          "unique_count": 5
         }
        },
        {
         "dtype": "int64",
         "name": "price_increased_count",
         "stats": {
          "histogram": [
           {
            "bin_end": 328.8,
            "bin_start": 24,
            "count": 2
           },
           {
            "bin_end": 633.6,
            "bin_start": 328.8,
            "count": 1
           },
           {
            "bin_end": 938.4000000000001,
            "bin_start": 633.6,
            "count": 1
           },
           {
            "bin_end": 1243.2,
            "bin_start": 938.4000000000001,
            "count": 0
           },
           {
            "bin_end": 1548,
            "bin_start": 1243.2,
            "count": 0
           },
           {
            "bin_end": 1852.8000000000002,
            "bin_start": 1548,
            "count": 0
           },
           {
            "bin_end": 2157.6,
            "bin_start": 1852.8000000000002,
            "count": 0
           },
           {
            "bin_end": 2462.4,
            "bin_start": 2157.6,
            "count": 0
           },
           {
            "bin_end": 2767.2000000000003,
            "bin_start": 2462.4,
            "count": 0
           },
           {
            "bin_end": 3072,
            "bin_start": 2767.2000000000003,
            "count": 1
           }
          ],
          "max": "3072",
          "min": "24",
          "nan_count": 0,
          "unique_count": 5
         }
        },
        {
         "dtype": "float64",
         "name": "price_increased_count_mm",
         "stats": {
          "histogram": [
           {
            "bin_end": -0.20727,
            "bin_start": -0.2458,
            "count": 1
           },
           {
            "bin_end": -0.16874,
            "bin_start": -0.20727,
            "count": 0
           },
           {
            "bin_end": -0.13021,
            "bin_start": -0.16874,
            "count": 0
           },
           {
            "bin_end": -0.09168000000000001,
            "bin_start": -0.13021,
            "count": 2
           },
           {
            "bin_end": -0.05315,
            "bin_start": -0.09168000000000001,
            "count": 0
           },
           {
            "bin_end": -0.014620000000000022,
            "bin_start": -0.05315,
            "count": 0
           },
           {
            "bin_end": 0.02390999999999996,
            "bin_start": -0.014620000000000022,
            "count": 1
           },
           {
            "bin_end": 0.06243999999999997,
            "bin_start": 0.02390999999999996,
            "count": 0
           },
           {
            "bin_end": 0.10096999999999998,
            "bin_start": 0.06243999999999997,
            "count": 0
           },
           {
            "bin_end": 0.1395,
            "bin_start": 0.10096999999999998,
            "count": 1
           }
          ],
          "max": "0.1395",
          "min": "-0.2458",
          "nan_count": 0,
          "unique_count": 5
         }
        },
        {
         "dtype": "float64",
         "name": "price_increased_count_yy",
         "stats": {
          "histogram": [
           {
            "bin_end": -0.35846,
            "bin_start": -0.4545,
            "count": 1
           },
           {
            "bin_end": -0.26242,
            "bin_start": -0.35846,
            "count": 2
           },
           {
            "bin_end": -0.16638000000000003,
            "bin_start": -0.26242,
            "count": 0
           },
           {
            "bin_end": -0.07034000000000001,
            "bin_start": -0.16638000000000003,
            "count": 1
           },
           {
            "bin_end": 0.0257,
            "bin_start": -0.07034000000000001,
            "count": 0
           },
           {
            "bin_end": 0.12173999999999996,
            "bin_start": 0.0257,
            "count": 0
           },
           {
            "bin_end": 0.21777999999999997,
            "bin_start": 0.12173999999999996,
            "count": 0
           },
           {
            "bin_end": 0.31382,
            "bin_start": 0.21777999999999997,
            "count": 0
           },
           {
            "bin_end": 0.40986,
            "bin_start": 0.31382,
            "count": 0
           },
           {
            "bin_end": 0.5059,
            "bin_start": 0.40986,
            "count": 1
           }
          ],
          "max": "0.5059",
          "min": "-0.4545",
          "nan_count": 0,
          "unique_count": 5
         }
        },
        {
         "dtype": "int64",
         "name": "price_reduced_count",
         "stats": {
          "histogram": [
           {
            "bin_end": 1219.6,
            "bin_start": 348,
            "count": 1
           },
           {
            "bin_end": 2091.2,
            "bin_start": 1219.6,
            "count": 0
           },
           {
            "bin_end": 2962.8,
            "bin_start": 2091.2,
            "count": 1
           },
           {
            "bin_end": 3834.4,
            "bin_start": 2962.8,
            "count": 1
           },
           {
            "bin_end": 4706,
            "bin_start": 3834.4,
            "count": 1
           },
           {
            "bin_end": 5577.6,
            "bin_start": 4706,
            "count": 0
           },
           {
            "bin_end": 6449.2,
            "bin_start": 5577.6,
            "count": 0
           },
           {
            "bin_end": 7320.8,
            "bin_start": 6449.2,
            "count": 0
           },
           {
            "bin_end": 8192.400000000001,
            "bin_start": 7320.8,
            "count": 0
           },
           {
            "bin_end": 9064,
            "bin_start": 8192.400000000001,
            "count": 1
           }
          ],
          "max": "9064",
          "min": "348",
          "nan_count": 0,
          "unique_count": 5
         }
        },
        {
         "dtype": "float64",
         "name": "price_reduced_count_mm",
         "stats": {
          "histogram": [
           {
            "bin_end": 0.23005,
            "bin_start": 0.218,
            "count": 1
           },
           {
            "bin_end": 0.2421,
            "bin_start": 0.23005,
            "count": 1
           },
           {
            "bin_end": 0.25415,
            "bin_start": 0.2421,
            "count": 0
           },
           {
            "bin_end": 0.2662,
            "bin_start": 0.25415,
            "count": 0
           },
           {
            "bin_end": 0.27825,
            "bin_start": 0.2662,
            "count": 0
           },
           {
            "bin_end": 0.2903,
            "bin_start": 0.27825,
            "count": 1
           },
           {
            "bin_end": 0.30235,
            "bin_start": 0.2903,
            "count": 1
           },
           {
            "bin_end": 0.3144,
            "bin_start": 0.30235,
            "count": 0
           },
           {
            "bin_end": 0.32645,
            "bin_start": 0.3144,
            "count": 0
           },
           {
            "bin_end": 0.3385,
            "bin_start": 0.32645,
            "count": 1
           }
          ],
          "max": "0.3385",
          "min": "0.218",
          "nan_count": 0,
          "unique_count": 5
         }
        },
        {
         "dtype": "float64",
         "name": "price_reduced_count_yy",
         "stats": {
          "histogram": [
           {
            "bin_end": -0.25156,
            "bin_start": -0.2814,
            "count": 2
           },
           {
            "bin_end": -0.22171999999999997,
            "bin_start": -0.25156,
            "count": 0
           },
           {
            "bin_end": -0.19188,
            "bin_start": -0.22171999999999997,
            "count": 1
           },
           {
            "bin_end": -0.16204,
            "bin_start": -0.19188,
            "count": 0
           },
           {
            "bin_end": -0.13219999999999998,
            "bin_start": -0.16204,
            "count": 1
           },
           {
            "bin_end": -0.10236,
            "bin_start": -0.13219999999999998,
            "count": 0
           },
           {
            "bin_end": -0.07252,
            "bin_start": -0.10236,
            "count": 0
           },
           {
            "bin_end": -0.042679999999999996,
            "bin_start": -0.07252,
            "count": 0
           },
           {
            "bin_end": -0.012840000000000018,
            "bin_start": -0.042679999999999996,
            "count": 0
           },
           {
            "bin_end": 0.017,
            "bin_start": -0.012840000000000018,
            "count": 1
           }
          ],
          "max": "0.017",
          "min": "-0.2814",
          "nan_count": 0,
          "unique_count": 5
         }
        },
        {
         "dtype": "int64",
         "name": "pending_listing_count",
         "stats": {
          "histogram": [
           {
            "bin_end": 4171.5,
            "bin_start": 1117,
            "count": 1
           },
           {
            "bin_end": 7226,
            "bin_start": 4171.5,
            "count": 0
           },
           {
            "bin_end": 10280.5,
            "bin_start": 7226,
            "count": 1
           },
           {
            "bin_end": 13335,
            "bin_start": 10280.5,
            "count": 1
           },
           {
            "bin_end": 16389.5,
            "bin_start": 13335,
            "count": 0
           },
           {
            "bin_end": 19444,
            "bin_start": 16389.5,
            "count": 1
           },
           {
            "bin_end": 22498.5,
            "bin_start": 19444,
            "count": 0
           },
           {
            "bin_end": 25553,
            "bin_start": 22498.5,
            "count": 0
           },
           {
            "bin_end": 28607.5,
            "bin_start": 25553,
            "count": 0
           },
           {
            "bin_end": 31662,
            "bin_start": 28607.5,
            "count": 1
           }
          ],
          "max": "31662",
          "min": "1117",
          "nan_count": 0,
          "unique_count": 5
         }
        },
        {
         "dtype": "float64",
         "name": "pending_listing_count_mm",
         "stats": {
          "histogram": [
           {
            "bin_end": -0.06695999999999999,
            "bin_start": -0.0739,
            "count": 2
           },
           {
            "bin_end": -0.06002,
            "bin_start": -0.06695999999999999,
            "count": 0
           },
           {
            "bin_end": -0.053079999999999995,
            "bin_start": -0.06002,
            "count": 0
           },
           {
            "bin_end": -0.04614,
            "bin_start": -0.053079999999999995,
            "count": 0
           },
           {
            "bin_end": -0.0392,
            "bin_start": -0.04614,
            "count": 0
           },
           {
            "bin_end": -0.03226,
            "bin_start": -0.0392,
            "count": 0
           },
           {
            "bin_end": -0.025320000000000002,
            "bin_start": -0.03226,
            "count": 1
           },
           {
            "bin_end": -0.01838,
            "bin_start": -0.025320000000000002,
            "count": 0
           },
           {
            "bin_end": -0.011439999999999999,
            "bin_start": -0.01838,
            "count": 0
           },
           {
            "bin_end": -0.0045,
            "bin_start": -0.011439999999999999,
            "count": 2
           }
          ],
          "max": "-0.0045",
          "min": "-0.0739",
          "nan_count": 0,
          "unique_count": 5
         }
        },
        {
         "dtype": "float64",
         "name": "pending_listing_count_yy",
         "stats": {
          "histogram": [
           {
            "bin_end": -0.17123,
            "bin_start": -0.2307,
            "count": 1
           },
           {
            "bin_end": -0.11175999999999998,
            "bin_start": -0.17123,
            "count": 1
           },
           {
            "bin_end": -0.052289999999999975,
            "bin_start": -0.11175999999999998,
            "count": 2
           },
           {
            "bin_end": 0.00718000000000002,
            "bin_start": -0.052289999999999975,
            "count": 0
           },
           {
            "bin_end": 0.06665000000000001,
            "bin_start": 0.00718000000000002,
            "count": 0
           },
           {
            "bin_end": 0.12612000000000004,
            "bin_start": 0.06665000000000001,
            "count": 0
           },
           {
            "bin_end": 0.18559,
            "bin_start": 0.12612000000000004,
            "count": 0
           },
           {
            "bin_end": 0.24506000000000003,
            "bin_start": 0.18559,
            "count": 0
           },
           {
            "bin_end": 0.30452999999999997,
            "bin_start": 0.24506000000000003,
            "count": 0
           },
           {
            "bin_end": 0.364,
            "bin_start": 0.30452999999999997,
            "count": 1
           }
          ],
          "max": "0.364",
          "min": "-0.2307",
          "nan_count": 0,
          "unique_count": 5
         }
        },
        {
         "dtype": "float64",
         "name": "median_listing_price_per_square_foot",
         "stats": {
          "histogram": [
           {
            "bin_end": 136.87821437,
            "bin_start": 120.7184628,
            "count": 1
           },
           {
            "bin_end": 153.03796594,
            "bin_start": 136.87821437,
            "count": 1
           },
           {
            "bin_end": 169.19771751000002,
            "bin_start": 153.03796594,
            "count": 0
           },
           {
            "bin_end": 185.35746908000002,
            "bin_start": 169.19771751000002,
            "count": 0
           },
           {
            "bin_end": 201.51722065,
            "bin_start": 185.35746908000002,
            "count": 2
           },
           {
            "bin_end": 217.67697222000004,
            "bin_start": 201.51722065,
            "count": 0
           },
           {
            "bin_end": 233.83672379000004,
            "bin_start": 217.67697222000004,
            "count": 0
           },
           {
            "bin_end": 249.99647536000003,
            "bin_start": 233.83672379000004,
            "count": 0
           },
           {
            "bin_end": 266.15622693,
            "bin_start": 249.99647536000003,
            "count": 0
           },
           {
            "bin_end": 282.3159785,
            "bin_start": 266.15622693,
            "count": 1
           }
          ],
          "max": "282.3159785",
          "min": "120.7184628",
          "nan_count": 0,
          "unique_count": 5
         }
        },
        {
         "dtype": "float64",
         "name": "median_listing_price_per_square_foot_mm",
         "stats": {
          "histogram": [
           {
            "bin_end": -0.00579,
            "bin_start": -0.0072,
            "count": 1
           },
           {
            "bin_end": -0.00438,
            "bin_start": -0.00579,
            "count": 0
           },
           {
            "bin_end": -0.0029699999999999996,
            "bin_start": -0.00438,
            "count": 0
           },
           {
            "bin_end": -0.0015599999999999998,
            "bin_start": -0.0029699999999999996,
            "count": 0
           },
           {
            "bin_end": -0.00014999999999999996,
            "bin_start": -0.0015599999999999998,
            "count": 0
           },
           {
            "bin_end": 0.0012600000000000007,
            "bin_start": -0.00014999999999999996,
            "count": 1
           },
           {
            "bin_end": 0.0026700000000000005,
            "bin_start": 0.0012600000000000007,
            "count": 1
           },
           {
            "bin_end": 0.00408,
            "bin_start": 0.0026700000000000005,
            "count": 0
           },
           {
            "bin_end": 0.00549,
            "bin_start": 0.00408,
            "count": 1
           },
           {
            "bin_end": 0.0069,
            "bin_start": 0.00549,
            "count": 1
           }
          ],
          "max": "0.0069",
          "min": "-0.0072",
          "nan_count": 0,
          "unique_count": 5
         }
        },
        {
         "dtype": "float64",
         "name": "median_listing_price_per_square_foot_yy",
         "stats": {
          "histogram": [
           {
            "bin_end": 0.13164,
            "bin_start": 0.1221,
            "count": 1
           },
           {
            "bin_end": 0.14118,
            "bin_start": 0.13164,
            "count": 0
           },
           {
            "bin_end": 0.15072,
            "bin_start": 0.14118,
            "count": 0
           },
           {
            "bin_end": 0.16026,
            "bin_start": 0.15072,
            "count": 1
           },
           {
            "bin_end": 0.1698,
            "bin_start": 0.16026,
            "count": 0
           },
           {
            "bin_end": 0.17934,
            "bin_start": 0.1698,
            "count": 1
           },
           {
            "bin_end": 0.18888,
            "bin_start": 0.17934,
            "count": 0
           },
           {
            "bin_end": 0.19841999999999999,
            "bin_start": 0.18888,
            "count": 0
           },
           {
            "bin_end": 0.20795999999999998,
            "bin_start": 0.19841999999999999,
            "count": 0
           },
           {
            "bin_end": 0.2175,
            "bin_start": 0.20795999999999998,
            "count": 2
           }
          ],
          "max": "0.2175",
          "min": "0.1221",
          "nan_count": 0,
          "unique_count": 5
         }
        },
        {
         "dtype": "float64",
         "name": "median_square_feet",
         "stats": {
          "histogram": [
           {
            "bin_end": 1611.6,
            "bin_start": 1577,
            "count": 1
           },
           {
            "bin_end": 1646.2,
            "bin_start": 1611.6,
            "count": 0
           },
           {
            "bin_end": 1680.8,
            "bin_start": 1646.2,
            "count": 0
           },
           {
            "bin_end": 1715.4,
            "bin_start": 1680.8,
            "count": 0
           },
           {
            "bin_end": 1750,
            "bin_start": 1715.4,
            "count": 0
           },
           {
            "bin_end": 1784.6,
            "bin_start": 1750,
            "count": 0
           },
           {
            "bin_end": 1819.2,
            "bin_start": 1784.6,
            "count": 0
           },
           {
            "bin_end": 1853.8,
            "bin_start": 1819.2,
            "count": 0
           },
           {
            "bin_end": 1888.4,
            "bin_start": 1853.8,
            "count": 0
           },
           {
            "bin_end": 1923,
            "bin_start": 1888.4,
            "count": 4
           }
          ],
          "max": "1923.0",
          "min": "1577.0",
          "nan_count": 0,
          "unique_count": 5
         }
        },
        {
         "dtype": "float64",
         "name": "median_square_feet_mm",
         "stats": {
          "histogram": [
           {
            "bin_end": -0.01874,
            "bin_start": -0.0224,
            "count": 1
           },
           {
            "bin_end": -0.01508,
            "bin_start": -0.01874,
            "count": 0
           },
           {
            "bin_end": -0.01142,
            "bin_start": -0.01508,
            "count": 1
           },
           {
            "bin_end": -0.0077599999999999995,
            "bin_start": -0.01142,
            "count": 0
           },
           {
            "bin_end": -0.0040999999999999995,
            "bin_start": -0.0077599999999999995,
            "count": 0
           },
           {
            "bin_end": -0.0004399999999999994,
            "bin_start": -0.0040999999999999995,
            "count": 0
           },
           {
            "bin_end": 0.0032200000000000006,
            "bin_start": -0.0004399999999999994,
            "count": 0
           },
           {
            "bin_end": 0.006880000000000001,
            "bin_start": 0.0032200000000000006,
            "count": 1
           },
           {
            "bin_end": 0.010539999999999997,
            "bin_start": 0.006880000000000001,
            "count": 1
           },
           {
            "bin_end": 0.0142,
            "bin_start": 0.010539999999999997,
            "count": 1
           }
          ],
          "max": "0.0142",
          "min": "-0.0224",
          "nan_count": 0,
          "unique_count": 5
         }
        },
        {
         "dtype": "float64",
         "name": "median_square_feet_yy",
         "stats": {
          "histogram": [
           {
            "bin_end": -0.1066,
            "bin_start": -0.1122,
            "count": 1
           },
           {
            "bin_end": -0.10099999999999999,
            "bin_start": -0.1066,
            "count": 0
           },
           {
            "bin_end": -0.0954,
            "bin_start": -0.10099999999999999,
            "count": 0
           },
           {
            "bin_end": -0.08979999999999999,
            "bin_start": -0.0954,
            "count": 0
           },
           {
            "bin_end": -0.0842,
            "bin_start": -0.08979999999999999,
            "count": 0
           },
           {
            "bin_end": -0.0786,
            "bin_start": -0.0842,
            "count": 0
           },
           {
            "bin_end": -0.07300000000000001,
            "bin_start": -0.0786,
            "count": 1
           },
           {
            "bin_end": -0.0674,
            "bin_start": -0.07300000000000001,
            "count": 0
           },
           {
            "bin_end": -0.0618,
            "bin_start": -0.0674,
            "count": 2
           },
           {
            "bin_end": -0.0562,
            "bin_start": -0.0618,
            "count": 1
           }
          ],
          "max": "-0.0562",
          "min": "-0.1122",
          "nan_count": 0,
          "unique_count": 5
         }
        },
        {
         "dtype": "float64",
         "name": "average_listing_price",
         "stats": {
          "histogram": [
           {
            "bin_end": 360551.4257,
            "bin_start": 321529.0468,
            "count": 1
           },
           {
            "bin_end": 399573.80460000003,
            "bin_start": 360551.4257,
            "count": 0
           },
           {
            "bin_end": 438596.1835,
            "bin_start": 399573.80460000003,
            "count": 1
           },
           {
            "bin_end": 477618.5624,
            "bin_start": 438596.1835,
            "count": 0
           },
           {
            "bin_end": 516640.9413,
            "bin_start": 477618.5624,
            "count": 0
           },
           {
            "bin_end": 555663.3202,
            "bin_start": 516640.9413,
            "count": 2
           },
           {
            "bin_end": 594685.6991,
            "bin_start": 555663.3202,
            "count": 0
           },
           {
            "bin_end": 633708.078,
            "bin_start": 594685.6991,
            "count": 0
           },
           {
            "bin_end": 672730.4569,
            "bin_start": 633708.078,
            "count": 0
           },
           {
            "bin_end": 711752.8358,
            "bin_start": 672730.4569,
            "count": 1
           }
          ],
          "max": "711752.8358",
          "min": "321529.0468",
          "nan_count": 0,
          "unique_count": 5
         }
        },
        {
         "dtype": "float64",
         "name": "average_listing_price_mm",
         "stats": {
          "histogram": [
           {
            "bin_end": -0.02839,
            "bin_start": -0.0319,
            "count": 1
           },
           {
            "bin_end": -0.02488,
            "bin_start": -0.02839,
            "count": 0
           },
           {
            "bin_end": -0.021369999999999997,
            "bin_start": -0.02488,
            "count": 1
           },
           {
            "bin_end": -0.017859999999999997,
            "bin_start": -0.021369999999999997,
            "count": 1
           },
           {
            "bin_end": -0.014349999999999998,
            "bin_start": -0.017859999999999997,
            "count": 0
           },
           {
            "bin_end": -0.010839999999999995,
            "bin_start": -0.014349999999999998,
            "count": 0
           },
           {
            "bin_end": -0.007329999999999996,
            "bin_start": -0.010839999999999995,
            "count": 0
           },
           {
            "bin_end": -0.003819999999999997,
            "bin_start": -0.007329999999999996,
            "count": 0
           },
           {
            "bin_end": -0.0003099999999999978,
            "bin_start": -0.003819999999999997,
            "count": 1
           },
           {
            "bin_end": 0.0032,
            "bin_start": -0.0003099999999999978,
            "count": 1
           }
          ],
          "max": "0.0032",
          "min": "-0.0319",
          "nan_count": 0,
          "unique_count": 5
         }
        },
        {
         "dtype": "float64",
         "name": "average_listing_price_yy",
         "stats": {
          "histogram": [
           {
            "bin_end": 0.06182,
            "bin_start": 0.0496,
            "count": 1
           },
           {
            "bin_end": 0.07404,
            "bin_start": 0.06182,
            "count": 1
           },
           {
            "bin_end": 0.08626,
            "bin_start": 0.07404,
            "count": 1
           },
           {
            "bin_end": 0.09848,
            "bin_start": 0.08626,
            "count": 0
           },
           {
            "bin_end": 0.11069999999999999,
            "bin_start": 0.09848,
            "count": 0
           },
           {
            "bin_end": 0.12292,
            "bin_start": 0.11069999999999999,
            "count": 0
           },
           {
            "bin_end": 0.13514,
            "bin_start": 0.12292,
            "count": 0
           },
           {
            "bin_end": 0.14736,
            "bin_start": 0.13514,
            "count": 0
           },
           {
            "bin_end": 0.15958,
            "bin_start": 0.14736,
            "count": 1
           },
           {
            "bin_end": 0.1718,
            "bin_start": 0.15958,
            "count": 1
           }
          ],
          "max": "0.1718",
          "min": "0.0496",
          "nan_count": 0,
          "unique_count": 5
         }
        },
        {
         "dtype": "int64",
         "name": "total_listing_count",
         "stats": {
          "histogram": [
           {
            "bin_end": 8915.9,
            "bin_start": 2809,
            "count": 1
           },
           {
            "bin_end": 15022.8,
            "bin_start": 8915.9,
            "count": 0
           },
           {
            "bin_end": 21129.699999999997,
            "bin_start": 15022.8,
            "count": 2
           },
           {
            "bin_end": 27236.6,
            "bin_start": 21129.699999999997,
            "count": 0
           },
           {
            "bin_end": 33343.5,
            "bin_start": 27236.6,
            "count": 0
           },
           {
            "bin_end": 39450.399999999994,
            "bin_start": 33343.5,
            "count": 1
           },
           {
            "bin_end": 45557.299999999996,
            "bin_start": 39450.399999999994,
            "count": 0
           },
           {
            "bin_end": 51664.2,
            "bin_start": 45557.299999999996,
            "count": 0
           },
           {
            "bin_end": 57771.1,
            "bin_start": 51664.2,
            "count": 0
           },
           {
            "bin_end": 63878,
            "bin_start": 57771.1,
            "count": 1
           }
          ],
          "max": "63878",
          "min": "2809",
          "nan_count": 0,
          "unique_count": 5
         }
        },
        {
         "dtype": "float64",
         "name": "total_listing_count_mm",
         "stats": {
          "histogram": [
           {
            "bin_end": 0.01061,
            "bin_start": 0.0031,
            "count": 2
           },
           {
            "bin_end": 0.01812,
            "bin_start": 0.01061,
            "count": 0
           },
           {
            "bin_end": 0.02563,
            "bin_start": 0.01812,
            "count": 0
           },
           {
            "bin_end": 0.03314,
            "bin_start": 0.02563,
            "count": 1
           },
           {
            "bin_end": 0.04065,
            "bin_start": 0.03314,
            "count": 1
           },
           {
            "bin_end": 0.04816,
            "bin_start": 0.04065,
            "count": 0
           },
           {
            "bin_end": 0.05567,
            "bin_start": 0.04816,
            "count": 0
           },
           {
            "bin_end": 0.06318,
            "bin_start": 0.05567,
            "count": 0
           },
           {
            "bin_end": 0.07069,
            "bin_start": 0.06318,
            "count": 0
           },
           {
            "bin_end": 0.0782,
            "bin_start": 0.07069,
            "count": 1
           }
          ],
          "max": "0.0782",
          "min": "0.0031",
          "nan_count": 0,
          "unique_count": 5
         }
        },
        {
         "dtype": "float64",
         "name": "total_listing_count_yy",
         "stats": {
          "histogram": [
           {
            "bin_end": -0.34473,
            "bin_start": -0.3828,
            "count": 1
           },
           {
            "bin_end": -0.30666,
            "bin_start": -0.34473,
            "count": 0
           },
           {
            "bin_end": -0.26859,
            "bin_start": -0.30666,
            "count": 0
           },
           {
            "bin_end": -0.23051999999999997,
            "bin_start": -0.26859,
            "count": 0
           },
           {
            "bin_end": -0.19244999999999998,
            "bin_start": -0.23051999999999997,
            "count": 1
           },
           {
            "bin_end": -0.15437999999999996,
            "bin_start": -0.19244999999999998,
            "count": 2
           },
           {
            "bin_end": -0.11630999999999997,
            "bin_start": -0.15437999999999996,
            "count": 0
           },
           {
            "bin_end": -0.07823999999999998,
            "bin_start": -0.11630999999999997,
            "count": 0
           },
           {
            "bin_end": -0.040169999999999983,
            "bin_start": -0.07823999999999998,
            "count": 0
           },
           {
            "bin_end": -0.0021,
            "bin_start": -0.040169999999999983,
            "count": 1
           }
          ],
          "max": "-0.0021",
          "min": "-0.3828",
          "nan_count": 0,
          "unique_count": 5
         }
        },
        {
         "dtype": "float64",
         "name": "pending_ratio",
         "stats": {
          "histogram": [
           {
            "bin_end": 0.7507001830000001,
            "bin_start": 0.660165485,
            "count": 1
           },
           {
            "bin_end": 0.8412348810000001,
            "bin_start": 0.7507001830000001,
            "count": 0
           },
           {
            "bin_end": 0.931769579,
            "bin_start": 0.8412348810000001,
            "count": 0
           },
           {
            "bin_end": 1.022304277,
            "bin_start": 0.931769579,
            "count": 2
           },
           {
            "bin_end": 1.112838975,
            "bin_start": 1.022304277,
            "count": 0
           },
           {
            "bin_end": 1.203373673,
            "bin_start": 1.112838975,
            "count": 1
           },
           {
            "bin_end": 1.2939083710000001,
            "bin_start": 1.203373673,
            "count": 0
           },
           {
            "bin_end": 1.384443069,
            "bin_start": 1.2939083710000001,
            "count": 0
           },
           {
            "bin_end": 1.474977767,
            "bin_start": 1.384443069,
            "count": 0
           },
           {
            "bin_end": 1.565512465,
            "bin_start": 1.474977767,
            "count": 1
           }
          ],
          "max": "1.565512465",
          "min": "0.660165485",
          "nan_count": 0,
          "unique_count": 5
         }
        },
        {
         "dtype": "float64",
         "name": "pending_ratio_mm",
         "stats": {
          "histogram": [
           {
            "bin_end": -0.24300000000000002,
            "bin_start": -0.2645,
            "count": 1
           },
           {
            "bin_end": -0.2215,
            "bin_start": -0.24300000000000002,
            "count": 1
           },
           {
            "bin_end": -0.2,
            "bin_start": -0.2215,
            "count": 0
           },
           {
            "bin_end": -0.1785,
            "bin_start": -0.2,
            "count": 1
           },
           {
            "bin_end": -0.157,
            "bin_start": -0.1785,
            "count": 1
           },
           {
            "bin_end": -0.1355,
            "bin_start": -0.157,
            "count": 0
           },
           {
            "bin_end": -0.11399999999999999,
            "bin_start": -0.1355,
            "count": 0
           },
           {
            "bin_end": -0.0925,
            "bin_start": -0.11399999999999999,
            "count": 0
           },
           {
            "bin_end": -0.07100000000000001,
            "bin_start": -0.0925,
            "count": 0
           },
           {
            "bin_end": -0.0495,
            "bin_start": -0.07100000000000001,
            "count": 1
           }
          ],
          "max": "-0.0495",
          "min": "-0.2645",
          "nan_count": 0,
          "unique_count": 5
         }
        },
        {
         "dtype": "float64",
         "name": "pending_ratio_yy",
         "stats": {
          "histogram": [
           {
            "bin_end": 0.16795,
            "bin_start": 0.1312,
            "count": 1
           },
           {
            "bin_end": 0.2047,
            "bin_start": 0.16795,
            "count": 2
           },
           {
            "bin_end": 0.24145,
            "bin_start": 0.2047,
            "count": 0
           },
           {
            "bin_end": 0.2782,
            "bin_start": 0.24145,
            "count": 0
           },
           {
            "bin_end": 0.31494999999999995,
            "bin_start": 0.2782,
            "count": 0
           },
           {
            "bin_end": 0.35169999999999996,
            "bin_start": 0.31494999999999995,
            "count": 0
           },
           {
            "bin_end": 0.38844999999999996,
            "bin_start": 0.35169999999999996,
            "count": 0
           },
           {
            "bin_end": 0.4251999999999999,
            "bin_start": 0.38844999999999996,
            "count": 1
           },
           {
            "bin_end": 0.46194999999999997,
            "bin_start": 0.4251999999999999,
            "count": 0
           },
           {
            "bin_end": 0.4987,
            "bin_start": 0.46194999999999997,
            "count": 1
           }
          ],
          "max": "0.4987",
          "min": "0.1312",
          "nan_count": 0,
          "unique_count": 5
         }
        },
        {
         "dtype": "int64",
         "name": "_deepnote_index_column"
        }
       ],
       "row_count": 5,
       "rows": [
        {
         "_deepnote_index_column": 0,
         "active_listing_count": 32216,
         "active_listing_count_mm": 0.0923,
         "active_listing_count_yy": -0.2511,
         "average_listing_price": 407847.5151,
         "average_listing_price_mm": -0.0225,
         "average_listing_price_yy": 0.0703,
         "median_days_on_market": 43,
         "median_days_on_market_mm": -0.022727273,
         "median_days_on_market_yy": -0.252173913,
         "median_listing_price": 269900,
         "median_listing_price_mm": -0.0004,
         "median_listing_price_per_square_foot": 143.75,
         "median_listing_price_per_square_foot_mm": 0.0006,
         "median_listing_price_per_square_foot_yy": 0.1599,
         "median_listing_price_yy": 0.0393,
         "median_square_feet": 1577,
         "median_square_feet_mm": 0.0073,
         "median_square_feet_yy": -0.0772,
         "month_date_yyyymm": 202107,
         "new_listing_count": 20696,
         "new_listing_count_mm": 0.0006,
         "new_listing_count_yy": 0.0037,
         "pending_listing_count": 31662,
         "pending_listing_count_mm": -0.0739,
         "pending_listing_count_yy": -0.0694,
         "pending_ratio": 0.982803576,
         "pending_ratio_mm": -0.1764,
         "pending_ratio_yy": 0.1919,
         "price_increased_count": 356,
         "price_increased_count_mm": -0.2458,
         "price_increased_count_yy": -0.2645,
         "price_reduced_count": 9064,
         "price_reduced_count_mm": 0.2369,
         "price_reduced_count_yy": -0.2763,
         "state": "illinois",
         "state_id": "il",
         "total_listing_count": 63878,
         "total_listing_count_mm": 0.0031,
         "total_listing_count_yy": -0.1708
        },
        {
         "_deepnote_index_column": 1,
         "active_listing_count": 16402,
         "active_listing_count_mm": 0.1187,
         "active_listing_count_yy": -0.2351,
         "average_listing_price": 553022.6313,
         "average_listing_price_mm": -0.0179,
         "average_listing_price_yy": 0.0776,
         "median_days_on_market": 32,
         "median_days_on_market_mm": 0.032258065,
         "median_days_on_market_yy": -0.428571429,
         "median_listing_price": 378999,
         "median_listing_price_mm": -0.0026,
         "median_listing_price_per_square_foot": 189.1367187,
         "median_listing_price_per_square_foot_mm": 0.0069,
         "median_listing_price_per_square_foot_yy": 0.1787,
         "median_listing_price_yy": 0.053,
         "median_square_feet": 1923,
         "median_square_feet_mm": -0.0138,
         "median_square_feet_yy": -0.1122,
         "month_date_yyyymm": 202107,
         "new_listing_count": 13636,
         "new_listing_count_mm": -0.0207,
         "new_listing_count_yy": 0.2029,
         "pending_listing_count": 18621,
         "pending_listing_count_mm": -0.0697,
         "pending_listing_count_yy": 0.364,
         "pending_ratio": 1.135288379,
         "pending_ratio_mm": -0.2299,
         "pending_ratio_yy": 0.4987,
         "price_increased_count": 772,
         "price_increased_count_mm": -0.1065,
         "price_increased_count_yy": -0.3058,
         "price_reduced_count": 4544,
         "price_reduced_count_mm": 0.288,
         "price_reduced_count_yy": 0.017,
         "state": "virginia",
         "state_id": "va",
         "total_listing_count": 35023,
         "total_listing_count_mm": 0.0099,
         "total_listing_count_yy": -0.0021
        },
        {
         "_deepnote_index_column": 2,
         "active_listing_count": 1692,
         "active_listing_count_mm": 0.0702,
         "active_listing_count_yy": -0.454,
         "average_listing_price": 538348.9867,
         "average_listing_price_mm": -0.0319,
         "average_listing_price_yy": 0.1535,
         "median_days_on_market": 46,
         "median_days_on_market_mm": 0.010989011,
         "median_days_on_market_yy": -0.530612245,
         "median_listing_price": 350000,
         "median_listing_price_mm": -0.021,
         "median_listing_price_per_square_foot": 191.9934641,
         "median_listing_price_per_square_foot_mm": 0.0025,
         "median_listing_price_per_square_foot_yy": 0.2158,
         "median_listing_price_yy": 0.0888,
         "median_square_feet": 1916,
         "median_square_feet_mm": -0.0224,
         "median_square_feet_yy": -0.0562,
         "month_date_yyyymm": 202107,
         "new_listing_count": 992,
         "new_listing_count_mm": 0.0206,
         "new_listing_count_yy": -0.0388,
         "pending_listing_count": 1117,
         "pending_listing_count_mm": -0.0045,
         "pending_listing_count_yy": -0.2307,
         "pending_ratio": 0.660165485,
         "pending_ratio_mm": -0.0495,
         "pending_ratio_yy": 0.1916,
         "price_increased_count": 24,
         "price_increased_count_mm": 0,
         "price_increased_count_yy": -0.4545,
         "price_reduced_count": 348,
         "price_reduced_count_mm": 0.3385,
         "price_reduced_count_yy": -0.2162,
         "state": "vermont",
         "state_id": "vt",
         "total_listing_count": 2809,
         "total_listing_count_mm": 0.0392,
         "total_listing_count_yy": -0.3828
        },
        {
         "_deepnote_index_column": 3,
         "active_listing_count": 8009,
         "active_listing_count_mm": 0.1766,
         "active_listing_count_yy": -0.2552,
         "average_listing_price": 321529.0468,
         "average_listing_price_mm": -0.0033,
         "average_listing_price_yy": 0.0496,
         "median_days_on_market": 33,
         "median_days_on_market_mm": 0.047619048,
         "median_days_on_market_yy": -0.346534653,
         "median_listing_price": 239900,
         "median_listing_price_mm": 0.0019,
         "median_listing_price_per_square_foot": 120.7184628,
         "median_listing_price_per_square_foot_mm": -0.0072,
         "median_listing_price_per_square_foot_yy": 0.1221,
         "median_listing_price_yy": 0.009,
         "median_square_feet": 1899,
         "median_square_feet_mm": 0.0142,
         "median_square_feet_yy": -0.065,
         "month_date_yyyymm": 202107,
         "new_listing_count": 7280,
         "new_listing_count_mm": 0.0288,
         "new_listing_count_yy": 0.1644,
         "pending_listing_count": 7893,
         "pending_listing_count_mm": -0.0062,
         "pending_listing_count_yy": -0.1408,
         "pending_ratio": 0.985516294,
         "pending_ratio_mm": -0.1812,
         "pending_ratio_yy": 0.1312,
         "price_increased_count": 248,
         "price_increased_count_mm": -0.1143,
         "price_increased_count_yy": -0.1507,
         "price_reduced_count": 2956,
         "price_reduced_count_mm": 0.2988,
         "price_reduced_count_yy": -0.1367,
         "state": "indiana",
         "state_id": "in",
         "total_listing_count": 15902,
         "total_listing_count_mm": 0.0782,
         "total_listing_count_yy": -0.2025
        },
        {
         "_deepnote_index_column": 4,
         "active_listing_count": 7220,
         "active_listing_count_mm": 0.1365,
         "active_listing_count_yy": -0.2933,
         "average_listing_price": 711752.8358,
         "average_listing_price_mm": 0.0032,
         "average_listing_price_yy": 0.1718,
         "median_days_on_market": 33,
         "median_days_on_market_mm": 0.064516129,
         "median_days_on_market_yy": -0.365384615,
         "median_listing_price": 525000,
         "median_listing_price_mm": 0.0003,
         "median_listing_price_per_square_foot": 282.3159785,
         "median_listing_price_per_square_foot_mm": 0.0045,
         "median_listing_price_per_square_foot_yy": 0.2175,
         "median_listing_price_yy": 0.1564,
         "median_square_feet": 1889,
         "median_square_feet_mm": 0.0048,
         "median_square_feet_yy": -0.0649,
         "month_date_yyyymm": 202107,
         "new_listing_count": 6924,
         "new_listing_count_mm": 0.0064,
         "new_listing_count_yy": 0.1509,
         "pending_listing_count": 11303,
         "pending_listing_count_mm": -0.0278,
         "pending_listing_count_yy": -0.054,
         "pending_ratio": 1.565512465,
         "pending_ratio_mm": -0.2645,
         "pending_ratio_yy": 0.396,
         "price_increased_count": 3072,
         "price_increased_count_mm": 0.1395,
         "price_increased_count_yy": 0.5059,
         "price_reduced_count": 2972,
         "price_reduced_count_mm": 0.218,
         "price_reduced_count_yy": -0.2814,
         "state": "oregon",
         "state_id": "or",
         "total_listing_count": 18523,
         "total_listing_count_mm": 0.0303,
         "total_listing_count_yy": -0.1643
        }
       ]
      },
      "text/html": [
       "<div>\n",
       "<style scoped>\n",
       "    .dataframe tbody tr th:only-of-type {\n",
       "        vertical-align: middle;\n",
       "    }\n",
       "\n",
       "    .dataframe tbody tr th {\n",
       "        vertical-align: top;\n",
       "    }\n",
       "\n",
       "    .dataframe thead th {\n",
       "        text-align: right;\n",
       "    }\n",
       "</style>\n",
       "<table border=\"1\" class=\"dataframe\">\n",
       "  <thead>\n",
       "    <tr style=\"text-align: right;\">\n",
       "      <th></th>\n",
       "      <th>month_date_yyyymm</th>\n",
       "      <th>state</th>\n",
       "      <th>state_id</th>\n",
       "      <th>median_listing_price</th>\n",
       "      <th>median_listing_price_mm</th>\n",
       "      <th>median_listing_price_yy</th>\n",
       "      <th>active_listing_count</th>\n",
       "      <th>active_listing_count_mm</th>\n",
       "      <th>active_listing_count_yy</th>\n",
       "      <th>median_days_on_market</th>\n",
       "      <th>...</th>\n",
       "      <th>median_square_feet_yy</th>\n",
       "      <th>average_listing_price</th>\n",
       "      <th>average_listing_price_mm</th>\n",
       "      <th>average_listing_price_yy</th>\n",
       "      <th>total_listing_count</th>\n",
       "      <th>total_listing_count_mm</th>\n",
       "      <th>total_listing_count_yy</th>\n",
       "      <th>pending_ratio</th>\n",
       "      <th>pending_ratio_mm</th>\n",
       "      <th>pending_ratio_yy</th>\n",
       "    </tr>\n",
       "  </thead>\n",
       "  <tbody>\n",
       "    <tr>\n",
       "      <th>0</th>\n",
       "      <td>202107</td>\n",
       "      <td>illinois</td>\n",
       "      <td>il</td>\n",
       "      <td>269900.0</td>\n",
       "      <td>-0.0004</td>\n",
       "      <td>0.0393</td>\n",
       "      <td>32216</td>\n",
       "      <td>0.0923</td>\n",
       "      <td>-0.2511</td>\n",
       "      <td>43.0</td>\n",
       "      <td>...</td>\n",
       "      <td>-0.0772</td>\n",
       "      <td>407847.5151</td>\n",
       "      <td>-0.0225</td>\n",
       "      <td>0.0703</td>\n",
       "      <td>63878</td>\n",
       "      <td>0.0031</td>\n",
       "      <td>-0.1708</td>\n",
       "      <td>0.982804</td>\n",
       "      <td>-0.1764</td>\n",
       "      <td>0.1919</td>\n",
       "    </tr>\n",
       "    <tr>\n",
       "      <th>1</th>\n",
       "      <td>202107</td>\n",
       "      <td>virginia</td>\n",
       "      <td>va</td>\n",
       "      <td>378999.0</td>\n",
       "      <td>-0.0026</td>\n",
       "      <td>0.0530</td>\n",
       "      <td>16402</td>\n",
       "      <td>0.1187</td>\n",
       "      <td>-0.2351</td>\n",
       "      <td>32.0</td>\n",
       "      <td>...</td>\n",
       "      <td>-0.1122</td>\n",
       "      <td>553022.6313</td>\n",
       "      <td>-0.0179</td>\n",
       "      <td>0.0776</td>\n",
       "      <td>35023</td>\n",
       "      <td>0.0099</td>\n",
       "      <td>-0.0021</td>\n",
       "      <td>1.135288</td>\n",
       "      <td>-0.2299</td>\n",
       "      <td>0.4987</td>\n",
       "    </tr>\n",
       "    <tr>\n",
       "      <th>2</th>\n",
       "      <td>202107</td>\n",
       "      <td>vermont</td>\n",
       "      <td>vt</td>\n",
       "      <td>350000.0</td>\n",
       "      <td>-0.0210</td>\n",
       "      <td>0.0888</td>\n",
       "      <td>1692</td>\n",
       "      <td>0.0702</td>\n",
       "      <td>-0.4540</td>\n",
       "      <td>46.0</td>\n",
       "      <td>...</td>\n",
       "      <td>-0.0562</td>\n",
       "      <td>538348.9867</td>\n",
       "      <td>-0.0319</td>\n",
       "      <td>0.1535</td>\n",
       "      <td>2809</td>\n",
       "      <td>0.0392</td>\n",
       "      <td>-0.3828</td>\n",
       "      <td>0.660165</td>\n",
       "      <td>-0.0495</td>\n",
       "      <td>0.1916</td>\n",
       "    </tr>\n",
       "    <tr>\n",
       "      <th>3</th>\n",
       "      <td>202107</td>\n",
       "      <td>indiana</td>\n",
       "      <td>in</td>\n",
       "      <td>239900.0</td>\n",
       "      <td>0.0019</td>\n",
       "      <td>0.0090</td>\n",
       "      <td>8009</td>\n",
       "      <td>0.1766</td>\n",
       "      <td>-0.2552</td>\n",
       "      <td>33.0</td>\n",
       "      <td>...</td>\n",
       "      <td>-0.0650</td>\n",
       "      <td>321529.0468</td>\n",
       "      <td>-0.0033</td>\n",
       "      <td>0.0496</td>\n",
       "      <td>15902</td>\n",
       "      <td>0.0782</td>\n",
       "      <td>-0.2025</td>\n",
       "      <td>0.985516</td>\n",
       "      <td>-0.1812</td>\n",
       "      <td>0.1312</td>\n",
       "    </tr>\n",
       "    <tr>\n",
       "      <th>4</th>\n",
       "      <td>202107</td>\n",
       "      <td>oregon</td>\n",
       "      <td>or</td>\n",
       "      <td>525000.0</td>\n",
       "      <td>0.0003</td>\n",
       "      <td>0.1564</td>\n",
       "      <td>7220</td>\n",
       "      <td>0.1365</td>\n",
       "      <td>-0.2933</td>\n",
       "      <td>33.0</td>\n",
       "      <td>...</td>\n",
       "      <td>-0.0649</td>\n",
       "      <td>711752.8358</td>\n",
       "      <td>0.0032</td>\n",
       "      <td>0.1718</td>\n",
       "      <td>18523</td>\n",
       "      <td>0.0303</td>\n",
       "      <td>-0.1643</td>\n",
       "      <td>1.565512</td>\n",
       "      <td>-0.2645</td>\n",
       "      <td>0.3960</td>\n",
       "    </tr>\n",
       "  </tbody>\n",
       "</table>\n",
       "<p>5 rows × 39 columns</p>\n",
       "</div>"
      ],
      "text/plain": [
       "   month_date_yyyymm     state state_id  median_listing_price  \\\n",
       "0             202107  illinois       il              269900.0   \n",
       "1             202107  virginia       va              378999.0   \n",
       "2             202107   vermont       vt              350000.0   \n",
       "3             202107   indiana       in              239900.0   \n",
       "4             202107    oregon       or              525000.0   \n",
       "\n",
       "   median_listing_price_mm  median_listing_price_yy  active_listing_count  \\\n",
       "0                  -0.0004                   0.0393                 32216   \n",
       "1                  -0.0026                   0.0530                 16402   \n",
       "2                  -0.0210                   0.0888                  1692   \n",
       "3                   0.0019                   0.0090                  8009   \n",
       "4                   0.0003                   0.1564                  7220   \n",
       "\n",
       "   active_listing_count_mm  active_listing_count_yy  median_days_on_market  \\\n",
       "0                   0.0923                  -0.2511                   43.0   \n",
       "1                   0.1187                  -0.2351                   32.0   \n",
       "2                   0.0702                  -0.4540                   46.0   \n",
       "3                   0.1766                  -0.2552                   33.0   \n",
       "4                   0.1365                  -0.2933                   33.0   \n",
       "\n",
       "   ...  median_square_feet_yy  average_listing_price  \\\n",
       "0  ...                -0.0772            407847.5151   \n",
       "1  ...                -0.1122            553022.6313   \n",
       "2  ...                -0.0562            538348.9867   \n",
       "3  ...                -0.0650            321529.0468   \n",
       "4  ...                -0.0649            711752.8358   \n",
       "\n",
       "   average_listing_price_mm  average_listing_price_yy  total_listing_count  \\\n",
       "0                   -0.0225                    0.0703                63878   \n",
       "1                   -0.0179                    0.0776                35023   \n",
       "2                   -0.0319                    0.1535                 2809   \n",
       "3                   -0.0033                    0.0496                15902   \n",
       "4                    0.0032                    0.1718                18523   \n",
       "\n",
       "   total_listing_count_mm  total_listing_count_yy  pending_ratio  \\\n",
       "0                  0.0031                 -0.1708       0.982804   \n",
       "1                  0.0099                 -0.0021       1.135288   \n",
       "2                  0.0392                 -0.3828       0.660165   \n",
       "3                  0.0782                 -0.2025       0.985516   \n",
       "4                  0.0303                 -0.1643       1.565512   \n",
       "\n",
       "   pending_ratio_mm  pending_ratio_yy  \n",
       "0           -0.1764            0.1919  \n",
       "1           -0.2299            0.4987  \n",
       "2           -0.0495            0.1916  \n",
       "3           -0.1812            0.1312  \n",
       "4           -0.2645            0.3960  \n",
       "\n",
       "[5 rows x 39 columns]"
      ]
     },
     "execution_count": 6,
     "metadata": {},
     "output_type": "execute_result"
    }
   ],
   "source": [
    "core_metrics_by_state.head(5)"
   ]
  },
  {
   "cell_type": "code",
   "execution_count": null,
   "metadata": {
    "cell_id": "dd44de6f73bc402596ff2a3ca8990aef",
    "deepnote_cell_height": 80.953125,
    "deepnote_cell_type": "code",
    "deepnote_to_be_reexecuted": true,
    "execution_millis": 1,
    "execution_start": 1649719226307,
    "source_hash": "adc1c123",
    "tags": []
   },
   "outputs": [],
   "source": [
    "# Statistical description of data"
   ]
  },
  {
   "cell_type": "code",
   "execution_count": null,
   "metadata": {
    "cell_id": "f19216f2e30940d2903a63b36f0b5be3",
    "deepnote_cell_height": 535.875,
    "deepnote_cell_type": "code",
    "deepnote_to_be_reexecuted": true,
    "execution_millis": 150,
    "execution_start": 1649719226308,
    "source_hash": "d3435f02",
    "tags": []
   },
   "outputs": [
    {
     "data": {
      "application/vnd.deepnote.dataframe.v3+json": {
       "column_count": 37,
       "columns": [
        {
         "dtype": "float64",
         "name": "month_date_yyyymm",
         "stats": {
          "histogram": [
           {
            "bin_end": 20346.77613088985,
            "bin_start": 151.19570098872342,
            "count": 2
           },
           {
            "bin_end": 40542.356560790984,
            "bin_start": 20346.77613088985,
            "count": 0
           },
           {
            "bin_end": 60737.93699069211,
            "bin_start": 40542.356560790984,
            "count": 0
           },
           {
            "bin_end": 80933.51742059324,
            "bin_start": 60737.93699069211,
            "count": 0
           },
           {
            "bin_end": 101129.09785049438,
            "bin_start": 80933.51742059324,
            "count": 0
           },
           {
            "bin_end": 121324.6782803955,
            "bin_start": 101129.09785049438,
            "count": 0
           },
           {
            "bin_end": 141520.25871029662,
            "bin_start": 121324.6782803955,
            "count": 0
           },
           {
            "bin_end": 161715.83914019776,
            "bin_start": 141520.25871029662,
            "count": 0
           },
           {
            "bin_end": 181911.4195700989,
            "bin_start": 161715.83914019776,
            "count": 0
           },
           {
            "bin_end": 202107,
            "bin_start": 181911.4195700989,
            "count": 6
           }
          ],
          "max": "202107.0",
          "min": "151.19570098872342",
          "nan_count": 0,
          "unique_count": 8
         }
        },
        {
         "dtype": "float64",
         "name": "median_listing_price",
         "stats": {
          "histogram": [
           {
            "bin_end": 83691.6,
            "bin_start": 3112,
            "count": 1
           },
           {
            "bin_end": 164271.2,
            "bin_start": 83691.6,
            "count": 2
           },
           {
            "bin_end": 244850.80000000002,
            "bin_start": 164271.2,
            "count": 1
           },
           {
            "bin_end": 325430.4,
            "bin_start": 244850.80000000002,
            "count": 2
           },
           {
            "bin_end": 406010,
            "bin_start": 325430.4,
            "count": 1
           },
           {
            "bin_end": 486589.60000000003,
            "bin_start": 406010,
            "count": 0
           },
           {
            "bin_end": 567169.2000000001,
            "bin_start": 486589.60000000003,
            "count": 0
           },
           {
            "bin_end": 647748.8,
            "bin_start": 567169.2000000001,
            "count": 0
           },
           {
            "bin_end": 728328.4,
            "bin_start": 647748.8,
            "count": 0
           },
           {
            "bin_end": 808908,
            "bin_start": 728328.4,
            "count": 1
           }
          ],
          "max": "808908.0",
          "min": "3112.0",
          "nan_count": 0,
          "unique_count": 8
         }
        },
        {
         "dtype": "float64",
         "name": "median_listing_price_mm",
         "stats": {
          "histogram": [
           {
            "bin_end": 249.80559,
            "bin_start": -0.1049,
            "count": 7
           },
           {
            "bin_end": 499.71608,
            "bin_start": 249.80559,
            "count": 0
           },
           {
            "bin_end": 749.6265699999999,
            "bin_start": 499.71608,
            "count": 0
           },
           {
            "bin_end": 999.5370599999999,
            "bin_start": 749.6265699999999,
            "count": 0
           },
           {
            "bin_end": 1249.4475499999999,
            "bin_start": 999.5370599999999,
            "count": 0
           },
           {
            "bin_end": 1499.3580399999998,
            "bin_start": 1249.4475499999999,
            "count": 0
           },
           {
            "bin_end": 1749.2685299999998,
            "bin_start": 1499.3580399999998,
            "count": 0
           },
           {
            "bin_end": 1999.1790199999998,
            "bin_start": 1749.2685299999998,
            "count": 0
           },
           {
            "bin_end": 2249.0895100000002,
            "bin_start": 1999.1790199999998,
            "count": 0
           },
           {
            "bin_end": 2499,
            "bin_start": 2249.0895100000002,
            "count": 1
           }
          ],
          "max": "2499.0",
          "min": "-0.1049",
          "nan_count": 0,
          "unique_count": 8
         }
        },
        {
         "dtype": "float64",
         "name": "median_listing_price_yy",
         "stats": {
          "histogram": [
           {
            "bin_end": 249.69498000000002,
            "bin_start": -0.2278,
            "count": 7
           },
           {
            "bin_end": 499.61776000000003,
            "bin_start": 249.69498000000002,
            "count": 0
           },
           {
            "bin_end": 749.5405400000001,
            "bin_start": 499.61776000000003,
            "count": 0
           },
           {
            "bin_end": 999.4633200000001,
            "bin_start": 749.5405400000001,
            "count": 0
           },
           {
            "bin_end": 1249.3861000000002,
            "bin_start": 999.4633200000001,
            "count": 0
           },
           {
            "bin_end": 1499.3088800000003,
            "bin_start": 1249.3861000000002,
            "count": 0
           },
           {
            "bin_end": 1749.2316600000001,
            "bin_start": 1499.3088800000003,
            "count": 0
           },
           {
            "bin_end": 1999.1544400000002,
            "bin_start": 1749.2316600000001,
            "count": 0
           },
           {
            "bin_end": 2249.07722,
            "bin_start": 1999.1544400000002,
            "count": 0
           },
           {
            "bin_end": 2499,
            "bin_start": 2249.07722,
            "count": 1
           }
          ],
          "max": "2499.0",
          "min": "-0.2278",
          "nan_count": 0,
          "unique_count": 8
         }
        },
        {
         "dtype": "float64",
         "name": "active_listing_count",
         "stats": {
          "histogram": [
           {
            "bin_end": 16445,
            "bin_start": 1,
            "count": 4
           },
           {
            "bin_end": 32889,
            "bin_start": 16445,
            "count": 3
           },
           {
            "bin_end": 49333,
            "bin_start": 32889,
            "count": 0
           },
           {
            "bin_end": 65777,
            "bin_start": 49333,
            "count": 0
           },
           {
            "bin_end": 82221,
            "bin_start": 65777,
            "count": 0
           },
           {
            "bin_end": 98665,
            "bin_start": 82221,
            "count": 0
           },
           {
            "bin_end": 115109,
            "bin_start": 98665,
            "count": 0
           },
           {
            "bin_end": 131553,
            "bin_start": 115109,
            "count": 0
           },
           {
            "bin_end": 147997,
            "bin_start": 131553,
            "count": 0
           },
           {
            "bin_end": 164441,
            "bin_start": 147997,
            "count": 1
           }
          ],
          "max": "164441.0",
          "min": "1.0",
          "nan_count": 0,
          "unique_count": 8
         }
        },
        {
         "dtype": "float64",
         "name": "active_listing_count_mm",
         "stats": {
          "histogram": [
           {
            "bin_end": 249.57582000000002,
            "bin_start": -0.3602,
            "count": 7
           },
           {
            "bin_end": 499.51184,
            "bin_start": 249.57582000000002,
            "count": 0
           },
           {
            "bin_end": 749.4478600000001,
            "bin_start": 499.51184,
            "count": 0
           },
           {
            "bin_end": 999.3838800000001,
            "bin_start": 749.4478600000001,
            "count": 0
           },
           {
            "bin_end": 1249.3199,
            "bin_start": 999.3838800000001,
            "count": 0
           },
           {
            "bin_end": 1499.25592,
            "bin_start": 1249.3199,
            "count": 0
           },
           {
            "bin_end": 1749.19194,
            "bin_start": 1499.25592,
            "count": 0
           },
           {
            "bin_end": 1999.12796,
            "bin_start": 1749.19194,
            "count": 0
           },
           {
            "bin_end": 2249.06398,
            "bin_start": 1999.12796,
            "count": 0
           },
           {
            "bin_end": 2499,
            "bin_start": 2249.06398,
            "count": 1
           }
          ],
          "max": "2499.0",
          "min": "-0.3602",
          "nan_count": 0,
          "unique_count": 8
         }
        },
        {
         "dtype": "float64",
         "name": "active_listing_count_yy",
         "stats": {
          "histogram": [
           {
            "bin_end": 249.25865999999996,
            "bin_start": -0.7126,
            "count": 7
           },
           {
            "bin_end": 499.22991999999994,
            "bin_start": 249.25865999999996,
            "count": 0
           },
           {
            "bin_end": 749.2011799999999,
            "bin_start": 499.22991999999994,
            "count": 0
           },
           {
            "bin_end": 999.1724399999999,
            "bin_start": 749.2011799999999,
            "count": 0
           },
           {
            "bin_end": 1249.1436999999999,
            "bin_start": 999.1724399999999,
            "count": 0
           },
           {
            "bin_end": 1499.1149599999997,
            "bin_start": 1249.1436999999999,
            "count": 0
           },
           {
            "bin_end": 1749.0862199999997,
            "bin_start": 1499.1149599999997,
            "count": 0
           },
           {
            "bin_end": 1999.0574799999997,
            "bin_start": 1749.0862199999997,
            "count": 0
           },
           {
            "bin_end": 2249.0287399999997,
            "bin_start": 1999.0574799999997,
            "count": 0
           },
           {
            "bin_end": 2499,
            "bin_start": 2249.0287399999997,
            "count": 1
           }
          ],
          "max": "2499.0",
          "min": "-0.7126",
          "nan_count": 0,
          "unique_count": 8
         }
        },
        {
         "dtype": "float64",
         "name": "median_days_on_market",
         "stats": {
          "histogram": [
           {
            "bin_end": 317.5,
            "bin_start": 7,
            "count": 7
           },
           {
            "bin_end": 628,
            "bin_start": 317.5,
            "count": 0
           },
           {
            "bin_end": 938.5,
            "bin_start": 628,
            "count": 0
           },
           {
            "bin_end": 1249,
            "bin_start": 938.5,
            "count": 0
           },
           {
            "bin_end": 1559.5,
            "bin_start": 1249,
            "count": 0
           },
           {
            "bin_end": 1870,
            "bin_start": 1559.5,
            "count": 0
           },
           {
            "bin_end": 2180.5,
            "bin_start": 1870,
            "count": 0
           },
           {
            "bin_end": 2491,
            "bin_start": 2180.5,
            "count": 0
           },
           {
            "bin_end": 2801.5,
            "bin_start": 2491,
            "count": 0
           },
           {
            "bin_end": 3112,
            "bin_start": 2801.5,
            "count": 1
           }
          ],
          "max": "3112.0",
          "min": "7.0",
          "nan_count": 0,
          "unique_count": 8
         }
        },
        {
         "dtype": "float64",
         "name": "median_days_on_market_mm",
         "stats": {
          "histogram": [
           {
            "bin_end": 249.44274193560003,
            "bin_start": -0.508064516,
            "count": 7
           },
           {
            "bin_end": 499.39354838720004,
            "bin_start": 249.44274193560003,
            "count": 0
           },
           {
            "bin_end": 749.3443548388001,
            "bin_start": 499.39354838720004,
            "count": 0
           },
           {
            "bin_end": 999.2951612904001,
            "bin_start": 749.3443548388001,
            "count": 0
           },
           {
            "bin_end": 1249.245967742,
            "bin_start": 999.2951612904001,
            "count": 0
           },
           {
            "bin_end": 1499.1967741936,
            "bin_start": 1249.245967742,
            "count": 0
           },
           {
            "bin_end": 1749.1475806452,
            "bin_start": 1499.1967741936,
            "count": 0
           },
           {
            "bin_end": 1999.0983870968,
            "bin_start": 1749.1475806452,
            "count": 0
           },
           {
            "bin_end": 2249.0491935484,
            "bin_start": 1999.0983870968,
            "count": 0
           },
           {
            "bin_end": 2499,
            "bin_start": 2249.0491935484,
            "count": 1
           }
          ],
          "max": "2499.0",
          "min": "-0.508064516",
          "nan_count": 0,
          "unique_count": 8
         }
        },
        {
         "dtype": "float64",
         "name": "median_days_on_market_yy",
         "stats": {
          "histogram": [
           {
            "bin_end": 249.2583333333,
            "bin_start": -0.712962963,
            "count": 7
           },
           {
            "bin_end": 499.22962962959997,
            "bin_start": 249.2583333333,
            "count": 0
           },
           {
            "bin_end": 749.2009259258999,
            "bin_start": 499.22962962959997,
            "count": 0
           },
           {
            "bin_end": 999.1722222221999,
            "bin_start": 749.2009259258999,
            "count": 0
           },
           {
            "bin_end": 1249.1435185184998,
            "bin_start": 999.1722222221999,
            "count": 0
           },
           {
            "bin_end": 1499.1148148147997,
            "bin_start": 1249.1435185184998,
            "count": 0
           },
           {
            "bin_end": 1749.0861111110999,
            "bin_start": 1499.1148148147997,
            "count": 0
           },
           {
            "bin_end": 1999.0574074073998,
            "bin_start": 1749.0861111110999,
            "count": 0
           },
           {
            "bin_end": 2249.0287037037,
            "bin_start": 1999.0574074073998,
            "count": 0
           },
           {
            "bin_end": 2499,
            "bin_start": 2249.0287037037,
            "count": 1
           }
          ],
          "max": "2499.0",
          "min": "-0.712962963",
          "nan_count": 0,
          "unique_count": 8
         }
        },
        {
         "dtype": "float64",
         "name": "new_listing_count",
         "stats": {
          "histogram": [
           {
            "bin_end": 5130,
            "bin_start": 0,
            "count": 4
           },
           {
            "bin_end": 10260,
            "bin_start": 5130,
            "count": 3
           },
           {
            "bin_end": 15390,
            "bin_start": 10260,
            "count": 0
           },
           {
            "bin_end": 20520,
            "bin_start": 15390,
            "count": 0
           },
           {
            "bin_end": 25650,
            "bin_start": 20520,
            "count": 0
           },
           {
            "bin_end": 30780,
            "bin_start": 25650,
            "count": 0
           },
           {
            "bin_end": 35910,
            "bin_start": 30780,
            "count": 0
           },
           {
            "bin_end": 41040,
            "bin_start": 35910,
            "count": 0
           },
           {
            "bin_end": 46170,
            "bin_start": 41040,
            "count": 0
           },
           {
            "bin_end": 51300,
            "bin_start": 46170,
            "count": 1
           }
          ],
          "max": "51300.0",
          "min": "0.0",
          "nan_count": 0,
          "unique_count": 8
         }
        },
        {
         "dtype": "float64",
         "name": "new_listing_count_mm",
         "stats": {
          "histogram": [
           {
            "bin_end": 249.28611,
            "bin_start": -0.6821,
            "count": 7
           },
           {
            "bin_end": 499.25432,
            "bin_start": 249.28611,
            "count": 0
           },
           {
            "bin_end": 749.22253,
            "bin_start": 499.25432,
            "count": 0
           },
           {
            "bin_end": 999.19074,
            "bin_start": 749.22253,
            "count": 0
           },
           {
            "bin_end": 1249.15895,
            "bin_start": 999.19074,
            "count": 0
           },
           {
            "bin_end": 1499.12716,
            "bin_start": 1249.15895,
            "count": 0
           },
           {
            "bin_end": 1749.09537,
            "bin_start": 1499.12716,
            "count": 0
           },
           {
            "bin_end": 1999.06358,
            "bin_start": 1749.09537,
            "count": 0
           },
           {
            "bin_end": 2249.03179,
            "bin_start": 1999.06358,
            "count": 0
           },
           {
            "bin_end": 2499,
            "bin_start": 2249.03179,
            "count": 1
           }
          ],
          "max": "2499.0",
          "min": "-0.6821",
          "nan_count": 0,
          "unique_count": 8
         }
        },
        {
         "dtype": "float64",
         "name": "new_listing_count_yy",
         "stats": {
          "histogram": [
           {
            "bin_end": 249.20205,
            "bin_start": -0.7755,
            "count": 7
           },
           {
            "bin_end": 499.1796,
            "bin_start": 249.20205,
            "count": 0
           },
           {
            "bin_end": 749.15715,
            "bin_start": 499.1796,
            "count": 0
           },
           {
            "bin_end": 999.1347000000001,
            "bin_start": 749.15715,
            "count": 0
           },
           {
            "bin_end": 1249.1122500000001,
            "bin_start": 999.1347000000001,
            "count": 0
           },
           {
            "bin_end": 1499.0898,
            "bin_start": 1249.1122500000001,
            "count": 0
           },
           {
            "bin_end": 1749.06735,
            "bin_start": 1499.0898,
            "count": 0
           },
           {
            "bin_end": 1999.0449,
            "bin_start": 1749.06735,
            "count": 0
           },
           {
            "bin_end": 2249.02245,
            "bin_start": 1999.0449,
            "count": 0
           },
           {
            "bin_end": 2499,
            "bin_start": 2249.02245,
            "count": 1
           }
          ],
          "max": "2499.0",
          "min": "-0.7755",
          "nan_count": 0,
          "unique_count": 8
         }
        },
        {
         "dtype": "float64",
         "name": "price_increased_count",
         "stats": {
          "histogram": [
           {
            "bin_end": 741.6,
            "bin_start": 0,
            "count": 5
           },
           {
            "bin_end": 1483.2,
            "bin_start": 741.6,
            "count": 1
           },
           {
            "bin_end": 2224.8,
            "bin_start": 1483.2,
            "count": 0
           },
           {
            "bin_end": 2966.4,
            "bin_start": 2224.8,
            "count": 0
           },
           {
            "bin_end": 3708,
            "bin_start": 2966.4,
            "count": 1
           },
           {
            "bin_end": 4449.6,
            "bin_start": 3708,
            "count": 0
           },
           {
            "bin_end": 5191.2,
            "bin_start": 4449.6,
            "count": 0
           },
           {
            "bin_end": 5932.8,
            "bin_start": 5191.2,
            "count": 0
           },
           {
            "bin_end": 6674.400000000001,
            "bin_start": 5932.8,
            "count": 0
           },
           {
            "bin_end": 7416,
            "bin_start": 6674.400000000001,
            "count": 1
           }
          ],
          "max": "7416.0",
          "min": "0.0",
          "nan_count": 0,
          "unique_count": 8
         }
        },
        {
         "dtype": "float64",
         "name": "price_increased_count_mm",
         "stats": {
          "histogram": [
           {
            "bin_end": 248.9,
            "bin_start": -1,
            "count": 7
           },
           {
            "bin_end": 498.8,
            "bin_start": 248.9,
            "count": 0
           },
           {
            "bin_end": 748.7,
            "bin_start": 498.8,
            "count": 0
           },
           {
            "bin_end": 998.6,
            "bin_start": 748.7,
            "count": 0
           },
           {
            "bin_end": 1248.5,
            "bin_start": 998.6,
            "count": 0
           },
           {
            "bin_end": 1498.4,
            "bin_start": 1248.5,
            "count": 0
           },
           {
            "bin_end": 1748.3,
            "bin_start": 1498.4,
            "count": 0
           },
           {
            "bin_end": 1998.2,
            "bin_start": 1748.3,
            "count": 0
           },
           {
            "bin_end": 2248.1,
            "bin_start": 1998.2,
            "count": 0
           },
           {
            "bin_end": 2498,
            "bin_start": 2248.1,
            "count": 1
           }
          ],
          "max": "2498.0",
          "min": "-1.0",
          "nan_count": 0,
          "unique_count": 8
         }
        },
        {
         "dtype": "float64",
         "name": "price_increased_count_yy",
         "stats": {
          "histogram": [
           {
            "bin_end": 248.9,
            "bin_start": -1,
            "count": 7
           },
           {
            "bin_end": 498.8,
            "bin_start": 248.9,
            "count": 0
           },
           {
            "bin_end": 748.7,
            "bin_start": 498.8,
            "count": 0
           },
           {
            "bin_end": 998.6,
            "bin_start": 748.7,
            "count": 0
           },
           {
            "bin_end": 1248.5,
            "bin_start": 998.6,
            "count": 0
           },
           {
            "bin_end": 1498.4,
            "bin_start": 1248.5,
            "count": 0
           },
           {
            "bin_end": 1748.3,
            "bin_start": 1498.4,
            "count": 0
           },
           {
            "bin_end": 1998.2,
            "bin_start": 1748.3,
            "count": 0
           },
           {
            "bin_end": 2248.1,
            "bin_start": 1998.2,
            "count": 0
           },
           {
            "bin_end": 2498,
            "bin_start": 2248.1,
            "count": 1
           }
          ],
          "max": "2498.0",
          "min": "-1.0",
          "nan_count": 0,
          "unique_count": 8
         }
        },
        {
         "dtype": "float64",
         "name": "price_reduced_count",
         "stats": {
          "histogram": [
           {
            "bin_end": 4868.4,
            "bin_start": 0,
            "count": 4
           },
           {
            "bin_end": 9736.8,
            "bin_start": 4868.4,
            "count": 3
           },
           {
            "bin_end": 14605.199999999999,
            "bin_start": 9736.8,
            "count": 0
           },
           {
            "bin_end": 19473.6,
            "bin_start": 14605.199999999999,
            "count": 0
           },
           {
            "bin_end": 24342,
            "bin_start": 19473.6,
            "count": 0
           },
           {
            "bin_end": 29210.399999999998,
            "bin_start": 24342,
            "count": 0
           },
           {
            "bin_end": 34078.799999999996,
            "bin_start": 29210.399999999998,
            "count": 0
           },
           {
            "bin_end": 38947.2,
            "bin_start": 34078.799999999996,
            "count": 0
           },
           {
            "bin_end": 43815.6,
            "bin_start": 38947.2,
            "count": 0
           },
           {
            "bin_end": 48684,
            "bin_start": 43815.6,
            "count": 1
           }
          ],
          "max": "48684.0",
          "min": "0.0",
          "nan_count": 0,
          "unique_count": 8
         }
        },
        {
         "dtype": "float64",
         "name": "price_reduced_count_mm",
         "stats": {
          "histogram": [
           {
            "bin_end": 249.22365,
            "bin_start": -0.7515,
            "count": 7
           },
           {
            "bin_end": 499.19879999999995,
            "bin_start": 249.22365,
            "count": 0
           },
           {
            "bin_end": 749.17395,
            "bin_start": 499.19879999999995,
            "count": 0
           },
           {
            "bin_end": 999.1491,
            "bin_start": 749.17395,
            "count": 0
           },
           {
            "bin_end": 1249.1242499999998,
            "bin_start": 999.1491,
            "count": 0
           },
           {
            "bin_end": 1499.0993999999998,
            "bin_start": 1249.1242499999998,
            "count": 0
           },
           {
            "bin_end": 1749.0745499999998,
            "bin_start": 1499.0993999999998,
            "count": 0
           },
           {
            "bin_end": 1999.0496999999998,
            "bin_start": 1749.0745499999998,
            "count": 0
           },
           {
            "bin_end": 2249.0248500000002,
            "bin_start": 1999.0496999999998,
            "count": 0
           },
           {
            "bin_end": 2499,
            "bin_start": 2249.0248500000002,
            "count": 1
           }
          ],
          "max": "2499.0",
          "min": "-0.7515",
          "nan_count": 0,
          "unique_count": 8
         }
        },
        {
         "dtype": "float64",
         "name": "price_reduced_count_yy",
         "stats": {
          "histogram": [
           {
            "bin_end": 249.14976000000001,
            "bin_start": -0.8336,
            "count": 7
           },
           {
            "bin_end": 499.13312,
            "bin_start": 249.14976000000001,
            "count": 0
           },
           {
            "bin_end": 749.11648,
            "bin_start": 499.13312,
            "count": 0
           },
           {
            "bin_end": 999.09984,
            "bin_start": 749.11648,
            "count": 0
           },
           {
            "bin_end": 1249.0832,
            "bin_start": 999.09984,
            "count": 0
           },
           {
            "bin_end": 1499.0665600000002,
            "bin_start": 1249.0832,
            "count": 0
           },
           {
            "bin_end": 1749.0499200000002,
            "bin_start": 1499.0665600000002,
            "count": 0
           },
           {
            "bin_end": 1999.03328,
            "bin_start": 1749.0499200000002,
            "count": 0
           },
           {
            "bin_end": 2249.0166400000003,
            "bin_start": 1999.03328,
            "count": 0
           },
           {
            "bin_end": 2499,
            "bin_start": 2249.0166400000003,
            "count": 1
           }
          ],
          "max": "2499.0",
          "min": "-0.8336",
          "nan_count": 0,
          "unique_count": 8
         }
        },
        {
         "dtype": "float64",
         "name": "pending_listing_count",
         "stats": {
          "histogram": [
           {
            "bin_end": 20694,
            "bin_start": 0,
            "count": 7
           },
           {
            "bin_end": 41388,
            "bin_start": 20694,
            "count": 0
           },
           {
            "bin_end": 62082,
            "bin_start": 41388,
            "count": 0
           },
           {
            "bin_end": 82776,
            "bin_start": 62082,
            "count": 0
           },
           {
            "bin_end": 103470,
            "bin_start": 82776,
            "count": 0
           },
           {
            "bin_end": 124164,
            "bin_start": 103470,
            "count": 0
           },
           {
            "bin_end": 144858,
            "bin_start": 124164,
            "count": 0
           },
           {
            "bin_end": 165552,
            "bin_start": 144858,
            "count": 0
           },
           {
            "bin_end": 186246,
            "bin_start": 165552,
            "count": 0
           },
           {
            "bin_end": 206940,
            "bin_start": 186246,
            "count": 1
           }
          ],
          "max": "206940.0",
          "min": "0.0",
          "nan_count": 0,
          "unique_count": 8
         }
        },
        {
         "dtype": "float64",
         "name": "pending_listing_count_mm",
         "stats": {
          "histogram": [
           {
            "bin_end": 246.6,
            "bin_start": -1,
            "count": 7
           },
           {
            "bin_end": 494.2,
            "bin_start": 246.6,
            "count": 0
           },
           {
            "bin_end": 741.8,
            "bin_start": 494.2,
            "count": 0
           },
           {
            "bin_end": 989.4,
            "bin_start": 741.8,
            "count": 0
           },
           {
            "bin_end": 1237,
            "bin_start": 989.4,
            "count": 0
           },
           {
            "bin_end": 1484.6,
            "bin_start": 1237,
            "count": 0
           },
           {
            "bin_end": 1732.2,
            "bin_start": 1484.6,
            "count": 0
           },
           {
            "bin_end": 1979.8,
            "bin_start": 1732.2,
            "count": 0
           },
           {
            "bin_end": 2227.4,
            "bin_start": 1979.8,
            "count": 0
           },
           {
            "bin_end": 2475,
            "bin_start": 2227.4,
            "count": 1
           }
          ],
          "max": "2475.0",
          "min": "-1.0",
          "nan_count": 0,
          "unique_count": 8
         }
        },
        {
         "dtype": "float64",
         "name": "pending_listing_count_yy",
         "stats": {
          "histogram": [
           {
            "bin_end": 246.1,
            "bin_start": -1,
            "count": 7
           },
           {
            "bin_end": 493.2,
            "bin_start": 246.1,
            "count": 0
           },
           {
            "bin_end": 740.3,
            "bin_start": 493.2,
            "count": 0
           },
           {
            "bin_end": 987.4,
            "bin_start": 740.3,
            "count": 0
           },
           {
            "bin_end": 1234.5,
            "bin_start": 987.4,
            "count": 0
           },
           {
            "bin_end": 1481.6,
            "bin_start": 1234.5,
            "count": 0
           },
           {
            "bin_end": 1728.7,
            "bin_start": 1481.6,
            "count": 0
           },
           {
            "bin_end": 1975.8,
            "bin_start": 1728.7,
            "count": 0
           },
           {
            "bin_end": 2222.9,
            "bin_start": 1975.8,
            "count": 0
           },
           {
            "bin_end": 2470,
            "bin_start": 2222.9,
            "count": 1
           }
          ],
          "max": "2470.0",
          "min": "-1.0",
          "nan_count": 0,
          "unique_count": 8
         }
        },
        {
         "dtype": "float64",
         "name": "median_listing_price_per_square_foot",
         "stats": {
          "histogram": [
           {
            "bin_end": 311.2,
            "bin_start": 0,
            "count": 6
           },
           {
            "bin_end": 622.4,
            "bin_start": 311.2,
            "count": 1
           },
           {
            "bin_end": 933.5999999999999,
            "bin_start": 622.4,
            "count": 0
           },
           {
            "bin_end": 1244.8,
            "bin_start": 933.5999999999999,
            "count": 0
           },
           {
            "bin_end": 1556,
            "bin_start": 1244.8,
            "count": 0
           },
           {
            "bin_end": 1867.1999999999998,
            "bin_start": 1556,
            "count": 0
           },
           {
            "bin_end": 2178.4,
            "bin_start": 1867.1999999999998,
            "count": 0
           },
           {
            "bin_end": 2489.6,
            "bin_start": 2178.4,
            "count": 0
           },
           {
            "bin_end": 2800.7999999999997,
            "bin_start": 2489.6,
            "count": 0
           },
           {
            "bin_end": 3112,
            "bin_start": 2800.7999999999997,
            "count": 1
           }
          ],
          "max": "3112.0",
          "min": "0.0",
          "nan_count": 0,
          "unique_count": 8
         }
        },
        {
         "dtype": "float64",
         "name": "median_listing_price_per_square_foot_mm",
         "stats": {
          "histogram": [
           {
            "bin_end": 247.6,
            "bin_start": -1,
            "count": 7
           },
           {
            "bin_end": 496.2,
            "bin_start": 247.6,
            "count": 0
           },
           {
            "bin_end": 744.8,
            "bin_start": 496.2,
            "count": 0
           },
           {
            "bin_end": 993.4,
            "bin_start": 744.8,
            "count": 0
           },
           {
            "bin_end": 1242,
            "bin_start": 993.4,
            "count": 0
           },
           {
            "bin_end": 1490.6,
            "bin_start": 1242,
            "count": 0
           },
           {
            "bin_end": 1739.2,
            "bin_start": 1490.6,
            "count": 0
           },
           {
            "bin_end": 1987.8,
            "bin_start": 1739.2,
            "count": 0
           },
           {
            "bin_end": 2236.4,
            "bin_start": 1987.8,
            "count": 0
           },
           {
            "bin_end": 2485,
            "bin_start": 2236.4,
            "count": 1
           }
          ],
          "max": "2485.0",
          "min": "-1.0",
          "nan_count": 0,
          "unique_count": 8
         }
        },
        {
         "dtype": "float64",
         "name": "median_listing_price_per_square_foot_yy",
         "stats": {
          "histogram": [
           {
            "bin_end": 247.6,
            "bin_start": -1,
            "count": 7
           },
           {
            "bin_end": 496.2,
            "bin_start": 247.6,
            "count": 0
           },
           {
            "bin_end": 744.8,
            "bin_start": 496.2,
            "count": 0
           },
           {
            "bin_end": 993.4,
            "bin_start": 744.8,
            "count": 0
           },
           {
            "bin_end": 1242,
            "bin_start": 993.4,
            "count": 0
           },
           {
            "bin_end": 1490.6,
            "bin_start": 1242,
            "count": 0
           },
           {
            "bin_end": 1739.2,
            "bin_start": 1490.6,
            "count": 0
           },
           {
            "bin_end": 1987.8,
            "bin_start": 1739.2,
            "count": 0
           },
           {
            "bin_end": 2236.4,
            "bin_start": 1987.8,
            "count": 0
           },
           {
            "bin_end": 2485,
            "bin_start": 2236.4,
            "count": 1
           }
          ],
          "max": "2485.0",
          "min": "-1.0",
          "nan_count": 0,
          "unique_count": 8
         }
        },
        {
         "dtype": "float64",
         "name": "median_square_feet",
         "stats": {
          "histogram": [
           {
            "bin_end": 311.2,
            "bin_start": 0,
            "count": 1
           },
           {
            "bin_end": 622.4,
            "bin_start": 311.2,
            "count": 1
           },
           {
            "bin_end": 933.5999999999999,
            "bin_start": 622.4,
            "count": 0
           },
           {
            "bin_end": 1244.8,
            "bin_start": 933.5999999999999,
            "count": 0
           },
           {
            "bin_end": 1556,
            "bin_start": 1244.8,
            "count": 0
           },
           {
            "bin_end": 1867.1999999999998,
            "bin_start": 1556,
            "count": 2
           },
           {
            "bin_end": 2178.4,
            "bin_start": 1867.1999999999998,
            "count": 2
           },
           {
            "bin_end": 2489.6,
            "bin_start": 2178.4,
            "count": 0
           },
           {
            "bin_end": 2800.7999999999997,
            "bin_start": 2489.6,
            "count": 0
           },
           {
            "bin_end": 3112,
            "bin_start": 2800.7999999999997,
            "count": 2
           }
          ],
          "max": "3112.0",
          "min": "0.0",
          "nan_count": 0,
          "unique_count": 8
         }
        },
        {
         "dtype": "float64",
         "name": "median_square_feet_mm",
         "stats": {
          "histogram": [
           {
            "bin_end": 247.6,
            "bin_start": -1,
            "count": 7
           },
           {
            "bin_end": 496.2,
            "bin_start": 247.6,
            "count": 0
           },
           {
            "bin_end": 744.8,
            "bin_start": 496.2,
            "count": 0
           },
           {
            "bin_end": 993.4,
            "bin_start": 744.8,
            "count": 0
           },
           {
            "bin_end": 1242,
            "bin_start": 993.4,
            "count": 0
           },
           {
            "bin_end": 1490.6,
            "bin_start": 1242,
            "count": 0
           },
           {
            "bin_end": 1739.2,
            "bin_start": 1490.6,
            "count": 0
           },
           {
            "bin_end": 1987.8,
            "bin_start": 1739.2,
            "count": 0
           },
           {
            "bin_end": 2236.4,
            "bin_start": 1987.8,
            "count": 0
           },
           {
            "bin_end": 2485,
            "bin_start": 2236.4,
            "count": 1
           }
          ],
          "max": "2485.0",
          "min": "-1.0",
          "nan_count": 0,
          "unique_count": 8
         }
        },
        {
         "dtype": "float64",
         "name": "median_square_feet_yy",
         "stats": {
          "histogram": [
           {
            "bin_end": 247.6,
            "bin_start": -1,
            "count": 7
           },
           {
            "bin_end": 496.2,
            "bin_start": 247.6,
            "count": 0
           },
           {
            "bin_end": 744.8,
            "bin_start": 496.2,
            "count": 0
           },
           {
            "bin_end": 993.4,
            "bin_start": 744.8,
            "count": 0
           },
           {
            "bin_end": 1242,
            "bin_start": 993.4,
            "count": 0
           },
           {
            "bin_end": 1490.6,
            "bin_start": 1242,
            "count": 0
           },
           {
            "bin_end": 1739.2,
            "bin_start": 1490.6,
            "count": 0
           },
           {
            "bin_end": 1987.8,
            "bin_start": 1739.2,
            "count": 0
           },
           {
            "bin_end": 2236.4,
            "bin_start": 1987.8,
            "count": 0
           },
           {
            "bin_end": 2485,
            "bin_start": 2236.4,
            "count": 1
           }
          ],
          "max": "2485.0",
          "min": "-1.0",
          "nan_count": 0,
          "unique_count": 8
         }
        },
        {
         "dtype": "float64",
         "name": "average_listing_price",
         "stats": {
          "histogram": [
           {
            "bin_end": 197111.3209,
            "bin_start": 3112,
            "count": 1
           },
           {
            "bin_end": 391110.6418,
            "bin_start": 197111.3209,
            "count": 3
           },
           {
            "bin_end": 585109.9627,
            "bin_start": 391110.6418,
            "count": 2
           },
           {
            "bin_end": 779109.2836,
            "bin_start": 585109.9627,
            "count": 1
           },
           {
            "bin_end": 973108.6044999999,
            "bin_start": 779109.2836,
            "count": 0
           },
           {
            "bin_end": 1167107.9254,
            "bin_start": 973108.6044999999,
            "count": 0
           },
           {
            "bin_end": 1361107.2463,
            "bin_start": 1167107.9254,
            "count": 0
           },
           {
            "bin_end": 1555106.5672,
            "bin_start": 1361107.2463,
            "count": 0
           },
           {
            "bin_end": 1749105.8880999999,
            "bin_start": 1555106.5672,
            "count": 0
           },
           {
            "bin_end": 1943105.209,
            "bin_start": 1749105.8880999999,
            "count": 1
           }
          ],
          "max": "1943105.209",
          "min": "3112.0",
          "nan_count": 0,
          "unique_count": 8
         }
        },
        {
         "dtype": "float64",
         "name": "average_listing_price_mm",
         "stats": {
          "histogram": [
           {
            "bin_end": 249.79199999999997,
            "bin_start": -0.12,
            "count": 7
           },
           {
            "bin_end": 499.70399999999995,
            "bin_start": 249.79199999999997,
            "count": 0
           },
           {
            "bin_end": 749.6159999999999,
            "bin_start": 499.70399999999995,
            "count": 0
           },
           {
            "bin_end": 999.5279999999999,
            "bin_start": 749.6159999999999,
            "count": 0
           },
           {
            "bin_end": 1249.44,
            "bin_start": 999.5279999999999,
            "count": 0
           },
           {
            "bin_end": 1499.3519999999999,
            "bin_start": 1249.44,
            "count": 0
           },
           {
            "bin_end": 1749.264,
            "bin_start": 1499.3519999999999,
            "count": 0
           },
           {
            "bin_end": 1999.176,
            "bin_start": 1749.264,
            "count": 0
           },
           {
            "bin_end": 2249.0879999999997,
            "bin_start": 1999.176,
            "count": 0
           },
           {
            "bin_end": 2499,
            "bin_start": 2249.0879999999997,
            "count": 1
           }
          ],
          "max": "2499.0",
          "min": "-0.12",
          "nan_count": 0,
          "unique_count": 8
         }
        },
        {
         "dtype": "float64",
         "name": "average_listing_price_yy",
         "stats": {
          "histogram": [
           {
            "bin_end": 249.7047,
            "bin_start": -0.217,
            "count": 7
           },
           {
            "bin_end": 499.62640000000005,
            "bin_start": 249.7047,
            "count": 0
           },
           {
            "bin_end": 749.5481000000001,
            "bin_start": 499.62640000000005,
            "count": 0
           },
           {
            "bin_end": 999.4698000000001,
            "bin_start": 749.5481000000001,
            "count": 0
           },
           {
            "bin_end": 1249.3915,
            "bin_start": 999.4698000000001,
            "count": 0
           },
           {
            "bin_end": 1499.3132,
            "bin_start": 1249.3915,
            "count": 0
           },
           {
            "bin_end": 1749.2349,
            "bin_start": 1499.3132,
            "count": 0
           },
           {
            "bin_end": 1999.1566,
            "bin_start": 1749.2349,
            "count": 0
           },
           {
            "bin_end": 2249.0783,
            "bin_start": 1999.1566,
            "count": 0
           },
           {
            "bin_end": 2499,
            "bin_start": 2249.0783,
            "count": 1
           }
          ],
          "max": "2499.0",
          "min": "-0.217",
          "nan_count": 0,
          "unique_count": 8
         }
        },
        {
         "dtype": "float64",
         "name": "total_listing_count",
         "stats": {
          "histogram": [
           {
            "bin_end": 35140,
            "bin_start": 1,
            "count": 5
           },
           {
            "bin_end": 70279,
            "bin_start": 35140,
            "count": 2
           },
           {
            "bin_end": 105418,
            "bin_start": 70279,
            "count": 0
           },
           {
            "bin_end": 140557,
            "bin_start": 105418,
            "count": 0
           },
           {
            "bin_end": 175696,
            "bin_start": 140557,
            "count": 0
           },
           {
            "bin_end": 210835,
            "bin_start": 175696,
            "count": 0
           },
           {
            "bin_end": 245974,
            "bin_start": 210835,
            "count": 0
           },
           {
            "bin_end": 281113,
            "bin_start": 245974,
            "count": 0
           },
           {
            "bin_end": 316252,
            "bin_start": 281113,
            "count": 0
           },
           {
            "bin_end": 351391,
            "bin_start": 316252,
            "count": 1
           }
          ],
          "max": "351391.0",
          "min": "1.0",
          "nan_count": 0,
          "unique_count": 8
         }
        },
        {
         "dtype": "float64",
         "name": "total_listing_count_mm",
         "stats": {
          "histogram": [
           {
            "bin_end": 249.58292999999998,
            "bin_start": -0.3523,
            "count": 7
           },
           {
            "bin_end": 499.51815999999997,
            "bin_start": 249.58292999999998,
            "count": 0
           },
           {
            "bin_end": 749.4533899999999,
            "bin_start": 499.51815999999997,
            "count": 0
           },
           {
            "bin_end": 999.38862,
            "bin_start": 749.4533899999999,
            "count": 0
           },
           {
            "bin_end": 1249.32385,
            "bin_start": 999.38862,
            "count": 0
           },
           {
            "bin_end": 1499.2590799999998,
            "bin_start": 1249.32385,
            "count": 0
           },
           {
            "bin_end": 1749.1943099999999,
            "bin_start": 1499.2590799999998,
            "count": 0
           },
           {
            "bin_end": 1999.12954,
            "bin_start": 1749.1943099999999,
            "count": 0
           },
           {
            "bin_end": 2249.06477,
            "bin_start": 1999.12954,
            "count": 0
           },
           {
            "bin_end": 2499,
            "bin_start": 2249.06477,
            "count": 1
           }
          ],
          "max": "2499.0",
          "min": "-0.3523",
          "nan_count": 0,
          "unique_count": 8
         }
        },
        {
         "dtype": "float64",
         "name": "total_listing_count_yy",
         "stats": {
          "histogram": [
           {
            "bin_end": 249.41183999999998,
            "bin_start": -0.5424,
            "count": 7
           },
           {
            "bin_end": 499.36607999999995,
            "bin_start": 249.41183999999998,
            "count": 0
           },
           {
            "bin_end": 749.3203199999998,
            "bin_start": 499.36607999999995,
            "count": 0
           },
           {
            "bin_end": 999.2745599999998,
            "bin_start": 749.3203199999998,
            "count": 0
           },
           {
            "bin_end": 1249.2287999999999,
            "bin_start": 999.2745599999998,
            "count": 0
           },
           {
            "bin_end": 1499.1830399999997,
            "bin_start": 1249.2287999999999,
            "count": 0
           },
           {
            "bin_end": 1749.1372799999997,
            "bin_start": 1499.1830399999997,
            "count": 0
           },
           {
            "bin_end": 1999.0915199999997,
            "bin_start": 1749.1372799999997,
            "count": 0
           },
           {
            "bin_end": 2249.04576,
            "bin_start": 1999.0915199999997,
            "count": 0
           },
           {
            "bin_end": 2499,
            "bin_start": 2249.04576,
            "count": 1
           }
          ],
          "max": "2499.0",
          "min": "-0.5424",
          "nan_count": 0,
          "unique_count": 8
         }
        },
        {
         "dtype": "float64",
         "name": "pending_ratio",
         "stats": {
          "histogram": [
           {
            "bin_end": 311.2,
            "bin_start": 0,
            "count": 7
           },
           {
            "bin_end": 622.4,
            "bin_start": 311.2,
            "count": 0
           },
           {
            "bin_end": 933.5999999999999,
            "bin_start": 622.4,
            "count": 0
           },
           {
            "bin_end": 1244.8,
            "bin_start": 933.5999999999999,
            "count": 0
           },
           {
            "bin_end": 1556,
            "bin_start": 1244.8,
            "count": 0
           },
           {
            "bin_end": 1867.1999999999998,
            "bin_start": 1556,
            "count": 0
           },
           {
            "bin_end": 2178.4,
            "bin_start": 1867.1999999999998,
            "count": 0
           },
           {
            "bin_end": 2489.6,
            "bin_start": 2178.4,
            "count": 0
           },
           {
            "bin_end": 2800.7999999999997,
            "bin_start": 2489.6,
            "count": 0
           },
           {
            "bin_end": 3112,
            "bin_start": 2800.7999999999997,
            "count": 1
           }
          ],
          "max": "3112.0",
          "min": "0.0",
          "nan_count": 0,
          "unique_count": 8
         }
        },
        {
         "dtype": "float64",
         "name": "pending_ratio_mm",
         "stats": {
          "histogram": [
           {
            "bin_end": 249.2475,
            "bin_start": -0.725,
            "count": 7
           },
           {
            "bin_end": 499.21999999999997,
            "bin_start": 249.2475,
            "count": 0
           },
           {
            "bin_end": 749.1925,
            "bin_start": 499.21999999999997,
            "count": 0
           },
           {
            "bin_end": 999.165,
            "bin_start": 749.1925,
            "count": 0
           },
           {
            "bin_end": 1249.1375,
            "bin_start": 999.165,
            "count": 0
           },
           {
            "bin_end": 1499.1100000000001,
            "bin_start": 1249.1375,
            "count": 0
           },
           {
            "bin_end": 1749.0825,
            "bin_start": 1499.1100000000001,
            "count": 0
           },
           {
            "bin_end": 1999.055,
            "bin_start": 1749.0825,
            "count": 0
           },
           {
            "bin_end": 2249.0275,
            "bin_start": 1999.055,
            "count": 0
           },
           {
            "bin_end": 2499,
            "bin_start": 2249.0275,
            "count": 1
           }
          ],
          "max": "2499.0",
          "min": "-0.725",
          "nan_count": 0,
          "unique_count": 8
         }
        },
        {
         "dtype": "float64",
         "name": "pending_ratio_yy",
         "stats": {
          "histogram": [
           {
            "bin_end": 249.13878,
            "bin_start": -0.8458,
            "count": 7
           },
           {
            "bin_end": 499.12336,
            "bin_start": 249.13878,
            "count": 0
           },
           {
            "bin_end": 749.1079399999999,
            "bin_start": 499.12336,
            "count": 0
           },
           {
            "bin_end": 999.0925199999999,
            "bin_start": 749.1079399999999,
            "count": 0
           },
           {
            "bin_end": 1249.0771,
            "bin_start": 999.0925199999999,
            "count": 0
           },
           {
            "bin_end": 1499.0616799999998,
            "bin_start": 1249.0771,
            "count": 0
           },
           {
            "bin_end": 1749.0462599999998,
            "bin_start": 1499.0616799999998,
            "count": 0
           },
           {
            "bin_end": 1999.03084,
            "bin_start": 1749.0462599999998,
            "count": 0
           },
           {
            "bin_end": 2249.0154199999997,
            "bin_start": 1999.03084,
            "count": 0
           },
           {
            "bin_end": 2499,
            "bin_start": 2249.0154199999997,
            "count": 1
           }
          ],
          "max": "2499.0",
          "min": "-0.8458",
          "nan_count": 0,
          "unique_count": 8
         }
        },
        {
         "dtype": "object",
         "name": "_deepnote_index_column"
        }
       ],
       "row_count": 8,
       "rows": [
        {
         "_deepnote_index_column": "count",
         "active_listing_count": 3112,
         "active_listing_count_mm": 2499,
         "active_listing_count_yy": 2499,
         "average_listing_price": 3112,
         "average_listing_price_mm": 2499,
         "average_listing_price_yy": 2499,
         "median_days_on_market": 3112,
         "median_days_on_market_mm": 2499,
         "median_days_on_market_yy": 2499,
         "median_listing_price": 3112,
         "median_listing_price_mm": 2499,
         "median_listing_price_per_square_foot": 3112,
         "median_listing_price_per_square_foot_mm": 2485,
         "median_listing_price_per_square_foot_yy": 2485,
         "median_listing_price_yy": 2499,
         "median_square_feet": 3112,
         "median_square_feet_mm": 2485,
         "median_square_feet_yy": 2485,
         "month_date_yyyymm": 3112,
         "new_listing_count": 3112,
         "new_listing_count_mm": 2499,
         "new_listing_count_yy": 2499,
         "pending_listing_count": 3112,
         "pending_listing_count_mm": 2475,
         "pending_listing_count_yy": 2470,
         "pending_ratio": 3112,
         "pending_ratio_mm": 2499,
         "pending_ratio_yy": 2499,
         "price_increased_count": 3112,
         "price_increased_count_mm": 2498,
         "price_increased_count_yy": 2498,
         "price_reduced_count": 3112,
         "price_reduced_count_mm": 2499,
         "price_reduced_count_yy": 2499,
         "total_listing_count": 3112,
         "total_listing_count_mm": 2499,
         "total_listing_count_yy": 2499
        },
        {
         "_deepnote_index_column": "mean",
         "active_listing_count": 22597.419023136248,
         "active_listing_count_mm": -0.01478375350140056,
         "active_listing_count_yy": -0.16077927170868345,
         "average_listing_price": 491380.86526687024,
         "average_listing_price_mm": 0.006064305722288916,
         "average_listing_price_yy": 0.08073209283713485,
         "median_days_on_market": 71.33306555269922,
         "median_days_on_market_mm": -0.0021816233833533427,
         "median_days_on_market_yy": -0.0824854561572629,
         "median_listing_price": 309722.63941442803,
         "median_listing_price_mm": 0.005469947979191676,
         "median_listing_price_per_square_foot": 156.0982723857905,
         "median_listing_price_per_square_foot_mm": 0.005531629778672032,
         "median_listing_price_per_square_foot_yy": 0.08447150905432596,
         "median_listing_price_yy": 0.06957551020408163,
         "median_square_feet": 1843.0033510834191,
         "median_square_feet_mm": -0.002580482897384306,
         "median_square_feet_yy": -0.0003092957746478856,
         "month_date_yyyymm": 201860.61953727505,
         "new_listing_count": 8072.726221079692,
         "new_listing_count_mm": 0.017043977591036416,
         "new_listing_count_yy": -0.03315226090436174,
         "pending_listing_count": 9642.690231362469,
         "pending_listing_count_mm": 0.11372084848484848,
         "pending_listing_count_yy": 0.6422082186234818,
         "pending_ratio": 0.4745123053814268,
         "pending_ratio_mm": 0.03242100840336134,
         "pending_ratio_yy": 0.2319297719087635,
         "price_increased_count": 545.9100257069409,
         "price_increased_count_mm": 0.05541004803843074,
         "price_increased_count_yy": 0.16058034427542034,
         "price_reduced_count": 5263.944730077121,
         "price_reduced_count_mm": 0.01156294517807123,
         "price_reduced_count_yy": -0.13378259303721488,
         "total_listing_count": 32240.109254498715,
         "total_listing_count_mm": 0.004922649059623848,
         "total_listing_count_yy": -0.05604401760704282
        },
        {
         "_deepnote_index_column": "std",
         "active_listing_count": 25743.07528275694,
         "active_listing_count_mm": 0.07172967277858167,
         "active_listing_count_yy": 0.20800282120541858,
         "average_listing_price": 265702.1500709878,
         "average_listing_price_mm": 0.02430988372628713,
         "average_listing_price_yy": 0.0932080655589954,
         "median_days_on_market": 24.38959094436606,
         "median_days_on_market_mm": 0.12513838193262586,
         "median_days_on_market_yy": 0.15984903542945805,
         "median_listing_price": 121770.82251829743,
         "median_listing_price_mm": 0.021269550824385357,
         "median_listing_price_per_square_foot": 89.70021186881752,
         "median_listing_price_per_square_foot_mm": 0.0695812445632266,
         "median_listing_price_per_square_foot_yy": 0.2105590192724048,
         "median_listing_price_yy": 0.058155165300174914,
         "median_square_feet": 330.8912907934423,
         "median_square_feet_mm": 0.06555140594238049,
         "median_square_feet_yy": 0.14245988447873842,
         "month_date_yyyymm": 151.19570098872342,
         "new_listing_count": 9087.651461873484,
         "new_listing_count_mm": 0.21366852154780647,
         "new_listing_count_yy": 0.17312652672914164,
         "pending_listing_count": 14477.86220195261,
         "pending_listing_count_mm": 1.1090127972681536,
         "pending_listing_count_yy": 2.4390925961408008,
         "pending_ratio": 0.48195228777947896,
         "pending_ratio_mm": 0.15745345212631168,
         "pending_ratio_yy": 0.41362149541236576,
         "price_increased_count": 856.3290926302739,
         "price_increased_count_mm": 0.5279337709665389,
         "price_increased_count_yy": 0.64503635894979,
         "price_reduced_count": 6737.408550549311,
         "price_reduced_count_mm": 0.22571796132772012,
         "price_reduced_count_yy": 0.2993078466776056,
         "total_listing_count": 37712.46502019381,
         "total_listing_count_mm": 0.09892080798409944,
         "total_listing_count_yy": 0.2019762070289219
        },
        {
         "_deepnote_index_column": "min",
         "active_listing_count": 1,
         "active_listing_count_mm": -0.3602,
         "active_listing_count_yy": -0.7126,
         "average_listing_price": 207765.653,
         "average_listing_price_mm": -0.12,
         "average_listing_price_yy": -0.217,
         "median_days_on_market": 7,
         "median_days_on_market_mm": -0.508064516,
         "median_days_on_market_yy": -0.712962963,
         "median_listing_price": 134250,
         "median_listing_price_mm": -0.1049,
         "median_listing_price_per_square_foot": 0,
         "median_listing_price_per_square_foot_mm": -1,
         "median_listing_price_per_square_foot_yy": -1,
         "median_listing_price_yy": -0.2278,
         "median_square_feet": 0,
         "median_square_feet_mm": -1,
         "median_square_feet_yy": -1,
         "month_date_yyyymm": 201607,
         "new_listing_count": 0,
         "new_listing_count_mm": -0.6821,
         "new_listing_count_yy": -0.7755,
         "pending_listing_count": 0,
         "pending_listing_count_mm": -1,
         "pending_listing_count_yy": -1,
         "pending_ratio": 0,
         "pending_ratio_mm": -0.725,
         "pending_ratio_yy": -0.8458,
         "price_increased_count": 0,
         "price_increased_count_mm": -1,
         "price_increased_count_yy": -1,
         "price_reduced_count": 0,
         "price_reduced_count_mm": -0.7515,
         "price_reduced_count_yy": -0.8336,
         "total_listing_count": 1,
         "total_listing_count_mm": -0.3523,
         "total_listing_count_yy": -0.5424
        },
        {
         "_deepnote_index_column": "25%",
         "active_listing_count": 6272.75,
         "active_listing_count_mm": -0.06035,
         "active_listing_count_yy": -0.29545,
         "average_listing_price": 296686.46295,
         "average_listing_price_mm": -0.0068,
         "average_listing_price_yy": 0.0299,
         "median_days_on_market": 55,
         "median_days_on_market_mm": -0.063074141,
         "median_days_on_market_yy": -0.1385376995,
         "median_listing_price": 224900,
         "median_listing_price_mm": -0.0059,
         "median_listing_price_per_square_foot": 108.4304653,
         "median_listing_price_per_square_foot_mm": -0.0016,
         "median_listing_price_per_square_foot_yy": 0.0393,
         "median_listing_price_yy": 0.0351,
         "median_square_feet": 1700,
         "median_square_feet_mm": -0.0076,
         "median_square_feet_yy": -0.0221,
         "month_date_yyyymm": 201710,
         "new_listing_count": 1980,
         "new_listing_count_mm": -0.1,
         "new_listing_count_yy": -0.11455,
         "pending_listing_count": 1511.5,
         "pending_listing_count_mm": -0.06615,
         "pending_listing_count_yy": -0.027049999999999998,
         "pending_ratio": 0.15869407549999998,
         "pending_ratio_mm": -0.016,
         "pending_ratio_yy": 0.0058,
         "price_increased_count": 96,
         "price_increased_count_mm": -0.152425,
         "price_increased_count_yy": -0.191075,
         "price_reduced_count": 1100,
         "price_reduced_count_mm": -0.10285,
         "price_reduced_count_yy": -0.37639999999999996,
         "total_listing_count": 9002.5,
         "total_listing_count_mm": -0.0396,
         "total_listing_count_yy": -0.1652
        },
        {
         "_deepnote_index_column": "50%",
         "active_listing_count": 13807,
         "active_listing_count_mm": -0.0126,
         "active_listing_count_yy": -0.1163,
         "average_listing_price": 398073.60345,
         "average_listing_price_mm": 0.0027,
         "average_listing_price_yy": 0.0608,
         "median_days_on_market": 68.5,
         "median_days_on_market_mm": 0.02247191,
         "median_days_on_market_yy": -0.064377682,
         "median_listing_price": 281125,
         "median_listing_price_mm": 0.0003,
         "median_listing_price_per_square_foot": 131.38714425,
         "median_listing_price_per_square_foot_mm": 0.0046,
         "median_listing_price_per_square_foot_yy": 0.0669,
         "median_listing_price_yy": 0.0644,
         "median_square_feet": 1890,
         "median_square_feet_mm": -0.0015,
         "median_square_feet_yy": 0.0018,
         "month_date_yyyymm": 201901,
         "new_listing_count": 4994,
         "new_listing_count_mm": -0.0076,
         "new_listing_count_yy": -0.0282,
         "pending_listing_count": 4456.5,
         "pending_listing_count_mm": -0.009,
         "pending_listing_count_yy": 0.13240000000000002,
         "pending_ratio": 0.3174572365,
         "pending_ratio_mm": 0.0011,
         "pending_ratio_yy": 0.0609,
         "price_increased_count": 252,
         "price_increased_count_mm": 0,
         "price_increased_count_yy": 0,
         "price_reduced_count": 2952,
         "price_reduced_count_mm": 0.0132,
         "price_reduced_count_yy": -0.076,
         "total_listing_count": 20082,
         "total_listing_count_mm": 0.0012,
         "total_listing_count_yy": -0.0696
        },
        {
         "_deepnote_index_column": "75%",
         "active_listing_count": 27267,
         "active_listing_count_mm": 0.026750000000000003,
         "active_listing_count_yy": -0.027749999999999997,
         "average_listing_price": 595859.984675,
         "average_listing_price_mm": 0.0171,
         "average_listing_price_yy": 0.1081,
         "median_days_on_market": 85,
         "median_days_on_market_mm": 0.080645161,
         "median_days_on_market_yy": -0.0104714915,
         "median_listing_price": 355082,
         "median_listing_price_mm": 0.0165,
         "median_listing_price_per_square_foot": 172.01692094999999,
         "median_listing_price_per_square_foot_mm": 0.0142,
         "median_listing_price_per_square_foot_yy": 0.1063,
         "median_listing_price_yy": 0.09784999999999999,
         "median_square_feet": 2012.25,
         "median_square_feet_mm": 0.0054,
         "median_square_feet_yy": 0.0233,
         "month_date_yyyymm": 202004,
         "new_listing_count": 10097,
         "new_listing_count_mm": 0.116,
         "new_listing_count_yy": 0.0469,
         "pending_listing_count": 11365.75,
         "pending_listing_count_mm": 0.11165,
         "pending_listing_count_yy": 0.46245,
         "pending_ratio": 0.6052595197499999,
         "pending_ratio_mm": 0.043399999999999994,
         "pending_ratio_yy": 0.3466,
         "price_increased_count": 592,
         "price_increased_count_mm": 0.179875,
         "price_increased_count_yy": 0.29374999999999996,
         "price_reduced_count": 6644,
         "price_reduced_count_mm": 0.13935,
         "price_reduced_count_yy": 0.046,
         "total_listing_count": 38034.25,
         "total_listing_count_mm": 0.0422,
         "total_listing_count_yy": 0.016050000000000002
        },
        {
         "_deepnote_index_column": "max",
         "active_listing_count": 164441,
         "active_listing_count_mm": 0.2933,
         "active_listing_count_yy": 0.8447,
         "average_listing_price": 1943105.209,
         "average_listing_price_mm": 0.3005,
         "average_listing_price_yy": 0.7951,
         "median_days_on_market": 210,
         "median_days_on_market_mm": 0.347826087,
         "median_days_on_market_yy": 0.878787879,
         "median_listing_price": 808908,
         "median_listing_price_mm": 0.2364,
         "median_listing_price_per_square_foot": 595.7446809,
         "median_listing_price_per_square_foot_mm": 1.3966,
         "median_listing_price_per_square_foot_yy": 6,
         "median_listing_price_yy": 0.378,
         "median_square_feet": 2807,
         "median_square_feet_mm": 1.36,
         "median_square_feet_yy": 3,
         "month_date_yyyymm": 202107,
         "new_listing_count": 51300,
         "new_listing_count_mm": 2.4279,
         "new_listing_count_yy": 2.3264,
         "pending_listing_count": 206940,
         "pending_listing_count_mm": 48.3772,
         "pending_listing_count_yy": 61.7176,
         "pending_ratio": 3.903721298,
         "pending_ratio_mm": 2.4034,
         "pending_ratio_yy": 3.1826,
         "price_increased_count": 7416,
         "price_increased_count_mm": 18.5,
         "price_increased_count_yy": 8.6667,
         "price_reduced_count": 48684,
         "price_reduced_count_mm": 2.6841,
         "price_reduced_count_yy": 1.8962,
         "total_listing_count": 351391,
         "total_listing_count_mm": 0.9696,
         "total_listing_count_yy": 1.7707
        }
       ]
      },
      "text/html": [
       "<div>\n",
       "<style scoped>\n",
       "    .dataframe tbody tr th:only-of-type {\n",
       "        vertical-align: middle;\n",
       "    }\n",
       "\n",
       "    .dataframe tbody tr th {\n",
       "        vertical-align: top;\n",
       "    }\n",
       "\n",
       "    .dataframe thead th {\n",
       "        text-align: right;\n",
       "    }\n",
       "</style>\n",
       "<table border=\"1\" class=\"dataframe\">\n",
       "  <thead>\n",
       "    <tr style=\"text-align: right;\">\n",
       "      <th></th>\n",
       "      <th>month_date_yyyymm</th>\n",
       "      <th>median_listing_price</th>\n",
       "      <th>median_listing_price_mm</th>\n",
       "      <th>median_listing_price_yy</th>\n",
       "      <th>active_listing_count</th>\n",
       "      <th>active_listing_count_mm</th>\n",
       "      <th>active_listing_count_yy</th>\n",
       "      <th>median_days_on_market</th>\n",
       "      <th>median_days_on_market_mm</th>\n",
       "      <th>median_days_on_market_yy</th>\n",
       "      <th>...</th>\n",
       "      <th>median_square_feet_yy</th>\n",
       "      <th>average_listing_price</th>\n",
       "      <th>average_listing_price_mm</th>\n",
       "      <th>average_listing_price_yy</th>\n",
       "      <th>total_listing_count</th>\n",
       "      <th>total_listing_count_mm</th>\n",
       "      <th>total_listing_count_yy</th>\n",
       "      <th>pending_ratio</th>\n",
       "      <th>pending_ratio_mm</th>\n",
       "      <th>pending_ratio_yy</th>\n",
       "    </tr>\n",
       "  </thead>\n",
       "  <tbody>\n",
       "    <tr>\n",
       "      <th>count</th>\n",
       "      <td>3112.000000</td>\n",
       "      <td>3112.000000</td>\n",
       "      <td>2499.00000</td>\n",
       "      <td>2499.000000</td>\n",
       "      <td>3112.000000</td>\n",
       "      <td>2499.000000</td>\n",
       "      <td>2499.000000</td>\n",
       "      <td>3112.000000</td>\n",
       "      <td>2499.000000</td>\n",
       "      <td>2499.000000</td>\n",
       "      <td>...</td>\n",
       "      <td>2485.000000</td>\n",
       "      <td>3.112000e+03</td>\n",
       "      <td>2499.000000</td>\n",
       "      <td>2499.000000</td>\n",
       "      <td>3112.000000</td>\n",
       "      <td>2499.000000</td>\n",
       "      <td>2499.000000</td>\n",
       "      <td>3112.000000</td>\n",
       "      <td>2499.000000</td>\n",
       "      <td>2499.000000</td>\n",
       "    </tr>\n",
       "    <tr>\n",
       "      <th>mean</th>\n",
       "      <td>201860.619537</td>\n",
       "      <td>309722.639414</td>\n",
       "      <td>0.00547</td>\n",
       "      <td>0.069576</td>\n",
       "      <td>22597.419023</td>\n",
       "      <td>-0.014784</td>\n",
       "      <td>-0.160779</td>\n",
       "      <td>71.333066</td>\n",
       "      <td>-0.002182</td>\n",
       "      <td>-0.082485</td>\n",
       "      <td>...</td>\n",
       "      <td>-0.000309</td>\n",
       "      <td>4.913809e+05</td>\n",
       "      <td>0.006064</td>\n",
       "      <td>0.080732</td>\n",
       "      <td>32240.109254</td>\n",
       "      <td>0.004923</td>\n",
       "      <td>-0.056044</td>\n",
       "      <td>0.474512</td>\n",
       "      <td>0.032421</td>\n",
       "      <td>0.231930</td>\n",
       "    </tr>\n",
       "    <tr>\n",
       "      <th>std</th>\n",
       "      <td>151.195701</td>\n",
       "      <td>121770.822518</td>\n",
       "      <td>0.02127</td>\n",
       "      <td>0.058155</td>\n",
       "      <td>25743.075283</td>\n",
       "      <td>0.071730</td>\n",
       "      <td>0.208003</td>\n",
       "      <td>24.389591</td>\n",
       "      <td>0.125138</td>\n",
       "      <td>0.159849</td>\n",
       "      <td>...</td>\n",
       "      <td>0.142460</td>\n",
       "      <td>2.657022e+05</td>\n",
       "      <td>0.024310</td>\n",
       "      <td>0.093208</td>\n",
       "      <td>37712.465020</td>\n",
       "      <td>0.098921</td>\n",
       "      <td>0.201976</td>\n",
       "      <td>0.481952</td>\n",
       "      <td>0.157453</td>\n",
       "      <td>0.413621</td>\n",
       "    </tr>\n",
       "    <tr>\n",
       "      <th>min</th>\n",
       "      <td>201607.000000</td>\n",
       "      <td>134250.000000</td>\n",
       "      <td>-0.10490</td>\n",
       "      <td>-0.227800</td>\n",
       "      <td>1.000000</td>\n",
       "      <td>-0.360200</td>\n",
       "      <td>-0.712600</td>\n",
       "      <td>7.000000</td>\n",
       "      <td>-0.508065</td>\n",
       "      <td>-0.712963</td>\n",
       "      <td>...</td>\n",
       "      <td>-1.000000</td>\n",
       "      <td>2.077657e+05</td>\n",
       "      <td>-0.120000</td>\n",
       "      <td>-0.217000</td>\n",
       "      <td>1.000000</td>\n",
       "      <td>-0.352300</td>\n",
       "      <td>-0.542400</td>\n",
       "      <td>0.000000</td>\n",
       "      <td>-0.725000</td>\n",
       "      <td>-0.845800</td>\n",
       "    </tr>\n",
       "    <tr>\n",
       "      <th>25%</th>\n",
       "      <td>201710.000000</td>\n",
       "      <td>224900.000000</td>\n",
       "      <td>-0.00590</td>\n",
       "      <td>0.035100</td>\n",
       "      <td>6272.750000</td>\n",
       "      <td>-0.060350</td>\n",
       "      <td>-0.295450</td>\n",
       "      <td>55.000000</td>\n",
       "      <td>-0.063074</td>\n",
       "      <td>-0.138538</td>\n",
       "      <td>...</td>\n",
       "      <td>-0.022100</td>\n",
       "      <td>2.966865e+05</td>\n",
       "      <td>-0.006800</td>\n",
       "      <td>0.029900</td>\n",
       "      <td>9002.500000</td>\n",
       "      <td>-0.039600</td>\n",
       "      <td>-0.165200</td>\n",
       "      <td>0.158694</td>\n",
       "      <td>-0.016000</td>\n",
       "      <td>0.005800</td>\n",
       "    </tr>\n",
       "    <tr>\n",
       "      <th>50%</th>\n",
       "      <td>201901.000000</td>\n",
       "      <td>281125.000000</td>\n",
       "      <td>0.00030</td>\n",
       "      <td>0.064400</td>\n",
       "      <td>13807.000000</td>\n",
       "      <td>-0.012600</td>\n",
       "      <td>-0.116300</td>\n",
       "      <td>68.500000</td>\n",
       "      <td>0.022472</td>\n",
       "      <td>-0.064378</td>\n",
       "      <td>...</td>\n",
       "      <td>0.001800</td>\n",
       "      <td>3.980736e+05</td>\n",
       "      <td>0.002700</td>\n",
       "      <td>0.060800</td>\n",
       "      <td>20082.000000</td>\n",
       "      <td>0.001200</td>\n",
       "      <td>-0.069600</td>\n",
       "      <td>0.317457</td>\n",
       "      <td>0.001100</td>\n",
       "      <td>0.060900</td>\n",
       "    </tr>\n",
       "    <tr>\n",
       "      <th>75%</th>\n",
       "      <td>202004.000000</td>\n",
       "      <td>355082.000000</td>\n",
       "      <td>0.01650</td>\n",
       "      <td>0.097850</td>\n",
       "      <td>27267.000000</td>\n",
       "      <td>0.026750</td>\n",
       "      <td>-0.027750</td>\n",
       "      <td>85.000000</td>\n",
       "      <td>0.080645</td>\n",
       "      <td>-0.010471</td>\n",
       "      <td>...</td>\n",
       "      <td>0.023300</td>\n",
       "      <td>5.958600e+05</td>\n",
       "      <td>0.017100</td>\n",
       "      <td>0.108100</td>\n",
       "      <td>38034.250000</td>\n",
       "      <td>0.042200</td>\n",
       "      <td>0.016050</td>\n",
       "      <td>0.605260</td>\n",
       "      <td>0.043400</td>\n",
       "      <td>0.346600</td>\n",
       "    </tr>\n",
       "    <tr>\n",
       "      <th>max</th>\n",
       "      <td>202107.000000</td>\n",
       "      <td>808908.000000</td>\n",
       "      <td>0.23640</td>\n",
       "      <td>0.378000</td>\n",
       "      <td>164441.000000</td>\n",
       "      <td>0.293300</td>\n",
       "      <td>0.844700</td>\n",
       "      <td>210.000000</td>\n",
       "      <td>0.347826</td>\n",
       "      <td>0.878788</td>\n",
       "      <td>...</td>\n",
       "      <td>3.000000</td>\n",
       "      <td>1.943105e+06</td>\n",
       "      <td>0.300500</td>\n",
       "      <td>0.795100</td>\n",
       "      <td>351391.000000</td>\n",
       "      <td>0.969600</td>\n",
       "      <td>1.770700</td>\n",
       "      <td>3.903721</td>\n",
       "      <td>2.403400</td>\n",
       "      <td>3.182600</td>\n",
       "    </tr>\n",
       "  </tbody>\n",
       "</table>\n",
       "<p>8 rows × 37 columns</p>\n",
       "</div>"
      ],
      "text/plain": [
       "       month_date_yyyymm  median_listing_price  median_listing_price_mm  \\\n",
       "count        3112.000000           3112.000000               2499.00000   \n",
       "mean       201860.619537         309722.639414                  0.00547   \n",
       "std           151.195701         121770.822518                  0.02127   \n",
       "min        201607.000000         134250.000000                 -0.10490   \n",
       "25%        201710.000000         224900.000000                 -0.00590   \n",
       "50%        201901.000000         281125.000000                  0.00030   \n",
       "75%        202004.000000         355082.000000                  0.01650   \n",
       "max        202107.000000         808908.000000                  0.23640   \n",
       "\n",
       "       median_listing_price_yy  active_listing_count  active_listing_count_mm  \\\n",
       "count              2499.000000           3112.000000              2499.000000   \n",
       "mean                  0.069576          22597.419023                -0.014784   \n",
       "std                   0.058155          25743.075283                 0.071730   \n",
       "min                  -0.227800              1.000000                -0.360200   \n",
       "25%                   0.035100           6272.750000                -0.060350   \n",
       "50%                   0.064400          13807.000000                -0.012600   \n",
       "75%                   0.097850          27267.000000                 0.026750   \n",
       "max                   0.378000         164441.000000                 0.293300   \n",
       "\n",
       "       active_listing_count_yy  median_days_on_market  \\\n",
       "count              2499.000000            3112.000000   \n",
       "mean                 -0.160779              71.333066   \n",
       "std                   0.208003              24.389591   \n",
       "min                  -0.712600               7.000000   \n",
       "25%                  -0.295450              55.000000   \n",
       "50%                  -0.116300              68.500000   \n",
       "75%                  -0.027750              85.000000   \n",
       "max                   0.844700             210.000000   \n",
       "\n",
       "       median_days_on_market_mm  median_days_on_market_yy  ...  \\\n",
       "count               2499.000000               2499.000000  ...   \n",
       "mean                  -0.002182                 -0.082485  ...   \n",
       "std                    0.125138                  0.159849  ...   \n",
       "min                   -0.508065                 -0.712963  ...   \n",
       "25%                   -0.063074                 -0.138538  ...   \n",
       "50%                    0.022472                 -0.064378  ...   \n",
       "75%                    0.080645                 -0.010471  ...   \n",
       "max                    0.347826                  0.878788  ...   \n",
       "\n",
       "       median_square_feet_yy  average_listing_price  average_listing_price_mm  \\\n",
       "count            2485.000000           3.112000e+03               2499.000000   \n",
       "mean               -0.000309           4.913809e+05                  0.006064   \n",
       "std                 0.142460           2.657022e+05                  0.024310   \n",
       "min                -1.000000           2.077657e+05                 -0.120000   \n",
       "25%                -0.022100           2.966865e+05                 -0.006800   \n",
       "50%                 0.001800           3.980736e+05                  0.002700   \n",
       "75%                 0.023300           5.958600e+05                  0.017100   \n",
       "max                 3.000000           1.943105e+06                  0.300500   \n",
       "\n",
       "       average_listing_price_yy  total_listing_count  total_listing_count_mm  \\\n",
       "count               2499.000000          3112.000000             2499.000000   \n",
       "mean                   0.080732         32240.109254                0.004923   \n",
       "std                    0.093208         37712.465020                0.098921   \n",
       "min                   -0.217000             1.000000               -0.352300   \n",
       "25%                    0.029900          9002.500000               -0.039600   \n",
       "50%                    0.060800         20082.000000                0.001200   \n",
       "75%                    0.108100         38034.250000                0.042200   \n",
       "max                    0.795100        351391.000000                0.969600   \n",
       "\n",
       "       total_listing_count_yy  pending_ratio  pending_ratio_mm  \\\n",
       "count             2499.000000    3112.000000       2499.000000   \n",
       "mean                -0.056044       0.474512          0.032421   \n",
       "std                  0.201976       0.481952          0.157453   \n",
       "min                 -0.542400       0.000000         -0.725000   \n",
       "25%                 -0.165200       0.158694         -0.016000   \n",
       "50%                 -0.069600       0.317457          0.001100   \n",
       "75%                  0.016050       0.605260          0.043400   \n",
       "max                  1.770700       3.903721          2.403400   \n",
       "\n",
       "       pending_ratio_yy  \n",
       "count       2499.000000  \n",
       "mean           0.231930  \n",
       "std            0.413621  \n",
       "min           -0.845800  \n",
       "25%            0.005800  \n",
       "50%            0.060900  \n",
       "75%            0.346600  \n",
       "max            3.182600  \n",
       "\n",
       "[8 rows x 37 columns]"
      ]
     },
     "execution_count": 8,
     "metadata": {},
     "output_type": "execute_result"
    }
   ],
   "source": [
    "#Dataset statistical description and visualization\n",
    "core_metrics_by_state.describe()"
   ]
  },
  {
   "cell_type": "code",
   "execution_count": null,
   "metadata": {
    "cell_id": "5fbce83ddcea4a3eb79bdf47fa7d0a79",
    "deepnote_cell_height": 517.875,
    "deepnote_cell_type": "code",
    "deepnote_to_be_reexecuted": true,
    "execution_millis": 2190,
    "execution_start": 1649719226460,
    "source_hash": "d91d9c78",
    "tags": []
   },
   "outputs": [
    {
     "data": {
      "application/vnd.deepnote.dataframe.v3+json": {
       "column_count": 36,
       "columns": [
        {
         "dtype": "float64",
         "name": "median_listing_price",
         "stats": {
          "histogram": [
           {
            "bin_end": 1980045,
            "bin_start": 50,
            "count": 7
           },
           {
            "bin_end": 3960040,
            "bin_start": 1980045,
            "count": 0
           },
           {
            "bin_end": 5940035,
            "bin_start": 3960040,
            "count": 0
           },
           {
            "bin_end": 7920030,
            "bin_start": 5940035,
            "count": 0
           },
           {
            "bin_end": 9900025,
            "bin_start": 7920030,
            "count": 0
           },
           {
            "bin_end": 11880020,
            "bin_start": 9900025,
            "count": 0
           },
           {
            "bin_end": 13860015,
            "bin_start": 11880020,
            "count": 0
           },
           {
            "bin_end": 15840010,
            "bin_start": 13860015,
            "count": 0
           },
           {
            "bin_end": 17820005,
            "bin_start": 15840010,
            "count": 0
           },
           {
            "bin_end": 19800000,
            "bin_start": 17820005,
            "count": 1
           }
          ],
          "max": "19800000.0",
          "min": "50.0",
          "nan_count": 0,
          "unique_count": 8
         }
        },
        {
         "dtype": "float64",
         "name": "median_listing_price_mm",
         "stats": {
          "histogram": [
           {
            "bin_end": 71489.20135,
            "bin_start": -0.9985,
            "count": 7
           },
           {
            "bin_end": 142979.40120000002,
            "bin_start": 71489.20135,
            "count": 0
           },
           {
            "bin_end": 214469.60105000003,
            "bin_start": 142979.40120000002,
            "count": 0
           },
           {
            "bin_end": 285959.80090000003,
            "bin_start": 214469.60105000003,
            "count": 0
           },
           {
            "bin_end": 357450.00075,
            "bin_start": 285959.80090000003,
            "count": 0
           },
           {
            "bin_end": 428940.20060000004,
            "bin_start": 357450.00075,
            "count": 0
           },
           {
            "bin_end": 500430.4004500001,
            "bin_start": 428940.20060000004,
            "count": 0
           },
           {
            "bin_end": 571920.6003,
            "bin_start": 500430.4004500001,
            "count": 0
           },
           {
            "bin_end": 643410.80015,
            "bin_start": 571920.6003,
            "count": 0
           },
           {
            "bin_end": 714901,
            "bin_start": 643410.80015,
            "count": 1
           }
          ],
          "max": "714901.0",
          "min": "-0.9985",
          "nan_count": 0,
          "unique_count": 8
         }
        },
        {
         "dtype": "float64",
         "name": "median_listing_price_yy",
         "stats": {
          "histogram": [
           {
            "bin_end": 65549.60071999999,
            "bin_start": -0.9992,
            "count": 7
           },
           {
            "bin_end": 131100.20064,
            "bin_start": 65549.60071999999,
            "count": 0
           },
           {
            "bin_end": 196650.80055999997,
            "bin_start": 131100.20064,
            "count": 0
           },
           {
            "bin_end": 262201.40047999995,
            "bin_start": 196650.80055999997,
            "count": 0
           },
           {
            "bin_end": 327752.00039999996,
            "bin_start": 262201.40047999995,
            "count": 0
           },
           {
            "bin_end": 393302.6003199999,
            "bin_start": 327752.00039999996,
            "count": 0
           },
           {
            "bin_end": 458853.2002399999,
            "bin_start": 393302.6003199999,
            "count": 0
           },
           {
            "bin_end": 524403.80016,
            "bin_start": 458853.2002399999,
            "count": 0
           },
           {
            "bin_end": 589954.4000799999,
            "bin_start": 524403.80016,
            "count": 0
           },
           {
            "bin_end": 655505,
            "bin_start": 589954.4000799999,
            "count": 1
           }
          ],
          "max": "655505.0",
          "min": "-0.9992",
          "nan_count": 0,
          "unique_count": 8
         }
        },
        {
         "dtype": "float64",
         "name": "active_listing_count",
         "stats": {
          "histogram": [
           {
            "bin_end": 91320,
            "bin_start": 13,
            "count": 7
           },
           {
            "bin_end": 182627,
            "bin_start": 91320,
            "count": 0
           },
           {
            "bin_end": 273934,
            "bin_start": 182627,
            "count": 0
           },
           {
            "bin_end": 365241,
            "bin_start": 273934,
            "count": 0
           },
           {
            "bin_end": 456548,
            "bin_start": 365241,
            "count": 0
           },
           {
            "bin_end": 547855,
            "bin_start": 456548,
            "count": 0
           },
           {
            "bin_end": 639162,
            "bin_start": 547855,
            "count": 0
           },
           {
            "bin_end": 730469,
            "bin_start": 639162,
            "count": 0
           },
           {
            "bin_end": 821776,
            "bin_start": 730469,
            "count": 0
           },
           {
            "bin_end": 913083,
            "bin_start": 821776,
            "count": 1
           }
          ],
          "max": "913083.0",
          "min": "13.0",
          "nan_count": 0,
          "unique_count": 8
         }
        },
        {
         "dtype": "float64",
         "name": "active_listing_count_mm",
         "stats": {
          "histogram": [
           {
            "bin_end": 71489.26992,
            "bin_start": -0.8112,
            "count": 7
           },
           {
            "bin_end": 142979.35104,
            "bin_start": 71489.26992,
            "count": 0
           },
           {
            "bin_end": 214469.43216000003,
            "bin_start": 142979.35104,
            "count": 0
           },
           {
            "bin_end": 285959.51328,
            "bin_start": 214469.43216000003,
            "count": 0
           },
           {
            "bin_end": 357449.5944,
            "bin_start": 285959.51328,
            "count": 0
           },
           {
            "bin_end": 428939.67552000005,
            "bin_start": 357449.5944,
            "count": 0
           },
           {
            "bin_end": 500429.75664000004,
            "bin_start": 428939.67552000005,
            "count": 0
           },
           {
            "bin_end": 571919.83776,
            "bin_start": 500429.75664000004,
            "count": 0
           },
           {
            "bin_end": 643409.91888,
            "bin_start": 571919.83776,
            "count": 0
           },
           {
            "bin_end": 714900,
            "bin_start": 643409.91888,
            "count": 1
           }
          ],
          "max": "714900.0",
          "min": "-0.8112",
          "nan_count": 0,
          "unique_count": 8
         }
        },
        {
         "dtype": "float64",
         "name": "active_listing_count_yy",
         "stats": {
          "histogram": [
           {
            "bin_end": 65621.41348999999,
            "bin_start": -0.8739,
            "count": 7
           },
           {
            "bin_end": 131243.70088,
            "bin_start": 65621.41348999999,
            "count": 0
           },
           {
            "bin_end": 196865.98826999997,
            "bin_start": 131243.70088,
            "count": 0
           },
           {
            "bin_end": 262488.27566,
            "bin_start": 196865.98826999997,
            "count": 0
           },
           {
            "bin_end": 328110.56305,
            "bin_start": 262488.27566,
            "count": 0
           },
           {
            "bin_end": 393732.85043999995,
            "bin_start": 328110.56305,
            "count": 0
           },
           {
            "bin_end": 459355.13782999996,
            "bin_start": 393732.85043999995,
            "count": 0
           },
           {
            "bin_end": 524977.42522,
            "bin_start": 459355.13782999996,
            "count": 0
           },
           {
            "bin_end": 590599.7126099999,
            "bin_start": 524977.42522,
            "count": 0
           },
           {
            "bin_end": 656222,
            "bin_start": 590599.7126099999,
            "count": 1
           }
          ],
          "max": "656222.0",
          "min": "-0.8739",
          "nan_count": 0,
          "unique_count": 8
         }
        },
        {
         "dtype": "float64",
         "name": "median_days_on_market",
         "stats": {
          "histogram": [
           {
            "bin_end": 91308.3,
            "bin_start": 0,
            "count": 7
           },
           {
            "bin_end": 182616.6,
            "bin_start": 91308.3,
            "count": 0
           },
           {
            "bin_end": 273924.9,
            "bin_start": 182616.6,
            "count": 0
           },
           {
            "bin_end": 365233.2,
            "bin_start": 273924.9,
            "count": 0
           },
           {
            "bin_end": 456541.5,
            "bin_start": 365233.2,
            "count": 0
           },
           {
            "bin_end": 547849.8,
            "bin_start": 456541.5,
            "count": 0
           },
           {
            "bin_end": 639158.1,
            "bin_start": 547849.8,
            "count": 0
           },
           {
            "bin_end": 730466.4,
            "bin_start": 639158.1,
            "count": 0
           },
           {
            "bin_end": 821774.7000000001,
            "bin_start": 730466.4,
            "count": 0
           },
           {
            "bin_end": 913083,
            "bin_start": 821774.7000000001,
            "count": 1
           }
          ],
          "max": "913083.0",
          "min": "0.0",
          "nan_count": 0,
          "unique_count": 8
         }
        },
        {
         "dtype": "float64",
         "name": "median_days_on_market_mm",
         "stats": {
          "histogram": [
           {
            "bin_end": 71489.21999999981,
            "bin_start": -0.977777778,
            "count": 7
           },
           {
            "bin_end": 142979.41777777762,
            "bin_start": 71489.21999999981,
            "count": 0
           },
           {
            "bin_end": 214469.61555555544,
            "bin_start": 142979.41777777762,
            "count": 0
           },
           {
            "bin_end": 285959.81333333324,
            "bin_start": 214469.61555555544,
            "count": 0
           },
           {
            "bin_end": 357450.01111111103,
            "bin_start": 285959.81333333324,
            "count": 0
           },
           {
            "bin_end": 428940.2088888889,
            "bin_start": 357450.01111111103,
            "count": 0
           },
           {
            "bin_end": 500430.4066666667,
            "bin_start": 428940.2088888889,
            "count": 0
           },
           {
            "bin_end": 571920.6044444444,
            "bin_start": 500430.4066666667,
            "count": 0
           },
           {
            "bin_end": 643410.8022222222,
            "bin_start": 571920.6044444444,
            "count": 0
           },
           {
            "bin_end": 714901,
            "bin_start": 643410.8022222222,
            "count": 1
           }
          ],
          "max": "714901.0",
          "min": "-0.977777778",
          "nan_count": 0,
          "unique_count": 8
         }
        },
        {
         "dtype": "float64",
         "name": "median_days_on_market_yy",
         "stats": {
          "histogram": [
           {
            "bin_end": 65013.717098445704,
            "bin_start": -0.981001727,
            "count": 7
           },
           {
            "bin_end": 130028.4151986184,
            "bin_start": 65013.717098445704,
            "count": 0
           },
           {
            "bin_end": 195043.1132987911,
            "bin_start": 130028.4151986184,
            "count": 0
           },
           {
            "bin_end": 260057.81139896382,
            "bin_start": 195043.1132987911,
            "count": 0
           },
           {
            "bin_end": 325072.50949913653,
            "bin_start": 260057.81139896382,
            "count": 0
           },
           {
            "bin_end": 390087.2075993092,
            "bin_start": 325072.50949913653,
            "count": 0
           },
           {
            "bin_end": 455101.90569948195,
            "bin_start": 390087.2075993092,
            "count": 0
           },
           {
            "bin_end": 520116.60379965464,
            "bin_start": 455101.90569948195,
            "count": 0
           },
           {
            "bin_end": 585131.3018998273,
            "bin_start": 520116.60379965464,
            "count": 0
           },
           {
            "bin_end": 650146,
            "bin_start": 585131.3018998273,
            "count": 1
           }
          ],
          "max": "650146.0",
          "min": "-0.981001727",
          "nan_count": 0,
          "unique_count": 8
         }
        },
        {
         "dtype": "float64",
         "name": "new_listing_count",
         "stats": {
          "histogram": [
           {
            "bin_end": 91308.3,
            "bin_start": 0,
            "count": 7
           },
           {
            "bin_end": 182616.6,
            "bin_start": 91308.3,
            "count": 0
           },
           {
            "bin_end": 273924.9,
            "bin_start": 182616.6,
            "count": 0
           },
           {
            "bin_end": 365233.2,
            "bin_start": 273924.9,
            "count": 0
           },
           {
            "bin_end": 456541.5,
            "bin_start": 365233.2,
            "count": 0
           },
           {
            "bin_end": 547849.8,
            "bin_start": 456541.5,
            "count": 0
           },
           {
            "bin_end": 639158.1,
            "bin_start": 547849.8,
            "count": 0
           },
           {
            "bin_end": 730466.4,
            "bin_start": 639158.1,
            "count": 0
           },
           {
            "bin_end": 821774.7000000001,
            "bin_start": 730466.4,
            "count": 0
           },
           {
            "bin_end": 913083,
            "bin_start": 821774.7000000001,
            "count": 1
           }
          ],
          "max": "913083.0",
          "min": "0.0",
          "nan_count": 0,
          "unique_count": 8
         }
        },
        {
         "dtype": "float64",
         "name": "new_listing_count_mm",
         "stats": {
          "histogram": [
           {
            "bin_end": 64006.7,
            "bin_start": -1,
            "count": 7
           },
           {
            "bin_end": 128014.4,
            "bin_start": 64006.7,
            "count": 0
           },
           {
            "bin_end": 192022.09999999998,
            "bin_start": 128014.4,
            "count": 0
           },
           {
            "bin_end": 256029.8,
            "bin_start": 192022.09999999998,
            "count": 0
           },
           {
            "bin_end": 320037.5,
            "bin_start": 256029.8,
            "count": 0
           },
           {
            "bin_end": 384045.19999999995,
            "bin_start": 320037.5,
            "count": 0
           },
           {
            "bin_end": 448052.89999999997,
            "bin_start": 384045.19999999995,
            "count": 0
           },
           {
            "bin_end": 512060.6,
            "bin_start": 448052.89999999997,
            "count": 0
           },
           {
            "bin_end": 576068.2999999999,
            "bin_start": 512060.6,
            "count": 0
           },
           {
            "bin_end": 640076,
            "bin_start": 576068.2999999999,
            "count": 1
           }
          ],
          "max": "640076.0",
          "min": "-1.0",
          "nan_count": 0,
          "unique_count": 8
         }
        },
        {
         "dtype": "float64",
         "name": "new_listing_count_yy",
         "stats": {
          "histogram": [
           {
            "bin_end": 63543.2,
            "bin_start": -1,
            "count": 7
           },
           {
            "bin_end": 127087.4,
            "bin_start": 63543.2,
            "count": 0
           },
           {
            "bin_end": 190631.59999999998,
            "bin_start": 127087.4,
            "count": 0
           },
           {
            "bin_end": 254175.8,
            "bin_start": 190631.59999999998,
            "count": 0
           },
           {
            "bin_end": 317720,
            "bin_start": 254175.8,
            "count": 0
           },
           {
            "bin_end": 381264.19999999995,
            "bin_start": 317720,
            "count": 0
           },
           {
            "bin_end": 444808.39999999997,
            "bin_start": 381264.19999999995,
            "count": 0
           },
           {
            "bin_end": 508352.6,
            "bin_start": 444808.39999999997,
            "count": 0
           },
           {
            "bin_end": 571896.7999999999,
            "bin_start": 508352.6,
            "count": 0
           },
           {
            "bin_end": 635441,
            "bin_start": 571896.7999999999,
            "count": 1
           }
          ],
          "max": "635441.0",
          "min": "-1.0",
          "nan_count": 0,
          "unique_count": 8
         }
        },
        {
         "dtype": "float64",
         "name": "price_increased_count",
         "stats": {
          "histogram": [
           {
            "bin_end": 91308.3,
            "bin_start": 0,
            "count": 7
           },
           {
            "bin_end": 182616.6,
            "bin_start": 91308.3,
            "count": 0
           },
           {
            "bin_end": 273924.9,
            "bin_start": 182616.6,
            "count": 0
           },
           {
            "bin_end": 365233.2,
            "bin_start": 273924.9,
            "count": 0
           },
           {
            "bin_end": 456541.5,
            "bin_start": 365233.2,
            "count": 0
           },
           {
            "bin_end": 547849.8,
            "bin_start": 456541.5,
            "count": 0
           },
           {
            "bin_end": 639158.1,
            "bin_start": 547849.8,
            "count": 0
           },
           {
            "bin_end": 730466.4,
            "bin_start": 639158.1,
            "count": 0
           },
           {
            "bin_end": 821774.7000000001,
            "bin_start": 730466.4,
            "count": 0
           },
           {
            "bin_end": 913083,
            "bin_start": 821774.7000000001,
            "count": 1
           }
          ],
          "max": "913083.0",
          "min": "0.0",
          "nan_count": 0,
          "unique_count": 5
         }
        },
        {
         "dtype": "float64",
         "name": "price_increased_count_mm",
         "stats": {
          "histogram": [
           {
            "bin_end": 9012.8,
            "bin_start": -1,
            "count": 7
           },
           {
            "bin_end": 18026.6,
            "bin_start": 9012.8,
            "count": 0
           },
           {
            "bin_end": 27040.399999999998,
            "bin_start": 18026.6,
            "count": 0
           },
           {
            "bin_end": 36054.2,
            "bin_start": 27040.399999999998,
            "count": 0
           },
           {
            "bin_end": 45068,
            "bin_start": 36054.2,
            "count": 0
           },
           {
            "bin_end": 54081.799999999996,
            "bin_start": 45068,
            "count": 0
           },
           {
            "bin_end": 63095.59999999999,
            "bin_start": 54081.799999999996,
            "count": 0
           },
           {
            "bin_end": 72109.4,
            "bin_start": 63095.59999999999,
            "count": 0
           },
           {
            "bin_end": 81123.2,
            "bin_start": 72109.4,
            "count": 0
           },
           {
            "bin_end": 90137,
            "bin_start": 81123.2,
            "count": 1
           }
          ],
          "max": "90137.0",
          "min": "-1.0",
          "nan_count": 0,
          "unique_count": 7
         }
        },
        {
         "dtype": "float64",
         "name": "price_increased_count_yy",
         "stats": {
          "histogram": [
           {
            "bin_end": 8777.2,
            "bin_start": -1,
            "count": 7
           },
           {
            "bin_end": 17555.4,
            "bin_start": 8777.2,
            "count": 0
           },
           {
            "bin_end": 26333.600000000002,
            "bin_start": 17555.4,
            "count": 0
           },
           {
            "bin_end": 35111.8,
            "bin_start": 26333.600000000002,
            "count": 0
           },
           {
            "bin_end": 43890,
            "bin_start": 35111.8,
            "count": 0
           },
           {
            "bin_end": 52668.200000000004,
            "bin_start": 43890,
            "count": 0
           },
           {
            "bin_end": 61446.40000000001,
            "bin_start": 52668.200000000004,
            "count": 0
           },
           {
            "bin_end": 70224.6,
            "bin_start": 61446.40000000001,
            "count": 0
           },
           {
            "bin_end": 79002.8,
            "bin_start": 70224.6,
            "count": 0
           },
           {
            "bin_end": 87781,
            "bin_start": 79002.8,
            "count": 1
           }
          ],
          "max": "87781.0",
          "min": "-1.0",
          "nan_count": 0,
          "unique_count": 7
         }
        },
        {
         "dtype": "float64",
         "name": "price_reduced_count",
         "stats": {
          "histogram": [
           {
            "bin_end": 91308.3,
            "bin_start": 0,
            "count": 7
           },
           {
            "bin_end": 182616.6,
            "bin_start": 91308.3,
            "count": 0
           },
           {
            "bin_end": 273924.9,
            "bin_start": 182616.6,
            "count": 0
           },
           {
            "bin_end": 365233.2,
            "bin_start": 273924.9,
            "count": 0
           },
           {
            "bin_end": 456541.5,
            "bin_start": 365233.2,
            "count": 0
           },
           {
            "bin_end": 547849.8,
            "bin_start": 456541.5,
            "count": 0
           },
           {
            "bin_end": 639158.1,
            "bin_start": 547849.8,
            "count": 0
           },
           {
            "bin_end": 730466.4,
            "bin_start": 639158.1,
            "count": 0
           },
           {
            "bin_end": 821774.7000000001,
            "bin_start": 730466.4,
            "count": 0
           },
           {
            "bin_end": 913083,
            "bin_start": 821774.7000000001,
            "count": 1
           }
          ],
          "max": "913083.0",
          "min": "0.0",
          "nan_count": 0,
          "unique_count": 8
         }
        },
        {
         "dtype": "float64",
         "name": "price_reduced_count_mm",
         "stats": {
          "histogram": [
           {
            "bin_end": 56381.3,
            "bin_start": -1,
            "count": 7
           },
           {
            "bin_end": 112763.6,
            "bin_start": 56381.3,
            "count": 0
           },
           {
            "bin_end": 169145.90000000002,
            "bin_start": 112763.6,
            "count": 0
           },
           {
            "bin_end": 225528.2,
            "bin_start": 169145.90000000002,
            "count": 0
           },
           {
            "bin_end": 281910.5,
            "bin_start": 225528.2,
            "count": 0
           },
           {
            "bin_end": 338292.80000000005,
            "bin_start": 281910.5,
            "count": 0
           },
           {
            "bin_end": 394675.10000000003,
            "bin_start": 338292.80000000005,
            "count": 0
           },
           {
            "bin_end": 451057.4,
            "bin_start": 394675.10000000003,
            "count": 0
           },
           {
            "bin_end": 507439.7,
            "bin_start": 451057.4,
            "count": 0
           },
           {
            "bin_end": 563822,
            "bin_start": 507439.7,
            "count": 1
           }
          ],
          "max": "563822.0",
          "min": "-1.0",
          "nan_count": 0,
          "unique_count": 8
         }
        },
        {
         "dtype": "float64",
         "name": "price_reduced_count_yy",
         "stats": {
          "histogram": [
           {
            "bin_end": 57972.4,
            "bin_start": -1,
            "count": 7
           },
           {
            "bin_end": 115945.8,
            "bin_start": 57972.4,
            "count": 0
           },
           {
            "bin_end": 173919.2,
            "bin_start": 115945.8,
            "count": 0
           },
           {
            "bin_end": 231892.6,
            "bin_start": 173919.2,
            "count": 0
           },
           {
            "bin_end": 289866,
            "bin_start": 231892.6,
            "count": 0
           },
           {
            "bin_end": 347839.4,
            "bin_start": 289866,
            "count": 0
           },
           {
            "bin_end": 405812.8,
            "bin_start": 347839.4,
            "count": 0
           },
           {
            "bin_end": 463786.2,
            "bin_start": 405812.8,
            "count": 0
           },
           {
            "bin_end": 521759.60000000003,
            "bin_start": 463786.2,
            "count": 0
           },
           {
            "bin_end": 579733,
            "bin_start": 521759.60000000003,
            "count": 1
           }
          ],
          "max": "579733.0",
          "min": "-1.0",
          "nan_count": 0,
          "unique_count": 8
         }
        },
        {
         "dtype": "float64",
         "name": "pending_listing_count",
         "stats": {
          "histogram": [
           {
            "bin_end": 91308.3,
            "bin_start": 0,
            "count": 7
           },
           {
            "bin_end": 182616.6,
            "bin_start": 91308.3,
            "count": 0
           },
           {
            "bin_end": 273924.9,
            "bin_start": 182616.6,
            "count": 0
           },
           {
            "bin_end": 365233.2,
            "bin_start": 273924.9,
            "count": 0
           },
           {
            "bin_end": 456541.5,
            "bin_start": 365233.2,
            "count": 0
           },
           {
            "bin_end": 547849.8,
            "bin_start": 456541.5,
            "count": 0
           },
           {
            "bin_end": 639158.1,
            "bin_start": 547849.8,
            "count": 0
           },
           {
            "bin_end": 730466.4,
            "bin_start": 639158.1,
            "count": 0
           },
           {
            "bin_end": 821774.7000000001,
            "bin_start": 730466.4,
            "count": 0
           },
           {
            "bin_end": 913083,
            "bin_start": 821774.7000000001,
            "count": 1
           }
          ],
          "max": "913083.0",
          "min": "0.0",
          "nan_count": 0,
          "unique_count": 8
         }
        },
        {
         "dtype": "float64",
         "name": "pending_listing_count_mm",
         "stats": {
          "histogram": [
           {
            "bin_end": 61595.4,
            "bin_start": -1,
            "count": 7
           },
           {
            "bin_end": 123191.8,
            "bin_start": 61595.4,
            "count": 0
           },
           {
            "bin_end": 184788.2,
            "bin_start": 123191.8,
            "count": 0
           },
           {
            "bin_end": 246384.6,
            "bin_start": 184788.2,
            "count": 0
           },
           {
            "bin_end": 307981,
            "bin_start": 246384.6,
            "count": 0
           },
           {
            "bin_end": 369577.4,
            "bin_start": 307981,
            "count": 0
           },
           {
            "bin_end": 431173.8,
            "bin_start": 369577.4,
            "count": 0
           },
           {
            "bin_end": 492770.2,
            "bin_start": 431173.8,
            "count": 0
           },
           {
            "bin_end": 554366.6,
            "bin_start": 492770.2,
            "count": 0
           },
           {
            "bin_end": 615963,
            "bin_start": 554366.6,
            "count": 1
           }
          ],
          "max": "615963.0",
          "min": "-1.0",
          "nan_count": 0,
          "unique_count": 8
         }
        },
        {
         "dtype": "float64",
         "name": "pending_listing_count_yy",
         "stats": {
          "histogram": [
           {
            "bin_end": 59355,
            "bin_start": -1,
            "count": 7
           },
           {
            "bin_end": 118711,
            "bin_start": 59355,
            "count": 0
           },
           {
            "bin_end": 178067,
            "bin_start": 118711,
            "count": 0
           },
           {
            "bin_end": 237423,
            "bin_start": 178067,
            "count": 0
           },
           {
            "bin_end": 296779,
            "bin_start": 237423,
            "count": 0
           },
           {
            "bin_end": 356135,
            "bin_start": 296779,
            "count": 0
           },
           {
            "bin_end": 415491,
            "bin_start": 356135,
            "count": 0
           },
           {
            "bin_end": 474847,
            "bin_start": 415491,
            "count": 0
           },
           {
            "bin_end": 534203,
            "bin_start": 474847,
            "count": 0
           },
           {
            "bin_end": 593559,
            "bin_start": 534203,
            "count": 1
           }
          ],
          "max": "593559.0",
          "min": "-1.0",
          "nan_count": 0,
          "unique_count": 8
         }
        },
        {
         "dtype": "float64",
         "name": "median_listing_price_per_square_foot",
         "stats": {
          "histogram": [
           {
            "bin_end": 91308.3,
            "bin_start": 0,
            "count": 7
           },
           {
            "bin_end": 182616.6,
            "bin_start": 91308.3,
            "count": 0
           },
           {
            "bin_end": 273924.9,
            "bin_start": 182616.6,
            "count": 0
           },
           {
            "bin_end": 365233.2,
            "bin_start": 273924.9,
            "count": 0
           },
           {
            "bin_end": 456541.5,
            "bin_start": 365233.2,
            "count": 0
           },
           {
            "bin_end": 547849.8,
            "bin_start": 456541.5,
            "count": 0
           },
           {
            "bin_end": 639158.1,
            "bin_start": 547849.8,
            "count": 0
           },
           {
            "bin_end": 730466.4,
            "bin_start": 639158.1,
            "count": 0
           },
           {
            "bin_end": 821774.7000000001,
            "bin_start": 730466.4,
            "count": 0
           },
           {
            "bin_end": 913083,
            "bin_start": 821774.7000000001,
            "count": 1
           }
          ],
          "max": "913083.0",
          "min": "0.0",
          "nan_count": 0,
          "unique_count": 8
         }
        },
        {
         "dtype": "float64",
         "name": "median_listing_price_per_square_foot_mm",
         "stats": {
          "histogram": [
           {
            "bin_end": 67507.2,
            "bin_start": -1,
            "count": 6
           },
           {
            "bin_end": 135015.4,
            "bin_start": 67507.2,
            "count": 1
           },
           {
            "bin_end": 202523.59999999998,
            "bin_start": 135015.4,
            "count": 0
           },
           {
            "bin_end": 270031.8,
            "bin_start": 202523.59999999998,
            "count": 0
           },
           {
            "bin_end": 337540,
            "bin_start": 270031.8,
            "count": 0
           },
           {
            "bin_end": 405048.19999999995,
            "bin_start": 337540,
            "count": 0
           },
           {
            "bin_end": 472556.39999999997,
            "bin_start": 405048.19999999995,
            "count": 0
           },
           {
            "bin_end": 540064.6,
            "bin_start": 472556.39999999997,
            "count": 0
           },
           {
            "bin_end": 607572.7999999999,
            "bin_start": 540064.6,
            "count": 0
           },
           {
            "bin_end": 675081,
            "bin_start": 607572.7999999999,
            "count": 1
           }
          ],
          "max": "675081.0",
          "min": "-1.0",
          "nan_count": 0,
          "unique_count": 8
         }
        },
        {
         "dtype": "float64",
         "name": "median_listing_price_per_square_foot_yy",
         "stats": {
          "histogram": [
           {
            "bin_end": 66987.8,
            "bin_start": -1,
            "count": 7
           },
           {
            "bin_end": 133976.6,
            "bin_start": 66987.8,
            "count": 0
           },
           {
            "bin_end": 200965.40000000002,
            "bin_start": 133976.6,
            "count": 0
           },
           {
            "bin_end": 267954.2,
            "bin_start": 200965.40000000002,
            "count": 0
           },
           {
            "bin_end": 334943,
            "bin_start": 267954.2,
            "count": 0
           },
           {
            "bin_end": 401931.80000000005,
            "bin_start": 334943,
            "count": 0
           },
           {
            "bin_end": 468920.60000000003,
            "bin_start": 401931.80000000005,
            "count": 0
           },
           {
            "bin_end": 535909.4,
            "bin_start": 468920.60000000003,
            "count": 0
           },
           {
            "bin_end": 602898.2000000001,
            "bin_start": 535909.4,
            "count": 0
           },
           {
            "bin_end": 669887,
            "bin_start": 602898.2000000001,
            "count": 1
           }
          ],
          "max": "669887.0",
          "min": "-1.0",
          "nan_count": 0,
          "unique_count": 8
         }
        },
        {
         "dtype": "float64",
         "name": "median_square_feet",
         "stats": {
          "histogram": [
           {
            "bin_end": 91308.3,
            "bin_start": 0,
            "count": 7
           },
           {
            "bin_end": 182616.6,
            "bin_start": 91308.3,
            "count": 0
           },
           {
            "bin_end": 273924.9,
            "bin_start": 182616.6,
            "count": 0
           },
           {
            "bin_end": 365233.2,
            "bin_start": 273924.9,
            "count": 0
           },
           {
            "bin_end": 456541.5,
            "bin_start": 365233.2,
            "count": 0
           },
           {
            "bin_end": 547849.8,
            "bin_start": 456541.5,
            "count": 0
           },
           {
            "bin_end": 639158.1,
            "bin_start": 547849.8,
            "count": 0
           },
           {
            "bin_end": 730466.4,
            "bin_start": 639158.1,
            "count": 0
           },
           {
            "bin_end": 821774.7000000001,
            "bin_start": 730466.4,
            "count": 0
           },
           {
            "bin_end": 913083,
            "bin_start": 821774.7000000001,
            "count": 1
           }
          ],
          "max": "913083.0",
          "min": "0.0",
          "nan_count": 0,
          "unique_count": 8
         }
        },
        {
         "dtype": "float64",
         "name": "median_square_feet_mm",
         "stats": {
          "histogram": [
           {
            "bin_end": 67507.2,
            "bin_start": -1,
            "count": 7
           },
           {
            "bin_end": 135015.4,
            "bin_start": 67507.2,
            "count": 0
           },
           {
            "bin_end": 202523.59999999998,
            "bin_start": 135015.4,
            "count": 0
           },
           {
            "bin_end": 270031.8,
            "bin_start": 202523.59999999998,
            "count": 0
           },
           {
            "bin_end": 337540,
            "bin_start": 270031.8,
            "count": 0
           },
           {
            "bin_end": 405048.19999999995,
            "bin_start": 337540,
            "count": 0
           },
           {
            "bin_end": 472556.39999999997,
            "bin_start": 405048.19999999995,
            "count": 0
           },
           {
            "bin_end": 540064.6,
            "bin_start": 472556.39999999997,
            "count": 0
           },
           {
            "bin_end": 607572.7999999999,
            "bin_start": 540064.6,
            "count": 0
           },
           {
            "bin_end": 675081,
            "bin_start": 607572.7999999999,
            "count": 1
           }
          ],
          "max": "675081.0",
          "min": "-1.0",
          "nan_count": 0,
          "unique_count": 8
         }
        },
        {
         "dtype": "float64",
         "name": "median_square_feet_yy",
         "stats": {
          "histogram": [
           {
            "bin_end": 66987.8,
            "bin_start": -1,
            "count": 7
           },
           {
            "bin_end": 133976.6,
            "bin_start": 66987.8,
            "count": 0
           },
           {
            "bin_end": 200965.40000000002,
            "bin_start": 133976.6,
            "count": 0
           },
           {
            "bin_end": 267954.2,
            "bin_start": 200965.40000000002,
            "count": 0
           },
           {
            "bin_end": 334943,
            "bin_start": 267954.2,
            "count": 0
           },
           {
            "bin_end": 401931.80000000005,
            "bin_start": 334943,
            "count": 0
           },
           {
            "bin_end": 468920.60000000003,
            "bin_start": 401931.80000000005,
            "count": 0
           },
           {
            "bin_end": 535909.4,
            "bin_start": 468920.60000000003,
            "count": 0
           },
           {
            "bin_end": 602898.2000000001,
            "bin_start": 535909.4,
            "count": 0
           },
           {
            "bin_end": 669887,
            "bin_start": 602898.2000000001,
            "count": 1
           }
          ],
          "max": "669887.0",
          "min": "-1.0",
          "nan_count": 0,
          "unique_count": 8
         }
        },
        {
         "dtype": "float64",
         "name": "average_listing_price",
         "stats": {
          "histogram": [
           {
            "bin_end": 2621485,
            "bin_start": 1650,
            "count": 7
           },
           {
            "bin_end": 5241320,
            "bin_start": 2621485,
            "count": 0
           },
           {
            "bin_end": 7861155,
            "bin_start": 5241320,
            "count": 0
           },
           {
            "bin_end": 10480990,
            "bin_start": 7861155,
            "count": 0
           },
           {
            "bin_end": 13100825,
            "bin_start": 10480990,
            "count": 0
           },
           {
            "bin_end": 15720660,
            "bin_start": 13100825,
            "count": 0
           },
           {
            "bin_end": 18340495,
            "bin_start": 15720660,
            "count": 0
           },
           {
            "bin_end": 20960330,
            "bin_start": 18340495,
            "count": 0
           },
           {
            "bin_end": 23580165,
            "bin_start": 20960330,
            "count": 0
           },
           {
            "bin_end": 26200000,
            "bin_start": 23580165,
            "count": 1
           }
          ],
          "max": "26200000.0",
          "min": "1650.0",
          "nan_count": 0,
          "unique_count": 8
         }
        },
        {
         "dtype": "float64",
         "name": "average_listing_price_mm",
         "stats": {
          "histogram": [
           {
            "bin_end": 71489.22601,
            "bin_start": -0.9711,
            "count": 7
           },
           {
            "bin_end": 142979.42312,
            "bin_start": 71489.22601,
            "count": 0
           },
           {
            "bin_end": 214469.62022999997,
            "bin_start": 142979.42312,
            "count": 0
           },
           {
            "bin_end": 285959.81733999995,
            "bin_start": 214469.62022999997,
            "count": 0
           },
           {
            "bin_end": 357450.01444999996,
            "bin_start": 285959.81733999995,
            "count": 0
           },
           {
            "bin_end": 428940.2115599999,
            "bin_start": 357450.01444999996,
            "count": 0
           },
           {
            "bin_end": 500430.4086699999,
            "bin_start": 428940.2115599999,
            "count": 0
           },
           {
            "bin_end": 571920.60578,
            "bin_start": 500430.4086699999,
            "count": 0
           },
           {
            "bin_end": 643410.8028899999,
            "bin_start": 571920.60578,
            "count": 0
           },
           {
            "bin_end": 714901,
            "bin_start": 643410.8028899999,
            "count": 1
           }
          ],
          "max": "714901.0",
          "min": "-0.9711",
          "nan_count": 0,
          "unique_count": 8
         }
        },
        {
         "dtype": "float64",
         "name": "average_listing_price_yy",
         "stats": {
          "histogram": [
           {
            "bin_end": 71474.71026,
            "bin_start": -0.9886,
            "count": 7
           },
           {
            "bin_end": 142950.40912,
            "bin_start": 71474.71026,
            "count": 0
           },
           {
            "bin_end": 214426.10798,
            "bin_start": 142950.40912,
            "count": 0
           },
           {
            "bin_end": 285901.80684000003,
            "bin_start": 214426.10798,
            "count": 0
           },
           {
            "bin_end": 357377.50570000004,
            "bin_start": 285901.80684000003,
            "count": 0
           },
           {
            "bin_end": 428853.20456000004,
            "bin_start": 357377.50570000004,
            "count": 0
           },
           {
            "bin_end": 500328.90342000005,
            "bin_start": 428853.20456000004,
            "count": 0
           },
           {
            "bin_end": 571804.60228,
            "bin_start": 500328.90342000005,
            "count": 0
           },
           {
            "bin_end": 643280.30114,
            "bin_start": 571804.60228,
            "count": 0
           },
           {
            "bin_end": 714756,
            "bin_start": 643280.30114,
            "count": 1
           }
          ],
          "max": "714756.0",
          "min": "-0.9886",
          "nan_count": 0,
          "unique_count": 8
         }
        },
        {
         "dtype": "float64",
         "name": "total_listing_count",
         "stats": {
          "histogram": [
           {
            "bin_end": 91320,
            "bin_start": 13,
            "count": 7
           },
           {
            "bin_end": 182627,
            "bin_start": 91320,
            "count": 0
           },
           {
            "bin_end": 273934,
            "bin_start": 182627,
            "count": 0
           },
           {
            "bin_end": 365241,
            "bin_start": 273934,
            "count": 0
           },
           {
            "bin_end": 456548,
            "bin_start": 365241,
            "count": 0
           },
           {
            "bin_end": 547855,
            "bin_start": 456548,
            "count": 0
           },
           {
            "bin_end": 639162,
            "bin_start": 547855,
            "count": 0
           },
           {
            "bin_end": 730469,
            "bin_start": 639162,
            "count": 0
           },
           {
            "bin_end": 821776,
            "bin_start": 730469,
            "count": 0
           },
           {
            "bin_end": 913083,
            "bin_start": 821776,
            "count": 1
           }
          ],
          "max": "913083.0",
          "min": "13.0",
          "nan_count": 0,
          "unique_count": 8
         }
        },
        {
         "dtype": "float64",
         "name": "total_listing_count_mm",
         "stats": {
          "histogram": [
           {
            "bin_end": 71489.344,
            "bin_start": -0.84,
            "count": 7
           },
           {
            "bin_end": 142979.528,
            "bin_start": 71489.344,
            "count": 0
           },
           {
            "bin_end": 214469.71199999997,
            "bin_start": 142979.528,
            "count": 0
           },
           {
            "bin_end": 285959.89599999995,
            "bin_start": 214469.71199999997,
            "count": 0
           },
           {
            "bin_end": 357450.07999999996,
            "bin_start": 285959.89599999995,
            "count": 0
           },
           {
            "bin_end": 428940.2639999999,
            "bin_start": 357450.07999999996,
            "count": 0
           },
           {
            "bin_end": 500430.4479999999,
            "bin_start": 428940.2639999999,
            "count": 0
           },
           {
            "bin_end": 571920.632,
            "bin_start": 500430.4479999999,
            "count": 0
           },
           {
            "bin_end": 643410.816,
            "bin_start": 571920.632,
            "count": 0
           },
           {
            "bin_end": 714901,
            "bin_start": 643410.816,
            "count": 1
           }
          ],
          "max": "714901.0",
          "min": "-0.84",
          "nan_count": 0,
          "unique_count": 8
         }
        },
        {
         "dtype": "float64",
         "name": "total_listing_count_yy",
         "stats": {
          "histogram": [
           {
            "bin_end": 71474.78352,
            "bin_start": -0.9072,
            "count": 7
           },
           {
            "bin_end": 142950.47424,
            "bin_start": 71474.78352,
            "count": 0
           },
           {
            "bin_end": 214426.16496,
            "bin_start": 142950.47424,
            "count": 0
           },
           {
            "bin_end": 285901.85568,
            "bin_start": 214426.16496,
            "count": 0
           },
           {
            "bin_end": 357377.5464,
            "bin_start": 285901.85568,
            "count": 0
           },
           {
            "bin_end": 428853.23711999995,
            "bin_start": 357377.5464,
            "count": 0
           },
           {
            "bin_end": 500328.92783999996,
            "bin_start": 428853.23711999995,
            "count": 0
           },
           {
            "bin_end": 571804.61856,
            "bin_start": 500328.92783999996,
            "count": 0
           },
           {
            "bin_end": 643280.3092799999,
            "bin_start": 571804.61856,
            "count": 0
           },
           {
            "bin_end": 714756,
            "bin_start": 643280.3092799999,
            "count": 1
           }
          ],
          "max": "714756.0",
          "min": "-0.9072",
          "nan_count": 0,
          "unique_count": 8
         }
        },
        {
         "dtype": "float64",
         "name": "pending_ratio",
         "stats": {
          "histogram": [
           {
            "bin_end": 91308.3,
            "bin_start": 0,
            "count": 7
           },
           {
            "bin_end": 182616.6,
            "bin_start": 91308.3,
            "count": 0
           },
           {
            "bin_end": 273924.9,
            "bin_start": 182616.6,
            "count": 0
           },
           {
            "bin_end": 365233.2,
            "bin_start": 273924.9,
            "count": 0
           },
           {
            "bin_end": 456541.5,
            "bin_start": 365233.2,
            "count": 0
           },
           {
            "bin_end": 547849.8,
            "bin_start": 456541.5,
            "count": 0
           },
           {
            "bin_end": 639158.1,
            "bin_start": 547849.8,
            "count": 0
           },
           {
            "bin_end": 730466.4,
            "bin_start": 639158.1,
            "count": 0
           },
           {
            "bin_end": 821774.7000000001,
            "bin_start": 730466.4,
            "count": 0
           },
           {
            "bin_end": 913083,
            "bin_start": 821774.7000000001,
            "count": 1
           }
          ],
          "max": "913083.0",
          "min": "0.0",
          "nan_count": 0,
          "unique_count": 8
         }
        },
        {
         "dtype": "float64",
         "name": "pending_ratio_mm",
         "stats": {
          "histogram": [
           {
            "bin_end": 71477.32107,
            "bin_start": -14.0877,
            "count": 7
           },
           {
            "bin_end": 142968.72984,
            "bin_start": 71477.32107,
            "count": 0
           },
           {
            "bin_end": 214460.13861000002,
            "bin_start": 142968.72984,
            "count": 0
           },
           {
            "bin_end": 285951.54738000006,
            "bin_start": 214460.13861000002,
            "count": 0
           },
           {
            "bin_end": 357442.95615000004,
            "bin_start": 285951.54738000006,
            "count": 0
           },
           {
            "bin_end": 428934.3649200001,
            "bin_start": 357442.95615000004,
            "count": 0
           },
           {
            "bin_end": 500425.7736900001,
            "bin_start": 428934.3649200001,
            "count": 0
           },
           {
            "bin_end": 571917.18246,
            "bin_start": 500425.7736900001,
            "count": 0
           },
           {
            "bin_end": 643408.59123,
            "bin_start": 571917.18246,
            "count": 0
           },
           {
            "bin_end": 714900,
            "bin_start": 643408.59123,
            "count": 1
           }
          ],
          "max": "714900.0",
          "min": "-14.0877",
          "nan_count": 0,
          "unique_count": 8
         }
        },
        {
         "dtype": "float64",
         "name": "pending_ratio_yy",
         "stats": {
          "histogram": [
           {
            "bin_end": 71455.73079,
            "bin_start": -21.0769,
            "count": 7
           },
           {
            "bin_end": 142932.53848000002,
            "bin_start": 71455.73079,
            "count": 0
           },
           {
            "bin_end": 214409.34617000003,
            "bin_start": 142932.53848000002,
            "count": 0
           },
           {
            "bin_end": 285886.15386,
            "bin_start": 214409.34617000003,
            "count": 0
           },
           {
            "bin_end": 357362.96155,
            "bin_start": 285886.15386,
            "count": 0
           },
           {
            "bin_end": 428839.76924000005,
            "bin_start": 357362.96155,
            "count": 0
           },
           {
            "bin_end": 500316.57693000004,
            "bin_start": 428839.76924000005,
            "count": 0
           },
           {
            "bin_end": 571793.38462,
            "bin_start": 500316.57693000004,
            "count": 0
           },
           {
            "bin_end": 643270.1923100001,
            "bin_start": 571793.38462,
            "count": 0
           },
           {
            "bin_end": 714747,
            "bin_start": 643270.1923100001,
            "count": 1
           }
          ],
          "max": "714747.0",
          "min": "-21.0769",
          "nan_count": 0,
          "unique_count": 8
         }
        },
        {
         "dtype": "object",
         "name": "_deepnote_index_column"
        }
       ],
       "row_count": 8,
       "rows": [
        {
         "_deepnote_index_column": "count",
         "active_listing_count": 913083,
         "active_listing_count_mm": 714900,
         "active_listing_count_yy": 656222,
         "average_listing_price": 913083,
         "average_listing_price_mm": 714901,
         "average_listing_price_yy": 714756,
         "median_days_on_market": 913083,
         "median_days_on_market_mm": 714901,
         "median_days_on_market_yy": 650146,
         "median_listing_price": 913083,
         "median_listing_price_mm": 714901,
         "median_listing_price_per_square_foot": 913083,
         "median_listing_price_per_square_foot_mm": 675081,
         "median_listing_price_per_square_foot_yy": 669887,
         "median_listing_price_yy": 655505,
         "median_square_feet": 913083,
         "median_square_feet_mm": 675081,
         "median_square_feet_yy": 669887,
         "new_listing_count": 913083,
         "new_listing_count_mm": 640076,
         "new_listing_count_yy": 635441,
         "pending_listing_count": 913083,
         "pending_listing_count_mm": 615963,
         "pending_listing_count_yy": 593559,
         "pending_ratio": 913083,
         "pending_ratio_mm": 714900,
         "pending_ratio_yy": 714747,
         "price_increased_count": 913083,
         "price_increased_count_mm": 90137,
         "price_increased_count_yy": 87781,
         "price_reduced_count": 913083,
         "price_reduced_count_mm": 563822,
         "price_reduced_count_yy": 579733,
         "total_listing_count": 913083,
         "total_listing_count_mm": 714901,
         "total_listing_count_yy": 714756
        },
        {
         "_deepnote_index_column": "mean",
         "active_listing_count": 72.74793529175332,
         "active_listing_count_mm": 0.006479251084067699,
         "active_listing_count_yy": -0.06988000539451594,
         "average_listing_price": 458223.715765769,
         "average_listing_price_mm": 0.00840894585404133,
         "average_listing_price_yy": 0.08666205544269652,
         "median_days_on_market": 81.0373394313551,
         "median_days_on_market_mm": 0.04197665199776193,
         "median_days_on_market_yy": -0.022099846152773384,
         "median_listing_price": 358874.15749454306,
         "median_listing_price_mm": 0.008640787185918052,
         "median_listing_price_per_square_foot": 162.47760933706624,
         "median_listing_price_per_square_foot_mm": 0.1266368792781903,
         "median_listing_price_per_square_foot_yy": 0.15323673455373812,
         "median_listing_price_yy": 0.06697601253995013,
         "median_square_feet": 1826.5914801885153,
         "median_square_feet_mm": 0.021963943141637823,
         "median_square_feet_yy": 0.02117453660094912,
         "new_listing_count": 24.473884630422425,
         "new_listing_count_mm": 0.06673092101562937,
         "new_listing_count_yy": 0.03993598430066679,
         "pending_listing_count": 30.686133681165895,
         "pending_listing_count_mm": 0.15210372895774585,
         "pending_listing_count_yy": 0.9993670123778764,
         "pending_ratio": 0.5020015937595868,
         "pending_ratio_mm": 0.027383829626521194,
         "pending_ratio_yy": 0.20952244178709392,
         "price_increased_count": 1.0655679713673347,
         "price_increased_count_mm": -0.2586481322875178,
         "price_increased_count_yy": -0.2163463357674212,
         "price_reduced_count": 15.748517933199938,
         "price_reduced_count_mm": 0.0171721584116973,
         "price_reduced_count_yy": -0.06050220705048708,
         "total_listing_count": 103.43406897291922,
         "total_listing_count_mm": 0.019697260180080882,
         "total_listing_count_yy": 0.05014615868911908
        },
        {
         "_deepnote_index_column": "std",
         "active_listing_count": 86.80824576049592,
         "active_listing_count_mm": 0.21454787496708902,
         "active_listing_count_yy": 0.44613433065129415,
         "average_listing_price": 591259.7064682288,
         "average_listing_price_mm": 0.16082751628660785,
         "average_listing_price_yy": 0.3166898585102105,
         "median_days_on_market": 56.314640139662686,
         "median_days_on_market_mm": 0.29423097585736563,
         "median_days_on_market_yy": 0.4251907481730798,
         "median_listing_price": 384102.50396195176,
         "median_listing_price_mm": 0.11836097883924547,
         "median_listing_price_per_square_foot": 153.29621304505946,
         "median_listing_price_per_square_foot_mm": 98.39322354775729,
         "median_listing_price_per_square_foot_yy": 61.59973032185146,
         "median_listing_price_yy": 0.19893116891720075,
         "median_square_feet": 747.0368483434787,
         "median_square_feet_mm": 12.577527086629441,
         "median_square_feet_yy": 6.142770852667648,
         "new_listing_count": 28.44599563718968,
         "new_listing_count_mm": 0.7113671269687526,
         "new_listing_count_yy": 0.7043014706974452,
         "pending_listing_count": 49.64597753542708,
         "pending_listing_count_mm": 1.4310788906347007,
         "pending_listing_count_yy": 5.70277884019516,
         "pending_ratio": 0.7185219177728505,
         "pending_ratio_mm": 0.3383076003321873,
         "pending_ratio_yy": 0.6343990250944477,
         "price_increased_count": 4.673516830971401,
         "price_increased_count_mm": 1.0676304583586778,
         "price_increased_count_yy": 1.3992477243826238,
         "price_reduced_count": 22.862744889949838,
         "price_reduced_count_mm": 0.7231837682969228,
         "price_reduced_count_yy": 0.8294209033725058,
         "total_listing_count": 118.22226877754419,
         "total_listing_count_mm": 0.22042503081817927,
         "total_listing_count_yy": 0.9613725578843544
        },
        {
         "_deepnote_index_column": "min",
         "active_listing_count": 13,
         "active_listing_count_mm": -0.8112,
         "active_listing_count_yy": -0.8739,
         "average_listing_price": 1650,
         "average_listing_price_mm": -0.9711,
         "average_listing_price_yy": -0.9886,
         "median_days_on_market": 0,
         "median_days_on_market_mm": -0.977777778,
         "median_days_on_market_yy": -0.981001727,
         "median_listing_price": 50,
         "median_listing_price_mm": -0.9985,
         "median_listing_price_per_square_foot": 0,
         "median_listing_price_per_square_foot_mm": -1,
         "median_listing_price_per_square_foot_yy": -1,
         "median_listing_price_yy": -0.9992,
         "median_square_feet": 0,
         "median_square_feet_mm": -1,
         "median_square_feet_yy": -1,
         "new_listing_count": 0,
         "new_listing_count_mm": -1,
         "new_listing_count_yy": -1,
         "pending_listing_count": 0,
         "pending_listing_count_mm": -1,
         "pending_listing_count_yy": -1,
         "pending_ratio": 0,
         "pending_ratio_mm": -14.0877,
         "pending_ratio_yy": -21.0769,
         "price_increased_count": 0,
         "price_increased_count_mm": -1,
         "price_increased_count_yy": -1,
         "price_reduced_count": 0,
         "price_reduced_count_mm": -1,
         "price_reduced_count_yy": -1,
         "total_listing_count": 13,
         "total_listing_count_mm": -0.84,
         "total_listing_count_yy": -0.9072
        },
        {
         "_deepnote_index_column": "25%",
         "active_listing_count": 24,
         "active_listing_count_mm": -0.087,
         "active_listing_count_yy": -0.2923,
         "average_listing_price": 209442.21185,
         "average_listing_price_mm": -0.0279,
         "average_listing_price_yy": -0.0376,
         "median_days_on_market": 47,
         "median_days_on_market_mm": -0.114228457,
         "median_days_on_market_yy": -0.260504202,
         "median_listing_price": 173950,
         "median_listing_price_mm": -0.0283,
         "median_listing_price_per_square_foot": 89.46483365,
         "median_listing_price_per_square_foot_mm": -0.0173,
         "median_listing_price_per_square_foot_yy": -0.0076,
         "median_listing_price_yy": -0.0334,
         "median_square_feet": 1477,
         "median_square_feet_mm": -0.0283,
         "median_square_feet_yy": -0.073,
         "new_listing_count": 4,
         "new_listing_count_mm": -0.3333,
         "new_listing_count_yy": -0.3333,
         "pending_listing_count": 2,
         "pending_listing_count_mm": -0.1507,
         "pending_listing_count_yy": -0.2105,
         "pending_ratio": 0.0625,
         "pending_ratio_mm": -0.0479,
         "pending_ratio_yy": -0.0246,
         "price_increased_count": 0,
         "price_increased_count_mm": -1,
         "price_increased_count_yy": -1,
         "price_reduced_count": 4,
         "price_reduced_count_mm": -0.4,
         "price_reduced_count_yy": -0.5484,
         "total_listing_count": 33,
         "total_listing_count_mm": -0.0714,
         "total_listing_count_yy": -0.2135
        },
        {
         "_deepnote_index_column": "50%",
         "active_listing_count": 45,
         "active_listing_count_mm": 0,
         "active_listing_count_yy": -0.1111,
         "average_listing_price": 317758.0664,
         "average_listing_price_mm": 0.0029,
         "average_listing_price_yy": 0.0532,
         "median_days_on_market": 68,
         "median_days_on_market_mm": 0.047619048,
         "median_days_on_market_yy": -0.073170732,
         "median_listing_price": 269450,
         "median_listing_price_mm": 0,
         "median_listing_price_per_square_foot": 128.1988743,
         "median_listing_price_per_square_foot_mm": 0.0009,
         "median_listing_price_per_square_foot_yy": 0.054,
         "median_listing_price_yy": 0.0495,
         "median_square_feet": 1806.5,
         "median_square_feet_mm": 0,
         "median_square_feet_yy": 0,
         "new_listing_count": 16,
         "new_listing_count_mm": 0,
         "new_listing_count_yy": 0,
         "pending_listing_count": 12,
         "pending_listing_count_mm": 0,
         "pending_listing_count_yy": 0.0667,
         "pending_ratio": 0.275862069,
         "pending_ratio_mm": 0,
         "pending_ratio_yy": 0.0393,
         "price_increased_count": 0,
         "price_increased_count_mm": -0.5,
         "price_increased_count_yy": -0.6667,
         "price_reduced_count": 8,
         "price_reduced_count_mm": 0,
         "price_reduced_count_yy": -0.1538,
         "total_listing_count": 66,
         "total_listing_count_mm": 0,
         "total_listing_count_yy": -0.05
        },
        {
         "_deepnote_index_column": "75%",
         "active_listing_count": 88,
         "active_listing_count_mm": 0.0741,
         "active_listing_count_yy": 0.0851,
         "average_listing_price": 499878.02015,
         "average_listing_price_mm": 0.0363,
         "average_listing_price_yy": 0.1622,
         "median_days_on_market": 99,
         "median_days_on_market_mm": 0.1875,
         "median_days_on_market_yy": 0.137724551,
         "median_listing_price": 410000,
         "median_listing_price_mm": 0.0354,
         "median_listing_price_per_square_foot": 183.41972385,
         "median_listing_price_per_square_foot_mm": 0.0261,
         "median_listing_price_per_square_foot_yy": 0.13,
         "median_listing_price_yy": 0.1451,
         "median_square_feet": 2195,
         "median_square_feet_mm": 0.0272,
         "median_square_feet_yy": 0.079,
         "new_listing_count": 32,
         "new_listing_count_mm": 0.2857,
         "new_listing_count_yy": 0.25,
         "pending_listing_count": 40,
         "pending_listing_count_mm": 0.2,
         "pending_listing_count_yy": 0.6,
         "pending_ratio": 0.641025641,
         "pending_ratio_mm": 0.07,
         "pending_ratio_yy": 0.2646,
         "price_increased_count": 0,
         "price_increased_count_mm": 0,
         "price_increased_count_yy": 0,
         "price_reduced_count": 20,
         "price_reduced_count_mm": 0.25,
         "price_reduced_count_yy": 0.1786,
         "total_listing_count": 128,
         "total_listing_count_mm": 0.0769,
         "total_listing_count_yy": 0.1626
        },
        {
         "_deepnote_index_column": "max",
         "active_listing_count": 2670,
         "active_listing_count_mm": 68,
         "active_listing_count_yy": 65.3333,
         "average_listing_price": 26200000,
         "average_listing_price_mm": 58.702,
         "average_listing_price_yy": 43.1768,
         "median_days_on_market": 1946.5,
         "median_days_on_market_mm": 33.73913043,
         "median_days_on_market_yy": 12.64197531,
         "median_listing_price": 19800000,
         "median_listing_price_mm": 44,
         "median_listing_price_per_square_foot": 4572.118703,
         "median_listing_price_per_square_foot_mm": 80842.5852,
         "median_listing_price_per_square_foot_yy": 50278.2176,
         "median_listing_price_yy": 21.8852,
         "median_square_feet": 9403.5,
         "median_square_feet_mm": 9883.6154,
         "median_square_feet_yy": 4631,
         "new_listing_count": 772,
         "new_listing_count_mm": 29,
         "new_listing_count_yy": 29,
         "pending_listing_count": 2348,
         "pending_listing_count_mm": 154,
         "pending_listing_count_yy": 599,
         "pending_ratio": 24,
         "pending_ratio_mm": 19.3784,
         "pending_ratio_yy": 20.5385,
         "price_increased_count": 256,
         "price_increased_count_mm": 24,
         "price_increased_count_yy": 39,
         "price_reduced_count": 468,
         "price_reduced_count_mm": 24,
         "price_reduced_count_yy": 33,
         "total_listing_count": 3005,
         "total_listing_count_mm": 72,
         "total_listing_count_yy": 353
        }
       ]
      },
      "text/html": [
       "<div>\n",
       "<style scoped>\n",
       "    .dataframe tbody tr th:only-of-type {\n",
       "        vertical-align: middle;\n",
       "    }\n",
       "\n",
       "    .dataframe tbody tr th {\n",
       "        vertical-align: top;\n",
       "    }\n",
       "\n",
       "    .dataframe thead th {\n",
       "        text-align: right;\n",
       "    }\n",
       "</style>\n",
       "<table border=\"1\" class=\"dataframe\">\n",
       "  <thead>\n",
       "    <tr style=\"text-align: right;\">\n",
       "      <th></th>\n",
       "      <th>median_listing_price</th>\n",
       "      <th>median_listing_price_mm</th>\n",
       "      <th>median_listing_price_yy</th>\n",
       "      <th>active_listing_count</th>\n",
       "      <th>active_listing_count_mm</th>\n",
       "      <th>active_listing_count_yy</th>\n",
       "      <th>median_days_on_market</th>\n",
       "      <th>median_days_on_market_mm</th>\n",
       "      <th>median_days_on_market_yy</th>\n",
       "      <th>new_listing_count</th>\n",
       "      <th>...</th>\n",
       "      <th>median_square_feet_yy</th>\n",
       "      <th>average_listing_price</th>\n",
       "      <th>average_listing_price_mm</th>\n",
       "      <th>average_listing_price_yy</th>\n",
       "      <th>total_listing_count</th>\n",
       "      <th>total_listing_count_mm</th>\n",
       "      <th>total_listing_count_yy</th>\n",
       "      <th>pending_ratio</th>\n",
       "      <th>pending_ratio_mm</th>\n",
       "      <th>pending_ratio_yy</th>\n",
       "    </tr>\n",
       "  </thead>\n",
       "  <tbody>\n",
       "    <tr>\n",
       "      <th>count</th>\n",
       "      <td>9.130830e+05</td>\n",
       "      <td>714901.000000</td>\n",
       "      <td>655505.000000</td>\n",
       "      <td>913083.000000</td>\n",
       "      <td>714900.000000</td>\n",
       "      <td>656222.000000</td>\n",
       "      <td>913083.000000</td>\n",
       "      <td>714901.000000</td>\n",
       "      <td>650146.000000</td>\n",
       "      <td>913083.000000</td>\n",
       "      <td>...</td>\n",
       "      <td>669887.000000</td>\n",
       "      <td>9.130830e+05</td>\n",
       "      <td>714901.000000</td>\n",
       "      <td>714756.000000</td>\n",
       "      <td>913083.000000</td>\n",
       "      <td>714901.000000</td>\n",
       "      <td>714756.000000</td>\n",
       "      <td>913083.000000</td>\n",
       "      <td>714900.000000</td>\n",
       "      <td>714747.000000</td>\n",
       "    </tr>\n",
       "    <tr>\n",
       "      <th>mean</th>\n",
       "      <td>3.588742e+05</td>\n",
       "      <td>0.008641</td>\n",
       "      <td>0.066976</td>\n",
       "      <td>72.747935</td>\n",
       "      <td>0.006479</td>\n",
       "      <td>-0.069880</td>\n",
       "      <td>81.037339</td>\n",
       "      <td>0.041977</td>\n",
       "      <td>-0.022100</td>\n",
       "      <td>24.473885</td>\n",
       "      <td>...</td>\n",
       "      <td>0.021175</td>\n",
       "      <td>4.582237e+05</td>\n",
       "      <td>0.008409</td>\n",
       "      <td>0.086662</td>\n",
       "      <td>103.434069</td>\n",
       "      <td>0.019697</td>\n",
       "      <td>0.050146</td>\n",
       "      <td>0.502002</td>\n",
       "      <td>0.027384</td>\n",
       "      <td>0.209522</td>\n",
       "    </tr>\n",
       "    <tr>\n",
       "      <th>std</th>\n",
       "      <td>3.841025e+05</td>\n",
       "      <td>0.118361</td>\n",
       "      <td>0.198931</td>\n",
       "      <td>86.808246</td>\n",
       "      <td>0.214548</td>\n",
       "      <td>0.446134</td>\n",
       "      <td>56.314640</td>\n",
       "      <td>0.294231</td>\n",
       "      <td>0.425191</td>\n",
       "      <td>28.445996</td>\n",
       "      <td>...</td>\n",
       "      <td>6.142771</td>\n",
       "      <td>5.912597e+05</td>\n",
       "      <td>0.160828</td>\n",
       "      <td>0.316690</td>\n",
       "      <td>118.222269</td>\n",
       "      <td>0.220425</td>\n",
       "      <td>0.961373</td>\n",
       "      <td>0.718522</td>\n",
       "      <td>0.338308</td>\n",
       "      <td>0.634399</td>\n",
       "    </tr>\n",
       "    <tr>\n",
       "      <th>min</th>\n",
       "      <td>5.000000e+01</td>\n",
       "      <td>-0.998500</td>\n",
       "      <td>-0.999200</td>\n",
       "      <td>13.000000</td>\n",
       "      <td>-0.811200</td>\n",
       "      <td>-0.873900</td>\n",
       "      <td>0.000000</td>\n",
       "      <td>-0.977778</td>\n",
       "      <td>-0.981002</td>\n",
       "      <td>0.000000</td>\n",
       "      <td>...</td>\n",
       "      <td>-1.000000</td>\n",
       "      <td>1.650000e+03</td>\n",
       "      <td>-0.971100</td>\n",
       "      <td>-0.988600</td>\n",
       "      <td>13.000000</td>\n",
       "      <td>-0.840000</td>\n",
       "      <td>-0.907200</td>\n",
       "      <td>0.000000</td>\n",
       "      <td>-14.087700</td>\n",
       "      <td>-21.076900</td>\n",
       "    </tr>\n",
       "    <tr>\n",
       "      <th>25%</th>\n",
       "      <td>1.739500e+05</td>\n",
       "      <td>-0.028300</td>\n",
       "      <td>-0.033400</td>\n",
       "      <td>24.000000</td>\n",
       "      <td>-0.087000</td>\n",
       "      <td>-0.292300</td>\n",
       "      <td>47.000000</td>\n",
       "      <td>-0.114228</td>\n",
       "      <td>-0.260504</td>\n",
       "      <td>4.000000</td>\n",
       "      <td>...</td>\n",
       "      <td>-0.073000</td>\n",
       "      <td>2.094422e+05</td>\n",
       "      <td>-0.027900</td>\n",
       "      <td>-0.037600</td>\n",
       "      <td>33.000000</td>\n",
       "      <td>-0.071400</td>\n",
       "      <td>-0.213500</td>\n",
       "      <td>0.062500</td>\n",
       "      <td>-0.047900</td>\n",
       "      <td>-0.024600</td>\n",
       "    </tr>\n",
       "    <tr>\n",
       "      <th>50%</th>\n",
       "      <td>2.694500e+05</td>\n",
       "      <td>0.000000</td>\n",
       "      <td>0.049500</td>\n",
       "      <td>45.000000</td>\n",
       "      <td>0.000000</td>\n",
       "      <td>-0.111100</td>\n",
       "      <td>68.000000</td>\n",
       "      <td>0.047619</td>\n",
       "      <td>-0.073171</td>\n",
       "      <td>16.000000</td>\n",
       "      <td>...</td>\n",
       "      <td>0.000000</td>\n",
       "      <td>3.177581e+05</td>\n",
       "      <td>0.002900</td>\n",
       "      <td>0.053200</td>\n",
       "      <td>66.000000</td>\n",
       "      <td>0.000000</td>\n",
       "      <td>-0.050000</td>\n",
       "      <td>0.275862</td>\n",
       "      <td>0.000000</td>\n",
       "      <td>0.039300</td>\n",
       "    </tr>\n",
       "    <tr>\n",
       "      <th>75%</th>\n",
       "      <td>4.100000e+05</td>\n",
       "      <td>0.035400</td>\n",
       "      <td>0.145100</td>\n",
       "      <td>88.000000</td>\n",
       "      <td>0.074100</td>\n",
       "      <td>0.085100</td>\n",
       "      <td>99.000000</td>\n",
       "      <td>0.187500</td>\n",
       "      <td>0.137725</td>\n",
       "      <td>32.000000</td>\n",
       "      <td>...</td>\n",
       "      <td>0.079000</td>\n",
       "      <td>4.998780e+05</td>\n",
       "      <td>0.036300</td>\n",
       "      <td>0.162200</td>\n",
       "      <td>128.000000</td>\n",
       "      <td>0.076900</td>\n",
       "      <td>0.162600</td>\n",
       "      <td>0.641026</td>\n",
       "      <td>0.070000</td>\n",
       "      <td>0.264600</td>\n",
       "    </tr>\n",
       "    <tr>\n",
       "      <th>max</th>\n",
       "      <td>1.980000e+07</td>\n",
       "      <td>44.000000</td>\n",
       "      <td>21.885200</td>\n",
       "      <td>2670.000000</td>\n",
       "      <td>68.000000</td>\n",
       "      <td>65.333300</td>\n",
       "      <td>1946.500000</td>\n",
       "      <td>33.739130</td>\n",
       "      <td>12.641975</td>\n",
       "      <td>772.000000</td>\n",
       "      <td>...</td>\n",
       "      <td>4631.000000</td>\n",
       "      <td>2.620000e+07</td>\n",
       "      <td>58.702000</td>\n",
       "      <td>43.176800</td>\n",
       "      <td>3005.000000</td>\n",
       "      <td>72.000000</td>\n",
       "      <td>353.000000</td>\n",
       "      <td>24.000000</td>\n",
       "      <td>19.378400</td>\n",
       "      <td>20.538500</td>\n",
       "    </tr>\n",
       "  </tbody>\n",
       "</table>\n",
       "<p>8 rows × 36 columns</p>\n",
       "</div>"
      ],
      "text/plain": [
       "       median_listing_price  median_listing_price_mm  median_listing_price_yy  \\\n",
       "count          9.130830e+05            714901.000000            655505.000000   \n",
       "mean           3.588742e+05                 0.008641                 0.066976   \n",
       "std            3.841025e+05                 0.118361                 0.198931   \n",
       "min            5.000000e+01                -0.998500                -0.999200   \n",
       "25%            1.739500e+05                -0.028300                -0.033400   \n",
       "50%            2.694500e+05                 0.000000                 0.049500   \n",
       "75%            4.100000e+05                 0.035400                 0.145100   \n",
       "max            1.980000e+07                44.000000                21.885200   \n",
       "\n",
       "       active_listing_count  active_listing_count_mm  active_listing_count_yy  \\\n",
       "count         913083.000000            714900.000000            656222.000000   \n",
       "mean              72.747935                 0.006479                -0.069880   \n",
       "std               86.808246                 0.214548                 0.446134   \n",
       "min               13.000000                -0.811200                -0.873900   \n",
       "25%               24.000000                -0.087000                -0.292300   \n",
       "50%               45.000000                 0.000000                -0.111100   \n",
       "75%               88.000000                 0.074100                 0.085100   \n",
       "max             2670.000000                68.000000                65.333300   \n",
       "\n",
       "       median_days_on_market  median_days_on_market_mm  \\\n",
       "count          913083.000000             714901.000000   \n",
       "mean               81.037339                  0.041977   \n",
       "std                56.314640                  0.294231   \n",
       "min                 0.000000                 -0.977778   \n",
       "25%                47.000000                 -0.114228   \n",
       "50%                68.000000                  0.047619   \n",
       "75%                99.000000                  0.187500   \n",
       "max              1946.500000                 33.739130   \n",
       "\n",
       "       median_days_on_market_yy  new_listing_count  ...  \\\n",
       "count             650146.000000      913083.000000  ...   \n",
       "mean                  -0.022100          24.473885  ...   \n",
       "std                    0.425191          28.445996  ...   \n",
       "min                   -0.981002           0.000000  ...   \n",
       "25%                   -0.260504           4.000000  ...   \n",
       "50%                   -0.073171          16.000000  ...   \n",
       "75%                    0.137725          32.000000  ...   \n",
       "max                   12.641975         772.000000  ...   \n",
       "\n",
       "       median_square_feet_yy  average_listing_price  average_listing_price_mm  \\\n",
       "count          669887.000000           9.130830e+05             714901.000000   \n",
       "mean                0.021175           4.582237e+05                  0.008409   \n",
       "std                 6.142771           5.912597e+05                  0.160828   \n",
       "min                -1.000000           1.650000e+03                 -0.971100   \n",
       "25%                -0.073000           2.094422e+05                 -0.027900   \n",
       "50%                 0.000000           3.177581e+05                  0.002900   \n",
       "75%                 0.079000           4.998780e+05                  0.036300   \n",
       "max              4631.000000           2.620000e+07                 58.702000   \n",
       "\n",
       "       average_listing_price_yy  total_listing_count  total_listing_count_mm  \\\n",
       "count             714756.000000        913083.000000           714901.000000   \n",
       "mean                   0.086662           103.434069                0.019697   \n",
       "std                    0.316690           118.222269                0.220425   \n",
       "min                   -0.988600            13.000000               -0.840000   \n",
       "25%                   -0.037600            33.000000               -0.071400   \n",
       "50%                    0.053200            66.000000                0.000000   \n",
       "75%                    0.162200           128.000000                0.076900   \n",
       "max                   43.176800          3005.000000               72.000000   \n",
       "\n",
       "       total_listing_count_yy  pending_ratio  pending_ratio_mm  \\\n",
       "count           714756.000000  913083.000000     714900.000000   \n",
       "mean                 0.050146       0.502002          0.027384   \n",
       "std                  0.961373       0.718522          0.338308   \n",
       "min                 -0.907200       0.000000        -14.087700   \n",
       "25%                 -0.213500       0.062500         -0.047900   \n",
       "50%                 -0.050000       0.275862          0.000000   \n",
       "75%                  0.162600       0.641026          0.070000   \n",
       "max                353.000000      24.000000         19.378400   \n",
       "\n",
       "       pending_ratio_yy  \n",
       "count     714747.000000  \n",
       "mean           0.209522  \n",
       "std            0.634399  \n",
       "min          -21.076900  \n",
       "25%           -0.024600  \n",
       "50%            0.039300  \n",
       "75%            0.264600  \n",
       "max           20.538500  \n",
       "\n",
       "[8 rows x 36 columns]"
      ]
     },
     "execution_count": 9,
     "metadata": {},
     "output_type": "execute_result"
    }
   ],
   "source": [
    "core_metrics_by_zip.describe()"
   ]
  },
  {
   "cell_type": "code",
   "execution_count": null,
   "metadata": {
    "cell_id": "50bd2250c00e4a6f8025141f5e91d219",
    "deepnote_cell_height": 517.875,
    "deepnote_cell_type": "code",
    "deepnote_to_be_reexecuted": true,
    "execution_millis": 320,
    "execution_start": 1649719228342,
    "source_hash": "a1c51194",
    "tags": []
   },
   "outputs": [
    {
     "data": {
      "application/vnd.deepnote.dataframe.v3+json": {
       "column_count": 22,
       "columns": [
        {
         "dtype": "float64",
         "name": "cbsa_code",
         "stats": {
          "histogram": [
           {
            "bin_end": 15752.4,
            "bin_start": 10100,
            "count": 2
           },
           {
            "bin_end": 21404.8,
            "bin_start": 15752.4,
            "count": 1
           },
           {
            "bin_end": 27057.199999999997,
            "bin_start": 21404.8,
            "count": 0
           },
           {
            "bin_end": 32709.6,
            "bin_start": 27057.199999999997,
            "count": 2
           },
           {
            "bin_end": 38362,
            "bin_start": 32709.6,
            "count": 0
           },
           {
            "bin_end": 44014.399999999994,
            "bin_start": 38362,
            "count": 1
           },
           {
            "bin_end": 49666.799999999996,
            "bin_start": 44014.399999999994,
            "count": 0
           },
           {
            "bin_end": 55319.2,
            "bin_start": 49666.799999999996,
            "count": 1
           },
           {
            "bin_end": 60971.6,
            "bin_start": 55319.2,
            "count": 0
           },
           {
            "bin_end": 66624,
            "bin_start": 60971.6,
            "count": 1
           }
          ],
          "max": "66624.0",
          "min": "10100.0",
          "nan_count": 0,
          "unique_count": 8
         }
        },
        {
         "dtype": "float64",
         "name": "nielsen_hh_rank",
         "stats": {
          "histogram": [
           {
            "bin_end": 6663.3,
            "bin_start": 1,
            "count": 7
           },
           {
            "bin_end": 13325.6,
            "bin_start": 6663.3,
            "count": 0
           },
           {
            "bin_end": 19987.9,
            "bin_start": 13325.6,
            "count": 0
           },
           {
            "bin_end": 26650.2,
            "bin_start": 19987.9,
            "count": 0
           },
           {
            "bin_end": 33312.5,
            "bin_start": 26650.2,
            "count": 0
           },
           {
            "bin_end": 39974.8,
            "bin_start": 33312.5,
            "count": 0
           },
           {
            "bin_end": 46637.1,
            "bin_start": 39974.8,
            "count": 0
           },
           {
            "bin_end": 53299.4,
            "bin_start": 46637.1,
            "count": 0
           },
           {
            "bin_end": 59961.700000000004,
            "bin_start": 53299.4,
            "count": 0
           },
           {
            "bin_end": 66624,
            "bin_start": 59961.700000000004,
            "count": 1
           }
          ],
          "max": "66624.0",
          "min": "1.0",
          "nan_count": 0,
          "unique_count": 7
         }
        },
        {
         "dtype": "float64",
         "name": "hotness_rank",
         "stats": {
          "histogram": [
           {
            "bin_end": 7575.3,
            "bin_start": 1,
            "count": 7
           },
           {
            "bin_end": 15149.6,
            "bin_start": 7575.3,
            "count": 0
           },
           {
            "bin_end": 22723.9,
            "bin_start": 15149.6,
            "count": 0
           },
           {
            "bin_end": 30298.2,
            "bin_start": 22723.9,
            "count": 0
           },
           {
            "bin_end": 37872.5,
            "bin_start": 30298.2,
            "count": 0
           },
           {
            "bin_end": 45446.8,
            "bin_start": 37872.5,
            "count": 0
           },
           {
            "bin_end": 53021.1,
            "bin_start": 45446.8,
            "count": 0
           },
           {
            "bin_end": 60595.4,
            "bin_start": 53021.1,
            "count": 0
           },
           {
            "bin_end": 68169.7,
            "bin_start": 60595.4,
            "count": 0
           },
           {
            "bin_end": 75744,
            "bin_start": 68169.7,
            "count": 1
           }
          ],
          "max": "75744.0",
          "min": "1.0",
          "nan_count": 0,
          "unique_count": 8
         }
        },
        {
         "dtype": "float64",
         "name": "hotness_rank_mm",
         "stats": {
          "histogram": [
           {
            "bin_end": 4862.7,
            "bin_start": -909,
            "count": 7
           },
           {
            "bin_end": 10634.4,
            "bin_start": 4862.7,
            "count": 0
           },
           {
            "bin_end": 16406.1,
            "bin_start": 10634.4,
            "count": 0
           },
           {
            "bin_end": 22177.8,
            "bin_start": 16406.1,
            "count": 0
           },
           {
            "bin_end": 27949.5,
            "bin_start": 22177.8,
            "count": 0
           },
           {
            "bin_end": 33721.2,
            "bin_start": 27949.5,
            "count": 0
           },
           {
            "bin_end": 39492.9,
            "bin_start": 33721.2,
            "count": 0
           },
           {
            "bin_end": 45264.6,
            "bin_start": 39492.9,
            "count": 0
           },
           {
            "bin_end": 51036.299999999996,
            "bin_start": 45264.6,
            "count": 0
           },
           {
            "bin_end": 56808,
            "bin_start": 51036.299999999996,
            "count": 1
           }
          ],
          "max": "56808.0",
          "min": "-909.0",
          "nan_count": 0,
          "unique_count": 8
         }
        },
        {
         "dtype": "float64",
         "name": "hotness_rank_yy",
         "stats": {
          "histogram": [
           {
            "bin_end": 4347,
            "bin_start": -1482,
            "count": 7
           },
           {
            "bin_end": 10176,
            "bin_start": 4347,
            "count": 0
           },
           {
            "bin_end": 16005,
            "bin_start": 10176,
            "count": 0
           },
           {
            "bin_end": 21834,
            "bin_start": 16005,
            "count": 0
           },
           {
            "bin_end": 27663,
            "bin_start": 21834,
            "count": 0
           },
           {
            "bin_end": 33492,
            "bin_start": 27663,
            "count": 0
           },
           {
            "bin_end": 39321,
            "bin_start": 33492,
            "count": 0
           },
           {
            "bin_end": 45150,
            "bin_start": 39321,
            "count": 0
           },
           {
            "bin_end": 50979,
            "bin_start": 45150,
            "count": 0
           },
           {
            "bin_end": 56808,
            "bin_start": 50979,
            "count": 1
           }
          ],
          "max": "56808.0",
          "min": "-1482.0",
          "nan_count": 0,
          "unique_count": 8
         }
        },
        {
         "dtype": "float64",
         "name": "hotness_score",
         "stats": {
          "histogram": [
           {
            "bin_end": 7574.542676100001,
            "bin_start": 0.158529,
            "count": 7
           },
           {
            "bin_end": 15148.926823200001,
            "bin_start": 7574.542676100001,
            "count": 0
           },
           {
            "bin_end": 22723.3109703,
            "bin_start": 15148.926823200001,
            "count": 0
           },
           {
            "bin_end": 30297.695117400002,
            "bin_start": 22723.3109703,
            "count": 0
           },
           {
            "bin_end": 37872.079264500004,
            "bin_start": 30297.695117400002,
            "count": 0
           },
           {
            "bin_end": 45446.4634116,
            "bin_start": 37872.079264500004,
            "count": 0
           },
           {
            "bin_end": 53020.84755870001,
            "bin_start": 45446.4634116,
            "count": 0
           },
           {
            "bin_end": 60595.231705800004,
            "bin_start": 53020.84755870001,
            "count": 0
           },
           {
            "bin_end": 68169.6158529,
            "bin_start": 60595.231705800004,
            "count": 0
           },
           {
            "bin_end": 75744,
            "bin_start": 68169.6158529,
            "count": 1
           }
          ],
          "max": "75744.0",
          "min": "0.158529",
          "nan_count": 0,
          "unique_count": 8
         }
        },
        {
         "dtype": "float64",
         "name": "supply_score",
         "stats": {
          "histogram": [
           {
            "bin_end": 7574.4,
            "bin_start": 0,
            "count": 7
           },
           {
            "bin_end": 15148.8,
            "bin_start": 7574.4,
            "count": 0
           },
           {
            "bin_end": 22723.199999999997,
            "bin_start": 15148.8,
            "count": 0
           },
           {
            "bin_end": 30297.6,
            "bin_start": 22723.199999999997,
            "count": 0
           },
           {
            "bin_end": 37872,
            "bin_start": 30297.6,
            "count": 0
           },
           {
            "bin_end": 45446.399999999994,
            "bin_start": 37872,
            "count": 0
           },
           {
            "bin_end": 53020.799999999996,
            "bin_start": 45446.399999999994,
            "count": 0
           },
           {
            "bin_end": 60595.2,
            "bin_start": 53020.799999999996,
            "count": 0
           },
           {
            "bin_end": 68169.59999999999,
            "bin_start": 60595.2,
            "count": 0
           },
           {
            "bin_end": 75744,
            "bin_start": 68169.59999999999,
            "count": 1
           }
          ],
          "max": "75744.0",
          "min": "0.0",
          "nan_count": 0,
          "unique_count": 8
         }
        },
        {
         "dtype": "float64",
         "name": "demand_score",
         "stats": {
          "histogram": [
           {
            "bin_end": 7574.4,
            "bin_start": 0,
            "count": 7
           },
           {
            "bin_end": 15148.8,
            "bin_start": 7574.4,
            "count": 0
           },
           {
            "bin_end": 22723.199999999997,
            "bin_start": 15148.8,
            "count": 0
           },
           {
            "bin_end": 30297.6,
            "bin_start": 22723.199999999997,
            "count": 0
           },
           {
            "bin_end": 37872,
            "bin_start": 30297.6,
            "count": 0
           },
           {
            "bin_end": 45446.399999999994,
            "bin_start": 37872,
            "count": 0
           },
           {
            "bin_end": 53020.799999999996,
            "bin_start": 45446.399999999994,
            "count": 0
           },
           {
            "bin_end": 60595.2,
            "bin_start": 53020.799999999996,
            "count": 0
           },
           {
            "bin_end": 68169.59999999999,
            "bin_start": 60595.2,
            "count": 0
           },
           {
            "bin_end": 75744,
            "bin_start": 68169.59999999999,
            "count": 1
           }
          ],
          "max": "75744.0",
          "min": "0.0",
          "nan_count": 0,
          "unique_count": 8
         }
        },
        {
         "dtype": "float64",
         "name": "median_days_on_market",
         "stats": {
          "histogram": [
           {
            "bin_end": 7577.1,
            "bin_start": 3,
            "count": 7
           },
           {
            "bin_end": 15151.2,
            "bin_start": 7577.1,
            "count": 0
           },
           {
            "bin_end": 22725.300000000003,
            "bin_start": 15151.2,
            "count": 0
           },
           {
            "bin_end": 30299.4,
            "bin_start": 22725.300000000003,
            "count": 0
           },
           {
            "bin_end": 37873.5,
            "bin_start": 30299.4,
            "count": 0
           },
           {
            "bin_end": 45447.600000000006,
            "bin_start": 37873.5,
            "count": 0
           },
           {
            "bin_end": 53021.700000000004,
            "bin_start": 45447.600000000006,
            "count": 0
           },
           {
            "bin_end": 60595.8,
            "bin_start": 53021.700000000004,
            "count": 0
           },
           {
            "bin_end": 68169.90000000001,
            "bin_start": 60595.8,
            "count": 0
           },
           {
            "bin_end": 75744,
            "bin_start": 68169.90000000001,
            "count": 1
           }
          ],
          "max": "75744.0",
          "min": "3.0",
          "nan_count": 0,
          "unique_count": 8
         }
        },
        {
         "dtype": "float64",
         "name": "median_days_on_market_mm",
         "stats": {
          "histogram": [
           {
            "bin_end": 5679.9312614262,
            "bin_start": -0.965265082,
            "count": 7
           },
           {
            "bin_end": 11360.827787934399,
            "bin_start": 5679.9312614262,
            "count": 0
           },
           {
            "bin_end": 17041.7243144426,
            "bin_start": 11360.827787934399,
            "count": 0
           },
           {
            "bin_end": 22722.6208409508,
            "bin_start": 17041.7243144426,
            "count": 0
           },
           {
            "bin_end": 28403.517367459,
            "bin_start": 22722.6208409508,
            "count": 0
           },
           {
            "bin_end": 34084.4138939672,
            "bin_start": 28403.517367459,
            "count": 0
           },
           {
            "bin_end": 39765.3104204754,
            "bin_start": 34084.4138939672,
            "count": 0
           },
           {
            "bin_end": 45446.2069469836,
            "bin_start": 39765.3104204754,
            "count": 0
           },
           {
            "bin_end": 51127.1034734918,
            "bin_start": 45446.2069469836,
            "count": 0
           },
           {
            "bin_end": 56808,
            "bin_start": 51127.1034734918,
            "count": 1
           }
          ],
          "max": "56808.0",
          "min": "-0.965265082",
          "nan_count": 0,
          "unique_count": 8
         }
        },
        {
         "dtype": "float64",
         "name": "median_dom_mm_day",
         "stats": {
          "histogram": [
           {
            "bin_end": 4999.05,
            "bin_start": -757.5,
            "count": 7
           },
           {
            "bin_end": 10755.6,
            "bin_start": 4999.05,
            "count": 0
           },
           {
            "bin_end": 16512.15,
            "bin_start": 10755.6,
            "count": 0
           },
           {
            "bin_end": 22268.7,
            "bin_start": 16512.15,
            "count": 0
           },
           {
            "bin_end": 28025.25,
            "bin_start": 22268.7,
            "count": 0
           },
           {
            "bin_end": 33781.8,
            "bin_start": 28025.25,
            "count": 0
           },
           {
            "bin_end": 39538.35,
            "bin_start": 33781.8,
            "count": 0
           },
           {
            "bin_end": 45294.9,
            "bin_start": 39538.35,
            "count": 0
           },
           {
            "bin_end": 51051.450000000004,
            "bin_start": 45294.9,
            "count": 0
           },
           {
            "bin_end": 56808,
            "bin_start": 51051.450000000004,
            "count": 1
           }
          ],
          "max": "56808.0",
          "min": "-757.5",
          "nan_count": 0,
          "unique_count": 8
         }
        },
        {
         "dtype": "float64",
         "name": "median_days_on_market_yy",
         "stats": {
          "histogram": [
           {
            "bin_end": 5679.9783870966,
            "bin_start": -0.912903226,
            "count": 7
           },
           {
            "bin_end": 11360.8696774192,
            "bin_start": 5679.9783870966,
            "count": 0
           },
           {
            "bin_end": 17041.7609677418,
            "bin_start": 11360.8696774192,
            "count": 0
           },
           {
            "bin_end": 22722.6522580644,
            "bin_start": 17041.7609677418,
            "count": 0
           },
           {
            "bin_end": 28403.543548387002,
            "bin_start": 22722.6522580644,
            "count": 0
           },
           {
            "bin_end": 34084.434838709596,
            "bin_start": 28403.543548387002,
            "count": 0
           },
           {
            "bin_end": 39765.3261290322,
            "bin_start": 34084.434838709596,
            "count": 0
           },
           {
            "bin_end": 45446.2174193548,
            "bin_start": 39765.3261290322,
            "count": 0
           },
           {
            "bin_end": 51127.1087096774,
            "bin_start": 45446.2174193548,
            "count": 0
           },
           {
            "bin_end": 56808,
            "bin_start": 51127.1087096774,
            "count": 1
           }
          ],
          "max": "56808.0",
          "min": "-0.912903226",
          "nan_count": 0,
          "unique_count": 8
         }
        },
        {
         "dtype": "float64",
         "name": "median_dom_yy_day",
         "stats": {
          "histogram": [
           {
            "bin_end": 5422.95,
            "bin_start": -286.5,
            "count": 7
           },
           {
            "bin_end": 11132.4,
            "bin_start": 5422.95,
            "count": 0
           },
           {
            "bin_end": 16841.85,
            "bin_start": 11132.4,
            "count": 0
           },
           {
            "bin_end": 22551.3,
            "bin_start": 16841.85,
            "count": 0
           },
           {
            "bin_end": 28260.75,
            "bin_start": 22551.3,
            "count": 0
           },
           {
            "bin_end": 33970.2,
            "bin_start": 28260.75,
            "count": 0
           },
           {
            "bin_end": 39679.65,
            "bin_start": 33970.2,
            "count": 0
           },
           {
            "bin_end": 45389.1,
            "bin_start": 39679.65,
            "count": 0
           },
           {
            "bin_end": 51098.549999999996,
            "bin_start": 45389.1,
            "count": 0
           },
           {
            "bin_end": 56808,
            "bin_start": 51098.549999999996,
            "count": 1
           }
          ],
          "max": "56808.0",
          "min": "-286.5",
          "nan_count": 0,
          "unique_count": 8
         }
        },
        {
         "dtype": "float64",
         "name": "median_dom_vs_us",
         "stats": {
          "histogram": [
           {
            "bin_end": 7511.4,
            "bin_start": -70,
            "count": 7
           },
           {
            "bin_end": 15092.8,
            "bin_start": 7511.4,
            "count": 0
           },
           {
            "bin_end": 22674.199999999997,
            "bin_start": 15092.8,
            "count": 0
           },
           {
            "bin_end": 30255.6,
            "bin_start": 22674.199999999997,
            "count": 0
           },
           {
            "bin_end": 37837,
            "bin_start": 30255.6,
            "count": 0
           },
           {
            "bin_end": 45418.399999999994,
            "bin_start": 37837,
            "count": 0
           },
           {
            "bin_end": 52999.799999999996,
            "bin_start": 45418.399999999994,
            "count": 0
           },
           {
            "bin_end": 60581.2,
            "bin_start": 52999.799999999996,
            "count": 0
           },
           {
            "bin_end": 68162.59999999999,
            "bin_start": 60581.2,
            "count": 0
           },
           {
            "bin_end": 75744,
            "bin_start": 68162.59999999999,
            "count": 1
           }
          ],
          "max": "75744.0",
          "min": "-70.0",
          "nan_count": 0,
          "unique_count": 8
         }
        },
        {
         "dtype": "float64",
         "name": "ldp_unique_viewers_per_property_mm",
         "stats": {
          "histogram": [
           {
            "bin_end": 5680.0185810813,
            "bin_start": -0.868243243,
            "count": 7
           },
           {
            "bin_end": 11360.9054054056,
            "bin_start": 5680.0185810813,
            "count": 0
           },
           {
            "bin_end": 17041.7922297299,
            "bin_start": 11360.9054054056,
            "count": 0
           },
           {
            "bin_end": 22722.6790540542,
            "bin_start": 17041.7922297299,
            "count": 0
           },
           {
            "bin_end": 28403.565878378497,
            "bin_start": 22722.6790540542,
            "count": 0
           },
           {
            "bin_end": 34084.4527027028,
            "bin_start": 28403.565878378497,
            "count": 0
           },
           {
            "bin_end": 39765.3395270271,
            "bin_start": 34084.4527027028,
            "count": 0
           },
           {
            "bin_end": 45446.2263513514,
            "bin_start": 39765.3395270271,
            "count": 0
           },
           {
            "bin_end": 51127.113175675695,
            "bin_start": 45446.2263513514,
            "count": 0
           },
           {
            "bin_end": 56808,
            "bin_start": 51127.113175675695,
            "count": 1
           }
          ],
          "max": "56808.0",
          "min": "-0.868243243",
          "nan_count": 0,
          "unique_count": 8
         }
        },
        {
         "dtype": "float64",
         "name": "ldp_unique_viewers_per_property_yy",
         "stats": {
          "histogram": [
           {
            "bin_end": 5680.0636363638005,
            "bin_start": -0.818181818,
            "count": 7
           },
           {
            "bin_end": 11360.945454545601,
            "bin_start": 5680.0636363638005,
            "count": 0
           },
           {
            "bin_end": 17041.827272727405,
            "bin_start": 11360.945454545601,
            "count": 0
           },
           {
            "bin_end": 22722.709090909204,
            "bin_start": 17041.827272727405,
            "count": 0
           },
           {
            "bin_end": 28403.590909091003,
            "bin_start": 22722.709090909204,
            "count": 0
           },
           {
            "bin_end": 34084.472727272805,
            "bin_start": 28403.590909091003,
            "count": 0
           },
           {
            "bin_end": 39765.354545454604,
            "bin_start": 34084.472727272805,
            "count": 0
           },
           {
            "bin_end": 45446.2363636364,
            "bin_start": 39765.354545454604,
            "count": 0
           },
           {
            "bin_end": 51127.1181818182,
            "bin_start": 45446.2363636364,
            "count": 0
           },
           {
            "bin_end": 56808,
            "bin_start": 51127.1181818182,
            "count": 1
           }
          ],
          "max": "56808.0",
          "min": "-0.818181818",
          "nan_count": 0,
          "unique_count": 8
         }
        },
        {
         "dtype": "float64",
         "name": "ldp_unique_viewers_per_property_vs_us",
         "stats": {
          "histogram": [
           {
            "bin_end": 7574.44356,
            "bin_start": 0.0484,
            "count": 7
           },
           {
            "bin_end": 15148.83872,
            "bin_start": 7574.44356,
            "count": 0
           },
           {
            "bin_end": 22723.23388,
            "bin_start": 15148.83872,
            "count": 0
           },
           {
            "bin_end": 30297.62904,
            "bin_start": 22723.23388,
            "count": 0
           },
           {
            "bin_end": 37872.0242,
            "bin_start": 30297.62904,
            "count": 0
           },
           {
            "bin_end": 45446.41936,
            "bin_start": 37872.0242,
            "count": 0
           },
           {
            "bin_end": 53020.81452,
            "bin_start": 45446.41936,
            "count": 0
           },
           {
            "bin_end": 60595.20968,
            "bin_start": 53020.81452,
            "count": 0
           },
           {
            "bin_end": 68169.60484,
            "bin_start": 60595.20968,
            "count": 0
           },
           {
            "bin_end": 75744,
            "bin_start": 68169.60484,
            "count": 1
           }
          ],
          "max": "75744.0",
          "min": "0.0484",
          "nan_count": 0,
          "unique_count": 8
         }
        },
        {
         "dtype": "float64",
         "name": "median_listing_price",
         "stats": {
          "histogram": [
           {
            "bin_end": 332300,
            "bin_start": 36000,
            "count": 7
           },
           {
            "bin_end": 628600,
            "bin_start": 332300,
            "count": 0
           },
           {
            "bin_end": 924900,
            "bin_start": 628600,
            "count": 0
           },
           {
            "bin_end": 1221200,
            "bin_start": 924900,
            "count": 0
           },
           {
            "bin_end": 1517500,
            "bin_start": 1221200,
            "count": 0
           },
           {
            "bin_end": 1813800,
            "bin_start": 1517500,
            "count": 0
           },
           {
            "bin_end": 2110100,
            "bin_start": 1813800,
            "count": 0
           },
           {
            "bin_end": 2406400,
            "bin_start": 2110100,
            "count": 0
           },
           {
            "bin_end": 2702700,
            "bin_start": 2406400,
            "count": 0
           },
           {
            "bin_end": 2999000,
            "bin_start": 2702700,
            "count": 1
           }
          ],
          "max": "2999000.0",
          "min": "36000.0",
          "nan_count": 0,
          "unique_count": 8
         }
        },
        {
         "dtype": "float64",
         "name": "median_listing_price_mm",
         "stats": {
          "histogram": [
           {
            "bin_end": 5680.1151550638,
            "bin_start": -0.760938818,
            "count": 7
           },
           {
            "bin_end": 11360.991248945598,
            "bin_start": 5680.1151550638,
            "count": 0
           },
           {
            "bin_end": 17041.867342827398,
            "bin_start": 11360.991248945598,
            "count": 0
           },
           {
            "bin_end": 22722.7434367092,
            "bin_start": 17041.867342827398,
            "count": 0
           },
           {
            "bin_end": 28403.619530591,
            "bin_start": 22722.7434367092,
            "count": 0
           },
           {
            "bin_end": 34084.495624472795,
            "bin_start": 28403.619530591,
            "count": 0
           },
           {
            "bin_end": 39765.371718354596,
            "bin_start": 34084.495624472795,
            "count": 0
           },
           {
            "bin_end": 45446.2478122364,
            "bin_start": 39765.371718354596,
            "count": 0
           },
           {
            "bin_end": 51127.1239061182,
            "bin_start": 45446.2478122364,
            "count": 0
           },
           {
            "bin_end": 56808,
            "bin_start": 51127.1239061182,
            "count": 1
           }
          ],
          "max": "56808.0",
          "min": "-0.760938818",
          "nan_count": 0,
          "unique_count": 8
         }
        },
        {
         "dtype": "float64",
         "name": "median_listing_price_yy",
         "stats": {
          "histogram": [
           {
            "bin_end": 5680.0379310345,
            "bin_start": -0.846743295,
            "count": 7
           },
           {
            "bin_end": 11360.922605364,
            "bin_start": 5680.0379310345,
            "count": 0
           },
           {
            "bin_end": 17041.8072796935,
            "bin_start": 11360.922605364,
            "count": 0
           },
           {
            "bin_end": 22722.691954023,
            "bin_start": 17041.8072796935,
            "count": 0
           },
           {
            "bin_end": 28403.5766283525,
            "bin_start": 22722.691954023,
            "count": 0
           },
           {
            "bin_end": 34084.461302682,
            "bin_start": 28403.5766283525,
            "count": 0
           },
           {
            "bin_end": 39765.3459770115,
            "bin_start": 34084.461302682,
            "count": 0
           },
           {
            "bin_end": 45446.230651341,
            "bin_start": 39765.3459770115,
            "count": 0
           },
           {
            "bin_end": 51127.1153256705,
            "bin_start": 45446.230651341,
            "count": 0
           },
           {
            "bin_end": 56808,
            "bin_start": 51127.1153256705,
            "count": 1
           }
          ],
          "max": "56808.0",
          "min": "-0.846743295",
          "nan_count": 0,
          "unique_count": 8
         }
        },
        {
         "dtype": "float64",
         "name": "median_listing_price_vs_us",
         "stats": {
          "histogram": [
           {
            "bin_end": 7574.49837,
            "bin_start": 0.1093,
            "count": 7
           },
           {
            "bin_end": 15148.88744,
            "bin_start": 7574.49837,
            "count": 0
           },
           {
            "bin_end": 22723.27651,
            "bin_start": 15148.88744,
            "count": 0
           },
           {
            "bin_end": 30297.66558,
            "bin_start": 22723.27651,
            "count": 0
           },
           {
            "bin_end": 37872.05465,
            "bin_start": 30297.66558,
            "count": 0
           },
           {
            "bin_end": 45446.443719999996,
            "bin_start": 37872.05465,
            "count": 0
           },
           {
            "bin_end": 53020.83279,
            "bin_start": 45446.443719999996,
            "count": 0
           },
           {
            "bin_end": 60595.22186,
            "bin_start": 53020.83279,
            "count": 0
           },
           {
            "bin_end": 68169.61093,
            "bin_start": 60595.22186,
            "count": 0
           },
           {
            "bin_end": 75744,
            "bin_start": 68169.61093,
            "count": 1
           }
          ],
          "max": "75744.0",
          "min": "0.1093",
          "nan_count": 0,
          "unique_count": 8
         }
        },
        {
         "dtype": "float64",
         "name": "quality_flag",
         "stats": {
          "histogram": [
           {
            "bin_end": 5680.8,
            "bin_start": 0,
            "count": 7
           },
           {
            "bin_end": 11361.6,
            "bin_start": 5680.8,
            "count": 0
           },
           {
            "bin_end": 17042.4,
            "bin_start": 11361.6,
            "count": 0
           },
           {
            "bin_end": 22723.2,
            "bin_start": 17042.4,
            "count": 0
           },
           {
            "bin_end": 28404,
            "bin_start": 22723.2,
            "count": 0
           },
           {
            "bin_end": 34084.8,
            "bin_start": 28404,
            "count": 0
           },
           {
            "bin_end": 39765.6,
            "bin_start": 34084.8,
            "count": 0
           },
           {
            "bin_end": 45446.4,
            "bin_start": 39765.6,
            "count": 0
           },
           {
            "bin_end": 51127.200000000004,
            "bin_start": 45446.4,
            "count": 0
           },
           {
            "bin_end": 56808,
            "bin_start": 51127.200000000004,
            "count": 1
           }
          ],
          "max": "56808.0",
          "min": "0.0",
          "nan_count": 0,
          "unique_count": 5
         }
        },
        {
         "dtype": "object",
         "name": "_deepnote_index_column"
        }
       ],
       "row_count": 8,
       "rows": [
        {
         "_deepnote_index_column": "count",
         "cbsa_code": 66624,
         "demand_score": 75744,
         "hotness_rank": 75744,
         "hotness_rank_mm": 56808,
         "hotness_rank_yy": 56808,
         "hotness_score": 75744,
         "ldp_unique_viewers_per_property_mm": 56808,
         "ldp_unique_viewers_per_property_vs_us": 75744,
         "ldp_unique_viewers_per_property_yy": 56808,
         "median_days_on_market": 75744,
         "median_days_on_market_mm": 56808,
         "median_days_on_market_yy": 56808,
         "median_dom_mm_day": 56808,
         "median_dom_vs_us": 75744,
         "median_dom_yy_day": 56808,
         "median_listing_price": 75744,
         "median_listing_price_mm": 56808,
         "median_listing_price_vs_us": 75744,
         "median_listing_price_yy": 56808,
         "nielsen_hh_rank": 66624,
         "quality_flag": 56808,
         "supply_score": 75744
        },
        {
         "_deepnote_index_column": "mean",
         "cbsa_code": 29553.695965417868,
         "demand_score": 49.99996734988203,
         "hotness_rank": 787.4945210181664,
         "hotness_rank_mm": 0.037723560061963105,
         "hotness_rank_yy": 0.40261934938741023,
         "hotness_score": 49.773393152923,
         "ldp_unique_viewers_per_property_mm": 0.05338182039705675,
         "ldp_unique_viewers_per_property_vs_us": 1.101100229721166,
         "ldp_unique_viewers_per_property_yy": 0.7143316179531933,
         "median_days_on_market": 77.42384875369666,
         "median_days_on_market_mm": 0.0052451818063476985,
         "median_days_on_market_yy": -0.05076533607998873,
         "median_dom_mm_day": -0.5465339388818476,
         "median_dom_vs_us": 12.100932087029996,
         "median_dom_yy_day": -5.854034643008027,
         "median_listing_price": 266937.108738459,
         "median_listing_price_mm": 0.007346414923655118,
         "median_listing_price_vs_us": 0.8419339459231094,
         "median_listing_price_yy": 0.07533198451809604,
         "nielsen_hh_rank": 694.5,
         "quality_flag": 0.04061047739754964,
         "supply_score": 49.546818954880166
        },
        {
         "_deepnote_index_column": "std",
         "cbsa_code": 11406.811841834724,
         "demand_score": 28.886011568484946,
         "hotness_rank": 453.5564672856346,
         "hotness_rank_mm": 136.08206421780258,
         "hotness_rank_yy": 254.5415418071096,
         "hotness_score": 24.035614481652843,
         "ldp_unique_viewers_per_property_mm": 0.19204447136468722,
         "ldp_unique_viewers_per_property_vs_us": 0.5713738757631918,
         "ldp_unique_viewers_per_property_yy": 0.7835009264101745,
         "median_days_on_market": 43.797433769939985,
         "median_days_on_market_mm": 0.19233548148153864,
         "median_days_on_market_yy": 0.5549315597238865,
         "median_dom_mm_day": 15.395071165717969,
         "median_dom_vs_us": 41.99883248223308,
         "median_dom_yy_day": 35.437610418049616,
         "median_listing_price": 163957.98836164133,
         "median_listing_price_mm": 0.06825981475539014,
         "median_listing_price_vs_us": 0.5129240672723316,
         "median_listing_price_yy": 0.14752055237364917,
         "nielsen_hh_rank": 400.6839898937078,
         "quality_flag": 0.19738782225952917,
         "supply_score": 28.782613797070564
        },
        {
         "_deepnote_index_column": "min",
         "cbsa_code": 10100,
         "demand_score": 0,
         "hotness_rank": 1,
         "hotness_rank_mm": -909,
         "hotness_rank_yy": -1482,
         "hotness_score": 0.158529,
         "ldp_unique_viewers_per_property_mm": -0.868243243,
         "ldp_unique_viewers_per_property_vs_us": 0.0484,
         "ldp_unique_viewers_per_property_yy": -0.818181818,
         "median_days_on_market": 3,
         "median_days_on_market_mm": -0.965265082,
         "median_days_on_market_yy": -0.912903226,
         "median_dom_mm_day": -757.5,
         "median_dom_vs_us": -70,
         "median_dom_yy_day": -286.5,
         "median_listing_price": 36000,
         "median_listing_price_mm": -0.760938818,
         "median_listing_price_vs_us": 0.1093,
         "median_listing_price_yy": -0.846743295,
         "nielsen_hh_rank": 1,
         "quality_flag": 0,
         "supply_score": 0
        },
        {
         "_deepnote_index_column": "25%",
         "cbsa_code": 19140,
         "demand_score": 24.98414711,
         "hotness_rank": 395,
         "hotness_rank_mm": -66,
         "hotness_rank_yy": -129,
         "hotness_score": 30.627774,
         "ldp_unique_viewers_per_property_mm": -0.066666667,
         "ldp_unique_viewers_per_property_vs_us": 0.6957,
         "ldp_unique_viewers_per_property_yy": 0.178571429,
         "median_days_on_market": 52,
         "median_days_on_market_mm": -0.088888889,
         "median_days_on_market_yy": -0.22759264025,
         "median_dom_mm_day": -6,
         "median_dom_vs_us": -9.5,
         "median_dom_yy_day": -18.5,
         "median_listing_price": 164900,
         "median_listing_price_mm": -0.018303571,
         "median_listing_price_vs_us": 0.5237750000000001,
         "median_listing_price_yy": 0,
         "nielsen_hh_rank": 347.75,
         "quality_flag": 0,
         "supply_score": 24.60367787
        },
        {
         "_deepnote_index_column": "50%",
         "cbsa_code": 29680,
         "demand_score": 50,
         "hotness_rank": 788,
         "hotness_rank_mm": -4,
         "hotness_rank_yy": 0,
         "hotness_score": 50.729233,
         "ldp_unique_viewers_per_property_mm": 0,
         "ldp_unique_viewers_per_property_vs_us": 1,
         "ldp_unique_viewers_per_property_yy": 0.444444444,
         "median_days_on_market": 70.5,
         "median_days_on_market_mm": 0.021398551000000002,
         "median_days_on_market_yy": -0.079365079,
         "median_dom_mm_day": 1.5,
         "median_dom_vs_us": 4.5,
         "median_dom_yy_day": -6,
         "median_listing_price": 232814.2857,
         "median_listing_price_mm": 0.000385,
         "median_listing_price_vs_us": 0.735,
         "median_listing_price_yy": 0.058628188,
         "nielsen_hh_rank": 694.5,
         "quality_flag": 0,
         "supply_score": 49.52441344
        },
        {
         "_deepnote_index_column": "75%",
         "cbsa_code": 39300,
         "demand_score": 75.01585289,
         "hotness_rank": 1181,
         "hotness_rank_mm": 57,
         "hotness_rank_yy": 129,
         "hotness_score": 68.769816,
         "ldp_unique_viewers_per_property_mm": 0.128205128,
         "ldp_unique_viewers_per_property_vs_us": 1.3846,
         "ldp_unique_viewers_per_property_yy": 1.107142857,
         "median_days_on_market": 93,
         "median_days_on_market_mm": 0.107913669,
         "median_days_on_market_yy": 0.053191489,
         "median_dom_mm_day": 7.5,
         "median_dom_vs_us": 24,
         "median_dom_yy_day": 3.5,
         "median_listing_price": 319950,
         "median_listing_price_mm": 0.0277484535,
         "median_listing_price_vs_us": 1.0025,
         "median_listing_price_yy": 0.1333842785,
         "nielsen_hh_rank": 1041.25,
         "quality_flag": 0,
         "supply_score": 74.31832594
        },
        {
         "_deepnote_index_column": "max",
         "cbsa_code": 49780,
         "demand_score": 100,
         "hotness_rank": 1575,
         "hotness_rank_mm": 1125,
         "hotness_rank_yy": 1259,
         "hotness_score": 99.936588,
         "ldp_unique_viewers_per_property_mm": 4.5,
         "ldp_unique_viewers_per_property_vs_us": 18.5,
         "ldp_unique_viewers_per_property_yy": 18.25,
         "median_days_on_market": 893,
         "median_days_on_market_mm": 6.157894737,
         "median_days_on_market_yy": 25.10344828,
         "median_dom_mm_day": 707.5,
         "median_dom_vs_us": 855,
         "median_dom_yy_day": 791,
         "median_listing_price": 2999000,
         "median_listing_price_mm": 5.789444444,
         "median_listing_price_vs_us": 8.3271,
         "median_listing_price_yy": 6.291666667,
         "nielsen_hh_rank": 1388,
         "quality_flag": 1,
         "supply_score": 100
        }
       ]
      },
      "text/html": [
       "<div>\n",
       "<style scoped>\n",
       "    .dataframe tbody tr th:only-of-type {\n",
       "        vertical-align: middle;\n",
       "    }\n",
       "\n",
       "    .dataframe tbody tr th {\n",
       "        vertical-align: top;\n",
       "    }\n",
       "\n",
       "    .dataframe thead th {\n",
       "        text-align: right;\n",
       "    }\n",
       "</style>\n",
       "<table border=\"1\" class=\"dataframe\">\n",
       "  <thead>\n",
       "    <tr style=\"text-align: right;\">\n",
       "      <th></th>\n",
       "      <th>cbsa_code</th>\n",
       "      <th>nielsen_hh_rank</th>\n",
       "      <th>hotness_rank</th>\n",
       "      <th>hotness_rank_mm</th>\n",
       "      <th>hotness_rank_yy</th>\n",
       "      <th>hotness_score</th>\n",
       "      <th>supply_score</th>\n",
       "      <th>demand_score</th>\n",
       "      <th>median_days_on_market</th>\n",
       "      <th>median_days_on_market_mm</th>\n",
       "      <th>...</th>\n",
       "      <th>median_dom_yy_day</th>\n",
       "      <th>median_dom_vs_us</th>\n",
       "      <th>ldp_unique_viewers_per_property_mm</th>\n",
       "      <th>ldp_unique_viewers_per_property_yy</th>\n",
       "      <th>ldp_unique_viewers_per_property_vs_us</th>\n",
       "      <th>median_listing_price</th>\n",
       "      <th>median_listing_price_mm</th>\n",
       "      <th>median_listing_price_yy</th>\n",
       "      <th>median_listing_price_vs_us</th>\n",
       "      <th>quality_flag</th>\n",
       "    </tr>\n",
       "  </thead>\n",
       "  <tbody>\n",
       "    <tr>\n",
       "      <th>count</th>\n",
       "      <td>66624.000000</td>\n",
       "      <td>66624.00000</td>\n",
       "      <td>75744.000000</td>\n",
       "      <td>56808.000000</td>\n",
       "      <td>56808.000000</td>\n",
       "      <td>75744.000000</td>\n",
       "      <td>75744.000000</td>\n",
       "      <td>75744.000000</td>\n",
       "      <td>75744.000000</td>\n",
       "      <td>56808.000000</td>\n",
       "      <td>...</td>\n",
       "      <td>56808.000000</td>\n",
       "      <td>75744.000000</td>\n",
       "      <td>56808.000000</td>\n",
       "      <td>56808.000000</td>\n",
       "      <td>75744.000000</td>\n",
       "      <td>7.574400e+04</td>\n",
       "      <td>56808.000000</td>\n",
       "      <td>56808.000000</td>\n",
       "      <td>75744.000000</td>\n",
       "      <td>56808.000000</td>\n",
       "    </tr>\n",
       "    <tr>\n",
       "      <th>mean</th>\n",
       "      <td>29553.695965</td>\n",
       "      <td>694.50000</td>\n",
       "      <td>787.494521</td>\n",
       "      <td>0.037724</td>\n",
       "      <td>0.402619</td>\n",
       "      <td>49.773393</td>\n",
       "      <td>49.546819</td>\n",
       "      <td>49.999967</td>\n",
       "      <td>77.423849</td>\n",
       "      <td>0.005245</td>\n",
       "      <td>...</td>\n",
       "      <td>-5.854035</td>\n",
       "      <td>12.100932</td>\n",
       "      <td>0.053382</td>\n",
       "      <td>0.714332</td>\n",
       "      <td>1.101100</td>\n",
       "      <td>2.669371e+05</td>\n",
       "      <td>0.007346</td>\n",
       "      <td>0.075332</td>\n",
       "      <td>0.841934</td>\n",
       "      <td>0.040610</td>\n",
       "    </tr>\n",
       "    <tr>\n",
       "      <th>std</th>\n",
       "      <td>11406.811842</td>\n",
       "      <td>400.68399</td>\n",
       "      <td>453.556467</td>\n",
       "      <td>136.082064</td>\n",
       "      <td>254.541542</td>\n",
       "      <td>24.035614</td>\n",
       "      <td>28.782614</td>\n",
       "      <td>28.886012</td>\n",
       "      <td>43.797434</td>\n",
       "      <td>0.192335</td>\n",
       "      <td>...</td>\n",
       "      <td>35.437610</td>\n",
       "      <td>41.998832</td>\n",
       "      <td>0.192044</td>\n",
       "      <td>0.783501</td>\n",
       "      <td>0.571374</td>\n",
       "      <td>1.639580e+05</td>\n",
       "      <td>0.068260</td>\n",
       "      <td>0.147521</td>\n",
       "      <td>0.512924</td>\n",
       "      <td>0.197388</td>\n",
       "    </tr>\n",
       "    <tr>\n",
       "      <th>min</th>\n",
       "      <td>10100.000000</td>\n",
       "      <td>1.00000</td>\n",
       "      <td>1.000000</td>\n",
       "      <td>-909.000000</td>\n",
       "      <td>-1482.000000</td>\n",
       "      <td>0.158529</td>\n",
       "      <td>0.000000</td>\n",
       "      <td>0.000000</td>\n",
       "      <td>3.000000</td>\n",
       "      <td>-0.965265</td>\n",
       "      <td>...</td>\n",
       "      <td>-286.500000</td>\n",
       "      <td>-70.000000</td>\n",
       "      <td>-0.868243</td>\n",
       "      <td>-0.818182</td>\n",
       "      <td>0.048400</td>\n",
       "      <td>3.600000e+04</td>\n",
       "      <td>-0.760939</td>\n",
       "      <td>-0.846743</td>\n",
       "      <td>0.109300</td>\n",
       "      <td>0.000000</td>\n",
       "    </tr>\n",
       "    <tr>\n",
       "      <th>25%</th>\n",
       "      <td>19140.000000</td>\n",
       "      <td>347.75000</td>\n",
       "      <td>395.000000</td>\n",
       "      <td>-66.000000</td>\n",
       "      <td>-129.000000</td>\n",
       "      <td>30.627774</td>\n",
       "      <td>24.603678</td>\n",
       "      <td>24.984147</td>\n",
       "      <td>52.000000</td>\n",
       "      <td>-0.088889</td>\n",
       "      <td>...</td>\n",
       "      <td>-18.500000</td>\n",
       "      <td>-9.500000</td>\n",
       "      <td>-0.066667</td>\n",
       "      <td>0.178571</td>\n",
       "      <td>0.695700</td>\n",
       "      <td>1.649000e+05</td>\n",
       "      <td>-0.018304</td>\n",
       "      <td>0.000000</td>\n",
       "      <td>0.523775</td>\n",
       "      <td>0.000000</td>\n",
       "    </tr>\n",
       "    <tr>\n",
       "      <th>50%</th>\n",
       "      <td>29680.000000</td>\n",
       "      <td>694.50000</td>\n",
       "      <td>788.000000</td>\n",
       "      <td>-4.000000</td>\n",
       "      <td>0.000000</td>\n",
       "      <td>50.729233</td>\n",
       "      <td>49.524413</td>\n",
       "      <td>50.000000</td>\n",
       "      <td>70.500000</td>\n",
       "      <td>0.021399</td>\n",
       "      <td>...</td>\n",
       "      <td>-6.000000</td>\n",
       "      <td>4.500000</td>\n",
       "      <td>0.000000</td>\n",
       "      <td>0.444444</td>\n",
       "      <td>1.000000</td>\n",
       "      <td>2.328143e+05</td>\n",
       "      <td>0.000385</td>\n",
       "      <td>0.058628</td>\n",
       "      <td>0.735000</td>\n",
       "      <td>0.000000</td>\n",
       "    </tr>\n",
       "    <tr>\n",
       "      <th>75%</th>\n",
       "      <td>39300.000000</td>\n",
       "      <td>1041.25000</td>\n",
       "      <td>1181.000000</td>\n",
       "      <td>57.000000</td>\n",
       "      <td>129.000000</td>\n",
       "      <td>68.769816</td>\n",
       "      <td>74.318326</td>\n",
       "      <td>75.015853</td>\n",
       "      <td>93.000000</td>\n",
       "      <td>0.107914</td>\n",
       "      <td>...</td>\n",
       "      <td>3.500000</td>\n",
       "      <td>24.000000</td>\n",
       "      <td>0.128205</td>\n",
       "      <td>1.107143</td>\n",
       "      <td>1.384600</td>\n",
       "      <td>3.199500e+05</td>\n",
       "      <td>0.027748</td>\n",
       "      <td>0.133384</td>\n",
       "      <td>1.002500</td>\n",
       "      <td>0.000000</td>\n",
       "    </tr>\n",
       "    <tr>\n",
       "      <th>max</th>\n",
       "      <td>49780.000000</td>\n",
       "      <td>1388.00000</td>\n",
       "      <td>1575.000000</td>\n",
       "      <td>1125.000000</td>\n",
       "      <td>1259.000000</td>\n",
       "      <td>99.936588</td>\n",
       "      <td>100.000000</td>\n",
       "      <td>100.000000</td>\n",
       "      <td>893.000000</td>\n",
       "      <td>6.157895</td>\n",
       "      <td>...</td>\n",
       "      <td>791.000000</td>\n",
       "      <td>855.000000</td>\n",
       "      <td>4.500000</td>\n",
       "      <td>18.250000</td>\n",
       "      <td>18.500000</td>\n",
       "      <td>2.999000e+06</td>\n",
       "      <td>5.789444</td>\n",
       "      <td>6.291667</td>\n",
       "      <td>8.327100</td>\n",
       "      <td>1.000000</td>\n",
       "    </tr>\n",
       "  </tbody>\n",
       "</table>\n",
       "<p>8 rows × 22 columns</p>\n",
       "</div>"
      ],
      "text/plain": [
       "          cbsa_code  nielsen_hh_rank  hotness_rank  hotness_rank_mm  \\\n",
       "count  66624.000000      66624.00000  75744.000000     56808.000000   \n",
       "mean   29553.695965        694.50000    787.494521         0.037724   \n",
       "std    11406.811842        400.68399    453.556467       136.082064   \n",
       "min    10100.000000          1.00000      1.000000      -909.000000   \n",
       "25%    19140.000000        347.75000    395.000000       -66.000000   \n",
       "50%    29680.000000        694.50000    788.000000        -4.000000   \n",
       "75%    39300.000000       1041.25000   1181.000000        57.000000   \n",
       "max    49780.000000       1388.00000   1575.000000      1125.000000   \n",
       "\n",
       "       hotness_rank_yy  hotness_score  supply_score  demand_score  \\\n",
       "count     56808.000000   75744.000000  75744.000000  75744.000000   \n",
       "mean          0.402619      49.773393     49.546819     49.999967   \n",
       "std         254.541542      24.035614     28.782614     28.886012   \n",
       "min       -1482.000000       0.158529      0.000000      0.000000   \n",
       "25%        -129.000000      30.627774     24.603678     24.984147   \n",
       "50%           0.000000      50.729233     49.524413     50.000000   \n",
       "75%         129.000000      68.769816     74.318326     75.015853   \n",
       "max        1259.000000      99.936588    100.000000    100.000000   \n",
       "\n",
       "       median_days_on_market  median_days_on_market_mm  ...  \\\n",
       "count           75744.000000              56808.000000  ...   \n",
       "mean               77.423849                  0.005245  ...   \n",
       "std                43.797434                  0.192335  ...   \n",
       "min                 3.000000                 -0.965265  ...   \n",
       "25%                52.000000                 -0.088889  ...   \n",
       "50%                70.500000                  0.021399  ...   \n",
       "75%                93.000000                  0.107914  ...   \n",
       "max               893.000000                  6.157895  ...   \n",
       "\n",
       "       median_dom_yy_day  median_dom_vs_us  \\\n",
       "count       56808.000000      75744.000000   \n",
       "mean           -5.854035         12.100932   \n",
       "std            35.437610         41.998832   \n",
       "min          -286.500000        -70.000000   \n",
       "25%           -18.500000         -9.500000   \n",
       "50%            -6.000000          4.500000   \n",
       "75%             3.500000         24.000000   \n",
       "max           791.000000        855.000000   \n",
       "\n",
       "       ldp_unique_viewers_per_property_mm  ldp_unique_viewers_per_property_yy  \\\n",
       "count                        56808.000000                        56808.000000   \n",
       "mean                             0.053382                            0.714332   \n",
       "std                              0.192044                            0.783501   \n",
       "min                             -0.868243                           -0.818182   \n",
       "25%                             -0.066667                            0.178571   \n",
       "50%                              0.000000                            0.444444   \n",
       "75%                              0.128205                            1.107143   \n",
       "max                              4.500000                           18.250000   \n",
       "\n",
       "       ldp_unique_viewers_per_property_vs_us  median_listing_price  \\\n",
       "count                           75744.000000          7.574400e+04   \n",
       "mean                                1.101100          2.669371e+05   \n",
       "std                                 0.571374          1.639580e+05   \n",
       "min                                 0.048400          3.600000e+04   \n",
       "25%                                 0.695700          1.649000e+05   \n",
       "50%                                 1.000000          2.328143e+05   \n",
       "75%                                 1.384600          3.199500e+05   \n",
       "max                                18.500000          2.999000e+06   \n",
       "\n",
       "       median_listing_price_mm  median_listing_price_yy  \\\n",
       "count             56808.000000             56808.000000   \n",
       "mean                  0.007346                 0.075332   \n",
       "std                   0.068260                 0.147521   \n",
       "min                  -0.760939                -0.846743   \n",
       "25%                  -0.018304                 0.000000   \n",
       "50%                   0.000385                 0.058628   \n",
       "75%                   0.027748                 0.133384   \n",
       "max                   5.789444                 6.291667   \n",
       "\n",
       "       median_listing_price_vs_us  quality_flag  \n",
       "count                75744.000000  56808.000000  \n",
       "mean                     0.841934      0.040610  \n",
       "std                      0.512924      0.197388  \n",
       "min                      0.109300      0.000000  \n",
       "25%                      0.523775      0.000000  \n",
       "50%                      0.735000      0.000000  \n",
       "75%                      1.002500      0.000000  \n",
       "max                      8.327100      1.000000  \n",
       "\n",
       "[8 rows x 22 columns]"
      ]
     },
     "execution_count": 10,
     "metadata": {},
     "output_type": "execute_result"
    }
   ],
   "source": [
    "core_metrics_by_county.describe()"
   ]
  },
  {
   "cell_type": "code",
   "execution_count": null,
   "metadata": {
    "cell_id": "4d732233febf491f8ff836aba3ab78bd",
    "deepnote_cell_height": 386.953125,
    "deepnote_cell_type": "code",
    "deepnote_to_be_reexecuted": true,
    "execution_millis": 3,
    "execution_start": 1649719228492,
    "owner_user_id": "eebb0a16-c82a-476f-90d3-a7cd672afda9",
    "source_hash": "146837b7",
    "tags": []
   },
   "outputs": [],
   "source": [
    "# #sorts data by median_listing_price\n",
    "# df_sorted = core_metrics_by_state.sort_values(\"median_listing_price\", ascending=False)\n",
    "\n",
    "# #stores top 5 entries of df in variable \"state\"\n",
    "# state = core_metrics_by_state[\"state\"].head(5)\n",
    "# #stores top 5 entries of df in variable \"median_listing_price\"\n",
    "# median_listing_price = df_sorted[\"median_listing_price\"].head(5)\n",
    "\n",
    "# #generates bar graph with variables above\n",
    "# plt.bar(state, median_listing_price)\n",
    "# plt.title('State Vs Median Listing Price')\n",
    "# plt.xlabel('State')\n",
    "# plt.ylabel('Median Listing Price')\n",
    "# #Addding a ylim here so that the graph makes a little more sense\n",
    "# plt.ylim(740000,815000)\n",
    "# plt.show()\n"
   ]
  },
  {
   "cell_type": "code",
   "execution_count": null,
   "metadata": {
    "cell_id": "7e0bca8d96b8422c9e3727839667569f",
    "deepnote_cell_height": 772.9375,
    "deepnote_cell_type": "code",
    "deepnote_to_be_reexecuted": true,
    "execution_millis": 160,
    "execution_start": 1649719228503,
    "source_hash": "84bd0d5d",
    "tags": []
   },
   "outputs": [
    {
     "name": "stdout",
     "output_type": "stream",
     "text": [
      "      month_date_yyyymm       state state_id  median_listing_price  \\\n",
      "0                202107    illinois       il              269900.0   \n",
      "1                202107    virginia       va              378999.0   \n",
      "2                202107     vermont       vt              350000.0   \n",
      "3                202107     indiana       in              239900.0   \n",
      "4                202107      oregon       or              525000.0   \n",
      "...                 ...         ...      ...                   ...   \n",
      "3107             201607    maryland       md              299900.0   \n",
      "3108             201607     arizona       az              294900.0   \n",
      "3109             201607        utah       ut              329900.0   \n",
      "3110             201607  california       ca              500224.0   \n",
      "3111             201607     montana       mt              319900.0   \n",
      "\n",
      "      median_listing_price_mm  median_listing_price_yy  active_listing_count  \\\n",
      "0                     -0.0004                   0.0393                 32216   \n",
      "1                     -0.0026                   0.0530                 16402   \n",
      "2                     -0.0210                   0.0888                  1692   \n",
      "3                      0.0019                   0.0090                  8009   \n",
      "4                      0.0003                   0.1564                  7220   \n",
      "...                       ...                      ...                   ...   \n",
      "3107                      NaN                      NaN                 27716   \n",
      "3108                      NaN                      NaN                 31627   \n",
      "3109                      NaN                      NaN                 13543   \n",
      "3110                      NaN                      NaN                 89335   \n",
      "3111                      NaN                      NaN                  9500   \n",
      "\n",
      "      active_listing_count_mm  active_listing_count_yy  median_days_on_market  \\\n",
      "0                      0.0923                  -0.2511                   43.0   \n",
      "1                      0.1187                  -0.2351                   32.0   \n",
      "2                      0.0702                  -0.4540                   46.0   \n",
      "3                      0.1766                  -0.2552                   33.0   \n",
      "4                      0.1365                  -0.2933                   33.0   \n",
      "...                       ...                      ...                    ...   \n",
      "3107                      NaN                      NaN                   65.0   \n",
      "3108                      NaN                      NaN                   68.0   \n",
      "3109                      NaN                      NaN                   57.0   \n",
      "3110                      NaN                      NaN                   47.0   \n",
      "3111                      NaN                      NaN                   87.0   \n",
      "\n",
      "      ...  average_listing_price_mm  average_listing_price_yy  \\\n",
      "0     ...                   -0.0225                    0.0703   \n",
      "1     ...                   -0.0179                    0.0776   \n",
      "2     ...                   -0.0319                    0.1535   \n",
      "3     ...                   -0.0033                    0.0496   \n",
      "4     ...                    0.0032                    0.1718   \n",
      "...   ...                       ...                       ...   \n",
      "3107  ...                       NaN                       NaN   \n",
      "3108  ...                       NaN                       NaN   \n",
      "3109  ...                       NaN                       NaN   \n",
      "3110  ...                       NaN                       NaN   \n",
      "3111  ...                       NaN                       NaN   \n",
      "\n",
      "      total_listing_count  total_listing_count_mm  total_listing_count_yy  \\\n",
      "0                   63878                  0.0031                 -0.1708   \n",
      "1                   35023                  0.0099                 -0.0021   \n",
      "2                    2809                  0.0392                 -0.3828   \n",
      "3                   15902                  0.0782                 -0.2025   \n",
      "4                   18523                  0.0303                 -0.1643   \n",
      "...                   ...                     ...                     ...   \n",
      "3107                33605                     NaN                     NaN   \n",
      "3108                39656                     NaN                     NaN   \n",
      "3109                21574                     NaN                     NaN   \n",
      "3110               129674                     NaN                     NaN   \n",
      "3111                11070                     NaN                     NaN   \n",
      "\n",
      "      pending_ratio  pending_ratio_mm  pending_ratio_yy  Year  Month  \n",
      "0          0.982804           -0.1764            0.1919  2021     07  \n",
      "1          1.135288           -0.2299            0.4987  2021     07  \n",
      "2          0.660165           -0.0495            0.1916  2021     07  \n",
      "3          0.985516           -0.1812            0.1312  2021     07  \n",
      "4          1.565512           -0.2645            0.3960  2021     07  \n",
      "...             ...               ...               ...   ...    ...  \n",
      "3107       0.212477               NaN               NaN  2016     07  \n",
      "3108       0.253865               NaN               NaN  2016     07  \n",
      "3109       0.593000               NaN               NaN  2016     07  \n",
      "3110       0.451548               NaN               NaN  2016     07  \n",
      "3111       0.165263               NaN               NaN  2016     07  \n",
      "\n",
      "[3112 rows x 41 columns]\n"
     ]
    }
   ],
   "source": [
    "#Isolate Month and Year and add them as new columns\n",
    "\n",
    "core_metrics_by_state['Year'] = core_metrics_by_state['month_date_yyyymm'].astype(str).str[:4]\n",
    "core_metrics_by_state['Month'] = core_metrics_by_state['month_date_yyyymm'].astype(str).str[4:6]\n",
    "print(core_metrics_by_state)"
   ]
  },
  {
   "cell_type": "code",
   "execution_count": null,
   "metadata": {
    "cell_id": "a66a934be3004de48b328b631d1b5e53",
    "deepnote_cell_height": 98.953125,
    "deepnote_cell_type": "code",
    "deepnote_to_be_reexecuted": true,
    "execution_millis": 3,
    "execution_start": 1649719228533,
    "source_hash": "231e026f",
    "tags": []
   },
   "outputs": [],
   "source": [
    "# create a line chart | first calculate the average listing price grouped by year\n",
    "Avg = core_metrics_by_state.groupby('Year', as_index=False)['median_listing_price'].mean()"
   ]
  },
  {
   "cell_type": "code",
   "execution_count": null,
   "metadata": {
    "cell_id": "e9e729e49dc34275b86a5ff6666be1b3",
    "deepnote_cell_height": 525.9375,
    "deepnote_cell_type": "code",
    "deepnote_output_heights": [
     284.984375
    ],
    "deepnote_to_be_reexecuted": true,
    "execution_millis": 199,
    "execution_start": 1649719228540,
    "source_hash": "9bce6e1b",
    "tags": []
   },
   "outputs": [
    {
     "data": {
      "image/png": "[encoded data removed]",
      "text/plain": [
       "<Figure size 432x288 with 1 Axes>"
      ]
     },
     "metadata": {
      "image/png": {
       "height": 283,
       "width": 411
      },
      "needs_background": "light"
     },
     "output_type": "display_data"
    }
   ],
   "source": [
    "# Line chart for the median listing price per year in the United States. As evident from the line graph below, median\n",
    "# home price has been steadily increasing over the past 5 years.\n",
    "\n",
    "plt.plot(Avg['Year'], Avg['median_listing_price'], color='red', marker='o')\n",
    "plt.title('Median Listing Price Per Year', fontsize=14)\n",
    "plt.xlabel('Year', fontsize=14)\n",
    "plt.ylabel('Median Listing Price', fontsize=14)\n",
    "plt.grid(True)\n",
    "plt.show()"
   ]
  },
  {
   "cell_type": "code",
   "execution_count": null,
   "metadata": {
    "cell_id": "9b49a145609b417e91ad28c89491a7ec",
    "deepnote_cell_height": 489.875,
    "deepnote_cell_type": "code",
    "deepnote_to_be_reexecuted": true,
    "execution_millis": 20,
    "execution_start": 1649719228741,
    "source_hash": "b1772347",
    "tags": []
   },
   "outputs": [
    {
     "data": {
      "application/vnd.deepnote.dataframe.v3+json": {
       "column_count": 2,
       "columns": [
        {
         "dtype": "object",
         "name": "Year",
         "stats": {
          "categories": [
           {
            "count": 1,
            "name": "2016"
           },
           {
            "count": 1,
            "name": "2017"
           },
           {
            "count": 4,
            "name": "4 others"
           }
          ],
          "nan_count": 0,
          "unique_count": 6
         }
        },
        {
         "dtype": "float64",
         "name": "median_days_on_market",
         "stats": {
          "histogram": [
           {
            "bin_end": 54.269864612511675,
            "bin_start": 51.12464985994398,
            "count": 1
           },
           {
            "bin_end": 57.415079365079364,
            "bin_start": 54.269864612511675,
            "count": 0
           },
           {
            "bin_end": 60.56029411764706,
            "bin_start": 57.415079365079364,
            "count": 0
           },
           {
            "bin_end": 63.70550887021476,
            "bin_start": 60.56029411764706,
            "count": 0
           },
           {
            "bin_end": 66.85072362278245,
            "bin_start": 63.70550887021476,
            "count": 0
           },
           {
            "bin_end": 69.99593837535014,
            "bin_start": 66.85072362278245,
            "count": 1
           },
           {
            "bin_end": 73.14115312791785,
            "bin_start": 69.99593837535014,
            "count": 1
           },
           {
            "bin_end": 76.28636788048553,
            "bin_start": 73.14115312791785,
            "count": 1
           },
           {
            "bin_end": 79.43158263305322,
            "bin_start": 76.28636788048553,
            "count": 1
           },
           {
            "bin_end": 82.57679738562092,
            "bin_start": 79.43158263305322,
            "count": 1
           }
          ],
          "max": "82.57679738562092",
          "min": "51.12464985994398",
          "nan_count": 0,
          "unique_count": 6
         }
        },
        {
         "dtype": "int64",
         "name": "_deepnote_index_column"
        }
       ],
       "row_count": 6,
       "rows": [
        {
         "Year": "2016",
         "_deepnote_index_column": 0,
         "median_days_on_market": 82.57679738562092
        },
        {
         "Year": "2017",
         "_deepnote_index_column": 1,
         "median_days_on_market": 78.35866013071896
        },
        {
         "Year": "2018",
         "_deepnote_index_column": 2,
         "median_days_on_market": 73.70996732026144
        },
        {
         "Year": "2019",
         "_deepnote_index_column": 3,
         "median_days_on_market": 72.11745513866232
        },
        {
         "Year": "2020",
         "_deepnote_index_column": 4,
         "median_days_on_market": 67.31127450980392
        },
        {
         "Year": "2021",
         "_deepnote_index_column": 5,
         "median_days_on_market": 51.12464985994398
        }
       ]
      },
      "text/html": [
       "<div>\n",
       "<style scoped>\n",
       "    .dataframe tbody tr th:only-of-type {\n",
       "        vertical-align: middle;\n",
       "    }\n",
       "\n",
       "    .dataframe tbody tr th {\n",
       "        vertical-align: top;\n",
       "    }\n",
       "\n",
       "    .dataframe thead th {\n",
       "        text-align: right;\n",
       "    }\n",
       "</style>\n",
       "<table border=\"1\" class=\"dataframe\">\n",
       "  <thead>\n",
       "    <tr style=\"text-align: right;\">\n",
       "      <th></th>\n",
       "      <th>Year</th>\n",
       "      <th>median_days_on_market</th>\n",
       "    </tr>\n",
       "  </thead>\n",
       "  <tbody>\n",
       "    <tr>\n",
       "      <th>0</th>\n",
       "      <td>2016</td>\n",
       "      <td>82.576797</td>\n",
       "    </tr>\n",
       "    <tr>\n",
       "      <th>1</th>\n",
       "      <td>2017</td>\n",
       "      <td>78.358660</td>\n",
       "    </tr>\n",
       "    <tr>\n",
       "      <th>2</th>\n",
       "      <td>2018</td>\n",
       "      <td>73.709967</td>\n",
       "    </tr>\n",
       "    <tr>\n",
       "      <th>3</th>\n",
       "      <td>2019</td>\n",
       "      <td>72.117455</td>\n",
       "    </tr>\n",
       "    <tr>\n",
       "      <th>4</th>\n",
       "      <td>2020</td>\n",
       "      <td>67.311275</td>\n",
       "    </tr>\n",
       "    <tr>\n",
       "      <th>5</th>\n",
       "      <td>2021</td>\n",
       "      <td>51.124650</td>\n",
       "    </tr>\n",
       "  </tbody>\n",
       "</table>\n",
       "</div>"
      ],
      "text/plain": [
       "   Year  median_days_on_market\n",
       "0  2016              82.576797\n",
       "1  2017              78.358660\n",
       "2  2018              73.709967\n",
       "3  2019              72.117455\n",
       "4  2020              67.311275\n",
       "5  2021              51.124650"
      ]
     },
     "execution_count": 15,
     "metadata": {},
     "output_type": "execute_result"
    }
   ],
   "source": [
    "# Median days on market grouped by state\n",
    "\n",
    "AvgDays = core_metrics_by_state.groupby('Year', as_index=False)['median_days_on_market'].mean()\n",
    "AvgDays"
   ]
  },
  {
   "cell_type": "code",
   "execution_count": null,
   "metadata": {
    "cell_id": "548876732ea54a8aa1d09e868c000423",
    "deepnote_cell_height": 575.65625,
    "deepnote_cell_type": "code",
    "deepnote_output_heights": [
     null,
     284.984375
    ],
    "deepnote_to_be_reexecuted": true,
    "execution_millis": 196,
    "execution_start": 1649719228774,
    "source_hash": "357f52ff",
    "tags": []
   },
   "outputs": [
    {
     "name": "stderr",
     "output_type": "stream",
     "text": [
      "No artists with labels found to put in legend.  Note that artists whose label start with an underscore are ignored when legend() is called with no argument.\n"
     ]
    },
    {
     "data": {
      "image/png": "[encoded data removed]",
      "text/plain": [
       "<Figure size 432x288 with 1 Axes>"
      ]
     },
     "metadata": {
      "image/png": {
       "height": 283,
       "width": 386
      },
      "needs_background": "light"
     },
     "output_type": "display_data"
    }
   ],
   "source": [
    "# As seen on the graph below, homes are selling much faster year after year due to low inventory\n",
    "\n",
    "plt.plot(AvgDays['Year'], AvgDays['median_days_on_market'], color='green', marker='o')\n",
    "plt.title('Average Days on Market', fontsize=14)\n",
    "plt.xlabel('Year', fontsize=14)\n",
    "plt.ylabel('MEdian Days on Market', fontsize=14)\n",
    "plt.grid(True)\n",
    "plt.legend()\n",
    "plt.show()"
   ]
  },
  {
   "cell_type": "code",
   "execution_count": null,
   "metadata": {
    "cell_id": "d0d21024745b47b58ce4b7662e68422c",
    "deepnote_cell_height": 700.9375,
    "deepnote_cell_type": "code",
    "deepnote_to_be_reexecuted": true,
    "execution_millis": 190,
    "execution_start": 1649719228975,
    "source_hash": "1be7c3b0",
    "tags": []
   },
   "outputs": [
    {
     "data": {
      "image/png": "[encoded data removed]",
      "text/plain": [
       "<Figure size 432x288 with 1 Axes>"
      ]
     },
     "metadata": {
      "image/png": {
       "height": 278,
       "width": 407
      },
      "needs_background": "light"
     },
     "output_type": "display_data"
    }
   ],
   "source": [
    "# Extra graph not used in the analysis\n",
    "\n",
    "# sorts data by median_listing_price\n",
    "df_sorted = core_metrics_by_state.sort_values(\"median_listing_price\", ascending=False)\n",
    "\n",
    "# stores bottom 5 entries of df in variable \"state\"\n",
    "state = core_metrics_by_state[\"state\"].tail(5)\n",
    "# stores bottom 5 entries of df in variable \"median_listing_price\"\n",
    "median_listing_price = df_sorted[\"median_listing_price\"].tail(5)\n",
    "\n",
    "# generates bar graph with variables above\n",
    "plt.bar(state, median_listing_price)\n",
    "plt.title('State Vs Median Listing Price')\n",
    "plt.xlabel('State')\n",
    "plt.ylabel('Median Listing Price')\n",
    "\n",
    "# Also adding a ylim here\n",
    "plt.ylim(130000,141000)\n",
    "plt.show()"
   ]
  },
  {
   "cell_type": "code",
   "execution_count": null,
   "metadata": {
    "cell_id": "6f61a0e6c3bc4b818f83394908713263",
    "deepnote_cell_height": 560.421875,
    "deepnote_cell_type": "code",
    "deepnote_output_heights": [
     247.484375
    ],
    "deepnote_to_be_reexecuted": true,
    "execution_millis": 1232,
    "execution_start": 1649719229169,
    "source_hash": "2910a3e0",
    "tags": []
   },
   "outputs": [
    {
     "data": {
      "image/png": "[encoded data removed]",
      "text/plain": [
       "<Figure size 1800x432 with 1 Axes>"
      ]
     },
     "metadata": {
      "image/png": {
       "height": 416,
       "width": 1468
      },
      "needs_background": "light"
     },
     "output_type": "display_data"
    }
   ],
   "source": [
    "# National Average Listing Price per Month from July 2016 to July 2021\n",
    "# grouping data by month_date_yyyymm and averaging the median_listing_price\n",
    "# As seen from the graph, last quarter of the year is the slowest time for home buying and selling activity\n",
    "\n",
    "dfg = core_metrics_by_state.sort_values('month_date_yyyymm', ascending=False).groupby(['month_date_yyyymm'])['median_listing_price'].mean().head(60)\n",
    "\n",
    "#plotting bar graph\n",
    "ax = dfg.plot(kind='bar', title='Total National Average Listing Price per Month', ylabel='Median Listing Price',xlabel='Year and Month', figsize=(25,6),\n",
    "        color=[\"orange\"])\n",
    "plt.ylim(250000)\n",
    "plt.xticks(rotation=75)\n",
    "\n",
    "plt.show(ax)"
   ]
  },
  {
   "cell_type": "code",
   "execution_count": null,
   "metadata": {
    "cell_id": "f55610eb7a89466faf34d88d3fd8be7a",
    "deepnote_cell_height": 578.421875,
    "deepnote_cell_type": "code",
    "deepnote_output_heights": [
     247.484375
    ],
    "deepnote_to_be_reexecuted": true,
    "execution_millis": 1211,
    "execution_start": 1649719230403,
    "source_hash": "e1fd5251",
    "tags": []
   },
   "outputs": [
    {
     "data": {
      "image/png": "[encoded data removed]",
      "text/plain": [
       "<Figure size 1800x432 with 1 Axes>"
      ]
     },
     "metadata": {
      "image/png": {
       "height": 416,
       "width": 1468
      },
      "needs_background": "light"
     },
     "output_type": "display_data"
    }
   ],
   "source": [
    "# Texas Average Listing Price per Month from July 2016 to July 2021\n",
    "# Texas follows the national trends of real estate buying and selling activity\n",
    "\n",
    "texas_data = core_metrics_by_state[core_metrics_by_state['state_id'] == \"tx\"].sort_values('month_date_yyyymm', ascending=False)\n",
    "\n",
    "dfg = texas_data.groupby(['month_date_yyyymm'])['median_listing_price'].mean().head(60)\n",
    "\n",
    "# plotting bar graph\n",
    "ax = dfg.plot(kind='bar', title='Total Average Listing Price per Month in Texas', ylabel='Median Listing Price',xlabel='Year and Month', figsize=(25,6),\n",
    "        color=[\"red\"])\n",
    "plt.ylim(250000)\n",
    "plt.xticks(rotation=75)\n",
    "\n",
    "plt.show(ax)"
   ]
  },
  {
   "cell_type": "code",
   "execution_count": null,
   "metadata": {
    "cell_id": "41cf8d6187564fe9baa5c037e0da99eb",
    "deepnote_cell_height": 578.421875,
    "deepnote_cell_type": "code",
    "deepnote_output_heights": [
     247.484375
    ],
    "deepnote_to_be_reexecuted": true,
    "execution_millis": 1209,
    "execution_start": 1649719231618,
    "source_hash": "bf3c803f",
    "tags": []
   },
   "outputs": [
    {
     "data": {
      "image/png": "[encoded data removed]",
      "text/plain": [
       "<Figure size 1800x432 with 1 Axes>"
      ]
     },
     "metadata": {
      "image/png": {
       "height": 416,
       "width": 1468
      },
      "needs_background": "light"
     },
     "output_type": "display_data"
    }
   ],
   "source": [
    "# Texas Average Listing Price per Month from July 2016 to July 2021\n",
    "# However, California is experiencing a much smoother market than Texas with a steady activity even during the last quarter of every year\n",
    "\n",
    "cali_data = core_metrics_by_state[core_metrics_by_state['state_id'] == \"ca\"]\n",
    "\n",
    "dfg = cali_data.groupby(['month_date_yyyymm'])['median_listing_price'].mean().head(60)\n",
    "\n",
    "# plotting bar graph\n",
    "ax = dfg.plot(kind='bar', title='Total Average Listing Price per Month in California', ylabel='Median Listing Price',xlabel='Year and Month', figsize=(25,6),\n",
    "        color=[\"blue\"])\n",
    "plt.ylim(250000)\n",
    "plt.xticks(rotation=75)\n",
    "\n",
    "plt.show(ax)"
   ]
  },
  {
   "cell_type": "code",
   "execution_count": null,
   "metadata": {
    "cell_id": "6aa594e332e748cdb0639115dba6fe72",
    "deepnote_cell_height": 611.921875,
    "deepnote_cell_type": "code",
    "deepnote_output_heights": [
     334.984375
    ],
    "deepnote_to_be_reexecuted": true,
    "execution_millis": 248,
    "execution_start": 1649719232830,
    "source_hash": "e0698ae2",
    "tags": []
   },
   "outputs": [
    {
     "data": {
      "image/png": "[encoded data removed]",
      "text/plain": [
       "<Figure size 432x360 with 1 Axes>"
      ]
     },
     "metadata": {
      "image/png": {
       "height": 333,
       "width": 407
      },
      "needs_background": "light"
     },
     "output_type": "display_data"
    }
   ],
   "source": [
    "# Top 10 Median Listing Prices of July 2021\n",
    "# Sorts and retrieves state and median listing price data from June 2021 and shows top 10 entries\n",
    "\n",
    "dfg = core_metrics_by_state[core_metrics_by_state['month_date_yyyymm'] == 202107].sort_values('state', ascending=False)['median_listing_price'].head(10)\n",
    "\n",
    "ax = dfg.plot(kind='bar', title='Top 10 Median Listing Prices of July 2021', ylabel='Median Listing Price',xlabel='State', figsize=(6, 5),\n",
    "        color=[\"maroon\"])\n",
    "\n",
    "plt.xticks(rotation=0)\n",
    "\n",
    "plt.show(ax)"
   ]
  },
  {
   "cell_type": "code",
   "execution_count": null,
   "metadata": {
    "cell_id": "3879210d7a9e4797a519455808fefbb9",
    "deepnote_cell_height": 639.9375,
    "deepnote_cell_type": "code",
    "deepnote_output_heights": [
     362.984375
    ],
    "deepnote_to_be_reexecuted": true,
    "execution_millis": 766,
    "execution_start": 1649719233091,
    "source_hash": "72f6f4b5",
    "tags": []
   },
   "outputs": [
    {
     "data": {
      "image/png": "[encoded data removed]",
      "text/plain": [
       "<Figure size 432x360 with 1 Axes>"
      ]
     },
     "metadata": {
      "image/png": {
       "height": 361,
       "width": 826
      },
      "needs_background": "light"
     },
     "output_type": "display_data"
    }
   ],
   "source": [
    "# Top 10 Median Listing Prices of July 2021\n",
    "# Sorts and retrieves state and median listing price data from June 2021 and shows bottom 10 entries\n",
    "\n",
    "dfg = core_metrics_by_state[core_metrics_by_state['month_date_yyyymm'] == 202107].sort_values('state', ascending=False)['median_listing_price'].tail(10)\n",
    "state_df = core_metrics_by_state['state']\n",
    "ax = dfg.plot(kind='bar', title='Top 10 Median Listing Prices of June 2021', ylabel='Median Listing Price',xlabel='State', figsize=(6, 5),\n",
    "        color=[\"maroon\",\"salmon\",\"purple\",\"teal\",\"gold\",\"magenta\",\"wheat\",\"lightblue\",\"coral\",\"darkgreen\"],edgecolor=\"black\")\n",
    "\n",
    "plt.xticks(rotation=0)\n",
    "plt.legend(labels = state_df.tolist(),title = \"States\", bbox_to_anchor =(-1.3,-0.24), loc='lower center',ncol=4,fontsize = 12, title_fontsize = 12, handletextpad=1,columnspacing = 8)\n",
    "plt.show(ax)"
   ]
  },
  {
   "cell_type": "code",
   "execution_count": null,
   "metadata": {
    "cell_id": "074d4e98cb2e40eea21b2ab932b8b6f8",
    "deepnote_cell_height": 647.921875,
    "deepnote_cell_type": "code",
    "deepnote_output_heights": [
     334.984375
    ],
    "deepnote_to_be_reexecuted": true,
    "execution_millis": 502,
    "execution_start": 1649719233357,
    "source_hash": "7d3e81cc",
    "tags": []
   },
   "outputs": [
    {
     "data": {
      "image/png": "[encoded data removed]",
      "text/plain": [
       "<Figure size 432x360 with 1 Axes>"
      ]
     },
     "metadata": {
      "image/png": {
       "height": 333,
       "width": 407
      },
      "needs_background": "light"
     },
     "output_type": "display_data"
    }
   ],
   "source": [
    "# Texas Median Listing Prices Grouped by Year\n",
    "# Sorts and retrieves Texas median listing price data from 2016 to 2021 and shows top 10\n",
    "\n",
    "dfg = texas_data.groupby(['Year'])['median_listing_price'].mean()\n",
    "# dfg = core_metrics_by_state[core_metrics_by_state['state_id'] == \"tx\"].groupby(['Year']).sort_values('Year', ascending=False)['median_listing_price'].sort_values().head(10)\n",
    "\n",
    "ax = dfg.plot(kind='bar', title='Median Listing Prices Grouped by Year', ylabel='Median Listing Price',xlabel='Texas Homes', figsize=(6, 5),\n",
    "        color=[\"maroon\"])\n",
    "plt.ylim(260000,330000)\n",
    "plt.xticks(rotation=0)\n",
    "\n",
    "plt.show(ax)\n"
   ]
  },
  {
   "cell_type": "code",
   "execution_count": null,
   "metadata": {
    "cell_id": "22439aed7a924c0580b065d96c4b4024",
    "deepnote_cell_height": 698.921875,
    "deepnote_cell_type": "code",
    "deepnote_output_heights": [
     349.984375
    ],
    "deepnote_to_be_reexecuted": true,
    "execution_millis": 297,
    "execution_start": 1649719233579,
    "source_hash": "5df357e2",
    "tags": []
   },
   "outputs": [
    {
     "data": {
      "image/png": "[encoded data removed]",
      "text/plain": [
       "<Figure size 432x360 with 1 Axes>"
      ]
     },
     "metadata": {
      "image/png": {
       "height": 348,
       "width": 407
      },
      "needs_background": "light"
     },
     "output_type": "display_data"
    }
   ],
   "source": [
    "# California Median Listing Prices Grouped by Year\n",
    "# Sorts and retrieves California median listing price data from 2016 to 2021 and shows top 10\n",
    "\n",
    "#sorts and retrieves California and median listing price data from all years/months and shows top 10.\n",
    "#all these median house prices seemed a bit too high so I sorted the values again by price and it adds up a little better. to undo this -> remove .sort_values() after median listing \n",
    "dfg = cali_data.groupby(['Year'])['median_listing_price'].mean()\n",
    "\n",
    "ax = dfg.plot(kind='bar', title='Median Listing Prices Grouped by Year', ylabel='Median Listing Price',xlabel='California Homes', figsize=(6, 5),\n",
    "        color=[\"blue\"])\n",
    "\n",
    "plt.ylim(490000,800000)\n",
    "plt.xticks(rotation=45)\n",
    "\n",
    "plt.show(ax)\n"
   ]
  },
  {
   "cell_type": "code",
   "execution_count": null,
   "metadata": {
    "cell_id": "41d184baf77c40ad88775175ee28c0c3",
    "deepnote_cell_height": 1185.828125,
    "deepnote_cell_type": "code",
    "deepnote_output_heights": [
     284.984375
    ],
    "deepnote_to_be_reexecuted": true,
    "execution_millis": 370,
    "execution_start": 1649719233805,
    "source_hash": "bcc8eb06",
    "tags": []
   },
   "outputs": [
    {
     "data": {
      "image/png": "[encoded data removed]",
      "text/plain": [
       "<Figure size 432x288 with 1 Axes>"
      ]
     },
     "metadata": {
      "image/png": {
       "height": 283,
       "width": 411
      },
      "needs_background": "light"
     },
     "output_type": "display_data"
    },
    {
     "data": {
      "application/vnd.deepnote.dataframe.v3+json": {
       "column_count": 41,
       "columns": [
        {
         "dtype": "int64",
         "name": "month_date_yyyymm",
         "stats": {
          "histogram": [
           {
            "bin_end": 201657,
            "bin_start": 201607,
            "count": 6
           },
           {
            "bin_end": 201707,
            "bin_start": 201657,
            "count": 6
           },
           {
            "bin_end": 201757,
            "bin_start": 201707,
            "count": 6
           },
           {
            "bin_end": 201807,
            "bin_start": 201757,
            "count": 6
           },
           {
            "bin_end": 201857,
            "bin_start": 201807,
            "count": 6
           },
           {
            "bin_end": 201907,
            "bin_start": 201857,
            "count": 6
           },
           {
            "bin_end": 201957,
            "bin_start": 201907,
            "count": 6
           },
           {
            "bin_end": 202007,
            "bin_start": 201957,
            "count": 6
           },
           {
            "bin_end": 202057,
            "bin_start": 202007,
            "count": 6
           },
           {
            "bin_end": 202107,
            "bin_start": 202057,
            "count": 7
           }
          ],
          "max": "202107",
          "min": "201607",
          "nan_count": 0,
          "unique_count": 61
         }
        },
        {
         "dtype": "object",
         "name": "state",
         "stats": {
          "categories": [
           {
            "count": 61,
            "name": "california"
           }
          ],
          "nan_count": 0,
          "unique_count": 1
         }
        },
        {
         "dtype": "object",
         "name": "state_id",
         "stats": {
          "categories": [
           {
            "count": 61,
            "name": "ca"
           }
          ],
          "nan_count": 0,
          "unique_count": 1
         }
        },
        {
         "dtype": "float64",
         "name": "median_listing_price",
         "stats": {
          "histogram": [
           {
            "bin_end": 512890.8,
            "bin_start": 480000,
            "count": 13
           },
           {
            "bin_end": 545781.6,
            "bin_start": 512890.8,
            "count": 14
           },
           {
            "bin_end": 578672.4,
            "bin_start": 545781.6,
            "count": 11
           },
           {
            "bin_end": 611563.2,
            "bin_start": 578672.4,
            "count": 8
           },
           {
            "bin_end": 644454,
            "bin_start": 611563.2,
            "count": 1
           },
           {
            "bin_end": 677344.8,
            "bin_start": 644454,
            "count": 1
           },
           {
            "bin_end": 710235.6000000001,
            "bin_start": 677344.8,
            "count": 1
           },
           {
            "bin_end": 743126.4,
            "bin_start": 710235.6000000001,
            "count": 5
           },
           {
            "bin_end": 776017.2,
            "bin_start": 743126.4,
            "count": 4
           },
           {
            "bin_end": 808908,
            "bin_start": 776017.2,
            "count": 3
           }
          ],
          "max": "808908.0",
          "min": "480000.0",
          "nan_count": 0,
          "unique_count": 55
         }
        },
        {
         "dtype": "float64",
         "name": "median_listing_price_mm",
         "stats": {
          "histogram": [
           {
            "bin_end": -0.02176,
            "bin_start": -0.0317,
            "count": 6
           },
           {
            "bin_end": -0.01182,
            "bin_start": -0.02176,
            "count": 4
           },
           {
            "bin_end": -0.0018799999999999997,
            "bin_start": -0.01182,
            "count": 8
           },
           {
            "bin_end": 0.008059999999999998,
            "bin_start": -0.0018799999999999997,
            "count": 12
           },
           {
            "bin_end": 0.017999999999999995,
            "bin_start": 0.008059999999999998,
            "count": 7
           },
           {
            "bin_end": 0.02794,
            "bin_start": 0.017999999999999995,
            "count": 1
           },
           {
            "bin_end": 0.03787999999999999,
            "bin_start": 0.02794,
            "count": 5
           },
           {
            "bin_end": 0.047819999999999994,
            "bin_start": 0.03787999999999999,
            "count": 1
           },
           {
            "bin_end": 0.05776,
            "bin_start": 0.047819999999999994,
            "count": 3
           },
           {
            "bin_end": 0.0677,
            "bin_start": 0.05776,
            "count": 2
           }
          ],
          "max": "0.0677",
          "min": "-0.0317",
          "nan_count": 12,
          "unique_count": 46
         }
        },
        {
         "dtype": "float64",
         "name": "median_listing_price_yy",
         "stats": {
          "histogram": [
           {
            "bin_end": 0.05326,
            "bin_start": 0.0184,
            "count": 21
           },
           {
            "bin_end": 0.08812,
            "bin_start": 0.05326,
            "count": 14
           },
           {
            "bin_end": 0.12298,
            "bin_start": 0.08812,
            "count": 1
           },
           {
            "bin_end": 0.15784,
            "bin_start": 0.12298,
            "count": 1
           },
           {
            "bin_end": 0.1927,
            "bin_start": 0.15784,
            "count": 1
           },
           {
            "bin_end": 0.22756,
            "bin_start": 0.1927,
            "count": 1
           },
           {
            "bin_end": 0.26242,
            "bin_start": 0.22756,
            "count": 4
           },
           {
            "bin_end": 0.29728,
            "bin_start": 0.26242,
            "count": 1
           },
           {
            "bin_end": 0.33214,
            "bin_start": 0.29728,
            "count": 1
           },
           {
            "bin_end": 0.367,
            "bin_start": 0.33214,
            "count": 4
           }
          ],
          "max": "0.367",
          "min": "0.0184",
          "nan_count": 12,
          "unique_count": 47
         }
        },
        {
         "dtype": "int64",
         "name": "active_listing_count",
         "stats": {
          "histogram": [
           {
            "bin_end": 41002.9,
            "bin_start": 35018,
            "count": 6
           },
           {
            "bin_end": 46987.8,
            "bin_start": 41002.9,
            "count": 2
           },
           {
            "bin_end": 52972.7,
            "bin_start": 46987.8,
            "count": 3
           },
           {
            "bin_end": 58957.6,
            "bin_start": 52972.7,
            "count": 5
           },
           {
            "bin_end": 64942.5,
            "bin_start": 58957.6,
            "count": 9
           },
           {
            "bin_end": 70927.4,
            "bin_start": 64942.5,
            "count": 6
           },
           {
            "bin_end": 76912.29999999999,
            "bin_start": 70927.4,
            "count": 7
           },
           {
            "bin_end": 82897.2,
            "bin_start": 76912.29999999999,
            "count": 8
           },
           {
            "bin_end": 88882.1,
            "bin_start": 82897.2,
            "count": 6
           },
           {
            "bin_end": 94867,
            "bin_start": 88882.1,
            "count": 9
           }
          ],
          "max": "94867",
          "min": "35018",
          "nan_count": 0,
          "unique_count": 61
         }
        },
        {
         "dtype": "float64",
         "name": "active_listing_count_mm",
         "stats": {
          "histogram": [
           {
            "bin_end": -0.14003000000000002,
            "bin_start": -0.17,
            "count": 2
           },
           {
            "bin_end": -0.11006,
            "bin_start": -0.14003000000000002,
            "count": 3
           },
           {
            "bin_end": -0.08009,
            "bin_start": -0.11006,
            "count": 3
           },
           {
            "bin_end": -0.05012,
            "bin_start": -0.08009,
            "count": 7
           },
           {
            "bin_end": -0.02015,
            "bin_start": -0.05012,
            "count": 2
           },
           {
            "bin_end": 0.009820000000000023,
            "bin_start": -0.02015,
            "count": 9
           },
           {
            "bin_end": 0.03979000000000002,
            "bin_start": 0.009820000000000023,
            "count": 8
           },
           {
            "bin_end": 0.06976000000000002,
            "bin_start": 0.03979000000000002,
            "count": 9
           },
           {
            "bin_end": 0.09973000000000001,
            "bin_start": 0.06976000000000002,
            "count": 5
           },
           {
            "bin_end": 0.1297,
            "bin_start": 0.09973000000000001,
            "count": 1
           }
          ],
          "max": "0.1297",
          "min": "-0.17",
          "nan_count": 12,
          "unique_count": 49
         }
        },
        {
         "dtype": "float64",
         "name": "active_listing_count_yy",
         "stats": {
          "histogram": [
           {
            "bin_end": -0.34395,
            "bin_start": -0.4203,
            "count": 10
           },
           {
            "bin_end": -0.2676,
            "bin_start": -0.34395,
            "count": 3
           },
           {
            "bin_end": -0.19125,
            "bin_start": -0.2676,
            "count": 6
           },
           {
            "bin_end": -0.1149,
            "bin_start": -0.19125,
            "count": 7
           },
           {
            "bin_end": -0.03854999999999997,
            "bin_start": -0.1149,
            "count": 3
           },
           {
            "bin_end": 0.0378,
            "bin_start": -0.03854999999999997,
            "count": 5
           },
           {
            "bin_end": 0.11414999999999997,
            "bin_start": 0.0378,
            "count": 5
           },
           {
            "bin_end": 0.1905,
            "bin_start": 0.11414999999999997,
            "count": 3
           },
           {
            "bin_end": 0.26685000000000003,
            "bin_start": 0.1905,
            "count": 3
           },
           {
            "bin_end": 0.3432,
            "bin_start": 0.26685000000000003,
            "count": 4
           }
          ],
          "max": "0.3432",
          "min": "-0.4203",
          "nan_count": 12,
          "unique_count": 49
         }
        },
        {
         "dtype": "float64",
         "name": "median_days_on_market",
         "stats": {
          "histogram": [
           {
            "bin_end": 38.7,
            "bin_start": 35,
            "count": 13
           },
           {
            "bin_end": 42.4,
            "bin_start": 38.7,
            "count": 6
           },
           {
            "bin_end": 46.1,
            "bin_start": 42.4,
            "count": 11
           },
           {
            "bin_end": 49.8,
            "bin_start": 46.1,
            "count": 10
           },
           {
            "bin_end": 53.5,
            "bin_start": 49.8,
            "count": 6
           },
           {
            "bin_end": 57.2,
            "bin_start": 53.5,
            "count": 6
           },
           {
            "bin_end": 60.900000000000006,
            "bin_start": 57.2,
            "count": 3
           },
           {
            "bin_end": 64.6,
            "bin_start": 60.900000000000006,
            "count": 2
           },
           {
            "bin_end": 68.30000000000001,
            "bin_start": 64.6,
            "count": 2
           },
           {
            "bin_end": 72,
            "bin_start": 68.30000000000001,
            "count": 2
           }
          ],
          "max": "72.0",
          "min": "35.0",
          "nan_count": 0,
          "unique_count": 37
         }
        },
        {
         "dtype": "float64",
         "name": "median_days_on_market_mm",
         "stats": {
          "histogram": [
           {
            "bin_end": -0.2822467041,
            "bin_start": -0.336283186,
            "count": 2
           },
           {
            "bin_end": -0.2282102222,
            "bin_start": -0.2822467041,
            "count": 2
           },
           {
            "bin_end": -0.1741737403,
            "bin_start": -0.2282102222,
            "count": 1
           },
           {
            "bin_end": -0.1201372584,
            "bin_start": -0.1741737403,
            "count": 2
           },
           {
            "bin_end": -0.06610077650000001,
            "bin_start": -0.1201372584,
            "count": 2
           },
           {
            "bin_end": -0.01206429459999997,
            "bin_start": -0.06610077650000001,
            "count": 9
           },
           {
            "bin_end": 0.04197218730000002,
            "bin_start": -0.01206429459999997,
            "count": 8
           },
           {
            "bin_end": 0.09600866920000001,
            "bin_start": 0.04197218730000002,
            "count": 13
           },
           {
            "bin_end": 0.1500451511,
            "bin_start": 0.09600866920000001,
            "count": 3
           },
           {
            "bin_end": 0.204081633,
            "bin_start": 0.1500451511,
            "count": 7
           }
          ],
          "max": "0.204081633",
          "min": "-0.336283186",
          "nan_count": 12,
          "unique_count": 46
         }
        },
        {
         "dtype": "float64",
         "name": "median_days_on_market_yy",
         "stats": {
          "histogram": [
           {
            "bin_end": -0.30516844490000006,
            "bin_start": -0.389830508,
            "count": 2
           },
           {
            "bin_end": -0.22050638180000004,
            "bin_start": -0.30516844490000006,
            "count": 4
           },
           {
            "bin_end": -0.13584431870000008,
            "bin_start": -0.22050638180000004,
            "count": 9
           },
           {
            "bin_end": -0.05118225560000006,
            "bin_start": -0.13584431870000008,
            "count": 8
           },
           {
            "bin_end": 0.03347980749999996,
            "bin_start": -0.05118225560000006,
            "count": 8
           },
           {
            "bin_end": 0.11814187059999987,
            "bin_start": 0.03347980749999996,
            "count": 1
           },
           {
            "bin_end": 0.20280393369999988,
            "bin_start": 0.11814187059999987,
            "count": 12
           },
           {
            "bin_end": 0.2874659967999999,
            "bin_start": 0.20280393369999988,
            "count": 3
           },
           {
            "bin_end": 0.3721280598999999,
            "bin_start": 0.2874659967999999,
            "count": 1
           },
           {
            "bin_end": 0.456790123,
            "bin_start": 0.3721280598999999,
            "count": 1
           }
          ],
          "max": "0.456790123",
          "min": "-0.389830508",
          "nan_count": 12,
          "unique_count": 48
         }
        },
        {
         "dtype": "int64",
         "name": "new_listing_count",
         "stats": {
          "histogram": [
           {
            "bin_end": 21225.2,
            "bin_start": 18272,
            "count": 1
           },
           {
            "bin_end": 24178.4,
            "bin_start": 21225.2,
            "count": 5
           },
           {
            "bin_end": 27131.6,
            "bin_start": 24178.4,
            "count": 1
           },
           {
            "bin_end": 30084.8,
            "bin_start": 27131.6,
            "count": 3
           },
           {
            "bin_end": 33038,
            "bin_start": 30084.8,
            "count": 6
           },
           {
            "bin_end": 35991.2,
            "bin_start": 33038,
            "count": 10
           },
           {
            "bin_end": 38944.399999999994,
            "bin_start": 35991.2,
            "count": 8
           },
           {
            "bin_end": 41897.6,
            "bin_start": 38944.399999999994,
            "count": 11
           },
           {
            "bin_end": 44850.8,
            "bin_start": 41897.6,
            "count": 8
           },
           {
            "bin_end": 47804,
            "bin_start": 44850.8,
            "count": 8
           }
          ],
          "max": "47804",
          "min": "18272",
          "nan_count": 0,
          "unique_count": 61
         }
        },
        {
         "dtype": "float64",
         "name": "new_listing_count_mm",
         "stats": {
          "histogram": [
           {
            "bin_end": -0.26768000000000003,
            "bin_start": -0.3718,
            "count": 4
           },
           {
            "bin_end": -0.16356000000000004,
            "bin_start": -0.26768000000000003,
            "count": 3
           },
           {
            "bin_end": -0.05944000000000005,
            "bin_start": -0.16356000000000004,
            "count": 7
           },
           {
            "bin_end": 0.04467999999999994,
            "bin_start": -0.05944000000000005,
            "count": 19
           },
           {
            "bin_end": 0.14879999999999993,
            "bin_start": 0.04467999999999994,
            "count": 10
           },
           {
            "bin_end": 0.2529199999999999,
            "bin_start": 0.14879999999999993,
            "count": 2
           },
           {
            "bin_end": 0.3570399999999999,
            "bin_start": 0.2529199999999999,
            "count": 0
           },
           {
            "bin_end": 0.4611599999999999,
            "bin_start": 0.3570399999999999,
            "count": 1
           },
           {
            "bin_end": 0.5652799999999999,
            "bin_start": 0.4611599999999999,
            "count": 1
           },
           {
            "bin_end": 0.6694,
            "bin_start": 0.5652799999999999,
            "count": 2
           }
          ],
          "max": "0.6694",
          "min": "-0.3718",
          "nan_count": 12,
          "unique_count": 49
         }
        },
        {
         "dtype": "float64",
         "name": "new_listing_count_yy",
         "stats": {
          "histogram": [
           {
            "bin_end": -0.37905,
            "bin_start": -0.482,
            "count": 1
           },
           {
            "bin_end": -0.27609999999999996,
            "bin_start": -0.37905,
            "count": 1
           },
           {
            "bin_end": -0.17314999999999992,
            "bin_start": -0.27609999999999996,
            "count": 3
           },
           {
            "bin_end": -0.07019999999999993,
            "bin_start": -0.17314999999999992,
            "count": 9
           },
           {
            "bin_end": 0.03275000000000006,
            "bin_start": -0.07019999999999993,
            "count": 17
           },
           {
            "bin_end": 0.13570000000000015,
            "bin_start": 0.03275000000000006,
            "count": 12
           },
           {
            "bin_end": 0.23865000000000014,
            "bin_start": 0.13570000000000015,
            "count": 5
           },
           {
            "bin_end": 0.3416000000000001,
            "bin_start": 0.23865000000000014,
            "count": 0
           },
           {
            "bin_end": 0.4445500000000001,
            "bin_start": 0.3416000000000001,
            "count": 0
           },
           {
            "bin_end": 0.5475,
            "bin_start": 0.4445500000000001,
            "count": 1
           }
          ],
          "max": "0.5475",
          "min": "-0.482",
          "nan_count": 12,
          "unique_count": 48
         }
        },
        {
         "dtype": "int64",
         "name": "price_increased_count",
         "stats": {
          "histogram": [
           {
            "bin_end": 1244.8,
            "bin_start": 1132,
            "count": 2
           },
           {
            "bin_end": 1357.6,
            "bin_start": 1244.8,
            "count": 4
           },
           {
            "bin_end": 1470.4,
            "bin_start": 1357.6,
            "count": 7
           },
           {
            "bin_end": 1583.2,
            "bin_start": 1470.4,
            "count": 7
           },
           {
            "bin_end": 1696,
            "bin_start": 1583.2,
            "count": 10
           },
           {
            "bin_end": 1808.8,
            "bin_start": 1696,
            "count": 12
           },
           {
            "bin_end": 1921.6,
            "bin_start": 1808.8,
            "count": 13
           },
           {
            "bin_end": 2034.4,
            "bin_start": 1921.6,
            "count": 3
           },
           {
            "bin_end": 2147.2,
            "bin_start": 2034.4,
            "count": 2
           },
           {
            "bin_end": 2260,
            "bin_start": 2147.2,
            "count": 1
           }
          ],
          "max": "2260",
          "min": "1132",
          "nan_count": 0,
          "unique_count": 51
         }
        },
        {
         "dtype": "float64",
         "name": "price_increased_count_mm",
         "stats": {
          "histogram": [
           {
            "bin_end": -0.24233,
            "bin_start": -0.3064,
            "count": 1
           },
           {
            "bin_end": -0.17826,
            "bin_start": -0.24233,
            "count": 0
           },
           {
            "bin_end": -0.11419000000000001,
            "bin_start": -0.17826,
            "count": 4
           },
           {
            "bin_end": -0.05012,
            "bin_start": -0.11419000000000001,
            "count": 12
           },
           {
            "bin_end": 0.013950000000000018,
            "bin_start": -0.05012,
            "count": 12
           },
           {
            "bin_end": 0.07801999999999998,
            "bin_start": 0.013950000000000018,
            "count": 5
           },
           {
            "bin_end": 0.14209,
            "bin_start": 0.07801999999999998,
            "count": 10
           },
           {
            "bin_end": 0.20616,
            "bin_start": 0.14209,
            "count": 3
           },
           {
            "bin_end": 0.27022999999999997,
            "bin_start": 0.20616,
            "count": 0
           },
           {
            "bin_end": 0.3343,
            "bin_start": 0.27022999999999997,
            "count": 2
           }
          ],
          "max": "0.3343",
          "min": "-0.3064",
          "nan_count": 12,
          "unique_count": 48
         }
        },
        {
         "dtype": "float64",
         "name": "price_increased_count_yy",
         "stats": {
          "histogram": [
           {
            "bin_end": -0.20700000000000002,
            "bin_start": -0.2601,
            "count": 2
           },
           {
            "bin_end": -0.1539,
            "bin_start": -0.20700000000000002,
            "count": 5
           },
           {
            "bin_end": -0.1008,
            "bin_start": -0.1539,
            "count": 7
           },
           {
            "bin_end": -0.04770000000000002,
            "bin_start": -0.1008,
            "count": 7
           },
           {
            "bin_end": 0.00539999999999996,
            "bin_start": -0.04770000000000002,
            "count": 10
           },
           {
            "bin_end": 0.058499999999999996,
            "bin_start": 0.00539999999999996,
            "count": 4
           },
           {
            "bin_end": 0.11159999999999998,
            "bin_start": 0.058499999999999996,
            "count": 6
           },
           {
            "bin_end": 0.16469999999999996,
            "bin_start": 0.11159999999999998,
            "count": 3
           },
           {
            "bin_end": 0.21779999999999994,
            "bin_start": 0.16469999999999996,
            "count": 2
           },
           {
            "bin_end": 0.2709,
            "bin_start": 0.21779999999999994,
            "count": 3
           }
          ],
          "max": "0.2709",
          "min": "-0.2601",
          "nan_count": 12,
          "unique_count": 48
         }
        },
        {
         "dtype": "int64",
         "name": "price_reduced_count",
         "stats": {
          "histogram": [
           {
            "bin_end": 7453.6,
            "bin_start": 4864,
            "count": 6
           },
           {
            "bin_end": 10043.2,
            "bin_start": 7453.6,
            "count": 2
           },
           {
            "bin_end": 12632.8,
            "bin_start": 10043.2,
            "count": 14
           },
           {
            "bin_end": 15222.4,
            "bin_start": 12632.8,
            "count": 8
           },
           {
            "bin_end": 17812,
            "bin_start": 15222.4,
            "count": 6
           },
           {
            "bin_end": 20401.6,
            "bin_start": 17812,
            "count": 6
           },
           {
            "bin_end": 22991.2,
            "bin_start": 20401.6,
            "count": 6
           },
           {
            "bin_end": 25580.8,
            "bin_start": 22991.2,
            "count": 2
           },
           {
            "bin_end": 28170.399999999998,
            "bin_start": 25580.8,
            "count": 5
           },
           {
            "bin_end": 30760,
            "bin_start": 28170.399999999998,
            "count": 6
           }
          ],
          "max": "30760",
          "min": "4864",
          "nan_count": 0,
          "unique_count": 60
         }
        },
        {
         "dtype": "float64",
         "name": "price_reduced_count_mm",
         "stats": {
          "histogram": [
           {
            "bin_end": -0.41605,
            "bin_start": -0.5053,
            "count": 2
           },
           {
            "bin_end": -0.3268,
            "bin_start": -0.41605,
            "count": 2
           },
           {
            "bin_end": -0.23754999999999998,
            "bin_start": -0.3268,
            "count": 0
           },
           {
            "bin_end": -0.1483,
            "bin_start": -0.23754999999999998,
            "count": 5
           },
           {
            "bin_end": -0.05904999999999999,
            "bin_start": -0.1483,
            "count": 6
           },
           {
            "bin_end": 0.030200000000000005,
            "bin_start": -0.05904999999999999,
            "count": 8
           },
           {
            "bin_end": 0.11944999999999995,
            "bin_start": 0.030200000000000005,
            "count": 11
           },
           {
            "bin_end": 0.2087,
            "bin_start": 0.11944999999999995,
            "count": 12
           },
           {
            "bin_end": 0.29795000000000005,
            "bin_start": 0.2087,
            "count": 1
           },
           {
            "bin_end": 0.3872,
            "bin_start": 0.29795000000000005,
            "count": 2
           }
          ],
          "max": "0.3872",
          "min": "-0.5053",
          "nan_count": 12,
          "unique_count": 49
         }
        },
        {
         "dtype": "float64",
         "name": "price_reduced_count_yy",
         "stats": {
          "histogram": [
           {
            "bin_end": -0.47362,
            "bin_start": -0.6021,
            "count": 12
           },
           {
            "bin_end": -0.34514,
            "bin_start": -0.47362,
            "count": 4
           },
           {
            "bin_end": -0.21666000000000002,
            "bin_start": -0.34514,
            "count": 3
           },
           {
            "bin_end": -0.08818000000000004,
            "bin_start": -0.21666000000000002,
            "count": 9
           },
           {
            "bin_end": 0.04029999999999989,
            "bin_start": -0.08818000000000004,
            "count": 2
           },
           {
            "bin_end": 0.16877999999999993,
            "bin_start": 0.04029999999999989,
            "count": 4
           },
           {
            "bin_end": 0.29725999999999997,
            "bin_start": 0.16877999999999993,
            "count": 4
           },
           {
            "bin_end": 0.4257399999999999,
            "bin_start": 0.29725999999999997,
            "count": 6
           },
           {
            "bin_end": 0.5542199999999998,
            "bin_start": 0.4257399999999999,
            "count": 2
           },
           {
            "bin_end": 0.6827,
            "bin_start": 0.5542199999999998,
            "count": 3
           }
          ],
          "max": "0.6827",
          "min": "-0.6021",
          "nan_count": 12,
          "unique_count": 49
         }
        },
        {
         "dtype": "int64",
         "name": "pending_listing_count",
         "stats": {
          "histogram": [
           {
            "bin_end": 33189.1,
            "bin_start": 24895,
            "count": 13
           },
           {
            "bin_end": 41483.2,
            "bin_start": 33189.1,
            "count": 22
           },
           {
            "bin_end": 49777.3,
            "bin_start": 41483.2,
            "count": 11
           },
           {
            "bin_end": 58071.4,
            "bin_start": 49777.3,
            "count": 9
           },
           {
            "bin_end": 66365.5,
            "bin_start": 58071.4,
            "count": 3
           },
           {
            "bin_end": 74659.6,
            "bin_start": 66365.5,
            "count": 0
           },
           {
            "bin_end": 82953.70000000001,
            "bin_start": 74659.6,
            "count": 0
           },
           {
            "bin_end": 91247.8,
            "bin_start": 82953.70000000001,
            "count": 1
           },
           {
            "bin_end": 99541.90000000001,
            "bin_start": 91247.8,
            "count": 0
           },
           {
            "bin_end": 107836,
            "bin_start": 99541.90000000001,
            "count": 2
           }
          ],
          "max": "107836",
          "min": "24895",
          "nan_count": 0,
          "unique_count": 61
         }
        },
        {
         "dtype": "float64",
         "name": "pending_listing_count_mm",
         "stats": {
          "histogram": [
           {
            "bin_end": -0.01042000000000004,
            "bin_start": -0.2644,
            "count": 22
           },
           {
            "bin_end": 0.24355999999999994,
            "bin_start": -0.01042000000000004,
            "count": 24
           },
           {
            "bin_end": 0.4975399999999999,
            "bin_start": 0.24355999999999994,
            "count": 2
           },
           {
            "bin_end": 0.75152,
            "bin_start": 0.4975399999999999,
            "count": 0
           },
           {
            "bin_end": 1.0054999999999998,
            "bin_start": 0.75152,
            "count": 0
           },
           {
            "bin_end": 1.25948,
            "bin_start": 1.0054999999999998,
            "count": 0
           },
           {
            "bin_end": 1.51346,
            "bin_start": 1.25948,
            "count": 0
           },
           {
            "bin_end": 1.76744,
            "bin_start": 1.51346,
            "count": 0
           },
           {
            "bin_end": 2.0214199999999996,
            "bin_start": 1.76744,
            "count": 0
           },
           {
            "bin_end": 2.2754,
            "bin_start": 2.0214199999999996,
            "count": 1
           }
          ],
          "max": "2.2754",
          "min": "-0.2644",
          "nan_count": 12,
          "unique_count": 47
         }
        },
        {
         "dtype": "float64",
         "name": "pending_listing_count_yy",
         "stats": {
          "histogram": [
           {
            "bin_end": 0.10364000000000004,
            "bin_start": -0.1797,
            "count": 20
           },
           {
            "bin_end": 0.3869800000000001,
            "bin_start": 0.10364000000000004,
            "count": 24
           },
           {
            "bin_end": 0.6703200000000001,
            "bin_start": 0.3869800000000001,
            "count": 3
           },
           {
            "bin_end": 0.9536600000000002,
            "bin_start": 0.6703200000000001,
            "count": 0
           },
           {
            "bin_end": 1.237,
            "bin_start": 0.9536600000000002,
            "count": 0
           },
           {
            "bin_end": 1.5203400000000002,
            "bin_start": 1.237,
            "count": 0
           },
           {
            "bin_end": 1.8036800000000004,
            "bin_start": 1.5203400000000002,
            "count": 0
           },
           {
            "bin_end": 2.0870200000000003,
            "bin_start": 1.8036800000000004,
            "count": 0
           },
           {
            "bin_end": 2.3703600000000002,
            "bin_start": 2.0870200000000003,
            "count": 0
           },
           {
            "bin_end": 2.6537,
            "bin_start": 2.3703600000000002,
            "count": 2
           }
          ],
          "max": "2.6537",
          "min": "-0.1797",
          "nan_count": 12,
          "unique_count": 49
         }
        },
        {
         "dtype": "float64",
         "name": "median_listing_price_per_square_foot",
         "stats": {
          "histogram": [
           {
            "bin_end": 279.209375,
            "bin_start": 257.5625,
            "count": 17
           },
           {
            "bin_end": 300.85625,
            "bin_start": 279.209375,
            "count": 16
           },
           {
            "bin_end": 322.503125,
            "bin_start": 300.85625,
            "count": 12
           },
           {
            "bin_end": 344.15,
            "bin_start": 322.503125,
            "count": 2
           },
           {
            "bin_end": 365.796875,
            "bin_start": 344.15,
            "count": 1
           },
           {
            "bin_end": 387.44375,
            "bin_start": 365.796875,
            "count": 1
           },
           {
            "bin_end": 409.09062500000005,
            "bin_start": 387.44375,
            "count": 1
           },
           {
            "bin_end": 430.7375,
            "bin_start": 409.09062500000005,
            "count": 4
           },
           {
            "bin_end": 452.384375,
            "bin_start": 430.7375,
            "count": 4
           },
           {
            "bin_end": 474.03125,
            "bin_start": 452.384375,
            "count": 3
           }
          ],
          "max": "474.03125",
          "min": "257.5625",
          "nan_count": 0,
          "unique_count": 60
         }
        },
        {
         "dtype": "float64",
         "name": "median_listing_price_per_square_foot_mm",
         "stats": {
          "histogram": [
           {
            "bin_end": -0.021159999999999998,
            "bin_start": -0.0315,
            "count": 6
           },
           {
            "bin_end": -0.01082,
            "bin_start": -0.021159999999999998,
            "count": 4
           },
           {
            "bin_end": -0.00048000000000000126,
            "bin_start": -0.01082,
            "count": 9
           },
           {
            "bin_end": 0.00986,
            "bin_start": -0.00048000000000000126,
            "count": 11
           },
           {
            "bin_end": 0.020200000000000003,
            "bin_start": 0.00986,
            "count": 6
           },
           {
            "bin_end": 0.030539999999999998,
            "bin_start": 0.020200000000000003,
            "count": 4
           },
           {
            "bin_end": 0.04088,
            "bin_start": 0.030539999999999998,
            "count": 2
           },
           {
            "bin_end": 0.05122,
            "bin_start": 0.04088,
            "count": 2
           },
           {
            "bin_end": 0.061560000000000004,
            "bin_start": 0.05122,
            "count": 4
           },
           {
            "bin_end": 0.0719,
            "bin_start": 0.061560000000000004,
            "count": 1
           }
          ],
          "max": "0.0719",
          "min": "-0.0315",
          "nan_count": 12,
          "unique_count": 48
         }
        },
        {
         "dtype": "float64",
         "name": "median_listing_price_per_square_foot_yy",
         "stats": {
          "histogram": [
           {
            "bin_end": 0.07911,
            "bin_start": 0.0332,
            "count": 30
           },
           {
            "bin_end": 0.12502,
            "bin_start": 0.07911,
            "count": 5
           },
           {
            "bin_end": 0.17093,
            "bin_start": 0.12502,
            "count": 2
           },
           {
            "bin_end": 0.21684,
            "bin_start": 0.17093,
            "count": 0
           },
           {
            "bin_end": 0.26275,
            "bin_start": 0.21684,
            "count": 2
           },
           {
            "bin_end": 0.30866,
            "bin_start": 0.26275,
            "count": 2
           },
           {
            "bin_end": 0.35457,
            "bin_start": 0.30866,
            "count": 3
           },
           {
            "bin_end": 0.40048,
            "bin_start": 0.35457,
            "count": 1
           },
           {
            "bin_end": 0.44639,
            "bin_start": 0.40048,
            "count": 1
           },
           {
            "bin_end": 0.4923,
            "bin_start": 0.44639,
            "count": 3
           }
          ],
          "max": "0.4923",
          "min": "0.0332",
          "nan_count": 12,
          "unique_count": 49
         }
        },
        {
         "dtype": "float64",
         "name": "median_square_feet",
         "stats": {
          "histogram": [
           {
            "bin_end": 1789.2,
            "bin_start": 1777,
            "count": 3
           },
           {
            "bin_end": 1801.4,
            "bin_start": 1789.2,
            "count": 4
           },
           {
            "bin_end": 1813.6,
            "bin_start": 1801.4,
            "count": 3
           },
           {
            "bin_end": 1825.8,
            "bin_start": 1813.6,
            "count": 3
           },
           {
            "bin_end": 1838,
            "bin_start": 1825.8,
            "count": 5
           },
           {
            "bin_end": 1850.2,
            "bin_start": 1838,
            "count": 8
           },
           {
            "bin_end": 1862.4,
            "bin_start": 1850.2,
            "count": 10
           },
           {
            "bin_end": 1874.6,
            "bin_start": 1862.4,
            "count": 15
           },
           {
            "bin_end": 1886.8,
            "bin_start": 1874.6,
            "count": 5
           },
           {
            "bin_end": 1899,
            "bin_start": 1886.8,
            "count": 5
           }
          ],
          "max": "1899.0",
          "min": "1777.0",
          "nan_count": 0,
          "unique_count": 51
         }
        },
        {
         "dtype": "float64",
         "name": "median_square_feet_mm",
         "stats": {
          "histogram": [
           {
            "bin_end": -0.01456,
            "bin_start": -0.0184,
            "count": 1
           },
           {
            "bin_end": -0.010719999999999999,
            "bin_start": -0.01456,
            "count": 4
           },
           {
            "bin_end": -0.006879999999999997,
            "bin_start": -0.010719999999999999,
            "count": 6
           },
           {
            "bin_end": -0.0030399999999999976,
            "bin_start": -0.006879999999999997,
            "count": 15
           },
           {
            "bin_end": 0.0008000000000000021,
            "bin_start": -0.0030399999999999976,
            "count": 6
           },
           {
            "bin_end": 0.004640000000000005,
            "bin_start": 0.0008000000000000021,
            "count": 7
           },
           {
            "bin_end": 0.008480000000000005,
            "bin_start": 0.004640000000000005,
            "count": 3
           },
           {
            "bin_end": 0.012320000000000005,
            "bin_start": 0.008480000000000005,
            "count": 4
           },
           {
            "bin_end": 0.016160000000000008,
            "bin_start": 0.012320000000000005,
            "count": 2
           },
           {
            "bin_end": 0.02,
            "bin_start": 0.016160000000000008,
            "count": 1
           }
          ],
          "max": "0.02",
          "min": "-0.0184",
          "nan_count": 12,
          "unique_count": 46
         }
        },
        {
         "dtype": "float64",
         "name": "median_square_feet_yy",
         "stats": {
          "histogram": [
           {
            "bin_end": -0.03881,
            "bin_start": -0.0485,
            "count": 3
           },
           {
            "bin_end": -0.02912,
            "bin_start": -0.03881,
            "count": 4
           },
           {
            "bin_end": -0.01943,
            "bin_start": -0.02912,
            "count": 8
           },
           {
            "bin_end": -0.009739999999999999,
            "bin_start": -0.01943,
            "count": 8
           },
           {
            "bin_end": -0.00004999999999999449,
            "bin_start": -0.009739999999999999,
            "count": 6
           },
           {
            "bin_end": 0.009640000000000003,
            "bin_start": -0.00004999999999999449,
            "count": 8
           },
           {
            "bin_end": 0.01933,
            "bin_start": 0.009640000000000003,
            "count": 5
           },
           {
            "bin_end": 0.029020000000000004,
            "bin_start": 0.01933,
            "count": 3
           },
           {
            "bin_end": 0.03871000000000001,
            "bin_start": 0.029020000000000004,
            "count": 2
           },
           {
            "bin_end": 0.0484,
            "bin_start": 0.03871000000000001,
            "count": 2
           }
          ],
          "max": "0.0484",
          "min": "-0.0485",
          "nan_count": 12,
          "unique_count": 49
         }
        },
        {
         "dtype": "float64",
         "name": "average_listing_price",
         "stats": {
          "histogram": [
           {
            "bin_end": 1018431.28348,
            "bin_start": 915689.7362,
            "count": 23
           },
           {
            "bin_end": 1121172.83076,
            "bin_start": 1018431.28348,
            "count": 14
           },
           {
            "bin_end": 1223914.37804,
            "bin_start": 1121172.83076,
            "count": 6
           },
           {
            "bin_end": 1326655.92532,
            "bin_start": 1223914.37804,
            "count": 4
           },
           {
            "bin_end": 1429397.4726,
            "bin_start": 1326655.92532,
            "count": 2
           },
           {
            "bin_end": 1532139.01988,
            "bin_start": 1429397.4726,
            "count": 3
           },
           {
            "bin_end": 1634880.56716,
            "bin_start": 1532139.01988,
            "count": 3
           },
           {
            "bin_end": 1737622.1144400002,
            "bin_start": 1634880.56716,
            "count": 2
           },
           {
            "bin_end": 1840363.6617200002,
            "bin_start": 1737622.1144400002,
            "count": 2
           },
           {
            "bin_end": 1943105.209,
            "bin_start": 1840363.6617200002,
            "count": 2
           }
          ],
          "max": "1943105.209",
          "min": "915689.7362",
          "nan_count": 0,
          "unique_count": 61
         }
        },
        {
         "dtype": "float64",
         "name": "average_listing_price_mm",
         "stats": {
          "histogram": [
           {
            "bin_end": -0.045750000000000006,
            "bin_start": -0.0666,
            "count": 4
           },
           {
            "bin_end": -0.024900000000000005,
            "bin_start": -0.045750000000000006,
            "count": 2
           },
           {
            "bin_end": -0.004050000000000012,
            "bin_start": -0.024900000000000005,
            "count": 8
           },
           {
            "bin_end": 0.016799999999999995,
            "bin_start": -0.004050000000000012,
            "count": 17
           },
           {
            "bin_end": 0.03765,
            "bin_start": 0.016799999999999995,
            "count": 10
           },
           {
            "bin_end": 0.05849999999999998,
            "bin_start": 0.03765,
            "count": 6
           },
           {
            "bin_end": 0.07934999999999999,
            "bin_start": 0.05849999999999998,
            "count": 1
           },
           {
            "bin_end": 0.1002,
            "bin_start": 0.07934999999999999,
            "count": 0
           },
           {
            "bin_end": 0.12105,
            "bin_start": 0.1002,
            "count": 0
           },
           {
            "bin_end": 0.1419,
            "bin_start": 0.12105,
            "count": 1
           }
          ],
          "max": "0.1419",
          "min": "-0.0666",
          "nan_count": 12,
          "unique_count": 47
         }
        },
        {
         "dtype": "float64",
         "name": "average_listing_price_yy",
         "stats": {
          "histogram": [
           {
            "bin_end": 0.007719999999999998,
            "bin_start": -0.0468,
            "count": 8
           },
           {
            "bin_end": 0.06224,
            "bin_start": 0.007719999999999998,
            "count": 10
           },
           {
            "bin_end": 0.11675999999999997,
            "bin_start": 0.06224,
            "count": 8
           },
           {
            "bin_end": 0.17128,
            "bin_start": 0.11675999999999997,
            "count": 3
           },
           {
            "bin_end": 0.2258,
            "bin_start": 0.17128,
            "count": 3
           },
           {
            "bin_end": 0.28031999999999996,
            "bin_start": 0.2258,
            "count": 4
           },
           {
            "bin_end": 0.33483999999999997,
            "bin_start": 0.28031999999999996,
            "count": 8
           },
           {
            "bin_end": 0.38936,
            "bin_start": 0.33483999999999997,
            "count": 1
           },
           {
            "bin_end": 0.44388,
            "bin_start": 0.38936,
            "count": 1
           },
           {
            "bin_end": 0.4984,
            "bin_start": 0.44388,
            "count": 3
           }
          ],
          "max": "0.4984",
          "min": "-0.0468",
          "nan_count": 12,
          "unique_count": 49
         }
        },
        {
         "dtype": "int64",
         "name": "total_listing_count",
         "stats": {
          "histogram": [
           {
            "bin_end": 90600.9,
            "bin_start": 81924,
            "count": 5
           },
           {
            "bin_end": 99277.8,
            "bin_start": 90600.9,
            "count": 8
           },
           {
            "bin_end": 107954.7,
            "bin_start": 99277.8,
            "count": 12
           },
           {
            "bin_end": 116631.6,
            "bin_start": 107954.7,
            "count": 16
           },
           {
            "bin_end": 125308.5,
            "bin_start": 116631.6,
            "count": 4
           },
           {
            "bin_end": 133985.4,
            "bin_start": 125308.5,
            "count": 10
           },
           {
            "bin_end": 142662.3,
            "bin_start": 133985.4,
            "count": 3
           },
           {
            "bin_end": 151339.2,
            "bin_start": 142662.3,
            "count": 1
           },
           {
            "bin_end": 160016.09999999998,
            "bin_start": 151339.2,
            "count": 0
           },
           {
            "bin_end": 168693,
            "bin_start": 160016.09999999998,
            "count": 2
           }
          ],
          "max": "168693",
          "min": "81924",
          "nan_count": 0,
          "unique_count": 61
         }
        },
        {
         "dtype": "float64",
         "name": "total_listing_count_mm",
         "stats": {
          "histogram": [
           {
            "bin_end": -0.07586999999999999,
            "bin_start": -0.1561,
            "count": 8
           },
           {
            "bin_end": 0.004360000000000003,
            "bin_start": -0.07586999999999999,
            "count": 12
           },
           {
            "bin_end": 0.08459,
            "bin_start": 0.004360000000000003,
            "count": 23
           },
           {
            "bin_end": 0.16482,
            "bin_start": 0.08459,
            "count": 5
           },
           {
            "bin_end": 0.24505000000000002,
            "bin_start": 0.16482,
            "count": 0
           },
           {
            "bin_end": 0.32528,
            "bin_start": 0.24505000000000002,
            "count": 0
           },
           {
            "bin_end": 0.4055099999999999,
            "bin_start": 0.32528,
            "count": 0
           },
           {
            "bin_end": 0.48573999999999995,
            "bin_start": 0.4055099999999999,
            "count": 0
           },
           {
            "bin_end": 0.56597,
            "bin_start": 0.48573999999999995,
            "count": 0
           },
           {
            "bin_end": 0.6462,
            "bin_start": 0.56597,
            "count": 1
           }
          ],
          "max": "0.6462",
          "min": "-0.1561",
          "nan_count": 12,
          "unique_count": 48
         }
        },
        {
         "dtype": "float64",
         "name": "total_listing_count_yy",
         "stats": {
          "histogram": [
           {
            "bin_end": -0.09675000000000003,
            "bin_start": -0.1995,
            "count": 19
           },
           {
            "bin_end": 0.00599999999999995,
            "bin_start": -0.09675000000000003,
            "count": 11
           },
           {
            "bin_end": 0.1087499999999999,
            "bin_start": 0.00599999999999995,
            "count": 5
           },
           {
            "bin_end": 0.2114999999999999,
            "bin_start": 0.1087499999999999,
            "count": 7
           },
           {
            "bin_end": 0.3142499999999999,
            "bin_start": 0.2114999999999999,
            "count": 5
           },
           {
            "bin_end": 0.4169999999999998,
            "bin_start": 0.3142499999999999,
            "count": 0
           },
           {
            "bin_end": 0.5197499999999998,
            "bin_start": 0.4169999999999998,
            "count": 0
           },
           {
            "bin_end": 0.6224999999999998,
            "bin_start": 0.5197499999999998,
            "count": 0
           },
           {
            "bin_end": 0.7252499999999998,
            "bin_start": 0.6224999999999998,
            "count": 1
           },
           {
            "bin_end": 0.828,
            "bin_start": 0.7252499999999998,
            "count": 1
           }
          ],
          "max": "0.828",
          "min": "-0.1995",
          "nan_count": 12,
          "unique_count": 49
         }
        },
        {
         "dtype": "float64",
         "name": "pending_ratio",
         "stats": {
          "histogram": [
           {
            "bin_end": 0.4749545527,
            "bin_start": 0.327587341,
            "count": 23
           },
           {
            "bin_end": 0.6223217644,
            "bin_start": 0.4749545527,
            "count": 19
           },
           {
            "bin_end": 0.7696889761,
            "bin_start": 0.6223217644,
            "count": 2
           },
           {
            "bin_end": 0.9170561878,
            "bin_start": 0.7696889761,
            "count": 1
           },
           {
            "bin_end": 1.0644233994999999,
            "bin_start": 0.9170561878,
            "count": 1
           },
           {
            "bin_end": 1.2117906112,
            "bin_start": 1.0644233994999999,
            "count": 7
           },
           {
            "bin_end": 1.3591578228999999,
            "bin_start": 1.2117906112,
            "count": 0
           },
           {
            "bin_end": 1.5065250346,
            "bin_start": 1.3591578228999999,
            "count": 4
           },
           {
            "bin_end": 1.6538922462999999,
            "bin_start": 1.5065250346,
            "count": 2
           },
           {
            "bin_end": 1.801259458,
            "bin_start": 1.6538922462999999,
            "count": 2
           }
          ],
          "max": "1.801259458",
          "min": "0.327587341",
          "nan_count": 0,
          "unique_count": 61
         }
        },
        {
         "dtype": "float64",
         "name": "pending_ratio_mm",
         "stats": {
          "histogram": [
           {
            "bin_end": -0.09264000000000003,
            "bin_start": -0.226,
            "count": 3
           },
           {
            "bin_end": 0.04071999999999995,
            "bin_start": -0.09264000000000003,
            "count": 31
           },
           {
            "bin_end": 0.17407999999999993,
            "bin_start": 0.04071999999999995,
            "count": 10
           },
           {
            "bin_end": 0.30743999999999994,
            "bin_start": 0.17407999999999993,
            "count": 4
           },
           {
            "bin_end": 0.44079999999999986,
            "bin_start": 0.30743999999999994,
            "count": 0
           },
           {
            "bin_end": 0.5741599999999999,
            "bin_start": 0.44079999999999986,
            "count": 0
           },
           {
            "bin_end": 0.7075199999999999,
            "bin_start": 0.5741599999999999,
            "count": 0
           },
           {
            "bin_end": 0.8408799999999998,
            "bin_start": 0.7075199999999999,
            "count": 0
           },
           {
            "bin_end": 0.9742399999999998,
            "bin_start": 0.8408799999999998,
            "count": 0
           },
           {
            "bin_end": 1.1076,
            "bin_start": 0.9742399999999998,
            "count": 1
           }
          ],
          "max": "1.1076",
          "min": "-0.226",
          "nan_count": 12,
          "unique_count": 49
         }
        },
        {
         "dtype": "float64",
         "name": "pending_ratio_yy",
         "stats": {
          "histogram": [
           {
            "bin_end": 0.03469,
            "bin_start": -0.1089,
            "count": 20
           },
           {
            "bin_end": 0.17828,
            "bin_start": 0.03469,
            "count": 9
           },
           {
            "bin_end": 0.32187,
            "bin_start": 0.17828,
            "count": 6
           },
           {
            "bin_end": 0.46546,
            "bin_start": 0.32187,
            "count": 0
           },
           {
            "bin_end": 0.60905,
            "bin_start": 0.46546,
            "count": 7
           },
           {
            "bin_end": 0.75264,
            "bin_start": 0.60905,
            "count": 3
           },
           {
            "bin_end": 0.8962299999999999,
            "bin_start": 0.75264,
            "count": 0
           },
           {
            "bin_end": 1.03982,
            "bin_start": 0.8962299999999999,
            "count": 2
           },
           {
            "bin_end": 1.18341,
            "bin_start": 1.03982,
            "count": 1
           },
           {
            "bin_end": 1.327,
            "bin_start": 1.18341,
            "count": 1
           }
          ],
          "max": "1.327",
          "min": "-0.1089",
          "nan_count": 12,
          "unique_count": 49
         }
        },
        {
         "dtype": "object",
         "name": "Year",
         "stats": {
          "categories": [
           {
            "count": 12,
            "name": "2020"
           },
           {
            "count": 12,
            "name": "2019"
           },
           {
            "count": 37,
            "name": "4 others"
           }
          ],
          "nan_count": 0,
          "unique_count": 6
         }
        },
        {
         "dtype": "object",
         "name": "Month",
         "stats": {
          "categories": [
           {
            "count": 6,
            "name": "07"
           },
           {
            "count": 5,
            "name": "06"
           },
           {
            "count": 50,
            "name": "10 others"
           }
          ],
          "nan_count": 0,
          "unique_count": 12
         }
        },
        {
         "dtype": "int64",
         "name": "_deepnote_index_column"
        }
       ],
       "row_count": 61,
       "rows": [
        {
         "Month": "07",
         "Year": "2021",
         "_deepnote_index_column": 17,
         "active_listing_count": 46158,
         "active_listing_count_mm": 0.1297,
         "active_listing_count_yy": -0.1809,
         "average_listing_price": 1574292.204,
         "average_listing_price_mm": -0.0524,
         "average_listing_price_yy": 0.1087,
         "median_days_on_market": 35,
         "median_days_on_market_mm": 0,
         "median_days_on_market_yy": -0.278350515,
         "median_listing_price": 749900,
         "median_listing_price_mm": -0.0248,
         "median_listing_price_per_square_foot": 440.0625,
         "median_listing_price_per_square_foot_mm": -0.0234,
         "median_listing_price_per_square_foot_yy": 0.1501,
         "median_listing_price_yy": 0.0736,
         "median_square_feet": 1777,
         "median_square_feet_mm": -0.0062,
         "median_square_feet_yy": -0.0485,
         "month_date_yyyymm": 202107,
         "new_listing_count": 41260,
         "new_listing_count_mm": 0.0234,
         "new_listing_count_yy": 0.1628,
         "pending_listing_count": 53964,
         "pending_listing_count_mm": -0.032,
         "pending_listing_count_yy": -0.0543,
         "pending_ratio": 1.16911478,
         "pending_ratio_mm": -0.1953,
         "pending_ratio_yy": 0.1565,
         "price_increased_count": 1784,
         "price_increased_count_mm": 0.0229,
         "price_increased_count_yy": -0.045,
         "price_reduced_count": 10540,
         "price_reduced_count_mm": 0.3868,
         "price_reduced_count_yy": -0.2108,
         "state": "california",
         "state_id": "ca",
         "total_listing_count": 100122,
         "total_listing_count_mm": 0.0364,
         "total_listing_count_yy": -0.1172
        },
        {
         "Month": "06",
         "Year": "2021",
         "_deepnote_index_column": 52,
         "active_listing_count": 40858,
         "active_listing_count_mm": 0.0801,
         "active_listing_count_yy": -0.3351,
         "average_listing_price": 1661262.645,
         "average_listing_price_mm": -0.0257,
         "average_listing_price_yy": 0.2343,
         "median_days_on_market": 35,
         "median_days_on_market_mm": -0.027777778,
         "median_days_on_market_yy": -0.31372549,
         "median_listing_price": 769000,
         "median_listing_price_mm": 0,
         "median_listing_price_per_square_foot": 450.59375,
         "median_listing_price_per_square_foot_mm": 0.0005,
         "median_listing_price_per_square_foot_yy": 0.2428,
         "median_listing_price_yy": 0.1616,
         "median_square_feet": 1788,
         "median_square_feet_mm": -0.0061,
         "median_square_feet_yy": -0.0456,
         "month_date_yyyymm": 202106,
         "new_listing_count": 40316,
         "new_listing_count_mm": 0.0546,
         "new_listing_count_yy": 0.1617,
         "pending_listing_count": 55749,
         "pending_listing_count_mm": 0.0039,
         "pending_listing_count_yy": 0.093,
         "pending_ratio": 1.364457389,
         "pending_ratio_mm": -0.1035,
         "pending_ratio_yy": 0.5345,
         "price_increased_count": 1744,
         "price_increased_count_mm": -0.0113,
         "price_increased_count_yy": -0.0136,
         "price_reduced_count": 7600,
         "price_reduced_count_mm": 0.2079,
         "price_reduced_count_yy": -0.47,
         "state": "california",
         "state_id": "ca",
         "total_listing_count": 96607,
         "total_listing_count_mm": 0.0348,
         "total_listing_count_yy": -0.141
        },
        {
         "Month": "05",
         "Year": "2021",
         "_deepnote_index_column": 147,
         "active_listing_count": 37827,
         "active_listing_count_mm": 0.0387,
         "active_listing_count_yy": -0.4203,
         "average_listing_price": 1705117.469,
         "average_listing_price_mm": -0.0643,
         "average_listing_price_yy": 0.36,
         "median_days_on_market": 36,
         "median_days_on_market_mm": 0,
         "median_days_on_market_yy": -0.389830508,
         "median_listing_price": 769000,
         "median_listing_price_mm": -0.0315,
         "median_listing_price_per_square_foot": 450.375,
         "median_listing_price_per_square_foot_mm": -0.0252,
         "median_listing_price_per_square_foot_yy": 0.3315,
         "median_listing_price_yy": 0.2403,
         "median_square_feet": 1799,
         "median_square_feet_mm": -0.0121,
         "median_square_feet_yy": -0.0359,
         "month_date_yyyymm": 202105,
         "new_listing_count": 38228,
         "new_listing_count_mm": 0.0427,
         "new_listing_count_yy": 0.1436,
         "pending_listing_count": 55530,
         "pending_listing_count_mm": 0.0259,
         "pending_listing_count_yy": 0.4925,
         "pending_ratio": 1.467999048,
         "pending_ratio_mm": -0.0183,
         "pending_ratio_yy": 0.8978,
         "price_increased_count": 1764,
         "price_increased_count_mm": 0.0889,
         "price_increased_count_yy": 0.2709,
         "price_reduced_count": 6292,
         "price_reduced_count_mm": 0.1748,
         "price_reduced_count_yy": -0.57,
         "state": "california",
         "state_id": "ca",
         "total_listing_count": 93357,
         "total_listing_count_mm": 0.0311,
         "total_listing_count_yy": -0.0888
        },
        {
         "Month": "04",
         "Year": "2021",
         "_deepnote_index_column": 192,
         "active_listing_count": 36417,
         "active_listing_count_mm": 0.04,
         "active_listing_count_yy": -0.4153,
         "average_listing_price": 1822281.98,
         "average_listing_price_mm": -0.0666,
         "average_listing_price_yy": 0.4957,
         "median_days_on_market": 36,
         "median_days_on_market_mm": -0.027027027,
         "median_days_on_market_yy": -0.294117647,
         "median_listing_price": 794000,
         "median_listing_price_mm": -0.0317,
         "median_listing_price_per_square_foot": 462,
         "median_listing_price_per_square_foot_mm": -0.0315,
         "median_listing_price_per_square_foot_yy": 0.4378,
         "median_listing_price_yy": 0.3459,
         "median_square_feet": 1821,
         "median_square_feet_mm": -0.0127,
         "median_square_feet_yy": -0.013,
         "month_date_yyyymm": 202104,
         "new_listing_count": 36664,
         "new_listing_count_mm": 0.0733,
         "new_listing_count_yy": 0.5475,
         "pending_listing_count": 54128,
         "pending_listing_count_mm": 0.023,
         "pending_listing_count_yy": 0.6123,
         "pending_ratio": 1.486338798,
         "pending_ratio_mm": -0.0246,
         "pending_ratio_yy": 0.9473,
         "price_increased_count": 1620,
         "price_increased_count_mm": 0.1441,
         "price_increased_count_yy": 0.1441,
         "price_reduced_count": 5356,
         "price_reduced_count_mm": 0.0412,
         "price_reduced_count_yy": -0.4922,
         "state": "california",
         "state_id": "ca",
         "total_listing_count": 90545,
         "total_listing_count_mm": 0.0298,
         "total_listing_count_yy": -0.0554
        },
        {
         "Month": "03",
         "Year": "2021",
         "_deepnote_index_column": 248,
         "active_listing_count": 35018,
         "active_listing_count_mm": -0.0059,
         "active_listing_count_yy": -0.413,
         "average_listing_price": 1943105.209,
         "average_listing_price_mm": 0.0082,
         "average_listing_price_yy": 0.4984,
         "median_days_on_market": 37,
         "median_days_on_market_mm": -0.139534884,
         "median_days_on_market_yy": -0.159090909,
         "median_listing_price": 808908,
         "median_listing_price_mm": 0.0118,
         "median_listing_price_per_square_foot": 474.03125,
         "median_listing_price_per_square_foot_mm": 0.0114,
         "median_listing_price_per_square_foot_yy": 0.4503,
         "median_listing_price_yy": 0.3482,
         "median_square_feet": 1838,
         "median_square_feet_mm": 0.0055,
         "median_square_feet_yy": -0.0221,
         "month_date_yyyymm": 202103,
         "new_listing_count": 34296,
         "new_listing_count_mm": 0.1449,
         "new_listing_count_yy": 0.0473,
         "pending_listing_count": 52910,
         "pending_listing_count_mm": 0.0718,
         "pending_listing_count_yy": 0.1594,
         "pending_ratio": 1.510937232,
         "pending_ratio_mm": 0.1095,
         "pending_ratio_yy": 0.7459,
         "price_increased_count": 1456,
         "price_increased_count_mm": 0.0111,
         "price_increased_count_yy": -0.0496,
         "price_reduced_count": 5216,
         "price_reduced_count_mm": 0.0724,
         "price_reduced_count_yy": -0.5839,
         "state": "california",
         "state_id": "ca",
         "total_listing_count": 87928,
         "total_listing_count_mm": 0.0394,
         "total_listing_count_yy": -0.1649
        },
        {
         "Month": "02",
         "Year": "2021",
         "_deepnote_index_column": 303,
         "active_listing_count": 35225,
         "active_listing_count_mm": -0.057,
         "active_listing_count_yy": -0.3996,
         "average_listing_price": 1927367.115,
         "average_listing_price_mm": 0.0575,
         "average_listing_price_yy": 0.4667,
         "median_days_on_market": 43,
         "median_days_on_market_mm": -0.328125,
         "median_days_on_market_yy": -0.218181818,
         "median_listing_price": 799500,
         "median_listing_price_mm": 0.0316,
         "median_listing_price_per_square_foot": 468.6875,
         "median_listing_price_per_square_foot_mm": 0.0506,
         "median_listing_price_per_square_foot_yy": 0.4923,
         "median_listing_price_yy": 0.3551,
         "median_square_feet": 1828,
         "median_square_feet_mm": -0.0065,
         "median_square_feet_yy": -0.024,
         "month_date_yyyymm": 202102,
         "new_listing_count": 29956,
         "new_listing_count_mm": 0.1118,
         "new_listing_count_yy": -0.0939,
         "pending_listing_count": 49367,
         "pending_listing_count_mm": 0.1076,
         "pending_listing_count_yy": 0.1753,
         "pending_ratio": 1.401476224,
         "pending_ratio_mm": 0.2082,
         "pending_ratio_yy": 0.6855,
         "price_increased_count": 1440,
         "price_increased_count_mm": 0.1077,
         "price_increased_count_yy": -0.2157,
         "price_reduced_count": 4864,
         "price_reduced_count_mm": -0.0675,
         "price_reduced_count_yy": -0.6021,
         "state": "california",
         "state_id": "ca",
         "total_listing_count": 84592,
         "total_listing_count_mm": 0.0326,
         "total_listing_count_yy": -0.1597
        },
        {
         "Month": "01",
         "Year": "2021",
         "_deepnote_index_column": 318,
         "active_listing_count": 37353,
         "active_listing_count_mm": -0.1374,
         "active_listing_count_yy": -0.366,
         "average_listing_price": 1822620.912,
         "average_listing_price_mm": 0.1419,
         "average_listing_price_yy": 0.4192,
         "median_days_on_market": 64,
         "median_days_on_market_mm": 0.142857143,
         "median_days_on_market_yy": -0.111111111,
         "median_listing_price": 775000,
         "median_listing_price_mm": 0.066,
         "median_listing_price_per_square_foot": 446.125,
         "median_listing_price_per_square_foot_mm": 0.06,
         "median_listing_price_per_square_foot_yy": 0.4829,
         "median_listing_price_yy": 0.367,
         "median_square_feet": 1840,
         "median_square_feet_mm": 0.02,
         "median_square_feet_yy": -0.0179,
         "month_date_yyyymm": 202101,
         "new_listing_count": 26944,
         "new_listing_count_mm": 0.2039,
         "new_listing_count_yy": -0.1167,
         "pending_listing_count": 44571,
         "pending_listing_count_mm": -0.1208,
         "pending_listing_count_yy": 0.3544,
         "pending_ratio": 1.193237491,
         "pending_ratio_mm": 0.0225,
         "pending_ratio_yy": 0.6347,
         "price_increased_count": 1300,
         "price_increased_count_mm": -0.0947,
         "price_increased_count_yy": -0.0552,
         "price_reduced_count": 5216,
         "price_reduced_count_mm": -0.2135,
         "price_reduced_count_yy": -0.5653,
         "state": "california",
         "state_id": "ca",
         "total_listing_count": 81924,
         "total_listing_count_mm": -0.1284,
         "total_listing_count_yy": -0.1078
        },
        {
         "Month": "12",
         "Year": "2020",
         "_deepnote_index_column": 394,
         "active_listing_count": 43302,
         "active_listing_count_mm": -0.1551,
         "active_listing_count_yy": -0.3422,
         "average_listing_price": 1596134.449,
         "average_listing_price_mm": 0.0388,
         "average_listing_price_yy": 0.3071,
         "median_days_on_market": 56,
         "median_days_on_market_mm": 0.191489362,
         "median_days_on_market_yy": -0.188405797,
         "median_listing_price": 727000,
         "median_listing_price_mm": -0.0001,
         "median_listing_price_per_square_foot": 420.890625,
         "median_listing_price_per_square_foot_mm": 0.0006,
         "median_listing_price_per_square_foot_yy": 0.3907,
         "median_listing_price_yy": 0.304,
         "median_square_feet": 1804,
         "median_square_feet_mm": -0.005,
         "median_square_feet_yy": -0.0259,
         "month_date_yyyymm": 202012,
         "new_listing_count": 22380,
         "new_listing_count_mm": -0.2467,
         "new_listing_count_yy": 0.2248,
         "pending_listing_count": 50694,
         "pending_listing_count_mm": -0.1061,
         "pending_listing_count_yy": 0.347,
         "pending_ratio": 1.17070805,
         "pending_ratio_mm": 0.0642,
         "pending_ratio_yy": 0.5989,
         "price_increased_count": 1436,
         "price_increased_count_mm": -0.0627,
         "price_increased_count_yy": 0.1656,
         "price_reduced_count": 6632,
         "price_reduced_count_mm": -0.371,
         "price_reduced_count_yy": -0.348,
         "state": "california",
         "state_id": "ca",
         "total_listing_count": 93996,
         "total_listing_count_mm": -0.1294,
         "total_listing_count_yy": -0.0915
        },
        {
         "Month": "11",
         "Year": "2020",
         "_deepnote_index_column": 438,
         "active_listing_count": 51254,
         "active_listing_count_mm": -0.0617,
         "active_listing_count_yy": -0.3537,
         "average_listing_price": 1536489.149,
         "average_listing_price_mm": 0.0068,
         "average_listing_price_yy": 0.2903,
         "median_days_on_market": 47,
         "median_days_on_market_mm": 0.175,
         "median_days_on_market_yy": -0.203389831,
         "median_listing_price": 727044,
         "median_listing_price_mm": -0.004,
         "median_listing_price_per_square_foot": 420.65625,
         "median_listing_price_per_square_foot_mm": 0.008,
         "median_listing_price_per_square_foot_yy": 0.3483,
         "median_listing_price_yy": 0.2644,
         "median_square_feet": 1813,
         "median_square_feet_mm": -0.0077,
         "median_square_feet_yy": -0.0205,
         "month_date_yyyymm": 202011,
         "new_listing_count": 29708,
         "new_listing_count_mm": -0.2324,
         "new_listing_count_yy": 0.0215,
         "pending_listing_count": 56712,
         "pending_listing_count_mm": -0.0515,
         "pending_listing_count_yy": 0.3101,
         "pending_ratio": 1.10648925,
         "pending_ratio_mm": 0.0119,
         "pending_ratio_yy": 0.5606,
         "price_increased_count": 1532,
         "price_increased_count_mm": -0.1656,
         "price_increased_count_yy": 0.0669,
         "price_reduced_count": 10544,
         "price_reduced_count_mm": -0.1877,
         "price_reduced_count_yy": -0.4873,
         "state": "california",
         "state_id": "ca",
         "total_listing_count": 107966,
         "total_listing_count_mm": -0.0564,
         "total_listing_count_yy": -0.1193
        },
        {
         "Month": "10",
         "Year": "2020",
         "_deepnote_index_column": 487,
         "active_listing_count": 54623,
         "active_listing_count_mm": 0.0343,
         "active_listing_count_yy": -0.3713,
         "average_listing_price": 1526038.793,
         "average_listing_price_mm": 0.0193,
         "average_listing_price_yy": 0.3054,
         "median_days_on_market": 40,
         "median_days_on_market_mm": -0.047619048,
         "median_days_on_market_yy": -0.245283019,
         "median_listing_price": 730000,
         "median_listing_price_mm": 0.0076,
         "median_listing_price_per_square_foot": 417.3125,
         "median_listing_price_per_square_foot_mm": 0.0183,
         "median_listing_price_per_square_foot_yy": 0.3222,
         "median_listing_price_yy": 0.2587,
         "median_square_feet": 1827,
         "median_square_feet_mm": -0.0038,
         "median_square_feet_yy": -0.0148,
         "month_date_yyyymm": 202010,
         "new_listing_count": 38704,
         "new_listing_count_mm": -0.0256,
         "new_listing_count_yy": 0.0895,
         "pending_listing_count": 59792,
         "pending_listing_count_mm": 0.0039,
         "pending_listing_count_yy": 0.3326,
         "pending_ratio": 1.094630467,
         "pending_ratio_mm": -0.0332,
         "pending_ratio_yy": 0.5782,
         "price_increased_count": 1836,
         "price_increased_count_mm": -0.0517,
         "price_increased_count_yy": 0.1679,
         "price_reduced_count": 12980,
         "price_reduced_count_mm": 0.0381,
         "price_reduced_count_yy": -0.5044,
         "state": "california",
         "state_id": "ca",
         "total_listing_count": 114415,
         "total_listing_count_mm": 0.0182,
         "total_listing_count_yy": -0.1316
        }
       ]
      },
      "text/html": [
       "<div>\n",
       "<style scoped>\n",
       "    .dataframe tbody tr th:only-of-type {\n",
       "        vertical-align: middle;\n",
       "    }\n",
       "\n",
       "    .dataframe tbody tr th {\n",
       "        vertical-align: top;\n",
       "    }\n",
       "\n",
       "    .dataframe thead th {\n",
       "        text-align: right;\n",
       "    }\n",
       "</style>\n",
       "<table border=\"1\" class=\"dataframe\">\n",
       "  <thead>\n",
       "    <tr style=\"text-align: right;\">\n",
       "      <th></th>\n",
       "      <th>month_date_yyyymm</th>\n",
       "      <th>state</th>\n",
       "      <th>state_id</th>\n",
       "      <th>median_listing_price</th>\n",
       "      <th>median_listing_price_mm</th>\n",
       "      <th>median_listing_price_yy</th>\n",
       "      <th>active_listing_count</th>\n",
       "      <th>active_listing_count_mm</th>\n",
       "      <th>active_listing_count_yy</th>\n",
       "      <th>median_days_on_market</th>\n",
       "      <th>...</th>\n",
       "      <th>average_listing_price_mm</th>\n",
       "      <th>average_listing_price_yy</th>\n",
       "      <th>total_listing_count</th>\n",
       "      <th>total_listing_count_mm</th>\n",
       "      <th>total_listing_count_yy</th>\n",
       "      <th>pending_ratio</th>\n",
       "      <th>pending_ratio_mm</th>\n",
       "      <th>pending_ratio_yy</th>\n",
       "      <th>Year</th>\n",
       "      <th>Month</th>\n",
       "    </tr>\n",
       "  </thead>\n",
       "  <tbody>\n",
       "    <tr>\n",
       "      <th>17</th>\n",
       "      <td>202107</td>\n",
       "      <td>california</td>\n",
       "      <td>ca</td>\n",
       "      <td>749900.0</td>\n",
       "      <td>-0.0248</td>\n",
       "      <td>0.0736</td>\n",
       "      <td>46158</td>\n",
       "      <td>0.1297</td>\n",
       "      <td>-0.1809</td>\n",
       "      <td>35.0</td>\n",
       "      <td>...</td>\n",
       "      <td>-0.0524</td>\n",
       "      <td>0.1087</td>\n",
       "      <td>100122</td>\n",
       "      <td>0.0364</td>\n",
       "      <td>-0.1172</td>\n",
       "      <td>1.169115</td>\n",
       "      <td>-0.1953</td>\n",
       "      <td>0.1565</td>\n",
       "      <td>2021</td>\n",
       "      <td>07</td>\n",
       "    </tr>\n",
       "    <tr>\n",
       "      <th>52</th>\n",
       "      <td>202106</td>\n",
       "      <td>california</td>\n",
       "      <td>ca</td>\n",
       "      <td>769000.0</td>\n",
       "      <td>0.0000</td>\n",
       "      <td>0.1616</td>\n",
       "      <td>40858</td>\n",
       "      <td>0.0801</td>\n",
       "      <td>-0.3351</td>\n",
       "      <td>35.0</td>\n",
       "      <td>...</td>\n",
       "      <td>-0.0257</td>\n",
       "      <td>0.2343</td>\n",
       "      <td>96607</td>\n",
       "      <td>0.0348</td>\n",
       "      <td>-0.1410</td>\n",
       "      <td>1.364457</td>\n",
       "      <td>-0.1035</td>\n",
       "      <td>0.5345</td>\n",
       "      <td>2021</td>\n",
       "      <td>06</td>\n",
       "    </tr>\n",
       "    <tr>\n",
       "      <th>147</th>\n",
       "      <td>202105</td>\n",
       "      <td>california</td>\n",
       "      <td>ca</td>\n",
       "      <td>769000.0</td>\n",
       "      <td>-0.0315</td>\n",
       "      <td>0.2403</td>\n",
       "      <td>37827</td>\n",
       "      <td>0.0387</td>\n",
       "      <td>-0.4203</td>\n",
       "      <td>36.0</td>\n",
       "      <td>...</td>\n",
       "      <td>-0.0643</td>\n",
       "      <td>0.3600</td>\n",
       "      <td>93357</td>\n",
       "      <td>0.0311</td>\n",
       "      <td>-0.0888</td>\n",
       "      <td>1.467999</td>\n",
       "      <td>-0.0183</td>\n",
       "      <td>0.8978</td>\n",
       "      <td>2021</td>\n",
       "      <td>05</td>\n",
       "    </tr>\n",
       "    <tr>\n",
       "      <th>192</th>\n",
       "      <td>202104</td>\n",
       "      <td>california</td>\n",
       "      <td>ca</td>\n",
       "      <td>794000.0</td>\n",
       "      <td>-0.0317</td>\n",
       "      <td>0.3459</td>\n",
       "      <td>36417</td>\n",
       "      <td>0.0400</td>\n",
       "      <td>-0.4153</td>\n",
       "      <td>36.0</td>\n",
       "      <td>...</td>\n",
       "      <td>-0.0666</td>\n",
       "      <td>0.4957</td>\n",
       "      <td>90545</td>\n",
       "      <td>0.0298</td>\n",
       "      <td>-0.0554</td>\n",
       "      <td>1.486339</td>\n",
       "      <td>-0.0246</td>\n",
       "      <td>0.9473</td>\n",
       "      <td>2021</td>\n",
       "      <td>04</td>\n",
       "    </tr>\n",
       "    <tr>\n",
       "      <th>248</th>\n",
       "      <td>202103</td>\n",
       "      <td>california</td>\n",
       "      <td>ca</td>\n",
       "      <td>808908.0</td>\n",
       "      <td>0.0118</td>\n",
       "      <td>0.3482</td>\n",
       "      <td>35018</td>\n",
       "      <td>-0.0059</td>\n",
       "      <td>-0.4130</td>\n",
       "      <td>37.0</td>\n",
       "      <td>...</td>\n",
       "      <td>0.0082</td>\n",
       "      <td>0.4984</td>\n",
       "      <td>87928</td>\n",
       "      <td>0.0394</td>\n",
       "      <td>-0.1649</td>\n",
       "      <td>1.510937</td>\n",
       "      <td>0.1095</td>\n",
       "      <td>0.7459</td>\n",
       "      <td>2021</td>\n",
       "      <td>03</td>\n",
       "    </tr>\n",
       "    <tr>\n",
       "      <th>...</th>\n",
       "      <td>...</td>\n",
       "      <td>...</td>\n",
       "      <td>...</td>\n",
       "      <td>...</td>\n",
       "      <td>...</td>\n",
       "      <td>...</td>\n",
       "      <td>...</td>\n",
       "      <td>...</td>\n",
       "      <td>...</td>\n",
       "      <td>...</td>\n",
       "      <td>...</td>\n",
       "      <td>...</td>\n",
       "      <td>...</td>\n",
       "      <td>...</td>\n",
       "      <td>...</td>\n",
       "      <td>...</td>\n",
       "      <td>...</td>\n",
       "      <td>...</td>\n",
       "      <td>...</td>\n",
       "      <td>...</td>\n",
       "      <td>...</td>\n",
       "    </tr>\n",
       "    <tr>\n",
       "      <th>2888</th>\n",
       "      <td>201611</td>\n",
       "      <td>california</td>\n",
       "      <td>ca</td>\n",
       "      <td>489500.0</td>\n",
       "      <td>NaN</td>\n",
       "      <td>NaN</td>\n",
       "      <td>79858</td>\n",
       "      <td>NaN</td>\n",
       "      <td>NaN</td>\n",
       "      <td>56.5</td>\n",
       "      <td>...</td>\n",
       "      <td>NaN</td>\n",
       "      <td>NaN</td>\n",
       "      <td>114754</td>\n",
       "      <td>NaN</td>\n",
       "      <td>NaN</td>\n",
       "      <td>0.436976</td>\n",
       "      <td>NaN</td>\n",
       "      <td>NaN</td>\n",
       "      <td>2016</td>\n",
       "      <td>11</td>\n",
       "    </tr>\n",
       "    <tr>\n",
       "      <th>2910</th>\n",
       "      <td>201610</td>\n",
       "      <td>california</td>\n",
       "      <td>ca</td>\n",
       "      <td>498000.0</td>\n",
       "      <td>NaN</td>\n",
       "      <td>NaN</td>\n",
       "      <td>85605</td>\n",
       "      <td>NaN</td>\n",
       "      <td>NaN</td>\n",
       "      <td>53.0</td>\n",
       "      <td>...</td>\n",
       "      <td>NaN</td>\n",
       "      <td>NaN</td>\n",
       "      <td>123100</td>\n",
       "      <td>NaN</td>\n",
       "      <td>NaN</td>\n",
       "      <td>0.438000</td>\n",
       "      <td>NaN</td>\n",
       "      <td>NaN</td>\n",
       "      <td>2016</td>\n",
       "      <td>10</td>\n",
       "    </tr>\n",
       "    <tr>\n",
       "      <th>3003</th>\n",
       "      <td>201609</td>\n",
       "      <td>california</td>\n",
       "      <td>ca</td>\n",
       "      <td>499000.0</td>\n",
       "      <td>NaN</td>\n",
       "      <td>NaN</td>\n",
       "      <td>88711</td>\n",
       "      <td>NaN</td>\n",
       "      <td>NaN</td>\n",
       "      <td>51.5</td>\n",
       "      <td>...</td>\n",
       "      <td>NaN</td>\n",
       "      <td>NaN</td>\n",
       "      <td>127290</td>\n",
       "      <td>NaN</td>\n",
       "      <td>NaN</td>\n",
       "      <td>0.434884</td>\n",
       "      <td>NaN</td>\n",
       "      <td>NaN</td>\n",
       "      <td>2016</td>\n",
       "      <td>09</td>\n",
       "    </tr>\n",
       "    <tr>\n",
       "      <th>3048</th>\n",
       "      <td>201608</td>\n",
       "      <td>california</td>\n",
       "      <td>ca</td>\n",
       "      <td>499000.0</td>\n",
       "      <td>NaN</td>\n",
       "      <td>NaN</td>\n",
       "      <td>90249</td>\n",
       "      <td>NaN</td>\n",
       "      <td>NaN</td>\n",
       "      <td>49.5</td>\n",
       "      <td>...</td>\n",
       "      <td>NaN</td>\n",
       "      <td>NaN</td>\n",
       "      <td>130020</td>\n",
       "      <td>NaN</td>\n",
       "      <td>NaN</td>\n",
       "      <td>0.440681</td>\n",
       "      <td>NaN</td>\n",
       "      <td>NaN</td>\n",
       "      <td>2016</td>\n",
       "      <td>08</td>\n",
       "    </tr>\n",
       "    <tr>\n",
       "      <th>3110</th>\n",
       "      <td>201607</td>\n",
       "      <td>california</td>\n",
       "      <td>ca</td>\n",
       "      <td>500224.0</td>\n",
       "      <td>NaN</td>\n",
       "      <td>NaN</td>\n",
       "      <td>89335</td>\n",
       "      <td>NaN</td>\n",
       "      <td>NaN</td>\n",
       "      <td>47.0</td>\n",
       "      <td>...</td>\n",
       "      <td>NaN</td>\n",
       "      <td>NaN</td>\n",
       "      <td>129674</td>\n",
       "      <td>NaN</td>\n",
       "      <td>NaN</td>\n",
       "      <td>0.451548</td>\n",
       "      <td>NaN</td>\n",
       "      <td>NaN</td>\n",
       "      <td>2016</td>\n",
       "      <td>07</td>\n",
       "    </tr>\n",
       "  </tbody>\n",
       "</table>\n",
       "<p>61 rows × 41 columns</p>\n",
       "</div>"
      ],
      "text/plain": [
       "      month_date_yyyymm       state state_id  median_listing_price  \\\n",
       "17               202107  california       ca              749900.0   \n",
       "52               202106  california       ca              769000.0   \n",
       "147              202105  california       ca              769000.0   \n",
       "192              202104  california       ca              794000.0   \n",
       "248              202103  california       ca              808908.0   \n",
       "...                 ...         ...      ...                   ...   \n",
       "2888             201611  california       ca              489500.0   \n",
       "2910             201610  california       ca              498000.0   \n",
       "3003             201609  california       ca              499000.0   \n",
       "3048             201608  california       ca              499000.0   \n",
       "3110             201607  california       ca              500224.0   \n",
       "\n",
       "      median_listing_price_mm  median_listing_price_yy  active_listing_count  \\\n",
       "17                    -0.0248                   0.0736                 46158   \n",
       "52                     0.0000                   0.1616                 40858   \n",
       "147                   -0.0315                   0.2403                 37827   \n",
       "192                   -0.0317                   0.3459                 36417   \n",
       "248                    0.0118                   0.3482                 35018   \n",
       "...                       ...                      ...                   ...   \n",
       "2888                      NaN                      NaN                 79858   \n",
       "2910                      NaN                      NaN                 85605   \n",
       "3003                      NaN                      NaN                 88711   \n",
       "3048                      NaN                      NaN                 90249   \n",
       "3110                      NaN                      NaN                 89335   \n",
       "\n",
       "      active_listing_count_mm  active_listing_count_yy  median_days_on_market  \\\n",
       "17                     0.1297                  -0.1809                   35.0   \n",
       "52                     0.0801                  -0.3351                   35.0   \n",
       "147                    0.0387                  -0.4203                   36.0   \n",
       "192                    0.0400                  -0.4153                   36.0   \n",
       "248                   -0.0059                  -0.4130                   37.0   \n",
       "...                       ...                      ...                    ...   \n",
       "2888                      NaN                      NaN                   56.5   \n",
       "2910                      NaN                      NaN                   53.0   \n",
       "3003                      NaN                      NaN                   51.5   \n",
       "3048                      NaN                      NaN                   49.5   \n",
       "3110                      NaN                      NaN                   47.0   \n",
       "\n",
       "      ...  average_listing_price_mm  average_listing_price_yy  \\\n",
       "17    ...                   -0.0524                    0.1087   \n",
       "52    ...                   -0.0257                    0.2343   \n",
       "147   ...                   -0.0643                    0.3600   \n",
       "192   ...                   -0.0666                    0.4957   \n",
       "248   ...                    0.0082                    0.4984   \n",
       "...   ...                       ...                       ...   \n",
       "2888  ...                       NaN                       NaN   \n",
       "2910  ...                       NaN                       NaN   \n",
       "3003  ...                       NaN                       NaN   \n",
       "3048  ...                       NaN                       NaN   \n",
       "3110  ...                       NaN                       NaN   \n",
       "\n",
       "      total_listing_count  total_listing_count_mm  total_listing_count_yy  \\\n",
       "17                 100122                  0.0364                 -0.1172   \n",
       "52                  96607                  0.0348                 -0.1410   \n",
       "147                 93357                  0.0311                 -0.0888   \n",
       "192                 90545                  0.0298                 -0.0554   \n",
       "248                 87928                  0.0394                 -0.1649   \n",
       "...                   ...                     ...                     ...   \n",
       "2888               114754                     NaN                     NaN   \n",
       "2910               123100                     NaN                     NaN   \n",
       "3003               127290                     NaN                     NaN   \n",
       "3048               130020                     NaN                     NaN   \n",
       "3110               129674                     NaN                     NaN   \n",
       "\n",
       "      pending_ratio  pending_ratio_mm  pending_ratio_yy  Year  Month  \n",
       "17         1.169115           -0.1953            0.1565  2021     07  \n",
       "52         1.364457           -0.1035            0.5345  2021     06  \n",
       "147        1.467999           -0.0183            0.8978  2021     05  \n",
       "192        1.486339           -0.0246            0.9473  2021     04  \n",
       "248        1.510937            0.1095            0.7459  2021     03  \n",
       "...             ...               ...               ...   ...    ...  \n",
       "2888       0.436976               NaN               NaN  2016     11  \n",
       "2910       0.438000               NaN               NaN  2016     10  \n",
       "3003       0.434884               NaN               NaN  2016     09  \n",
       "3048       0.440681               NaN               NaN  2016     08  \n",
       "3110       0.451548               NaN               NaN  2016     07  \n",
       "\n",
       "[61 rows x 41 columns]"
      ]
     },
     "execution_count": 25,
     "metadata": {},
     "output_type": "execute_result"
    }
   ],
   "source": [
    "#  Median Listing Price per Year in Texas in California as compared to national average\n",
    "\n",
    "Avg_texas = core_metrics_by_state[core_metrics_by_state['state_id'] == \"tx\"].groupby('Year' , as_index=False) ['median_listing_price'].mean()\n",
    "Avg_cali = core_metrics_by_state[core_metrics_by_state['state_id'] == \"ca\"].groupby('Year' , as_index=False)['median_listing_price'].mean()\n",
    "\n",
    "plt.plot(Avg['Year'], Avg['median_listing_price'], color='orange', marker='o',label = \"National\")\n",
    "plt.plot(Avg_texas['Year'], Avg_texas['median_listing_price'], color='red', marker='o' , label = \"Texas\")\n",
    "plt.plot(Avg_cali['Year'], Avg_cali['median_listing_price'], color='blue', marker='o' , label = \"California\")\n",
    "plt.title('Median Listing Price Per Year', fontsize=14)\n",
    "plt.xlabel('Year', fontsize=14)\n",
    "plt.ylabel('Median Listing Price', fontsize=14)\n",
    "plt.grid(True)\n",
    "plt.legend()\n",
    "plt.show()\n",
    "\n",
    "cali_data"
   ]
  },
  {
   "cell_type": "code",
   "execution_count": null,
   "metadata": {
    "cell_id": "ee758e11a1024937aebe9c906d207f38",
    "deepnote_cell_height": 635.859375,
    "deepnote_cell_type": "code",
    "deepnote_to_be_reexecuted": true,
    "execution_millis": 237,
    "execution_start": 1649719234176,
    "source_hash": "896aeb5a",
    "tags": []
   },
   "outputs": [
    {
     "data": {
      "application/vnd.deepnote.dataframe.v3+json": {
       "column_count": 2,
       "columns": [
        {
         "dtype": "object",
         "name": "postal_code",
         "stats": {
          "categories": [
           {
            "count": 2,
            "name": "1002"
           },
           {
            "count": 2,
            "name": "1005"
           },
           {
            "count": 31801,
            "name": "19907 others"
           }
          ],
          "nan_count": 0,
          "unique_count": 31805
         }
        },
        {
         "dtype": "float64",
         "name": "median_days_on_market",
         "stats": {
          "histogram": [
           {
            "bin_end": 132.65,
            "bin_start": 8,
            "count": 28526
           },
           {
            "bin_end": 257.3,
            "bin_start": 132.65,
            "count": 3000
           },
           {
            "bin_end": 381.95000000000005,
            "bin_start": 257.3,
            "count": 239
           },
           {
            "bin_end": 506.6,
            "bin_start": 381.95000000000005,
            "count": 23
           },
           {
            "bin_end": 631.25,
            "bin_start": 506.6,
            "count": 8
           },
           {
            "bin_end": 755.9000000000001,
            "bin_start": 631.25,
            "count": 4
           },
           {
            "bin_end": 880.5500000000001,
            "bin_start": 755.9000000000001,
            "count": 3
           },
           {
            "bin_end": 1005.2,
            "bin_start": 880.5500000000001,
            "count": 0
           },
           {
            "bin_end": 1129.8500000000001,
            "bin_start": 1005.2,
            "count": 0
           },
           {
            "bin_end": 1254.5,
            "bin_start": 1129.8500000000001,
            "count": 1
           }
          ],
          "max": "1254.5",
          "min": "8.0",
          "nan_count": 1,
          "unique_count": 16466
         }
        },
        {
         "dtype": "int64",
         "name": "_deepnote_index_column"
        }
       ],
       "row_count": 31805,
       "rows": [
        {
         "_deepnote_index_column": 0,
         "median_days_on_market": 64.09836065573771,
         "postal_code": "1001"
        },
        {
         "_deepnote_index_column": 1,
         "median_days_on_market": 85.50833333333334,
         "postal_code": "1002"
        },
        {
         "_deepnote_index_column": 2,
         "median_days_on_market": 88.18627450980392,
         "postal_code": "1005"
        },
        {
         "_deepnote_index_column": 3,
         "median_days_on_market": 71.8157894736842,
         "postal_code": "1007"
        },
        {
         "_deepnote_index_column": 4,
         "median_days_on_market": 82.32142857142857,
         "postal_code": "1008"
        },
        {
         "_deepnote_index_column": 5,
         "median_days_on_market": 83.6842105263158,
         "postal_code": "1010"
        },
        {
         "_deepnote_index_column": 6,
         "median_days_on_market": 87.88888888888889,
         "postal_code": "1011"
        },
        {
         "_deepnote_index_column": 7,
         "median_days_on_market": 52.44,
         "postal_code": "1013"
        },
        {
         "_deepnote_index_column": 8,
         "median_days_on_market": 48.04385964912281,
         "postal_code": "1020"
        },
        {
         "_deepnote_index_column": 9,
         "median_days_on_market": 51.625,
         "postal_code": "1022"
        }
       ]
      },
      "text/html": [
       "<div>\n",
       "<style scoped>\n",
       "    .dataframe tbody tr th:only-of-type {\n",
       "        vertical-align: middle;\n",
       "    }\n",
       "\n",
       "    .dataframe tbody tr th {\n",
       "        vertical-align: top;\n",
       "    }\n",
       "\n",
       "    .dataframe thead th {\n",
       "        text-align: right;\n",
       "    }\n",
       "</style>\n",
       "<table border=\"1\" class=\"dataframe\">\n",
       "  <thead>\n",
       "    <tr style=\"text-align: right;\">\n",
       "      <th></th>\n",
       "      <th>postal_code</th>\n",
       "      <th>median_days_on_market</th>\n",
       "    </tr>\n",
       "  </thead>\n",
       "  <tbody>\n",
       "    <tr>\n",
       "      <th>0</th>\n",
       "      <td>1001</td>\n",
       "      <td>64.098361</td>\n",
       "    </tr>\n",
       "    <tr>\n",
       "      <th>1</th>\n",
       "      <td>1002</td>\n",
       "      <td>85.508333</td>\n",
       "    </tr>\n",
       "    <tr>\n",
       "      <th>2</th>\n",
       "      <td>1005</td>\n",
       "      <td>88.186275</td>\n",
       "    </tr>\n",
       "    <tr>\n",
       "      <th>3</th>\n",
       "      <td>1007</td>\n",
       "      <td>71.815789</td>\n",
       "    </tr>\n",
       "    <tr>\n",
       "      <th>4</th>\n",
       "      <td>1008</td>\n",
       "      <td>82.321429</td>\n",
       "    </tr>\n",
       "    <tr>\n",
       "      <th>...</th>\n",
       "      <td>...</td>\n",
       "      <td>...</td>\n",
       "    </tr>\n",
       "    <tr>\n",
       "      <th>31800</th>\n",
       "      <td>99737</td>\n",
       "      <td>90.000000</td>\n",
       "    </tr>\n",
       "    <tr>\n",
       "      <th>31801</th>\n",
       "      <td>99780</td>\n",
       "      <td>199.000000</td>\n",
       "    </tr>\n",
       "    <tr>\n",
       "      <th>31802</th>\n",
       "      <td>99801</td>\n",
       "      <td>54.000000</td>\n",
       "    </tr>\n",
       "    <tr>\n",
       "      <th>31803</th>\n",
       "      <td>99827</td>\n",
       "      <td>292.000000</td>\n",
       "    </tr>\n",
       "    <tr>\n",
       "      <th>31804</th>\n",
       "      <td>99901</td>\n",
       "      <td>149.000000</td>\n",
       "    </tr>\n",
       "  </tbody>\n",
       "</table>\n",
       "<p>31805 rows × 2 columns</p>\n",
       "</div>"
      ],
      "text/plain": [
       "      postal_code  median_days_on_market\n",
       "0            1001              64.098361\n",
       "1            1002              85.508333\n",
       "2            1005              88.186275\n",
       "3            1007              71.815789\n",
       "4            1008              82.321429\n",
       "...           ...                    ...\n",
       "31800       99737              90.000000\n",
       "31801       99780             199.000000\n",
       "31802       99801              54.000000\n",
       "31803       99827             292.000000\n",
       "31804       99901             149.000000\n",
       "\n",
       "[31805 rows x 2 columns]"
      ]
     },
     "execution_count": 26,
     "metadata": {},
     "output_type": "execute_result"
    }
   ],
   "source": [
    "# Median days on market grouped by zip code\n",
    "zip_mean = core_metrics_by_zip.groupby('postal_code', as_index=False)['median_days_on_market'].mean()\n",
    "zip_mean"
   ]
  },
  {
   "cell_type": "code",
   "execution_count": null,
   "metadata": {
    "cell_id": "066762d644354dd292e18bfc3518adf9",
    "deepnote_cell_height": 635.859375,
    "deepnote_cell_type": "code",
    "deepnote_to_be_reexecuted": true,
    "execution_millis": 29,
    "execution_start": 1649719234416,
    "source_hash": "d0b3f28c",
    "tags": []
   },
   "outputs": [
    {
     "data": {
      "application/vnd.deepnote.dataframe.v3+json": {
       "column_count": 2,
       "columns": [
        {
         "dtype": "object",
         "name": "postal_code",
         "stats": {
          "categories": [
           {
            "count": 1,
            "name": "98106"
           },
           {
            "count": 1,
            "name": "98115"
           },
           {
            "count": 8,
            "name": "8 others"
           }
          ],
          "nan_count": 0,
          "unique_count": 10
         }
        },
        {
         "dtype": "float64",
         "name": "median_days_on_market",
         "stats": {
          "histogram": [
           {
            "bin_end": 8.566666666666666,
            "bin_start": 8,
            "count": 2
           },
           {
            "bin_end": 9.133333333333333,
            "bin_start": 8.566666666666666,
            "count": 2
           },
           {
            "bin_end": 9.7,
            "bin_start": 9.133333333333333,
            "count": 0
           },
           {
            "bin_end": 10.266666666666666,
            "bin_start": 9.7,
            "count": 0
           },
           {
            "bin_end": 10.833333333333332,
            "bin_start": 10.266666666666666,
            "count": 0
           },
           {
            "bin_end": 11.4,
            "bin_start": 10.833333333333332,
            "count": 2
           },
           {
            "bin_end": 11.966666666666667,
            "bin_start": 11.4,
            "count": 0
           },
           {
            "bin_end": 12.533333333333333,
            "bin_start": 11.966666666666667,
            "count": 0
           },
           {
            "bin_end": 13.1,
            "bin_start": 12.533333333333333,
            "count": 3
           },
           {
            "bin_end": 13.666666666666666,
            "bin_start": 13.1,
            "count": 1
           }
          ],
          "max": "13.666666666666666",
          "min": "8.0",
          "nan_count": 0,
          "unique_count": 5
         }
        },
        {
         "dtype": "int64",
         "name": "_deepnote_index_column"
        }
       ],
       "row_count": 10,
       "rows": [
        {
         "_deepnote_index_column": 31576,
         "median_days_on_market": 8,
         "postal_code": "98106"
        },
        {
         "_deepnote_index_column": 31580,
         "median_days_on_market": 8,
         "postal_code": "98115"
        },
        {
         "_deepnote_index_column": 29680,
         "median_days_on_market": 9,
         "postal_code": "80640"
        },
        {
         "_deepnote_index_column": 31550,
         "median_days_on_market": 9,
         "postal_code": "98021"
        },
        {
         "_deepnote_index_column": 31544,
         "median_days_on_market": 11,
         "postal_code": "98008"
        },
        {
         "_deepnote_index_column": 31570,
         "median_days_on_market": 11,
         "postal_code": "98072"
        },
        {
         "_deepnote_index_column": 31082,
         "median_days_on_market": 13,
         "postal_code": "94579"
        },
        {
         "_deepnote_index_column": 29538,
         "median_days_on_market": 13,
         "postal_code": "80012"
        },
        {
         "_deepnote_index_column": 29558,
         "median_days_on_market": 13,
         "postal_code": "80110"
        },
        {
         "_deepnote_index_column": 19545,
         "median_days_on_market": 13.666666666666666,
         "postal_code": "98327"
        }
       ]
      },
      "text/html": [
       "<div>\n",
       "<style scoped>\n",
       "    .dataframe tbody tr th:only-of-type {\n",
       "        vertical-align: middle;\n",
       "    }\n",
       "\n",
       "    .dataframe tbody tr th {\n",
       "        vertical-align: top;\n",
       "    }\n",
       "\n",
       "    .dataframe thead th {\n",
       "        text-align: right;\n",
       "    }\n",
       "</style>\n",
       "<table border=\"1\" class=\"dataframe\">\n",
       "  <thead>\n",
       "    <tr style=\"text-align: right;\">\n",
       "      <th></th>\n",
       "      <th>postal_code</th>\n",
       "      <th>median_days_on_market</th>\n",
       "    </tr>\n",
       "  </thead>\n",
       "  <tbody>\n",
       "    <tr>\n",
       "      <th>31576</th>\n",
       "      <td>98106</td>\n",
       "      <td>8.000000</td>\n",
       "    </tr>\n",
       "    <tr>\n",
       "      <th>31580</th>\n",
       "      <td>98115</td>\n",
       "      <td>8.000000</td>\n",
       "    </tr>\n",
       "    <tr>\n",
       "      <th>29680</th>\n",
       "      <td>80640</td>\n",
       "      <td>9.000000</td>\n",
       "    </tr>\n",
       "    <tr>\n",
       "      <th>31550</th>\n",
       "      <td>98021</td>\n",
       "      <td>9.000000</td>\n",
       "    </tr>\n",
       "    <tr>\n",
       "      <th>31544</th>\n",
       "      <td>98008</td>\n",
       "      <td>11.000000</td>\n",
       "    </tr>\n",
       "    <tr>\n",
       "      <th>31570</th>\n",
       "      <td>98072</td>\n",
       "      <td>11.000000</td>\n",
       "    </tr>\n",
       "    <tr>\n",
       "      <th>31082</th>\n",
       "      <td>94579</td>\n",
       "      <td>13.000000</td>\n",
       "    </tr>\n",
       "    <tr>\n",
       "      <th>29538</th>\n",
       "      <td>80012</td>\n",
       "      <td>13.000000</td>\n",
       "    </tr>\n",
       "    <tr>\n",
       "      <th>29558</th>\n",
       "      <td>80110</td>\n",
       "      <td>13.000000</td>\n",
       "    </tr>\n",
       "    <tr>\n",
       "      <th>19545</th>\n",
       "      <td>98327</td>\n",
       "      <td>13.666667</td>\n",
       "    </tr>\n",
       "  </tbody>\n",
       "</table>\n",
       "</div>"
      ],
      "text/plain": [
       "      postal_code  median_days_on_market\n",
       "31576       98106               8.000000\n",
       "31580       98115               8.000000\n",
       "29680       80640               9.000000\n",
       "31550       98021               9.000000\n",
       "31544       98008              11.000000\n",
       "31570       98072              11.000000\n",
       "31082       94579              13.000000\n",
       "29538       80012              13.000000\n",
       "29558       80110              13.000000\n",
       "19545       98327              13.666667"
      ]
     },
     "execution_count": 27,
     "metadata": {},
     "output_type": "execute_result"
    }
   ],
   "source": [
    "# Top 10 zip codes where homes sell fast are in California and Colorado\n",
    "TopZip = zip_mean.sort_values(by=['median_days_on_market']).head(10)\n",
    "TopZip"
   ]
  },
  {
   "cell_type": "code",
   "execution_count": null,
   "metadata": {
    "cell_id": "fcab858510b347f1a4e2179b5ee39eb0",
    "deepnote_cell_height": 635.859375,
    "deepnote_cell_type": "code",
    "deepnote_to_be_reexecuted": true,
    "execution_millis": 40,
    "execution_start": 1649719234448,
    "source_hash": "dafbf2a9",
    "tags": []
   },
   "outputs": [
    {
     "data": {
      "application/vnd.deepnote.dataframe.v3+json": {
       "column_count": 2,
       "columns": [
        {
         "dtype": "object",
         "name": "postal_code",
         "stats": {
          "categories": [
           {
            "count": 2,
            "name": "78147"
           },
           {
            "count": 1,
            "name": "27053"
           },
           {
            "count": 7,
            "name": "7 others"
           }
          ],
          "nan_count": 0,
          "unique_count": 10
         }
        },
        {
         "dtype": "float64",
         "name": "median_days_on_market",
         "stats": {
          "histogram": [
           {
            "bin_end": 687.95,
            "bin_start": 625,
            "count": 3
           },
           {
            "bin_end": 750.9,
            "bin_start": 687.95,
            "count": 2
           },
           {
            "bin_end": 813.85,
            "bin_start": 750.9,
            "count": 1
           },
           {
            "bin_end": 876.8,
            "bin_start": 813.85,
            "count": 2
           },
           {
            "bin_end": 939.75,
            "bin_start": 876.8,
            "count": 0
           },
           {
            "bin_end": 1002.7,
            "bin_start": 939.75,
            "count": 0
           },
           {
            "bin_end": 1065.65,
            "bin_start": 1002.7,
            "count": 0
           },
           {
            "bin_end": 1128.6,
            "bin_start": 1065.65,
            "count": 0
           },
           {
            "bin_end": 1191.5500000000002,
            "bin_start": 1128.6,
            "count": 0
           },
           {
            "bin_end": 1254.5,
            "bin_start": 1191.5500000000002,
            "count": 1
           }
          ],
          "max": "1254.5",
          "min": "625.0",
          "nan_count": 1,
          "unique_count": 9
         }
        },
        {
         "dtype": "int64",
         "name": "_deepnote_index_column"
        }
       ],
       "row_count": 10,
       "rows": [
        {
         "_deepnote_index_column": 22269,
         "median_days_on_market": 625,
         "postal_code": "27053"
        },
        {
         "_deepnote_index_column": 6403,
         "median_days_on_market": 673.4,
         "postal_code": "29941"
        },
        {
         "_deepnote_index_column": 21935,
         "median_days_on_market": 674,
         "postal_code": "23432"
        },
        {
         "_deepnote_index_column": 16060,
         "median_days_on_market": 688.875,
         "postal_code": "78147"
        },
        {
         "_deepnote_index_column": 31532,
         "median_days_on_market": 698,
         "postal_code": "97869"
        },
        {
         "_deepnote_index_column": 13550,
         "median_days_on_market": 784.1416666666667,
         "postal_code": "63048"
        },
        {
         "_deepnote_index_column": 29297,
         "median_days_on_market": 858,
         "postal_code": "78147"
        },
        {
         "_deepnote_index_column": 12605,
         "median_days_on_market": 874.2931034482758,
         "postal_code": "58640"
        },
        {
         "_deepnote_index_column": 5945,
         "median_days_on_market": 1254.5,
         "postal_code": "28452"
        },
        {
         "_deepnote_index_column": 19841,
         "median_days_on_market": "nan",
         "postal_code": " please contact economics@realtor.com for more details."
        }
       ]
      },
      "text/html": [
       "<div>\n",
       "<style scoped>\n",
       "    .dataframe tbody tr th:only-of-type {\n",
       "        vertical-align: middle;\n",
       "    }\n",
       "\n",
       "    .dataframe tbody tr th {\n",
       "        vertical-align: top;\n",
       "    }\n",
       "\n",
       "    .dataframe thead th {\n",
       "        text-align: right;\n",
       "    }\n",
       "</style>\n",
       "<table border=\"1\" class=\"dataframe\">\n",
       "  <thead>\n",
       "    <tr style=\"text-align: right;\">\n",
       "      <th></th>\n",
       "      <th>postal_code</th>\n",
       "      <th>median_days_on_market</th>\n",
       "    </tr>\n",
       "  </thead>\n",
       "  <tbody>\n",
       "    <tr>\n",
       "      <th>22269</th>\n",
       "      <td>27053</td>\n",
       "      <td>625.000000</td>\n",
       "    </tr>\n",
       "    <tr>\n",
       "      <th>6403</th>\n",
       "      <td>29941</td>\n",
       "      <td>673.400000</td>\n",
       "    </tr>\n",
       "    <tr>\n",
       "      <th>21935</th>\n",
       "      <td>23432</td>\n",
       "      <td>674.000000</td>\n",
       "    </tr>\n",
       "    <tr>\n",
       "      <th>16060</th>\n",
       "      <td>78147</td>\n",
       "      <td>688.875000</td>\n",
       "    </tr>\n",
       "    <tr>\n",
       "      <th>31532</th>\n",
       "      <td>97869</td>\n",
       "      <td>698.000000</td>\n",
       "    </tr>\n",
       "    <tr>\n",
       "      <th>13550</th>\n",
       "      <td>63048</td>\n",
       "      <td>784.141667</td>\n",
       "    </tr>\n",
       "    <tr>\n",
       "      <th>29297</th>\n",
       "      <td>78147</td>\n",
       "      <td>858.000000</td>\n",
       "    </tr>\n",
       "    <tr>\n",
       "      <th>12605</th>\n",
       "      <td>58640</td>\n",
       "      <td>874.293103</td>\n",
       "    </tr>\n",
       "    <tr>\n",
       "      <th>5945</th>\n",
       "      <td>28452</td>\n",
       "      <td>1254.500000</td>\n",
       "    </tr>\n",
       "    <tr>\n",
       "      <th>19841</th>\n",
       "      <td>please contact economics@realtor.com for more...</td>\n",
       "      <td>NaN</td>\n",
       "    </tr>\n",
       "  </tbody>\n",
       "</table>\n",
       "</div>"
      ],
      "text/plain": [
       "                                             postal_code  \\\n",
       "22269                                              27053   \n",
       "6403                                               29941   \n",
       "21935                                              23432   \n",
       "16060                                              78147   \n",
       "31532                                              97869   \n",
       "13550                                              63048   \n",
       "29297                                              78147   \n",
       "12605                                              58640   \n",
       "5945                                               28452   \n",
       "19841   please contact economics@realtor.com for more...   \n",
       "\n",
       "       median_days_on_market  \n",
       "22269             625.000000  \n",
       "6403              673.400000  \n",
       "21935             674.000000  \n",
       "16060             688.875000  \n",
       "31532             698.000000  \n",
       "13550             784.141667  \n",
       "29297             858.000000  \n",
       "12605             874.293103  \n",
       "5945             1254.500000  \n",
       "19841                    NaN  "
      ]
     },
     "execution_count": 28,
     "metadata": {},
     "output_type": "execute_result"
    }
   ],
   "source": [
    "# Top 10 zip codes where homes sit on the market for a long time are in rural counties of North and South Carolina, Missouri and North Dakota\n",
    "DownZip = zip_mean.sort_values(by=['median_days_on_market']).tail(10)\n",
    "DownZip"
   ]
  },
  {
   "cell_type": "code",
   "execution_count": null,
   "metadata": {
    "cell_id": "5ad46e47a73647f0997573863611dc72",
    "deepnote_cell_height": 152.96875,
    "deepnote_cell_type": "code",
    "deepnote_to_be_reexecuted": true,
    "execution_millis": 2,
    "execution_start": 1649719234497,
    "source_hash": "71ecc761",
    "tags": []
   },
   "outputs": [],
   "source": [
    "# Conclusion: Using realtor.com datasets I analyzed national real estate market trends and concluded that average home prices have been climbing in the past 5 years.\n",
    "# I further identified noticeable differences in the housing market between Texas and California as compared to the National Average:\n",
    "# California prices rose sooner and remained high for longer period, while\n",
    "# Texas market followed the national trend of a steady increase.\n"
   ]
  },
  {
   "cell_type": "code",
   "execution_count": null,
   "metadata": {
    "cell_id": "ccb100afe18149628735e359ef0c36ab",
    "deepnote_cell_height": 170.953125,
    "deepnote_cell_type": "code",
    "deepnote_to_be_reexecuted": true,
    "execution_millis": 2,
    "execution_start": 1649719234503,
    "source_hash": "6103a752",
    "tags": []
   },
   "outputs": [],
   "source": [
    "# Further Research: For the past few years, the housing prices have been steadily increasing, while in 2021 alone they increased by a record high of nearly 20%.\n",
    "# Since the pandemic, home prices were up 18.8% year-over-year\n",
    "# Federal reserve has recently raised the interest rates to combat inflation\n",
    "# Mortgage rates are gradually climbing hoping to slow down the market and increase home inventory\n",
    "# Question for further research – has the real market reached a peak signaling the end of booming home prices?\n",
    "# Thank you for your attention"
   ]
  },
  {
   "cell_type": "markdown",
   "metadata": {
    "created_in_deepnote_cell": true,
    "deepnote_cell_type": "markdown",
    "tags": []
   },
   "source": [
    "<a style='text-decoration:none;line-height:16px;display:flex;color:#5B5B62;padding:10px;justify-content:end;' href='https://deepnote.com?utm_source=created-in-deepnote-cell&projectId=7aa1b026-f14c-4fcf-bf73-a97cd372045e' target=\"_blank\">\n",
    "<img alt='Created in deepnote.com' style='display:inline;max-height:16px;margin:0px;margin-right:7.5px;' src='data:image/svg+xml;base64,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' > </img>\n",
    "Created in <span style='font-weight:600;margin-left:4px;'>Deepnote</span></a>"
   ]
  }
 ],
 "metadata": {
  "deepnote": {
   "is_reactive": true
  },
  "deepnote_execution_queue": [],
  "deepnote_notebook_id": "b6b2ecff-77ea-46be-baa7-40d462e5a6e7",
  "interpreter": {
   "hash": "8640a4b2df460c6d26010c6a8a91f87d721050827e55e577e37d45854dce3b5a"
  },
  "kernelspec": {
   "display_name": "Python 3.10.2 ('minimal_ds')",
   "language": "python",
   "name": "python3"
  },
  "language_info": {
   "name": "python",
   "version": "3.10.2"
  },
  "orig_nbformat": 2
 },
 "nbformat": 4,
 "nbformat_minor": 2
}
